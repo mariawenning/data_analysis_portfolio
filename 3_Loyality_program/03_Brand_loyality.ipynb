{
 "cells": [
  {
   "cell_type": "markdown",
   "metadata": {},
   "source": [
    "# Finding loyal users to create a loyality program"
   ]
  },
  {
   "cell_type": "markdown",
   "metadata": {},
   "source": [
    "**Importing the data**"
   ]
  },
  {
   "cell_type": "code",
   "execution_count": 1,
   "metadata": {},
   "outputs": [
    {
     "data": {
      "text/html": [
       "<div>\n",
       "<style scoped>\n",
       "    .dataframe tbody tr th:only-of-type {\n",
       "        vertical-align: middle;\n",
       "    }\n",
       "\n",
       "    .dataframe tbody tr th {\n",
       "        vertical-align: top;\n",
       "    }\n",
       "\n",
       "    .dataframe thead th {\n",
       "        text-align: right;\n",
       "    }\n",
       "</style>\n",
       "<table border=\"1\" class=\"dataframe\">\n",
       "  <thead>\n",
       "    <tr style=\"text-align: right;\">\n",
       "      <th></th>\n",
       "      <th>Unnamed: 0</th>\n",
       "      <th>tk</th>\n",
       "      <th>pl</th>\n",
       "      <th>dia</th>\n",
       "      <th>hs</th>\n",
       "      <th>tc</th>\n",
       "      <th>cta</th>\n",
       "      <th>id_art</th>\n",
       "      <th>id_subsubfam</th>\n",
       "      <th>id_subfam</th>\n",
       "      <th>...</th>\n",
       "      <th>id_famn</th>\n",
       "      <th>id_seccion</th>\n",
       "      <th>id_subagr</th>\n",
       "      <th>id_agr</th>\n",
       "      <th>vta</th>\n",
       "      <th>uni</th>\n",
       "      <th>id_artn</th>\n",
       "      <th>art_sp</th>\n",
       "      <th>fam_sp</th>\n",
       "      <th>fam_en</th>\n",
       "    </tr>\n",
       "  </thead>\n",
       "  <tbody>\n",
       "    <tr>\n",
       "      <th>0</th>\n",
       "      <td>1242</td>\n",
       "      <td>120071109002055793</td>\n",
       "      <td>1</td>\n",
       "      <td>2007/11/09</td>\n",
       "      <td>0.505729</td>\n",
       "      <td>110000761</td>\n",
       "      <td>11000076</td>\n",
       "      <td>21895</td>\n",
       "      <td>101070640100</td>\n",
       "      <td>1010706401</td>\n",
       "      <td>...</td>\n",
       "      <td>10107064</td>\n",
       "      <td>10107</td>\n",
       "      <td>101</td>\n",
       "      <td>1</td>\n",
       "      <td>0.68</td>\n",
       "      <td>1.0</td>\n",
       "      <td>21895</td>\n",
       "      <td>MARAVILLA        500 G Store_Brand</td>\n",
       "      <td>PASTA ALIMENTICIA SE</td>\n",
       "      <td>pasta</td>\n",
       "    </tr>\n",
       "    <tr>\n",
       "      <th>1</th>\n",
       "      <td>1243</td>\n",
       "      <td>120070601004053633</td>\n",
       "      <td>1</td>\n",
       "      <td>2007/06/01</td>\n",
       "      <td>0.588519</td>\n",
       "      <td>110000761</td>\n",
       "      <td>11000076</td>\n",
       "      <td>21816</td>\n",
       "      <td>101070640100</td>\n",
       "      <td>1010706401</td>\n",
       "      <td>...</td>\n",
       "      <td>10107064</td>\n",
       "      <td>10107</td>\n",
       "      <td>101</td>\n",
       "      <td>1</td>\n",
       "      <td>0.38</td>\n",
       "      <td>1.0</td>\n",
       "      <td>21816</td>\n",
       "      <td>FIDEO CABELLIN   500 G Store_Brand</td>\n",
       "      <td>PASTA ALIMENTICIA SE</td>\n",
       "      <td>pasta</td>\n",
       "    </tr>\n",
       "    <tr>\n",
       "      <th>2</th>\n",
       "      <td>1244</td>\n",
       "      <td>120070928004076410</td>\n",
       "      <td>1</td>\n",
       "      <td>2007/09/28</td>\n",
       "      <td>0.785498</td>\n",
       "      <td>28491841</td>\n",
       "      <td>2849184</td>\n",
       "      <td>562840</td>\n",
       "      <td>101070640100</td>\n",
       "      <td>1010706401</td>\n",
       "      <td>...</td>\n",
       "      <td>10107064</td>\n",
       "      <td>10107</td>\n",
       "      <td>101</td>\n",
       "      <td>1</td>\n",
       "      <td>1.55</td>\n",
       "      <td>2.0</td>\n",
       "      <td>562840</td>\n",
       "      <td>SPAGUETTI Nє 5 500 G Brand_1</td>\n",
       "      <td>PASTA ALIMENTICIA SE</td>\n",
       "      <td>pasta</td>\n",
       "    </tr>\n",
       "    <tr>\n",
       "      <th>3</th>\n",
       "      <td>1245</td>\n",
       "      <td>120070616003074261</td>\n",
       "      <td>1</td>\n",
       "      <td>2007/06/16</td>\n",
       "      <td>0.550961</td>\n",
       "      <td>95931501</td>\n",
       "      <td>9593150</td>\n",
       "      <td>28914</td>\n",
       "      <td>101070640100</td>\n",
       "      <td>1010706401</td>\n",
       "      <td>...</td>\n",
       "      <td>10107064</td>\n",
       "      <td>10107</td>\n",
       "      <td>101</td>\n",
       "      <td>1</td>\n",
       "      <td>1.03</td>\n",
       "      <td>2.0</td>\n",
       "      <td>28914</td>\n",
       "      <td>FIDEO FIDEUБ      500 Brand_7</td>\n",
       "      <td>PASTA ALIMENTICIA SE</td>\n",
       "      <td>pasta</td>\n",
       "    </tr>\n",
       "    <tr>\n",
       "      <th>4</th>\n",
       "      <td>1246</td>\n",
       "      <td>120070519001018477</td>\n",
       "      <td>1</td>\n",
       "      <td>2007/05/19</td>\n",
       "      <td>0.804954</td>\n",
       "      <td>93265591</td>\n",
       "      <td>9326559</td>\n",
       "      <td>159867</td>\n",
       "      <td>101070640100</td>\n",
       "      <td>1010706401</td>\n",
       "      <td>...</td>\n",
       "      <td>10107064</td>\n",
       "      <td>10107</td>\n",
       "      <td>101</td>\n",
       "      <td>1</td>\n",
       "      <td>1.09</td>\n",
       "      <td>1.0</td>\n",
       "      <td>159867</td>\n",
       "      <td>MACARRONES  GRATINAR 5 Brand_2</td>\n",
       "      <td>PASTA ALIMENTICIA SE</td>\n",
       "      <td>pasta</td>\n",
       "    </tr>\n",
       "  </tbody>\n",
       "</table>\n",
       "<p>5 rows × 21 columns</p>\n",
       "</div>"
      ],
      "text/plain": [
       "   Unnamed: 0                  tk  pl         dia        hs         tc  \\\n",
       "0        1242  120071109002055793   1  2007/11/09  0.505729  110000761   \n",
       "1        1243  120070601004053633   1  2007/06/01  0.588519  110000761   \n",
       "2        1244  120070928004076410   1  2007/09/28  0.785498   28491841   \n",
       "3        1245  120070616003074261   1  2007/06/16  0.550961   95931501   \n",
       "4        1246  120070519001018477   1  2007/05/19  0.804954   93265591   \n",
       "\n",
       "        cta  id_art  id_subsubfam   id_subfam  ...     id_famn  id_seccion  \\\n",
       "0  11000076   21895  101070640100  1010706401  ...    10107064       10107   \n",
       "1  11000076   21816  101070640100  1010706401  ...    10107064       10107   \n",
       "2   2849184  562840  101070640100  1010706401  ...    10107064       10107   \n",
       "3   9593150   28914  101070640100  1010706401  ...    10107064       10107   \n",
       "4   9326559  159867  101070640100  1010706401  ...    10107064       10107   \n",
       "\n",
       "   id_subagr  id_agr   vta  uni  id_artn                              art_sp  \\\n",
       "0        101       1  0.68  1.0    21895  MARAVILLA        500 G Store_Brand   \n",
       "1        101       1  0.38  1.0    21816  FIDEO CABELLIN   500 G Store_Brand   \n",
       "2        101       1  1.55  2.0   562840        SPAGUETTI Nє 5 500 G Brand_1   \n",
       "3        101       1  1.03  2.0    28914       FIDEO FIDEUБ      500 Brand_7   \n",
       "4        101       1  1.09  1.0   159867      MACARRONES  GRATINAR 5 Brand_2   \n",
       "\n",
       "                 fam_sp fam_en  \n",
       "0  PASTA ALIMENTICIA SE  pasta  \n",
       "1  PASTA ALIMENTICIA SE  pasta  \n",
       "2  PASTA ALIMENTICIA SE  pasta  \n",
       "3  PASTA ALIMENTICIA SE  pasta  \n",
       "4  PASTA ALIMENTICIA SE  pasta  \n",
       "\n",
       "[5 rows x 21 columns]"
      ]
     },
     "execution_count": 1,
     "metadata": {},
     "output_type": "execute_result"
    }
   ],
   "source": [
    "import pandas as pd\n",
    "import seaborn as sns\n",
    "import matplotlib.pyplot as plt\n",
    "\n",
    "%matplotlib inline\n",
    "\n",
    "df = pd.read_csv('lesson_3_data_1_.csv', encoding = 'windows-1251')\n",
    "\n",
    "df.head()"
   ]
  },
  {
   "cell_type": "markdown",
   "metadata": {},
   "source": [
    "**Creating a dataframe with useful columns: 'tc' - user id, 'art_sp' - brand name**"
   ]
  },
  {
   "cell_type": "code",
   "execution_count": 2,
   "metadata": {},
   "outputs": [
    {
     "data": {
      "text/html": [
       "<div>\n",
       "<style scoped>\n",
       "    .dataframe tbody tr th:only-of-type {\n",
       "        vertical-align: middle;\n",
       "    }\n",
       "\n",
       "    .dataframe tbody tr th {\n",
       "        vertical-align: top;\n",
       "    }\n",
       "\n",
       "    .dataframe thead th {\n",
       "        text-align: right;\n",
       "    }\n",
       "</style>\n",
       "<table border=\"1\" class=\"dataframe\">\n",
       "  <thead>\n",
       "    <tr style=\"text-align: right;\">\n",
       "      <th></th>\n",
       "      <th>tc</th>\n",
       "      <th>art_sp</th>\n",
       "    </tr>\n",
       "  </thead>\n",
       "  <tbody>\n",
       "    <tr>\n",
       "      <th>0</th>\n",
       "      <td>110000761</td>\n",
       "      <td>MARAVILLA        500 G Store_Brand</td>\n",
       "    </tr>\n",
       "    <tr>\n",
       "      <th>1</th>\n",
       "      <td>110000761</td>\n",
       "      <td>FIDEO CABELLIN   500 G Store_Brand</td>\n",
       "    </tr>\n",
       "    <tr>\n",
       "      <th>2</th>\n",
       "      <td>28491841</td>\n",
       "      <td>SPAGUETTI Nє 5 500 G Brand_1</td>\n",
       "    </tr>\n",
       "    <tr>\n",
       "      <th>3</th>\n",
       "      <td>95931501</td>\n",
       "      <td>FIDEO FIDEUБ      500 Brand_7</td>\n",
       "    </tr>\n",
       "    <tr>\n",
       "      <th>4</th>\n",
       "      <td>93265591</td>\n",
       "      <td>MACARRONES  GRATINAR 5 Brand_2</td>\n",
       "    </tr>\n",
       "  </tbody>\n",
       "</table>\n",
       "</div>"
      ],
      "text/plain": [
       "          tc                              art_sp\n",
       "0  110000761  MARAVILLA        500 G Store_Brand\n",
       "1  110000761  FIDEO CABELLIN   500 G Store_Brand\n",
       "2   28491841        SPAGUETTI Nє 5 500 G Brand_1\n",
       "3   95931501       FIDEO FIDEUБ      500 Brand_7\n",
       "4   93265591      MACARRONES  GRATINAR 5 Brand_2"
      ]
     },
     "execution_count": 2,
     "metadata": {},
     "output_type": "execute_result"
    }
   ],
   "source": [
    "user_df = df[['tc', 'art_sp']]\n",
    "user_df.head()"
   ]
  },
  {
   "cell_type": "markdown",
   "metadata": {},
   "source": [
    "**Renaming the columns of the new dataframe**"
   ]
  },
  {
   "cell_type": "code",
   "execution_count": 3,
   "metadata": {},
   "outputs": [],
   "source": [
    "user_df = user_df.rename(columns = {'tc' : 'user_id', 'art_sp' : 'brand_info'})"
   ]
  },
  {
   "cell_type": "code",
   "execution_count": 4,
   "metadata": {},
   "outputs": [
    {
     "data": {
      "text/html": [
       "<div>\n",
       "<style scoped>\n",
       "    .dataframe tbody tr th:only-of-type {\n",
       "        vertical-align: middle;\n",
       "    }\n",
       "\n",
       "    .dataframe tbody tr th {\n",
       "        vertical-align: top;\n",
       "    }\n",
       "\n",
       "    .dataframe thead th {\n",
       "        text-align: right;\n",
       "    }\n",
       "</style>\n",
       "<table border=\"1\" class=\"dataframe\">\n",
       "  <thead>\n",
       "    <tr style=\"text-align: right;\">\n",
       "      <th></th>\n",
       "      <th>user_id</th>\n",
       "      <th>brand_info</th>\n",
       "    </tr>\n",
       "  </thead>\n",
       "  <tbody>\n",
       "    <tr>\n",
       "      <th>48124</th>\n",
       "      <td>45518841</td>\n",
       "      <td>FIDEOS 0         500 G Brand_4</td>\n",
       "    </tr>\n",
       "    <tr>\n",
       "      <th>48125</th>\n",
       "      <td>110824211</td>\n",
       "      <td>PLUMAS 3         500 G Brand_4</td>\n",
       "    </tr>\n",
       "    <tr>\n",
       "      <th>48126</th>\n",
       "      <td>1408670389</td>\n",
       "      <td>MACARRONES       500 G Store_Brand</td>\n",
       "    </tr>\n",
       "    <tr>\n",
       "      <th>48127</th>\n",
       "      <td>1408670389</td>\n",
       "      <td>SPAGHETTI        500 G Store_Brand</td>\n",
       "    </tr>\n",
       "    <tr>\n",
       "      <th>48128</th>\n",
       "      <td>48582221</td>\n",
       "      <td>SPAGHETTINI      500 G Store_Brand</td>\n",
       "    </tr>\n",
       "  </tbody>\n",
       "</table>\n",
       "</div>"
      ],
      "text/plain": [
       "          user_id                          brand_info\n",
       "48124    45518841      FIDEOS 0         500 G Brand_4\n",
       "48125   110824211      PLUMAS 3         500 G Brand_4\n",
       "48126  1408670389  MACARRONES       500 G Store_Brand\n",
       "48127  1408670389  SPAGHETTI        500 G Store_Brand\n",
       "48128    48582221  SPAGHETTINI      500 G Store_Brand"
      ]
     },
     "execution_count": 4,
     "metadata": {},
     "output_type": "execute_result"
    }
   ],
   "source": [
    "user_df.tail()"
   ]
  },
  {
   "cell_type": "markdown",
   "metadata": {},
   "source": [
    "**Spliting the product name to get only the brand name**"
   ]
  },
  {
   "cell_type": "code",
   "execution_count": 5,
   "metadata": {},
   "outputs": [
    {
     "data": {
      "text/plain": [
       "'Store_Brand'"
      ]
     },
     "execution_count": 5,
     "metadata": {},
     "output_type": "execute_result"
    }
   ],
   "source": [
    "brand_name = 'MARAVILLA 500 G Store_Brand'\n",
    "\n",
    "# Solution 1\n",
    "\n",
    "brand_name.split(' ')[-1]"
   ]
  },
  {
   "cell_type": "code",
   "execution_count": 6,
   "metadata": {
    "scrolled": true
   },
   "outputs": [
    {
     "data": {
      "text/html": [
       "<div>\n",
       "<style scoped>\n",
       "    .dataframe tbody tr th:only-of-type {\n",
       "        vertical-align: middle;\n",
       "    }\n",
       "\n",
       "    .dataframe tbody tr th {\n",
       "        vertical-align: top;\n",
       "    }\n",
       "\n",
       "    .dataframe thead th {\n",
       "        text-align: right;\n",
       "    }\n",
       "</style>\n",
       "<table border=\"1\" class=\"dataframe\">\n",
       "  <thead>\n",
       "    <tr style=\"text-align: right;\">\n",
       "      <th></th>\n",
       "      <th>user_id</th>\n",
       "      <th>brand_info</th>\n",
       "      <th>brand_name</th>\n",
       "    </tr>\n",
       "  </thead>\n",
       "  <tbody>\n",
       "    <tr>\n",
       "      <th>0</th>\n",
       "      <td>110000761</td>\n",
       "      <td>MARAVILLA        500 G Store_Brand</td>\n",
       "      <td>Store_Brand</td>\n",
       "    </tr>\n",
       "    <tr>\n",
       "      <th>1</th>\n",
       "      <td>110000761</td>\n",
       "      <td>FIDEO CABELLIN   500 G Store_Brand</td>\n",
       "      <td>Store_Brand</td>\n",
       "    </tr>\n",
       "    <tr>\n",
       "      <th>2</th>\n",
       "      <td>28491841</td>\n",
       "      <td>SPAGUETTI Nє 5 500 G Brand_1</td>\n",
       "      <td>Brand_1</td>\n",
       "    </tr>\n",
       "    <tr>\n",
       "      <th>3</th>\n",
       "      <td>95931501</td>\n",
       "      <td>FIDEO FIDEUБ      500 Brand_7</td>\n",
       "      <td>Brand_7</td>\n",
       "    </tr>\n",
       "    <tr>\n",
       "      <th>4</th>\n",
       "      <td>93265591</td>\n",
       "      <td>MACARRONES  GRATINAR 5 Brand_2</td>\n",
       "      <td>Brand_2</td>\n",
       "    </tr>\n",
       "  </tbody>\n",
       "</table>\n",
       "</div>"
      ],
      "text/plain": [
       "     user_id                          brand_info   brand_name\n",
       "0  110000761  MARAVILLA        500 G Store_Brand  Store_Brand\n",
       "1  110000761  FIDEO CABELLIN   500 G Store_Brand  Store_Brand\n",
       "2   28491841        SPAGUETTI Nє 5 500 G Brand_1      Brand_1\n",
       "3   95931501       FIDEO FIDEUБ      500 Brand_7      Brand_7\n",
       "4   93265591      MACARRONES  GRATINAR 5 Brand_2      Brand_2"
      ]
     },
     "execution_count": 6,
     "metadata": {},
     "output_type": "execute_result"
    }
   ],
   "source": [
    "# Solution 2\n",
    "\n",
    "def split_brand(brand_name_data):\n",
    "    return brand_name_data.split(' ')[-1]\n",
    "\n",
    "split_brand(brand_name)\n",
    "\n",
    "user_df['brand_name'] = user_df.brand_info.apply(split_brand)\n",
    "user_df.head()"
   ]
  },
  {
   "cell_type": "code",
   "execution_count": 7,
   "metadata": {},
   "outputs": [
    {
     "data": {
      "text/plain": [
       "0    Store_Brand\n",
       "1    Store_Brand\n",
       "2        Brand_1\n",
       "3        Brand_7\n",
       "4        Brand_2\n",
       "Name: brand_info, dtype: object"
      ]
     },
     "execution_count": 7,
     "metadata": {},
     "output_type": "execute_result"
    }
   ],
   "source": [
    "# Solution 3: lambda functions\n",
    "# This is the more compact way to get the brand name. Here we use the lambda function to cut the string with a space and get the last element\n",
    "\n",
    "user_df.brand_info.apply(lambda x:x.split(' ')[-1]) \\\n",
    "    .head()"
   ]
  },
  {
   "cell_type": "markdown",
   "metadata": {},
   "source": [
    "**Finding the amount of purchases per user**"
   ]
  },
  {
   "cell_type": "code",
   "execution_count": 8,
   "metadata": {},
   "outputs": [
    {
     "data": {
      "text/html": [
       "<div>\n",
       "<style scoped>\n",
       "    .dataframe tbody tr th:only-of-type {\n",
       "        vertical-align: middle;\n",
       "    }\n",
       "\n",
       "    .dataframe tbody tr th {\n",
       "        vertical-align: top;\n",
       "    }\n",
       "\n",
       "    .dataframe thead th {\n",
       "        text-align: right;\n",
       "    }\n",
       "</style>\n",
       "<table border=\"1\" class=\"dataframe\">\n",
       "  <thead>\n",
       "    <tr style=\"text-align: right;\">\n",
       "      <th></th>\n",
       "      <th>user_id</th>\n",
       "      <th>purchase</th>\n",
       "    </tr>\n",
       "  </thead>\n",
       "  <tbody>\n",
       "    <tr>\n",
       "      <th>6326</th>\n",
       "      <td>62325711</td>\n",
       "      <td>60</td>\n",
       "    </tr>\n",
       "    <tr>\n",
       "      <th>3376</th>\n",
       "      <td>19317282</td>\n",
       "      <td>55</td>\n",
       "    </tr>\n",
       "    <tr>\n",
       "      <th>670</th>\n",
       "      <td>1228091</td>\n",
       "      <td>52</td>\n",
       "    </tr>\n",
       "    <tr>\n",
       "      <th>1377</th>\n",
       "      <td>3133061</td>\n",
       "      <td>51</td>\n",
       "    </tr>\n",
       "    <tr>\n",
       "      <th>3965</th>\n",
       "      <td>23440561</td>\n",
       "      <td>47</td>\n",
       "    </tr>\n",
       "  </tbody>\n",
       "</table>\n",
       "</div>"
      ],
      "text/plain": [
       "       user_id  purchase\n",
       "6326  62325711        60\n",
       "3376  19317282        55\n",
       "670    1228091        52\n",
       "1377   3133061        51\n",
       "3965  23440561        47"
      ]
     },
     "execution_count": 8,
     "metadata": {},
     "output_type": "execute_result"
    }
   ],
   "source": [
    "user_purchase = user_df.groupby('user_id', as_index = False) \\\n",
    "    .agg({'brand_name' : 'count'}).sort_values('brand_name', ascending = False) \\\n",
    "    .rename(columns ={'brand_name' : 'purchase'})\n",
    "\n",
    "user_purchase.head()"
   ]
  },
  {
   "cell_type": "markdown",
   "metadata": {},
   "source": [
    "**Checkig how many users are in the dataframe**"
   ]
  },
  {
   "cell_type": "code",
   "execution_count": 9,
   "metadata": {},
   "outputs": [
    {
     "data": {
      "text/plain": [
       "(11764, 2)"
      ]
     },
     "execution_count": 9,
     "metadata": {},
     "output_type": "execute_result"
    }
   ],
   "source": [
    "user_purchase.shape"
   ]
  },
  {
   "cell_type": "markdown",
   "metadata": {},
   "source": [
    "**Checking the desriptive metrics of the dataframe to start making first assumptions**"
   ]
  },
  {
   "cell_type": "code",
   "execution_count": 10,
   "metadata": {},
   "outputs": [
    {
     "data": {
      "text/html": [
       "<div>\n",
       "<style scoped>\n",
       "    .dataframe tbody tr th:only-of-type {\n",
       "        vertical-align: middle;\n",
       "    }\n",
       "\n",
       "    .dataframe tbody tr th {\n",
       "        vertical-align: top;\n",
       "    }\n",
       "\n",
       "    .dataframe thead th {\n",
       "        text-align: right;\n",
       "    }\n",
       "</style>\n",
       "<table border=\"1\" class=\"dataframe\">\n",
       "  <thead>\n",
       "    <tr style=\"text-align: right;\">\n",
       "      <th></th>\n",
       "      <th>user_id</th>\n",
       "      <th>purchase</th>\n",
       "    </tr>\n",
       "  </thead>\n",
       "  <tbody>\n",
       "    <tr>\n",
       "      <th>count</th>\n",
       "      <td>1.176400e+04</td>\n",
       "      <td>11764.000000</td>\n",
       "    </tr>\n",
       "    <tr>\n",
       "      <th>mean</th>\n",
       "      <td>7.690517e+07</td>\n",
       "      <td>4.091210</td>\n",
       "    </tr>\n",
       "    <tr>\n",
       "      <th>std</th>\n",
       "      <td>1.622210e+08</td>\n",
       "      <td>4.573143</td>\n",
       "    </tr>\n",
       "    <tr>\n",
       "      <th>min</th>\n",
       "      <td>-1.236395e+09</td>\n",
       "      <td>1.000000</td>\n",
       "    </tr>\n",
       "    <tr>\n",
       "      <th>25%</th>\n",
       "      <td>1.503761e+07</td>\n",
       "      <td>1.000000</td>\n",
       "    </tr>\n",
       "    <tr>\n",
       "      <th>50%</th>\n",
       "      <td>4.682179e+07</td>\n",
       "      <td>2.000000</td>\n",
       "    </tr>\n",
       "    <tr>\n",
       "      <th>75%</th>\n",
       "      <td>9.311601e+07</td>\n",
       "      <td>5.000000</td>\n",
       "    </tr>\n",
       "    <tr>\n",
       "      <th>max</th>\n",
       "      <td>1.408849e+09</td>\n",
       "      <td>60.000000</td>\n",
       "    </tr>\n",
       "  </tbody>\n",
       "</table>\n",
       "</div>"
      ],
      "text/plain": [
       "            user_id      purchase\n",
       "count  1.176400e+04  11764.000000\n",
       "mean   7.690517e+07      4.091210\n",
       "std    1.622210e+08      4.573143\n",
       "min   -1.236395e+09      1.000000\n",
       "25%    1.503761e+07      1.000000\n",
       "50%    4.682179e+07      2.000000\n",
       "75%    9.311601e+07      5.000000\n",
       "max    1.408849e+09     60.000000"
      ]
     },
     "execution_count": 10,
     "metadata": {},
     "output_type": "execute_result"
    }
   ],
   "source": [
    "user_purchase.describe()"
   ]
  },
  {
   "cell_type": "code",
   "execution_count": 11,
   "metadata": {},
   "outputs": [
    {
     "data": {
      "text/html": [
       "<div>\n",
       "<style scoped>\n",
       "    .dataframe tbody tr th:only-of-type {\n",
       "        vertical-align: middle;\n",
       "    }\n",
       "\n",
       "    .dataframe tbody tr th {\n",
       "        vertical-align: top;\n",
       "    }\n",
       "\n",
       "    .dataframe thead th {\n",
       "        text-align: right;\n",
       "    }\n",
       "</style>\n",
       "<table border=\"1\" class=\"dataframe\">\n",
       "  <thead>\n",
       "    <tr style=\"text-align: right;\">\n",
       "      <th></th>\n",
       "      <th>user_id</th>\n",
       "      <th>purchase</th>\n",
       "    </tr>\n",
       "  </thead>\n",
       "  <tbody>\n",
       "    <tr>\n",
       "      <th>count</th>\n",
       "      <td>3.383000e+03</td>\n",
       "      <td>3383.000000</td>\n",
       "    </tr>\n",
       "    <tr>\n",
       "      <th>mean</th>\n",
       "      <td>6.421500e+07</td>\n",
       "      <td>9.320130</td>\n",
       "    </tr>\n",
       "    <tr>\n",
       "      <th>std</th>\n",
       "      <td>1.504830e+08</td>\n",
       "      <td>5.623993</td>\n",
       "    </tr>\n",
       "    <tr>\n",
       "      <th>min</th>\n",
       "      <td>1.031000e+03</td>\n",
       "      <td>5.000000</td>\n",
       "    </tr>\n",
       "    <tr>\n",
       "      <th>25%</th>\n",
       "      <td>8.871271e+06</td>\n",
       "      <td>6.000000</td>\n",
       "    </tr>\n",
       "    <tr>\n",
       "      <th>50%</th>\n",
       "      <td>2.842547e+07</td>\n",
       "      <td>7.000000</td>\n",
       "    </tr>\n",
       "    <tr>\n",
       "      <th>75%</th>\n",
       "      <td>8.542964e+07</td>\n",
       "      <td>11.000000</td>\n",
       "    </tr>\n",
       "    <tr>\n",
       "      <th>max</th>\n",
       "      <td>1.408810e+09</td>\n",
       "      <td>60.000000</td>\n",
       "    </tr>\n",
       "  </tbody>\n",
       "</table>\n",
       "</div>"
      ],
      "text/plain": [
       "            user_id     purchase\n",
       "count  3.383000e+03  3383.000000\n",
       "mean   6.421500e+07     9.320130\n",
       "std    1.504830e+08     5.623993\n",
       "min    1.031000e+03     5.000000\n",
       "25%    8.871271e+06     6.000000\n",
       "50%    2.842547e+07     7.000000\n",
       "75%    8.542964e+07    11.000000\n",
       "max    1.408810e+09    60.000000"
      ]
     },
     "execution_count": 11,
     "metadata": {},
     "output_type": "execute_result"
    }
   ],
   "source": [
    "# 75% of users were taken as the first attempt to analyse the data. This amount could be changed afterwards depending of the future outcomes and business requirements\n",
    "\n",
    "user_purchase = user_df.groupby('user_id', as_index = False) \\\n",
    "    .agg({'brand_name' : 'count'}).sort_values('brand_name', ascending = False) \\\n",
    "    .rename(columns ={'brand_name' : 'purchase'}) \\\n",
    "    .query(\"purchase >= 5\")\n",
    "            \n",
    "user_purchase.describe()"
   ]
  },
  {
   "cell_type": "markdown",
   "metadata": {},
   "source": [
    "**Finding the favorite brands of the users**"
   ]
  },
  {
   "cell_type": "code",
   "execution_count": 12,
   "metadata": {},
   "outputs": [
    {
     "data": {
      "text/html": [
       "<div>\n",
       "<style scoped>\n",
       "    .dataframe tbody tr th:only-of-type {\n",
       "        vertical-align: middle;\n",
       "    }\n",
       "\n",
       "    .dataframe tbody tr th {\n",
       "        vertical-align: top;\n",
       "    }\n",
       "\n",
       "    .dataframe thead th {\n",
       "        text-align: right;\n",
       "    }\n",
       "</style>\n",
       "<table border=\"1\" class=\"dataframe\">\n",
       "  <thead>\n",
       "    <tr style=\"text-align: right;\">\n",
       "      <th></th>\n",
       "      <th>user_id</th>\n",
       "      <th>lovely_brand</th>\n",
       "      <th>lovely_brand_purchases</th>\n",
       "    </tr>\n",
       "  </thead>\n",
       "  <tbody>\n",
       "    <tr>\n",
       "      <th>5661</th>\n",
       "      <td>19317282</td>\n",
       "      <td>Brand_4</td>\n",
       "      <td>55</td>\n",
       "    </tr>\n",
       "    <tr>\n",
       "      <th>10202</th>\n",
       "      <td>62325711</td>\n",
       "      <td>Brand_4</td>\n",
       "      <td>54</td>\n",
       "    </tr>\n",
       "    <tr>\n",
       "      <th>6618</th>\n",
       "      <td>23440561</td>\n",
       "      <td>Brand_1</td>\n",
       "      <td>40</td>\n",
       "    </tr>\n",
       "    <tr>\n",
       "      <th>1591</th>\n",
       "      <td>1926721</td>\n",
       "      <td>Brand_4</td>\n",
       "      <td>40</td>\n",
       "    </tr>\n",
       "    <tr>\n",
       "      <th>13680</th>\n",
       "      <td>91303961</td>\n",
       "      <td>Brand_4</td>\n",
       "      <td>39</td>\n",
       "    </tr>\n",
       "  </tbody>\n",
       "</table>\n",
       "</div>"
      ],
      "text/plain": [
       "        user_id lovely_brand  lovely_brand_purchases\n",
       "5661   19317282      Brand_4                      55\n",
       "10202  62325711      Brand_4                      54\n",
       "6618   23440561      Brand_1                      40\n",
       "1591    1926721      Brand_4                      40\n",
       "13680  91303961      Brand_4                      39"
      ]
     },
     "execution_count": 12,
     "metadata": {},
     "output_type": "execute_result"
    }
   ],
   "source": [
    "# Let's check what is the persentage of the \"most favorite brand\" in the user purchases\n",
    "\n",
    "# First let's find the max amount of purchases of one brand made by a user\n",
    "\n",
    "lovely_brand_purchases_df = user_df.groupby(['user_id','brand_name'], as_index = False) \\\n",
    "    .agg({'brand_info' : 'count'}) \\\n",
    "    .sort_values(['user_id', 'brand_info'], ascending = [False, False]) \\\n",
    "    .groupby('user_id').head(1) \\\n",
    "    .sort_values('brand_info', ascending = False) \\\n",
    "    .rename(columns = {'brand_name': 'lovely_brand', 'brand_info': 'lovely_brand_purchases'})\n",
    "\n",
    "lovely_brand_purchases_df.head()"
   ]
  },
  {
   "cell_type": "code",
   "execution_count": 13,
   "metadata": {},
   "outputs": [
    {
     "data": {
      "text/html": [
       "<div>\n",
       "<style scoped>\n",
       "    .dataframe tbody tr th:only-of-type {\n",
       "        vertical-align: middle;\n",
       "    }\n",
       "\n",
       "    .dataframe tbody tr th {\n",
       "        vertical-align: top;\n",
       "    }\n",
       "\n",
       "    .dataframe thead th {\n",
       "        text-align: right;\n",
       "    }\n",
       "</style>\n",
       "<table border=\"1\" class=\"dataframe\">\n",
       "  <thead>\n",
       "    <tr style=\"text-align: right;\">\n",
       "      <th></th>\n",
       "      <th>user_id</th>\n",
       "      <th>unique_brand</th>\n",
       "    </tr>\n",
       "  </thead>\n",
       "  <tbody>\n",
       "    <tr>\n",
       "      <th>0</th>\n",
       "      <td>-1236394515</td>\n",
       "      <td>1</td>\n",
       "    </tr>\n",
       "    <tr>\n",
       "      <th>1</th>\n",
       "      <td>1031</td>\n",
       "      <td>2</td>\n",
       "    </tr>\n",
       "    <tr>\n",
       "      <th>2</th>\n",
       "      <td>4241</td>\n",
       "      <td>2</td>\n",
       "    </tr>\n",
       "    <tr>\n",
       "      <th>3</th>\n",
       "      <td>17311</td>\n",
       "      <td>1</td>\n",
       "    </tr>\n",
       "    <tr>\n",
       "      <th>4</th>\n",
       "      <td>17312</td>\n",
       "      <td>2</td>\n",
       "    </tr>\n",
       "  </tbody>\n",
       "</table>\n",
       "</div>"
      ],
      "text/plain": [
       "      user_id  unique_brand\n",
       "0 -1236394515             1\n",
       "1        1031             2\n",
       "2        4241             2\n",
       "3       17311             1\n",
       "4       17312             2"
      ]
     },
     "execution_count": 13,
     "metadata": {},
     "output_type": "execute_result"
    }
   ],
   "source": [
    "# Now let's calculate the amount of unique brands per user\n",
    "\n",
    "users_unique_brands = user_df.groupby('user_id', as_index = False) \\\n",
    "    .agg({'brand_name' : pd.Series.nunique}) \\\n",
    "    .rename(columns = {'brand_name' : 'unique_brand'})\n",
    "            \n",
    "users_unique_brands.head()"
   ]
  },
  {
   "cell_type": "markdown",
   "metadata": {},
   "source": [
    "**Joining the dataframes into one**"
   ]
  },
  {
   "cell_type": "code",
   "execution_count": 14,
   "metadata": {},
   "outputs": [
    {
     "data": {
      "text/html": [
       "<div>\n",
       "<style scoped>\n",
       "    .dataframe tbody tr th:only-of-type {\n",
       "        vertical-align: middle;\n",
       "    }\n",
       "\n",
       "    .dataframe tbody tr th {\n",
       "        vertical-align: top;\n",
       "    }\n",
       "\n",
       "    .dataframe thead th {\n",
       "        text-align: right;\n",
       "    }\n",
       "</style>\n",
       "<table border=\"1\" class=\"dataframe\">\n",
       "  <thead>\n",
       "    <tr style=\"text-align: right;\">\n",
       "      <th></th>\n",
       "      <th>user_id</th>\n",
       "      <th>purchase</th>\n",
       "      <th>unique_brand</th>\n",
       "      <th>lovely_brand</th>\n",
       "      <th>lovely_brand_purchases</th>\n",
       "    </tr>\n",
       "  </thead>\n",
       "  <tbody>\n",
       "    <tr>\n",
       "      <th>0</th>\n",
       "      <td>62325711</td>\n",
       "      <td>60</td>\n",
       "      <td>3</td>\n",
       "      <td>Brand_4</td>\n",
       "      <td>54</td>\n",
       "    </tr>\n",
       "    <tr>\n",
       "      <th>1</th>\n",
       "      <td>19317282</td>\n",
       "      <td>55</td>\n",
       "      <td>1</td>\n",
       "      <td>Brand_4</td>\n",
       "      <td>55</td>\n",
       "    </tr>\n",
       "    <tr>\n",
       "      <th>2</th>\n",
       "      <td>1228091</td>\n",
       "      <td>52</td>\n",
       "      <td>5</td>\n",
       "      <td>Brand_4</td>\n",
       "      <td>26</td>\n",
       "    </tr>\n",
       "    <tr>\n",
       "      <th>3</th>\n",
       "      <td>3133061</td>\n",
       "      <td>51</td>\n",
       "      <td>4</td>\n",
       "      <td>Brand_4</td>\n",
       "      <td>30</td>\n",
       "    </tr>\n",
       "    <tr>\n",
       "      <th>4</th>\n",
       "      <td>23440561</td>\n",
       "      <td>47</td>\n",
       "      <td>4</td>\n",
       "      <td>Brand_1</td>\n",
       "      <td>40</td>\n",
       "    </tr>\n",
       "  </tbody>\n",
       "</table>\n",
       "</div>"
      ],
      "text/plain": [
       "    user_id  purchase  unique_brand lovely_brand  lovely_brand_purchases\n",
       "0  62325711        60             3      Brand_4                      54\n",
       "1  19317282        55             1      Brand_4                      55\n",
       "2   1228091        52             5      Brand_4                      26\n",
       "3   3133061        51             4      Brand_4                      30\n",
       "4  23440561        47             4      Brand_1                      40"
      ]
     },
     "execution_count": 14,
     "metadata": {},
     "output_type": "execute_result"
    }
   ],
   "source": [
    "loyality_df = user_purchase \\\n",
    "    .merge(users_unique_brands, on = 'user_id') \\\n",
    "    .merge(lovely_brand_purchases_df, on = 'user_id')\n",
    "\n",
    "loyality_df.head()"
   ]
  },
  {
   "cell_type": "markdown",
   "metadata": {},
   "source": [
    "**Finding the users that buy 1 brand only**"
   ]
  },
  {
   "cell_type": "code",
   "execution_count": 15,
   "metadata": {},
   "outputs": [],
   "source": [
    "loyal_users = loyality_df[loyality_df.unique_brand == 1]\n",
    "\n",
    "# These users could already go to our results because they always buy the same brand"
   ]
  },
  {
   "cell_type": "code",
   "execution_count": 16,
   "metadata": {},
   "outputs": [
    {
     "data": {
      "text/html": [
       "<div>\n",
       "<style scoped>\n",
       "    .dataframe tbody tr th:only-of-type {\n",
       "        vertical-align: middle;\n",
       "    }\n",
       "\n",
       "    .dataframe tbody tr th {\n",
       "        vertical-align: top;\n",
       "    }\n",
       "\n",
       "    .dataframe thead th {\n",
       "        text-align: right;\n",
       "    }\n",
       "</style>\n",
       "<table border=\"1\" class=\"dataframe\">\n",
       "  <thead>\n",
       "    <tr style=\"text-align: right;\">\n",
       "      <th></th>\n",
       "      <th>user_id</th>\n",
       "      <th>purchase</th>\n",
       "      <th>unique_brand</th>\n",
       "      <th>lovely_brand</th>\n",
       "      <th>lovely_brand_purchases</th>\n",
       "    </tr>\n",
       "  </thead>\n",
       "  <tbody>\n",
       "    <tr>\n",
       "      <th>0</th>\n",
       "      <td>62325711</td>\n",
       "      <td>60</td>\n",
       "      <td>3</td>\n",
       "      <td>Brand_4</td>\n",
       "      <td>54</td>\n",
       "    </tr>\n",
       "    <tr>\n",
       "      <th>1</th>\n",
       "      <td>19317282</td>\n",
       "      <td>55</td>\n",
       "      <td>1</td>\n",
       "      <td>Brand_4</td>\n",
       "      <td>55</td>\n",
       "    </tr>\n",
       "    <tr>\n",
       "      <th>2</th>\n",
       "      <td>1228091</td>\n",
       "      <td>52</td>\n",
       "      <td>5</td>\n",
       "      <td>Brand_4</td>\n",
       "      <td>26</td>\n",
       "    </tr>\n",
       "    <tr>\n",
       "      <th>3</th>\n",
       "      <td>3133061</td>\n",
       "      <td>51</td>\n",
       "      <td>4</td>\n",
       "      <td>Brand_4</td>\n",
       "      <td>30</td>\n",
       "    </tr>\n",
       "    <tr>\n",
       "      <th>4</th>\n",
       "      <td>23440561</td>\n",
       "      <td>47</td>\n",
       "      <td>4</td>\n",
       "      <td>Brand_1</td>\n",
       "      <td>40</td>\n",
       "    </tr>\n",
       "  </tbody>\n",
       "</table>\n",
       "</div>"
      ],
      "text/plain": [
       "    user_id  purchase  unique_brand lovely_brand  lovely_brand_purchases\n",
       "0  62325711        60             3      Brand_4                      54\n",
       "1  19317282        55             1      Brand_4                      55\n",
       "2   1228091        52             5      Brand_4                      26\n",
       "3   3133061        51             4      Brand_4                      30\n",
       "4  23440561        47             4      Brand_1                      40"
      ]
     },
     "execution_count": 16,
     "metadata": {},
     "output_type": "execute_result"
    }
   ],
   "source": [
    "loyality_df.head()"
   ]
  },
  {
   "cell_type": "markdown",
   "metadata": {},
   "source": [
    "**Create a new metric 'Loyality score'.**\n",
    "\n",
    "**Loyality score** - What percentage of all purchases came from the favorite brand"
   ]
  },
  {
   "cell_type": "code",
   "execution_count": 17,
   "metadata": {},
   "outputs": [],
   "source": [
    "loyality_df['loyality_score'] = loyality_df.lovely_brand_purchases/loyality_df.purchase"
   ]
  },
  {
   "cell_type": "code",
   "execution_count": 18,
   "metadata": {},
   "outputs": [
    {
     "data": {
      "text/plain": [
       "count    3383.000000\n",
       "mean        0.759356\n",
       "std         0.198331\n",
       "min         0.200000\n",
       "25%         0.600000\n",
       "50%         0.800000\n",
       "75%         1.000000\n",
       "max         1.000000\n",
       "Name: loyality_score, dtype: float64"
      ]
     },
     "execution_count": 18,
     "metadata": {},
     "output_type": "execute_result"
    }
   ],
   "source": [
    "loyality_df.loyality_score.describe()"
   ]
  },
  {
   "cell_type": "markdown",
   "metadata": {},
   "source": [
    "**Disctribution of loyality score of the users**"
   ]
  },
  {
   "cell_type": "code",
   "execution_count": 23,
   "metadata": {
    "scrolled": true
   },
   "outputs": [
    {
     "data": {
      "image/png": "[encoded data removed]",
      "text/plain": [
       "<Figure size 432x288 with 1 Axes>"
      ]
     },
     "metadata": {
      "needs_background": "light"
     },
     "output_type": "display_data"
    }
   ],
   "source": [
    "ax = sns.distplot(loyality_df.loyality_score, kde = False)"
   ]
  },
  {
   "cell_type": "markdown",
   "metadata": {},
   "source": [
    "Now we need to talk to our business team and discuss with them what level of loyality they would like to have for their purposes. "
   ]
  },
  {
   "cell_type": "markdown",
   "metadata": {},
   "source": [
    "**Finding the brand loyality**"
   ]
  },
  {
   "cell_type": "code",
   "execution_count": 20,
   "metadata": {},
   "outputs": [],
   "source": [
    "brand_loyality = loyality_df.groupby('lovely_brand', as_index = False) \\\n",
    "    .agg({'loyality_score' : 'median', 'user_id' : 'count' }) "
   ]
  },
  {
   "cell_type": "code",
   "execution_count": 21,
   "metadata": {
    "scrolled": true
   },
   "outputs": [
    {
     "data": {
      "image/png": "[encoded data removed]",
      "text/plain": [
       "<Figure size 432x288 with 1 Axes>"
      ]
     },
     "metadata": {
      "needs_background": "light"
     },
     "output_type": "display_data"
    }
   ],
   "source": [
    "# Findind the brand with the highest loyality score\n",
    "\n",
    "ax = sns.barplot(x=\"lovely_brand\", y=\"loyality_score\", data=brand_loyality)"
   ]
  },
  {
   "cell_type": "code",
   "execution_count": 22,
   "metadata": {},
   "outputs": [
    {
     "data": {
      "image/png": "[encoded data removed]",
      "text/plain": [
       "<Figure size 432x288 with 1 Axes>"
      ]
     },
     "metadata": {
      "needs_background": "light"
     },
     "output_type": "display_data"
    }
   ],
   "source": [
    "# Calculating the amount of users that were loyal to the brand\n",
    "\n",
    "ax = sns.barplot(x=\"lovely_brand\", y=\"user_id\", data=brand_loyality)"
   ]
  },
  {
   "cell_type": "markdown",
   "metadata": {},
   "source": [
    "**We discovered that even thought the other brands have a high loyality score, the most amount of users prefer the brand 4.**"
   ]
  },
  {
   "cell_type": "code",
   "execution_count": null,
   "metadata": {},
   "outputs": [],
   "source": []
  }
 ],
 "metadata": {
  "kernelspec": {
   "display_name": "Python 3",
   "language": "python",
   "name": "python3"
  },
  "language_info": {
   "codemirror_mode": {
    "name": "ipython",
    "version": 3
   },
   "file_extension": ".py",
   "mimetype": "text/x-python",
   "name": "python",
   "nbconvert_exporter": "python",
   "pygments_lexer": "ipython3",
   "version": "3.7.1"
  }
 },
 "nbformat": 4,
 "nbformat_minor": 2
}
