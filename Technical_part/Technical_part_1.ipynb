{
 "cells": [
  {
   "cell_type": "markdown",
   "metadata": {},
   "source": [
    "# Migros technical interview\n",
    "\n",
    "## Main tasks:\n",
    "\n",
    "1. Analyze the data, show us what you would do to understand it and what to do to make it more usable or meaningful. \n",
    "Explain us how you interpret the results. You are free to use any (open source) industry standard tools you like.\n",
    "\n",
    "2. How would you derive insights? \n",
    "What would be important if you would implement a monitoring for this?\n",
    "What would make your dashboard most useful?\n",
    "\n",
    "3. Describe and if time work on a model you would choose to provide a website personalization/segmentation solution and tell us why. \n",
    "Define your own goal for your approach.\n",
    "\n",
    "## Approach:\n",
    "\n",
    "1. Analyze the data, show us what you would do to understand it and what to do to make it more usable or meaningful. \n",
    "\n",
    " - Exploratory data analysis\n",
    "     - Data Collection\n",
    "     - Data Cleaning\n",
    "     - Univariate Analysis\n",
    "     - Bivariate Analysis\n"
   ]
  },
  {
   "cell_type": "markdown",
   "metadata": {},
   "source": [
    "**Exploratory data analysis**\n",
    "\n",
    "Data Collection"
   ]
  },
  {
   "cell_type": "code",
   "execution_count": 6,
   "metadata": {},
   "outputs": [],
   "source": [
    "# Importing all necessary modules.\n",
    "\n",
    "import pandas as pd\n",
    "import numpy as np\n",
    "import seaborn as sns\n",
    "import matplotlib.pyplot as plt\n",
    "\n",
    "%matplotlib inline"
   ]
  },
  {
   "cell_type": "code",
   "execution_count": 7,
   "metadata": {},
   "outputs": [],
   "source": [
    "# Reading data as a pandas data frame.\n",
    "# We have three tables: data_sample, products, person.\n",
    "\n",
    "sheet_id = '1CrIcItzuVRaYz3g2V6adq7D1flsGM6zbVp9YS4mJz3s' \n",
    "\n",
    "sheet_name1 = 'data_sample'\n",
    "sheet_name2 = 'products'\n",
    "sheet_name3 = 'person'\n",
    "\n",
    "#url1 = f\"https://docs.google.com/spreadsheets/d/{sheet_id}/gviz/tq?tqx=out:csv&sheet={sheet_name1}\"\n",
    "\n",
    "data_sample=pd.read_csv(f\"https://docs.google.com/spreadsheets/d/{sheet_id}/gviz/tq?tqx=out:csv&sheet={'data_sample'}\")\n",
    "products=pd.read_csv(f\"https://docs.google.com/spreadsheets/d/{sheet_id}/gviz/tq?tqx=out:csv&sheet={'products'}\")\n",
    "person=pd.read_csv(f\"https://docs.google.com/spreadsheets/d/{sheet_id}/gviz/tq?tqx=out:csv&sheet={'person'}\")"
   ]
  },
  {
   "cell_type": "code",
   "execution_count": 8,
   "metadata": {
    "scrolled": false
   },
   "outputs": [
    {
     "data": {
      "text/html": [
       "<div>\n",
       "<style scoped>\n",
       "    .dataframe tbody tr th:only-of-type {\n",
       "        vertical-align: middle;\n",
       "    }\n",
       "\n",
       "    .dataframe tbody tr th {\n",
       "        vertical-align: top;\n",
       "    }\n",
       "\n",
       "    .dataframe thead th {\n",
       "        text-align: right;\n",
       "    }\n",
       "</style>\n",
       "<table border=\"1\" class=\"dataframe\">\n",
       "  <thead>\n",
       "    <tr style=\"text-align: right;\">\n",
       "      <th></th>\n",
       "      <th>transactions</th>\n",
       "      <th>loyalty</th>\n",
       "      <th>days_since_last_contact</th>\n",
       "      <th>gender</th>\n",
       "      <th>person_id</th>\n",
       "      <th>product_ids</th>\n",
       "      <th>0ne.hot.1</th>\n",
       "      <th>0ne.hot.2</th>\n",
       "      <th>0ne.hot.3</th>\n",
       "      <th>0ne.hot.4</th>\n",
       "      <th>...</th>\n",
       "      <th>Unnamed: 16</th>\n",
       "      <th>Unnamed: 17</th>\n",
       "      <th>Unnamed: 18</th>\n",
       "      <th>Unnamed: 19</th>\n",
       "      <th>Unnamed: 20</th>\n",
       "      <th>Unnamed: 21</th>\n",
       "      <th>Unnamed: 22</th>\n",
       "      <th>Unnamed: 23</th>\n",
       "      <th>Unnamed: 24</th>\n",
       "      <th>Unnamed: 25</th>\n",
       "    </tr>\n",
       "  </thead>\n",
       "  <tbody>\n",
       "    <tr>\n",
       "      <th>0</th>\n",
       "      <td>4</td>\n",
       "      <td>-1.33</td>\n",
       "      <td>2</td>\n",
       "      <td>m</td>\n",
       "      <td>170636bb-3601-4a18-b572-52650c0d2d0e</td>\n",
       "      <td>[7881,10834,61603,62040,63288,125830]</td>\n",
       "      <td>1</td>\n",
       "      <td>0</td>\n",
       "      <td>0</td>\n",
       "      <td>0</td>\n",
       "      <td>...</td>\n",
       "      <td>NaN</td>\n",
       "      <td>NaN</td>\n",
       "      <td>NaN</td>\n",
       "      <td>NaN</td>\n",
       "      <td>NaN</td>\n",
       "      <td>NaN</td>\n",
       "      <td>NaN</td>\n",
       "      <td>NaN</td>\n",
       "      <td>NaN</td>\n",
       "      <td>NaN</td>\n",
       "    </tr>\n",
       "    <tr>\n",
       "      <th>1</th>\n",
       "      <td>6</td>\n",
       "      <td>-0.28</td>\n",
       "      <td>3</td>\n",
       "      <td>m</td>\n",
       "      <td>2a4c9697-b937-4429-9fd3-5529929a1ab9</td>\n",
       "      <td>[10834,61603,62040,63288,125830]</td>\n",
       "      <td>1</td>\n",
       "      <td>0</td>\n",
       "      <td>0</td>\n",
       "      <td>0</td>\n",
       "      <td>...</td>\n",
       "      <td>NaN</td>\n",
       "      <td>NaN</td>\n",
       "      <td>NaN</td>\n",
       "      <td>NaN</td>\n",
       "      <td>NaN</td>\n",
       "      <td>NaN</td>\n",
       "      <td>NaN</td>\n",
       "      <td>NaN</td>\n",
       "      <td>NaN</td>\n",
       "      <td>NaN</td>\n",
       "    </tr>\n",
       "    <tr>\n",
       "      <th>2</th>\n",
       "      <td>5</td>\n",
       "      <td>-0.22</td>\n",
       "      <td>1</td>\n",
       "      <td>w</td>\n",
       "      <td>4d12441d-3748-4b05-81bf-fd24f9f9d6f4</td>\n",
       "      <td>[63288,125830]</td>\n",
       "      <td>1</td>\n",
       "      <td>0</td>\n",
       "      <td>0</td>\n",
       "      <td>0</td>\n",
       "      <td>...</td>\n",
       "      <td>NaN</td>\n",
       "      <td>NaN</td>\n",
       "      <td>NaN</td>\n",
       "      <td>NaN</td>\n",
       "      <td>NaN</td>\n",
       "      <td>NaN</td>\n",
       "      <td>NaN</td>\n",
       "      <td>NaN</td>\n",
       "      <td>NaN</td>\n",
       "      <td>NaN</td>\n",
       "    </tr>\n",
       "    <tr>\n",
       "      <th>3</th>\n",
       "      <td>7</td>\n",
       "      <td>-0.29</td>\n",
       "      <td>0</td>\n",
       "      <td>m</td>\n",
       "      <td>00f173be-96b1-4407-809c-6882e5bbb1fd</td>\n",
       "      <td>[7881,10834]</td>\n",
       "      <td>0</td>\n",
       "      <td>1</td>\n",
       "      <td>0</td>\n",
       "      <td>0</td>\n",
       "      <td>...</td>\n",
       "      <td>NaN</td>\n",
       "      <td>NaN</td>\n",
       "      <td>NaN</td>\n",
       "      <td>NaN</td>\n",
       "      <td>NaN</td>\n",
       "      <td>NaN</td>\n",
       "      <td>NaN</td>\n",
       "      <td>NaN</td>\n",
       "      <td>NaN</td>\n",
       "      <td>NaN</td>\n",
       "    </tr>\n",
       "    <tr>\n",
       "      <th>4</th>\n",
       "      <td>4</td>\n",
       "      <td>1.06</td>\n",
       "      <td>5</td>\n",
       "      <td>m</td>\n",
       "      <td>f5aa1643-398f-4027-ab75-7b72ebe92d90</td>\n",
       "      <td>[7881,10834,62040,63288,125830]</td>\n",
       "      <td>0</td>\n",
       "      <td>0</td>\n",
       "      <td>1</td>\n",
       "      <td>0</td>\n",
       "      <td>...</td>\n",
       "      <td>NaN</td>\n",
       "      <td>NaN</td>\n",
       "      <td>NaN</td>\n",
       "      <td>NaN</td>\n",
       "      <td>NaN</td>\n",
       "      <td>NaN</td>\n",
       "      <td>NaN</td>\n",
       "      <td>NaN</td>\n",
       "      <td>NaN</td>\n",
       "      <td>NaN</td>\n",
       "    </tr>\n",
       "  </tbody>\n",
       "</table>\n",
       "<p>5 rows × 26 columns</p>\n",
       "</div>"
      ],
      "text/plain": [
       "   transactions  loyalty  days_since_last_contact gender  \\\n",
       "0             4    -1.33                        2      m   \n",
       "1             6    -0.28                        3      m   \n",
       "2             5    -0.22                        1      w   \n",
       "3             7    -0.29                        0      m   \n",
       "4             4     1.06                        5      m   \n",
       "\n",
       "                              person_id  \\\n",
       "0  170636bb-3601-4a18-b572-52650c0d2d0e   \n",
       "1  2a4c9697-b937-4429-9fd3-5529929a1ab9   \n",
       "2  4d12441d-3748-4b05-81bf-fd24f9f9d6f4   \n",
       "3  00f173be-96b1-4407-809c-6882e5bbb1fd   \n",
       "4  f5aa1643-398f-4027-ab75-7b72ebe92d90   \n",
       "\n",
       "                             product_ids  0ne.hot.1  0ne.hot.2  0ne.hot.3  \\\n",
       "0  [7881,10834,61603,62040,63288,125830]          1          0          0   \n",
       "1       [10834,61603,62040,63288,125830]          1          0          0   \n",
       "2                         [63288,125830]          1          0          0   \n",
       "3                           [7881,10834]          0          1          0   \n",
       "4        [7881,10834,62040,63288,125830]          0          0          1   \n",
       "\n",
       "   0ne.hot.4     ...      Unnamed: 16 Unnamed: 17  Unnamed: 18  Unnamed: 19  \\\n",
       "0          0     ...              NaN         NaN          NaN          NaN   \n",
       "1          0     ...              NaN         NaN          NaN          NaN   \n",
       "2          0     ...              NaN         NaN          NaN          NaN   \n",
       "3          0     ...              NaN         NaN          NaN          NaN   \n",
       "4          0     ...              NaN         NaN          NaN          NaN   \n",
       "\n",
       "   Unnamed: 20  Unnamed: 21  Unnamed: 22  Unnamed: 23  Unnamed: 24  \\\n",
       "0          NaN          NaN          NaN          NaN          NaN   \n",
       "1          NaN          NaN          NaN          NaN          NaN   \n",
       "2          NaN          NaN          NaN          NaN          NaN   \n",
       "3          NaN          NaN          NaN          NaN          NaN   \n",
       "4          NaN          NaN          NaN          NaN          NaN   \n",
       "\n",
       "   Unnamed: 25  \n",
       "0          NaN  \n",
       "1          NaN  \n",
       "2          NaN  \n",
       "3          NaN  \n",
       "4          NaN  \n",
       "\n",
       "[5 rows x 26 columns]"
      ]
     },
     "execution_count": 8,
     "metadata": {},
     "output_type": "execute_result"
    }
   ],
   "source": [
    "# Printing data_sample\n",
    "data_sample.head()"
   ]
  },
  {
   "cell_type": "code",
   "execution_count": 9,
   "metadata": {},
   "outputs": [
    {
     "data": {
      "text/html": [
       "<div>\n",
       "<style scoped>\n",
       "    .dataframe tbody tr th:only-of-type {\n",
       "        vertical-align: middle;\n",
       "    }\n",
       "\n",
       "    .dataframe tbody tr th {\n",
       "        vertical-align: top;\n",
       "    }\n",
       "\n",
       "    .dataframe thead th {\n",
       "        text-align: right;\n",
       "    }\n",
       "</style>\n",
       "<table border=\"1\" class=\"dataframe\">\n",
       "  <thead>\n",
       "    <tr style=\"text-align: right;\">\n",
       "      <th></th>\n",
       "      <th>id</th>\n",
       "      <th>name</th>\n",
       "      <th>category_level_1</th>\n",
       "      <th>region</th>\n",
       "      <th>stock_level</th>\n",
       "      <th>is_seasonal</th>\n",
       "      <th>productdata_language</th>\n",
       "    </tr>\n",
       "  </thead>\n",
       "  <tbody>\n",
       "    <tr>\n",
       "      <th>0</th>\n",
       "      <td>7881</td>\n",
       "      <td>mango</td>\n",
       "      <td>fruits</td>\n",
       "      <td>1</td>\n",
       "      <td>0</td>\n",
       "      <td>True</td>\n",
       "      <td>DE</td>\n",
       "    </tr>\n",
       "    <tr>\n",
       "      <th>1</th>\n",
       "      <td>10834</td>\n",
       "      <td>ovomaltine schokolade</td>\n",
       "      <td>sweets</td>\n",
       "      <td>2</td>\n",
       "      <td>3</td>\n",
       "      <td>False</td>\n",
       "      <td>DE</td>\n",
       "    </tr>\n",
       "    <tr>\n",
       "      <th>2</th>\n",
       "      <td>61603</td>\n",
       "      <td>nutella</td>\n",
       "      <td>sweets</td>\n",
       "      <td>2</td>\n",
       "      <td>3</td>\n",
       "      <td>False</td>\n",
       "      <td>DE</td>\n",
       "    </tr>\n",
       "    <tr>\n",
       "      <th>3</th>\n",
       "      <td>63288</td>\n",
       "      <td>birnen</td>\n",
       "      <td>fruits</td>\n",
       "      <td>1</td>\n",
       "      <td>0</td>\n",
       "      <td>True</td>\n",
       "      <td>DE</td>\n",
       "    </tr>\n",
       "    <tr>\n",
       "      <th>4</th>\n",
       "      <td>125830</td>\n",
       "      <td>karotten</td>\n",
       "      <td>vegetables</td>\n",
       "      <td>1</td>\n",
       "      <td>1</td>\n",
       "      <td>False</td>\n",
       "      <td>DE</td>\n",
       "    </tr>\n",
       "  </tbody>\n",
       "</table>\n",
       "</div>"
      ],
      "text/plain": [
       "       id                   name category_level_1  region  stock_level  \\\n",
       "0    7881                  mango           fruits       1            0   \n",
       "1   10834  ovomaltine schokolade           sweets       2            3   \n",
       "2   61603                nutella           sweets       2            3   \n",
       "3   63288                 birnen           fruits       1            0   \n",
       "4  125830               karotten       vegetables       1            1   \n",
       "\n",
       "   is_seasonal productdata_language  \n",
       "0         True                   DE  \n",
       "1        False                   DE  \n",
       "2        False                   DE  \n",
       "3         True                   DE  \n",
       "4        False                   DE  "
      ]
     },
     "execution_count": 9,
     "metadata": {},
     "output_type": "execute_result"
    }
   ],
   "source": [
    "# Printing products\n",
    "products.head()"
   ]
  },
  {
   "cell_type": "code",
   "execution_count": 10,
   "metadata": {},
   "outputs": [
    {
     "data": {
      "text/html": [
       "<div>\n",
       "<style scoped>\n",
       "    .dataframe tbody tr th:only-of-type {\n",
       "        vertical-align: middle;\n",
       "    }\n",
       "\n",
       "    .dataframe tbody tr th {\n",
       "        vertical-align: top;\n",
       "    }\n",
       "\n",
       "    .dataframe thead th {\n",
       "        text-align: right;\n",
       "    }\n",
       "</style>\n",
       "<table border=\"1\" class=\"dataframe\">\n",
       "  <thead>\n",
       "    <tr style=\"text-align: right;\">\n",
       "      <th></th>\n",
       "      <th>id</th>\n",
       "      <th>gender</th>\n",
       "      <th>first_order</th>\n",
       "      <th>last_order</th>\n",
       "      <th>predicted_clv</th>\n",
       "      <th>zip_code</th>\n",
       "      <th>cookie_1</th>\n",
       "      <th>cookie_2</th>\n",
       "      <th>cookie_3</th>\n",
       "      <th>e_mail</th>\n",
       "    </tr>\n",
       "  </thead>\n",
       "  <tbody>\n",
       "    <tr>\n",
       "      <th>0</th>\n",
       "      <td>170636bb-3601-4a18-b572-52650c0d2d0e</td>\n",
       "      <td>m</td>\n",
       "      <td>undefined</td>\n",
       "      <td>undefined</td>\n",
       "      <td>undefined</td>\n",
       "      <td>undefined</td>\n",
       "      <td>iv0d8h8IRkCFxAqNXKHaLA==</td>\n",
       "      <td>NaN</td>\n",
       "      <td>Yy6vow/IWUiDD/FCIl5wUw==</td>\n",
       "      <td>n6awBQIoFkym20K9K8c4iQ==</td>\n",
       "    </tr>\n",
       "    <tr>\n",
       "      <th>1</th>\n",
       "      <td>2a4c9697-b937-4429-9fd3-5529929a1ab9</td>\n",
       "      <td>m</td>\n",
       "      <td>undefined</td>\n",
       "      <td>undefined</td>\n",
       "      <td>undefined</td>\n",
       "      <td>undefined</td>\n",
       "      <td>uMm7PkqrAE2OOvNdL2uGjA==</td>\n",
       "      <td>NaN</td>\n",
       "      <td>LLaX27gdOUivdQ/weZlXnQ==</td>\n",
       "      <td>4eOEQwLL20yrcle5yy4Ddw==</td>\n",
       "    </tr>\n",
       "    <tr>\n",
       "      <th>2</th>\n",
       "      <td>4d12441d-3748-4b05-81bf-fd24f9f9d6f4</td>\n",
       "      <td>w</td>\n",
       "      <td>undefined</td>\n",
       "      <td>undefined</td>\n",
       "      <td>undefined</td>\n",
       "      <td>undefined</td>\n",
       "      <td>pNlIOPVQ1ker0r+kr7VPrw==</td>\n",
       "      <td>NaN</td>\n",
       "      <td>do8QyBLWP0K2NLcfwRRKqQ==</td>\n",
       "      <td>tC7tstN03U6OlakzGe5yTw==</td>\n",
       "    </tr>\n",
       "    <tr>\n",
       "      <th>3</th>\n",
       "      <td>00f173be-96b1-4407-809c-6882e5bbb1fd</td>\n",
       "      <td>m</td>\n",
       "      <td>undefined</td>\n",
       "      <td>undefined</td>\n",
       "      <td>undefined</td>\n",
       "      <td>undefined</td>\n",
       "      <td>CTAaruMbz0OLQU0HqWf0ng==</td>\n",
       "      <td>NaN</td>\n",
       "      <td>cuY93SKH2UajLAeAcBPUhQ==</td>\n",
       "      <td>0jl7wbx3TUeiwcZ4oaZxyA==</td>\n",
       "    </tr>\n",
       "    <tr>\n",
       "      <th>4</th>\n",
       "      <td>f5aa1643-398f-4027-ab75-7b72ebe92d90</td>\n",
       "      <td>m</td>\n",
       "      <td>undefined</td>\n",
       "      <td>undefined</td>\n",
       "      <td>undefined</td>\n",
       "      <td>undefined</td>\n",
       "      <td>lotrcqCqYEKPIlg+0mwKdA==</td>\n",
       "      <td>NaN</td>\n",
       "      <td>EsmihNPEbUeGra8paxL37w==</td>\n",
       "      <td>li0V10eqFkaBDCgv5yRUHw==</td>\n",
       "    </tr>\n",
       "  </tbody>\n",
       "</table>\n",
       "</div>"
      ],
      "text/plain": [
       "                                     id gender first_order last_order  \\\n",
       "0  170636bb-3601-4a18-b572-52650c0d2d0e      m   undefined  undefined   \n",
       "1  2a4c9697-b937-4429-9fd3-5529929a1ab9      m   undefined  undefined   \n",
       "2  4d12441d-3748-4b05-81bf-fd24f9f9d6f4      w   undefined  undefined   \n",
       "3  00f173be-96b1-4407-809c-6882e5bbb1fd      m   undefined  undefined   \n",
       "4  f5aa1643-398f-4027-ab75-7b72ebe92d90      m   undefined  undefined   \n",
       "\n",
       "  predicted_clv   zip_code                  cookie_1  cookie_2  \\\n",
       "0     undefined  undefined  iv0d8h8IRkCFxAqNXKHaLA==       NaN   \n",
       "1     undefined  undefined  uMm7PkqrAE2OOvNdL2uGjA==       NaN   \n",
       "2     undefined  undefined  pNlIOPVQ1ker0r+kr7VPrw==       NaN   \n",
       "3     undefined  undefined  CTAaruMbz0OLQU0HqWf0ng==       NaN   \n",
       "4     undefined  undefined  lotrcqCqYEKPIlg+0mwKdA==       NaN   \n",
       "\n",
       "                   cookie_3                    e_mail  \n",
       "0  Yy6vow/IWUiDD/FCIl5wUw==  n6awBQIoFkym20K9K8c4iQ==  \n",
       "1  LLaX27gdOUivdQ/weZlXnQ==  4eOEQwLL20yrcle5yy4Ddw==  \n",
       "2  do8QyBLWP0K2NLcfwRRKqQ==  tC7tstN03U6OlakzGe5yTw==  \n",
       "3  cuY93SKH2UajLAeAcBPUhQ==  0jl7wbx3TUeiwcZ4oaZxyA==  \n",
       "4  EsmihNPEbUeGra8paxL37w==  li0V10eqFkaBDCgv5yRUHw==  "
      ]
     },
     "execution_count": 10,
     "metadata": {},
     "output_type": "execute_result"
    }
   ],
   "source": [
    "# Printing person\n",
    "person.head()"
   ]
  },
  {
   "cell_type": "markdown",
   "metadata": {},
   "source": [
    "Data Cleaning: **data_sample**\n",
    "\n",
    "We will start our data cleaning and data understanding from the first table - data_sample"
   ]
  },
  {
   "cell_type": "code",
   "execution_count": 11,
   "metadata": {},
   "outputs": [
    {
     "data": {
      "text/plain": [
       "Index(['transactions', 'loyalty', 'days_since_last_contact', 'gender',\n",
       "       'person_id', 'product_ids', '0ne.hot.1', '0ne.hot.2', '0ne.hot.3',\n",
       "       '0ne.hot.4', 'promotion_set_id', 'platform_cookie_source',\n",
       "       'delivery_pass', 'is_newsletter', 'Unnamed: 14', 'Unnamed: 15',\n",
       "       'Unnamed: 16', 'Unnamed: 17', 'Unnamed: 18', 'Unnamed: 19',\n",
       "       'Unnamed: 20', 'Unnamed: 21', 'Unnamed: 22', 'Unnamed: 23',\n",
       "       'Unnamed: 24', 'Unnamed: 25'],\n",
       "      dtype='object')"
      ]
     },
     "execution_count": 11,
     "metadata": {},
     "output_type": "execute_result"
    }
   ],
   "source": [
    "# Checking the names of the columns of the data_sample column\n",
    "data_sample.columns"
   ]
  },
  {
   "cell_type": "code",
   "execution_count": 12,
   "metadata": {},
   "outputs": [],
   "source": [
    "# In data_sample table there are some imported columns that have no data. We will remove them."
   ]
  },
  {
   "cell_type": "code",
   "execution_count": 13,
   "metadata": {},
   "outputs": [
    {
     "data": {
      "text/plain": [
       "Index(['transactions', 'loyalty', 'days_since_last_contact', 'gender',\n",
       "       'person_id', 'product_ids', '0ne.hot.1', '0ne.hot.2', '0ne.hot.3',\n",
       "       '0ne.hot.4', 'promotion_set_id', 'platform_cookie_source',\n",
       "       'delivery_pass', 'is_newsletter'],\n",
       "      dtype='object')"
      ]
     },
     "execution_count": 13,
     "metadata": {},
     "output_type": "execute_result"
    }
   ],
   "source": [
    "data_sample = data_sample.drop(columns=['Unnamed: 14', 'Unnamed: 15',\n",
    "       'Unnamed: 16', 'Unnamed: 17', 'Unnamed: 18', 'Unnamed: 19',\n",
    "       'Unnamed: 20', 'Unnamed: 21', 'Unnamed: 22', 'Unnamed: 23',\n",
    "       'Unnamed: 24', 'Unnamed: 25'])\n",
    "data_sample.columns"
   ]
  },
  {
   "cell_type": "code",
   "execution_count": 14,
   "metadata": {},
   "outputs": [
    {
     "data": {
      "text/plain": [
       "(100, 14)"
      ]
     },
     "execution_count": 14,
     "metadata": {},
     "output_type": "execute_result"
    }
   ],
   "source": [
    "# Checking the size of the dataframe\n",
    "data_sample.shape"
   ]
  },
  {
   "cell_type": "code",
   "execution_count": 15,
   "metadata": {
    "scrolled": true
   },
   "outputs": [
    {
     "name": "stdout",
     "output_type": "stream",
     "text": [
      "<class 'pandas.core.frame.DataFrame'>\n",
      "RangeIndex: 100 entries, 0 to 99\n",
      "Data columns (total 14 columns):\n",
      "transactions               100 non-null int64\n",
      "loyalty                    100 non-null float64\n",
      "days_since_last_contact    100 non-null int64\n",
      "gender                     97 non-null object\n",
      "person_id                  100 non-null object\n",
      "product_ids                100 non-null object\n",
      "0ne.hot.1                  100 non-null int64\n",
      "0ne.hot.2                  100 non-null int64\n",
      "0ne.hot.3                  100 non-null int64\n",
      "0ne.hot.4                  100 non-null int64\n",
      "promotion_set_id           100 non-null object\n",
      "platform_cookie_source     100 non-null object\n",
      "delivery_pass              100 non-null bool\n",
      "is_newsletter              100 non-null bool\n",
      "dtypes: bool(2), float64(1), int64(6), object(5)\n",
      "memory usage: 9.6+ KB\n"
     ]
    }
   ],
   "source": [
    "# Checking the general information about the table.\n",
    "data_sample.info()"
   ]
  },
  {
   "cell_type": "code",
   "execution_count": 16,
   "metadata": {},
   "outputs": [
    {
     "data": {
      "text/plain": [
       "transactions               0\n",
       "loyalty                    0\n",
       "days_since_last_contact    0\n",
       "gender                     3\n",
       "person_id                  0\n",
       "product_ids                0\n",
       "0ne.hot.1                  0\n",
       "0ne.hot.2                  0\n",
       "0ne.hot.3                  0\n",
       "0ne.hot.4                  0\n",
       "promotion_set_id           0\n",
       "platform_cookie_source     0\n",
       "delivery_pass              0\n",
       "is_newsletter              0\n",
       "dtype: int64"
      ]
     },
     "execution_count": 16,
     "metadata": {},
     "output_type": "execute_result"
    }
   ],
   "source": [
    "# Looks like in gender there are some missing values. Checking the missing values\n",
    "data_sample.isnull().sum()"
   ]
  },
  {
   "cell_type": "code",
   "execution_count": 17,
   "metadata": {},
   "outputs": [],
   "source": [
    "# There are 3 missing values in gender. We leave it for a moment."
   ]
  },
  {
   "cell_type": "code",
   "execution_count": 18,
   "metadata": {
    "scrolled": true
   },
   "outputs": [
    {
     "name": "stdout",
     "output_type": "stream",
     "text": [
      "transactions 13\n",
      "loyalty 63\n",
      "days_since_last_contact 12\n",
      "gender 3\n",
      "person_id 100\n",
      "product_ids 6\n",
      "0ne.hot.1 2\n",
      "0ne.hot.2 2\n",
      "0ne.hot.3 2\n",
      "0ne.hot.4 2\n",
      "promotion_set_id 100\n",
      "platform_cookie_source 1\n",
      "delivery_pass 2\n",
      "is_newsletter 1\n"
     ]
    }
   ],
   "source": [
    "# Let's check how many unique values in every column. This will help us to understand what variables could be grouped.\n",
    "\n",
    "for col in data_sample:\n",
    "    print(col, data_sample[col].nunique())"
   ]
  },
  {
   "cell_type": "markdown",
   "metadata": {},
   "source": [
    "## Data cleaning. Part 2. Data_sample\n",
    "At this step we could do some modifications in the data and create a table that it will be easier to work with. We can:\n",
    "\n",
    "    1.'Reverse' one-hot encoding values to \"categories\"\n",
    "        At this stage of the analysis it will be easier for us to have the one-hot encoding values as categories in one column.\n",
    "    2. Calculate the amount of products in the product id and remame the \n",
    "    Drop the columns that have 1 variable (not possible to make any analysis, but could be used later for recommendations\n",
    "    2. Drop the columns that have 100 variable (it means that all the variables are unique - so we cannot use them either)\n",
    "    3. "
   ]
  },
  {
   "cell_type": "code",
   "execution_count": 19,
   "metadata": {},
   "outputs": [],
   "source": [
    "# Saving the original data \n",
    "\n",
    "data_sample_orig = data_sample"
   ]
  },
  {
   "cell_type": "code",
   "execution_count": 20,
   "metadata": {},
   "outputs": [],
   "source": [
    "# Here we see that there are one-hot encoding values. We can reverse them to check thier distribution.\n",
    "# We will create a series A, B, C and D as another column and call them \"categories\"\n",
    "\n",
    "categ_one_hot = data_sample[['0ne.hot.1', '0ne.hot.2', '0ne.hot.3', '0ne.hot.4']]\n",
    "categ_one_hot = categ_one_hot.idxmax(1)\n"
   ]
  },
  {
   "cell_type": "code",
   "execution_count": 21,
   "metadata": {
    "scrolled": false
   },
   "outputs": [
    {
     "data": {
      "text/html": [
       "<div>\n",
       "<style scoped>\n",
       "    .dataframe tbody tr th:only-of-type {\n",
       "        vertical-align: middle;\n",
       "    }\n",
       "\n",
       "    .dataframe tbody tr th {\n",
       "        vertical-align: top;\n",
       "    }\n",
       "\n",
       "    .dataframe thead th {\n",
       "        text-align: right;\n",
       "    }\n",
       "</style>\n",
       "<table border=\"1\" class=\"dataframe\">\n",
       "  <thead>\n",
       "    <tr style=\"text-align: right;\">\n",
       "      <th></th>\n",
       "      <th>transactions</th>\n",
       "      <th>loyalty</th>\n",
       "      <th>days_since_last_contact</th>\n",
       "      <th>gender</th>\n",
       "      <th>product_ids</th>\n",
       "      <th>delivery_pass</th>\n",
       "      <th>categ_one_hot</th>\n",
       "    </tr>\n",
       "  </thead>\n",
       "  <tbody>\n",
       "    <tr>\n",
       "      <th>0</th>\n",
       "      <td>4</td>\n",
       "      <td>-1.33</td>\n",
       "      <td>2</td>\n",
       "      <td>m</td>\n",
       "      <td>[7881,10834,61603,62040,63288,125830]</td>\n",
       "      <td>True</td>\n",
       "      <td>cat1</td>\n",
       "    </tr>\n",
       "    <tr>\n",
       "      <th>1</th>\n",
       "      <td>6</td>\n",
       "      <td>-0.28</td>\n",
       "      <td>3</td>\n",
       "      <td>m</td>\n",
       "      <td>[10834,61603,62040,63288,125830]</td>\n",
       "      <td>True</td>\n",
       "      <td>cat1</td>\n",
       "    </tr>\n",
       "    <tr>\n",
       "      <th>2</th>\n",
       "      <td>5</td>\n",
       "      <td>-0.22</td>\n",
       "      <td>1</td>\n",
       "      <td>w</td>\n",
       "      <td>[63288,125830]</td>\n",
       "      <td>False</td>\n",
       "      <td>cat1</td>\n",
       "    </tr>\n",
       "    <tr>\n",
       "      <th>3</th>\n",
       "      <td>7</td>\n",
       "      <td>-0.29</td>\n",
       "      <td>0</td>\n",
       "      <td>m</td>\n",
       "      <td>[7881,10834]</td>\n",
       "      <td>True</td>\n",
       "      <td>cat2</td>\n",
       "    </tr>\n",
       "    <tr>\n",
       "      <th>4</th>\n",
       "      <td>4</td>\n",
       "      <td>1.06</td>\n",
       "      <td>5</td>\n",
       "      <td>m</td>\n",
       "      <td>[7881,10834,62040,63288,125830]</td>\n",
       "      <td>True</td>\n",
       "      <td>cat3</td>\n",
       "    </tr>\n",
       "  </tbody>\n",
       "</table>\n",
       "</div>"
      ],
      "text/plain": [
       "   transactions  loyalty  days_since_last_contact gender  \\\n",
       "0             4    -1.33                        2      m   \n",
       "1             6    -0.28                        3      m   \n",
       "2             5    -0.22                        1      w   \n",
       "3             7    -0.29                        0      m   \n",
       "4             4     1.06                        5      m   \n",
       "\n",
       "                             product_ids  delivery_pass categ_one_hot  \n",
       "0  [7881,10834,61603,62040,63288,125830]           True          cat1  \n",
       "1       [10834,61603,62040,63288,125830]           True          cat1  \n",
       "2                         [63288,125830]          False          cat1  \n",
       "3                           [7881,10834]           True          cat2  \n",
       "4        [7881,10834,62040,63288,125830]           True          cat3  "
      ]
     },
     "execution_count": 21,
     "metadata": {},
     "output_type": "execute_result"
    }
   ],
   "source": [
    "\n",
    "\n",
    "\n",
    "# Dropping the one-hot encoding data and changing them for the 'reverse' one\n",
    "# so that we are able to group and analyse them.\n",
    "\n",
    "# Also dropping the values that have just 1 categorical value in these data like 'platform_cookie_source' and 'is_newsletter' and \n",
    "# values that have all different values like 'promotion_set_id', 'person_id'\n",
    "\n",
    "data_sample=data_sample.drop(['0ne.hot.1', '0ne.hot.2', '0ne.hot.3', '0ne.hot.4'], axis = 1)\n",
    "data_sample=data_sample.drop(['platform_cookie_source', 'is_newsletter', 'promotion_set_id', 'person_id'], axis = 1)\n",
    "\n",
    "# Appending the column showing the one-hot encoding data\n",
    "data_sample['categ_one_hot'] = categ_one_hot\n",
    "\n",
    "one_hot_coding = {'0ne.hot.1': \"cat1\", \"0ne.hot.2\": \"cat2\" , \"0ne.hot.3\": \"cat3\", \"0ne.hot.4\": \"cat4\" }\n",
    "\n",
    "data_sample[\"categ_one_hot\"].replace(one_hot_coding, inplace=True)\n",
    "\n",
    "\n",
    "data_sample.head()"
   ]
  },
  {
   "cell_type": "code",
   "execution_count": null,
   "metadata": {},
   "outputs": [],
   "source": []
  },
  {
   "cell_type": "code",
   "execution_count": 22,
   "metadata": {
    "scrolled": true
   },
   "outputs": [
    {
     "data": {
      "text/plain": [
       "array(['[7881,10834,61603,62040,63288,125830]',\n",
       "       '[10834,61603,62040,63288,125830]', '[63288,125830]',\n",
       "       '[7881,10834]', '[7881,10834,62040,63288,125830]',\n",
       "       '[7881,10834,61603]'], dtype=object)"
      ]
     },
     "execution_count": 22,
     "metadata": {},
     "output_type": "execute_result"
    }
   ],
   "source": [
    "data_sample.product_ids.unique()"
   ]
  },
  {
   "cell_type": "code",
   "execution_count": 23,
   "metadata": {},
   "outputs": [
    {
     "data": {
      "text/plain": [
       "7"
      ]
     },
     "execution_count": 23,
     "metadata": {},
     "output_type": "execute_result"
    }
   ],
   "source": [
    "data_sample.columns\n",
    "data_sample.count().count()"
   ]
  },
  {
   "cell_type": "code",
   "execution_count": 26,
   "metadata": {},
   "outputs": [
    {
     "data": {
      "text/plain": [
       "7"
      ]
     },
     "execution_count": 26,
     "metadata": {},
     "output_type": "execute_result"
    }
   ],
   "source": [
    "column_names = [\"gender\", \"loyalty\", \\\n",
    "                \"days_since_last_contact\", \"transactions\", \"product_ids\", \\\n",
    "                \"categ_one_hot\", \"delivery_pass\"]\n",
    "len(column_names)"
   ]
  },
  {
   "cell_type": "code",
   "execution_count": 27,
   "metadata": {},
   "outputs": [
    {
     "data": {
      "text/html": [
       "<div>\n",
       "<style scoped>\n",
       "    .dataframe tbody tr th:only-of-type {\n",
       "        vertical-align: middle;\n",
       "    }\n",
       "\n",
       "    .dataframe tbody tr th {\n",
       "        vertical-align: top;\n",
       "    }\n",
       "\n",
       "    .dataframe thead th {\n",
       "        text-align: right;\n",
       "    }\n",
       "</style>\n",
       "<table border=\"1\" class=\"dataframe\">\n",
       "  <thead>\n",
       "    <tr style=\"text-align: right;\">\n",
       "      <th></th>\n",
       "      <th>gender</th>\n",
       "      <th>loyalty</th>\n",
       "      <th>days_since_last_contact</th>\n",
       "      <th>transactions</th>\n",
       "      <th>product_ids</th>\n",
       "      <th>categ_one_hot</th>\n",
       "      <th>delivery_pass</th>\n",
       "    </tr>\n",
       "  </thead>\n",
       "  <tbody>\n",
       "    <tr>\n",
       "      <th>0</th>\n",
       "      <td>m</td>\n",
       "      <td>-1.33</td>\n",
       "      <td>2</td>\n",
       "      <td>4</td>\n",
       "      <td>[7881,10834,61603,62040,63288,125830]</td>\n",
       "      <td>cat1</td>\n",
       "      <td>True</td>\n",
       "    </tr>\n",
       "    <tr>\n",
       "      <th>1</th>\n",
       "      <td>m</td>\n",
       "      <td>-0.28</td>\n",
       "      <td>3</td>\n",
       "      <td>6</td>\n",
       "      <td>[10834,61603,62040,63288,125830]</td>\n",
       "      <td>cat1</td>\n",
       "      <td>True</td>\n",
       "    </tr>\n",
       "    <tr>\n",
       "      <th>2</th>\n",
       "      <td>w</td>\n",
       "      <td>-0.22</td>\n",
       "      <td>1</td>\n",
       "      <td>5</td>\n",
       "      <td>[63288,125830]</td>\n",
       "      <td>cat1</td>\n",
       "      <td>False</td>\n",
       "    </tr>\n",
       "    <tr>\n",
       "      <th>3</th>\n",
       "      <td>m</td>\n",
       "      <td>-0.29</td>\n",
       "      <td>0</td>\n",
       "      <td>7</td>\n",
       "      <td>[7881,10834]</td>\n",
       "      <td>cat2</td>\n",
       "      <td>True</td>\n",
       "    </tr>\n",
       "    <tr>\n",
       "      <th>4</th>\n",
       "      <td>m</td>\n",
       "      <td>1.06</td>\n",
       "      <td>5</td>\n",
       "      <td>4</td>\n",
       "      <td>[7881,10834,62040,63288,125830]</td>\n",
       "      <td>cat3</td>\n",
       "      <td>True</td>\n",
       "    </tr>\n",
       "  </tbody>\n",
       "</table>\n",
       "</div>"
      ],
      "text/plain": [
       "  gender  loyalty  days_since_last_contact  transactions  \\\n",
       "0      m    -1.33                        2             4   \n",
       "1      m    -0.28                        3             6   \n",
       "2      w    -0.22                        1             5   \n",
       "3      m    -0.29                        0             7   \n",
       "4      m     1.06                        5             4   \n",
       "\n",
       "                             product_ids categ_one_hot  delivery_pass  \n",
       "0  [7881,10834,61603,62040,63288,125830]          cat1           True  \n",
       "1       [10834,61603,62040,63288,125830]          cat1           True  \n",
       "2                         [63288,125830]          cat1          False  \n",
       "3                           [7881,10834]          cat2           True  \n",
       "4        [7881,10834,62040,63288,125830]          cat3           True  "
      ]
     },
     "execution_count": 27,
     "metadata": {},
     "output_type": "execute_result"
    }
   ],
   "source": [
    "data_sample = data_sample.reindex(columns=column_names)\n",
    "data_sample.head()"
   ]
  },
  {
   "cell_type": "code",
   "execution_count": 28,
   "metadata": {},
   "outputs": [
    {
     "data": {
      "text/html": [
       "<div>\n",
       "<style scoped>\n",
       "    .dataframe tbody tr th:only-of-type {\n",
       "        vertical-align: middle;\n",
       "    }\n",
       "\n",
       "    .dataframe tbody tr th {\n",
       "        vertical-align: top;\n",
       "    }\n",
       "\n",
       "    .dataframe thead th {\n",
       "        text-align: right;\n",
       "    }\n",
       "</style>\n",
       "<table border=\"1\" class=\"dataframe\">\n",
       "  <thead>\n",
       "    <tr style=\"text-align: right;\">\n",
       "      <th></th>\n",
       "      <th>gender</th>\n",
       "      <th>loyalty</th>\n",
       "      <th>days_since_last_contact</th>\n",
       "      <th>transactions</th>\n",
       "      <th>product_ids</th>\n",
       "      <th>categ_one_hot</th>\n",
       "      <th>delivery_pass</th>\n",
       "      <th>product_ids_sets</th>\n",
       "    </tr>\n",
       "  </thead>\n",
       "  <tbody>\n",
       "    <tr>\n",
       "      <th>0</th>\n",
       "      <td>m</td>\n",
       "      <td>-1.33</td>\n",
       "      <td>2</td>\n",
       "      <td>4</td>\n",
       "      <td>[7881,10834,61603,62040,63288,125830]</td>\n",
       "      <td>cat1</td>\n",
       "      <td>True</td>\n",
       "      <td>A</td>\n",
       "    </tr>\n",
       "    <tr>\n",
       "      <th>1</th>\n",
       "      <td>m</td>\n",
       "      <td>-0.28</td>\n",
       "      <td>3</td>\n",
       "      <td>6</td>\n",
       "      <td>[10834,61603,62040,63288,125830]</td>\n",
       "      <td>cat1</td>\n",
       "      <td>True</td>\n",
       "      <td>B</td>\n",
       "    </tr>\n",
       "    <tr>\n",
       "      <th>2</th>\n",
       "      <td>w</td>\n",
       "      <td>-0.22</td>\n",
       "      <td>1</td>\n",
       "      <td>5</td>\n",
       "      <td>[63288,125830]</td>\n",
       "      <td>cat1</td>\n",
       "      <td>False</td>\n",
       "      <td>C</td>\n",
       "    </tr>\n",
       "    <tr>\n",
       "      <th>3</th>\n",
       "      <td>m</td>\n",
       "      <td>-0.29</td>\n",
       "      <td>0</td>\n",
       "      <td>7</td>\n",
       "      <td>[7881,10834]</td>\n",
       "      <td>cat2</td>\n",
       "      <td>True</td>\n",
       "      <td>D</td>\n",
       "    </tr>\n",
       "    <tr>\n",
       "      <th>4</th>\n",
       "      <td>m</td>\n",
       "      <td>1.06</td>\n",
       "      <td>5</td>\n",
       "      <td>4</td>\n",
       "      <td>[7881,10834,62040,63288,125830]</td>\n",
       "      <td>cat3</td>\n",
       "      <td>True</td>\n",
       "      <td>E</td>\n",
       "    </tr>\n",
       "  </tbody>\n",
       "</table>\n",
       "</div>"
      ],
      "text/plain": [
       "  gender  loyalty  days_since_last_contact  transactions  \\\n",
       "0      m    -1.33                        2             4   \n",
       "1      m    -0.28                        3             6   \n",
       "2      w    -0.22                        1             5   \n",
       "3      m    -0.29                        0             7   \n",
       "4      m     1.06                        5             4   \n",
       "\n",
       "                             product_ids categ_one_hot  delivery_pass  \\\n",
       "0  [7881,10834,61603,62040,63288,125830]          cat1           True   \n",
       "1       [10834,61603,62040,63288,125830]          cat1           True   \n",
       "2                         [63288,125830]          cat1          False   \n",
       "3                           [7881,10834]          cat2           True   \n",
       "4        [7881,10834,62040,63288,125830]          cat3           True   \n",
       "\n",
       "  product_ids_sets  \n",
       "0                A  \n",
       "1                B  \n",
       "2                C  \n",
       "3                D  \n",
       "4                E  "
      ]
     },
     "execution_count": 28,
     "metadata": {},
     "output_type": "execute_result"
    }
   ],
   "source": [
    "data_sample[\"product_ids_sets\"] = data_sample[\"product_ids\"]\n",
    "\n",
    "product_id_coding = {'[7881,10834,61603,62040,63288,125830]': \"A\", \"[10834,61603,62040,63288,125830]\": \"B\" \\\n",
    "                                                                     , \"[63288,125830]\": \"C\", \"[7881,10834]\": \"D\" \\\n",
    "                                                                     , \"[7881,10834,62040,63288,125830]\": \"E\", \"[7881,10834,61603]\": \"F\"}\n",
    "\n",
    "data_sample[\"product_ids_sets\"].replace(product_id_coding, inplace=True)\n",
    "data_sample.head()"
   ]
  },
  {
   "cell_type": "code",
   "execution_count": 29,
   "metadata": {},
   "outputs": [
    {
     "data": {
      "text/plain": [
       "array(['A', 'B', 'C', 'D', 'E', 'F'], dtype=object)"
      ]
     },
     "execution_count": 29,
     "metadata": {},
     "output_type": "execute_result"
    }
   ],
   "source": [
    "data_sample[\"product_ids_sets\"].unique()"
   ]
  },
  {
   "cell_type": "code",
   "execution_count": 30,
   "metadata": {
    "scrolled": true
   },
   "outputs": [
    {
     "data": {
      "text/plain": [
       "Index(['gender', 'product_ids', 'categ_one_hot', 'product_ids_sets'], dtype='object')"
      ]
     },
     "execution_count": 30,
     "metadata": {},
     "output_type": "execute_result"
    }
   ],
   "source": [
    "# Check which columns in our table are \"objects\". \n",
    "data_sample.select_dtypes(include=[np.object]).columns"
   ]
  },
  {
   "cell_type": "code",
   "execution_count": 31,
   "metadata": {},
   "outputs": [
    {
     "data": {
      "text/plain": [
       "delivery_pass                 bool\n",
       "days_since_last_contact      int64\n",
       "transactions                 int64\n",
       "loyalty                    float64\n",
       "gender                      object\n",
       "product_ids                 object\n",
       "categ_one_hot               object\n",
       "product_ids_sets            object\n",
       "dtype: object"
      ]
     },
     "execution_count": 31,
     "metadata": {},
     "output_type": "execute_result"
    }
   ],
   "source": [
    "data_sample.dtypes.sort_values()"
   ]
  },
  {
   "cell_type": "code",
   "execution_count": 32,
   "metadata": {},
   "outputs": [
    {
     "data": {
      "text/plain": [
       "object     4\n",
       "int64      2\n",
       "float64    1\n",
       "bool       1\n",
       "dtype: int64"
      ]
     },
     "execution_count": 32,
     "metadata": {},
     "output_type": "execute_result"
    }
   ],
   "source": [
    "data_sample.dtypes.value_counts()"
   ]
  },
  {
   "cell_type": "markdown",
   "metadata": {},
   "source": [
    "### Univariate Analysis"
   ]
  },
  {
   "cell_type": "code",
   "execution_count": 33,
   "metadata": {},
   "outputs": [
    {
     "data": {
      "image/png": "[encoded data removed]",
      "text/plain": [
       "<Figure size 432x288 with 4 Axes>"
      ]
     },
     "metadata": {
      "needs_background": "light"
     },
     "output_type": "display_data"
    }
   ],
   "source": [
    "fig, ax =plt.subplots(1,4)\n",
    "#fig.tight_layout()\n",
    "ax0 = sns.countplot(data_sample['gender'], ax=ax[0])\n",
    "ax1 = sns.countplot(data_sample['product_ids_sets'], ax=ax[1])\n",
    "ax2 = sns.countplot(data_sample['categ_one_hot'], ax=ax[2])\n",
    "ax3 = sns.countplot(data_sample['delivery_pass'], ax=ax[3])\n",
    "ax1.set_xticklabels(ax1.get_xticklabels(), horizontalalignment='right')\n",
    "ax2.set_xticklabels(ax2.get_xticklabels(), horizontalalignment='right')\n",
    "#ax = sns.countplot(x=\"gender\", data=data_sample)\n",
    "plt.subplots_adjust(left=0.05,\n",
    "                    bottom=0.05, \n",
    "                    right=2.5, \n",
    "                    top=0.9, \n",
    "                    wspace=0.4, \n",
    "                    hspace=0.4)"
   ]
  },
  {
   "cell_type": "code",
   "execution_count": 35,
   "metadata": {
    "scrolled": true
   },
   "outputs": [
    {
     "data": {
      "image/png": "[encoded data removed]",
      "text/plain": [
       "<Figure size 432x288 with 3 Axes>"
      ]
     },
     "metadata": {
      "needs_background": "light"
     },
     "output_type": "display_data"
    }
   ],
   "source": [
    "fig, ax =plt.subplots(1,3)\n",
    "#fig.tight_layout()\n",
    "ax0 = sns.distplot(data_sample['loyalty'], ax=ax[0], kde = False)\n",
    "ax1 = sns.countplot(data_sample['days_since_last_contact'], ax=ax[1])\n",
    "ax2 = sns.countplot(data_sample['transactions'], ax=ax[2])\n",
    "ax1.set_xticklabels(ax1.get_xticklabels(), horizontalalignment='right')\n",
    "ax2.set_xticklabels(ax2.get_xticklabels(), horizontalalignment='right')\n",
    "#ax = sns.countplot(x=\"gender\", data=data_sample)\n",
    "plt.subplots_adjust(left=0.05,\n",
    "                    bottom=0.05, \n",
    "                    right=2.5, \n",
    "                    top=0.9, \n",
    "                    wspace=0.4, \n",
    "                    hspace=0.4)"
   ]
  },
  {
   "cell_type": "markdown",
   "metadata": {},
   "source": [
    "## Products"
   ]
  },
  {
   "cell_type": "code",
   "execution_count": 44,
   "metadata": {},
   "outputs": [
    {
     "data": {
      "text/plain": [
       "<bound method IndexOpsMixin.nunique of 0       7881\n",
       "1      10834\n",
       "2      61603\n",
       "3      63288\n",
       "4     125830\n",
       "5      62040\n",
       "6     125716\n",
       "7    5373751\n",
       "Name: id, dtype: int64>"
      ]
     },
     "execution_count": 44,
     "metadata": {},
     "output_type": "execute_result"
    }
   ],
   "source": [
    "products.id.nunique"
   ]
  },
  {
   "cell_type": "code",
   "execution_count": 88,
   "metadata": {},
   "outputs": [
    {
     "ename": "AttributeError",
     "evalue": "'function' object has no attribute 'to_frame'",
     "output_type": "error",
     "traceback": [
      "\u001b[1;31m---------------------------------------------------------------------------\u001b[0m",
      "\u001b[1;31mAttributeError\u001b[0m                            Traceback (most recent call last)",
      "\u001b[1;32m<ipython-input-88-7dba6f409aa6>\u001b[0m in \u001b[0;36m<module>\u001b[1;34m\u001b[0m\n\u001b[1;32m----> 1\u001b[1;33m \u001b[0mproducts\u001b[0m\u001b[1;33m.\u001b[0m\u001b[0mid\u001b[0m\u001b[1;33m.\u001b[0m\u001b[0mnunique\u001b[0m\u001b[1;33m.\u001b[0m\u001b[0mto_frame\u001b[0m\u001b[1;33m(\u001b[0m\u001b[1;33m)\u001b[0m\u001b[1;33m\u001b[0m\u001b[1;33m\u001b[0m\u001b[0m\n\u001b[0m",
      "\u001b[1;31mAttributeError\u001b[0m: 'function' object has no attribute 'to_frame'"
     ]
    }
   ],
   "source": [
    "products.id.nunique.to_frame()"
   ]
  },
  {
   "cell_type": "code",
   "execution_count": 46,
   "metadata": {},
   "outputs": [],
   "source": [
    "from ast import literal_eval\n",
    "data_sample['list_product_ids'] = data_sample['product_ids'].apply(literal_eval)"
   ]
  },
  {
   "cell_type": "code",
   "execution_count": 47,
   "metadata": {
    "scrolled": true
   },
   "outputs": [
    {
     "data": {
      "text/html": [
       "<div>\n",
       "<style scoped>\n",
       "    .dataframe tbody tr th:only-of-type {\n",
       "        vertical-align: middle;\n",
       "    }\n",
       "\n",
       "    .dataframe tbody tr th {\n",
       "        vertical-align: top;\n",
       "    }\n",
       "\n",
       "    .dataframe thead th {\n",
       "        text-align: right;\n",
       "    }\n",
       "</style>\n",
       "<table border=\"1\" class=\"dataframe\">\n",
       "  <thead>\n",
       "    <tr style=\"text-align: right;\">\n",
       "      <th></th>\n",
       "      <th>gender</th>\n",
       "      <th>loyalty</th>\n",
       "      <th>days_since_last_contact</th>\n",
       "      <th>transactions</th>\n",
       "      <th>product_ids</th>\n",
       "      <th>categ_one_hot</th>\n",
       "      <th>delivery_pass</th>\n",
       "      <th>product_ids_sets</th>\n",
       "      <th>list_product_ids</th>\n",
       "    </tr>\n",
       "  </thead>\n",
       "  <tbody>\n",
       "    <tr>\n",
       "      <th>0</th>\n",
       "      <td>m</td>\n",
       "      <td>-1.33</td>\n",
       "      <td>2</td>\n",
       "      <td>4</td>\n",
       "      <td>[7881,10834,61603,62040,63288,125830]</td>\n",
       "      <td>cat1</td>\n",
       "      <td>True</td>\n",
       "      <td>A</td>\n",
       "      <td>[7881, 10834, 61603, 62040, 63288, 125830]</td>\n",
       "    </tr>\n",
       "    <tr>\n",
       "      <th>1</th>\n",
       "      <td>m</td>\n",
       "      <td>-0.28</td>\n",
       "      <td>3</td>\n",
       "      <td>6</td>\n",
       "      <td>[10834,61603,62040,63288,125830]</td>\n",
       "      <td>cat1</td>\n",
       "      <td>True</td>\n",
       "      <td>B</td>\n",
       "      <td>[10834, 61603, 62040, 63288, 125830]</td>\n",
       "    </tr>\n",
       "    <tr>\n",
       "      <th>2</th>\n",
       "      <td>w</td>\n",
       "      <td>-0.22</td>\n",
       "      <td>1</td>\n",
       "      <td>5</td>\n",
       "      <td>[63288,125830]</td>\n",
       "      <td>cat1</td>\n",
       "      <td>False</td>\n",
       "      <td>C</td>\n",
       "      <td>[63288, 125830]</td>\n",
       "    </tr>\n",
       "    <tr>\n",
       "      <th>3</th>\n",
       "      <td>m</td>\n",
       "      <td>-0.29</td>\n",
       "      <td>0</td>\n",
       "      <td>7</td>\n",
       "      <td>[7881,10834]</td>\n",
       "      <td>cat2</td>\n",
       "      <td>True</td>\n",
       "      <td>D</td>\n",
       "      <td>[7881, 10834]</td>\n",
       "    </tr>\n",
       "    <tr>\n",
       "      <th>4</th>\n",
       "      <td>m</td>\n",
       "      <td>1.06</td>\n",
       "      <td>5</td>\n",
       "      <td>4</td>\n",
       "      <td>[7881,10834,62040,63288,125830]</td>\n",
       "      <td>cat3</td>\n",
       "      <td>True</td>\n",
       "      <td>E</td>\n",
       "      <td>[7881, 10834, 62040, 63288, 125830]</td>\n",
       "    </tr>\n",
       "  </tbody>\n",
       "</table>\n",
       "</div>"
      ],
      "text/plain": [
       "  gender  loyalty  days_since_last_contact  transactions  \\\n",
       "0      m    -1.33                        2             4   \n",
       "1      m    -0.28                        3             6   \n",
       "2      w    -0.22                        1             5   \n",
       "3      m    -0.29                        0             7   \n",
       "4      m     1.06                        5             4   \n",
       "\n",
       "                             product_ids categ_one_hot  delivery_pass  \\\n",
       "0  [7881,10834,61603,62040,63288,125830]          cat1           True   \n",
       "1       [10834,61603,62040,63288,125830]          cat1           True   \n",
       "2                         [63288,125830]          cat1          False   \n",
       "3                           [7881,10834]          cat2           True   \n",
       "4        [7881,10834,62040,63288,125830]          cat3           True   \n",
       "\n",
       "  product_ids_sets                            list_product_ids  \n",
       "0                A  [7881, 10834, 61603, 62040, 63288, 125830]  \n",
       "1                B        [10834, 61603, 62040, 63288, 125830]  \n",
       "2                C                             [63288, 125830]  \n",
       "3                D                               [7881, 10834]  \n",
       "4                E         [7881, 10834, 62040, 63288, 125830]  "
      ]
     },
     "execution_count": 47,
     "metadata": {},
     "output_type": "execute_result"
    }
   ],
   "source": [
    "data_sample.head()"
   ]
  },
  {
   "cell_type": "code",
   "execution_count": 52,
   "metadata": {},
   "outputs": [
    {
     "data": {
      "text/html": [
       "<div>\n",
       "<style scoped>\n",
       "    .dataframe tbody tr th:only-of-type {\n",
       "        vertical-align: middle;\n",
       "    }\n",
       "\n",
       "    .dataframe tbody tr th {\n",
       "        vertical-align: top;\n",
       "    }\n",
       "\n",
       "    .dataframe thead th {\n",
       "        text-align: right;\n",
       "    }\n",
       "</style>\n",
       "<table border=\"1\" class=\"dataframe\">\n",
       "  <thead>\n",
       "    <tr style=\"text-align: right;\">\n",
       "      <th></th>\n",
       "      <th>gender</th>\n",
       "      <th>loyalty</th>\n",
       "      <th>days_since_last_contact</th>\n",
       "      <th>transactions</th>\n",
       "      <th>product_ids</th>\n",
       "      <th>categ_one_hot</th>\n",
       "      <th>delivery_pass</th>\n",
       "      <th>product_ids_sets</th>\n",
       "      <th>list_product_ids</th>\n",
       "      <th>count_product_ids</th>\n",
       "    </tr>\n",
       "  </thead>\n",
       "  <tbody>\n",
       "    <tr>\n",
       "      <th>0</th>\n",
       "      <td>m</td>\n",
       "      <td>-1.33</td>\n",
       "      <td>2</td>\n",
       "      <td>4</td>\n",
       "      <td>[7881,10834,61603,62040,63288,125830]</td>\n",
       "      <td>cat1</td>\n",
       "      <td>True</td>\n",
       "      <td>A</td>\n",
       "      <td>[7881, 10834, 61603, 62040, 63288, 125830]</td>\n",
       "      <td>6</td>\n",
       "    </tr>\n",
       "    <tr>\n",
       "      <th>1</th>\n",
       "      <td>m</td>\n",
       "      <td>-0.28</td>\n",
       "      <td>3</td>\n",
       "      <td>6</td>\n",
       "      <td>[10834,61603,62040,63288,125830]</td>\n",
       "      <td>cat1</td>\n",
       "      <td>True</td>\n",
       "      <td>B</td>\n",
       "      <td>[10834, 61603, 62040, 63288, 125830]</td>\n",
       "      <td>5</td>\n",
       "    </tr>\n",
       "    <tr>\n",
       "      <th>2</th>\n",
       "      <td>w</td>\n",
       "      <td>-0.22</td>\n",
       "      <td>1</td>\n",
       "      <td>5</td>\n",
       "      <td>[63288,125830]</td>\n",
       "      <td>cat1</td>\n",
       "      <td>False</td>\n",
       "      <td>C</td>\n",
       "      <td>[63288, 125830]</td>\n",
       "      <td>2</td>\n",
       "    </tr>\n",
       "    <tr>\n",
       "      <th>3</th>\n",
       "      <td>m</td>\n",
       "      <td>-0.29</td>\n",
       "      <td>0</td>\n",
       "      <td>7</td>\n",
       "      <td>[7881,10834]</td>\n",
       "      <td>cat2</td>\n",
       "      <td>True</td>\n",
       "      <td>D</td>\n",
       "      <td>[7881, 10834]</td>\n",
       "      <td>2</td>\n",
       "    </tr>\n",
       "    <tr>\n",
       "      <th>4</th>\n",
       "      <td>m</td>\n",
       "      <td>1.06</td>\n",
       "      <td>5</td>\n",
       "      <td>4</td>\n",
       "      <td>[7881,10834,62040,63288,125830]</td>\n",
       "      <td>cat3</td>\n",
       "      <td>True</td>\n",
       "      <td>E</td>\n",
       "      <td>[7881, 10834, 62040, 63288, 125830]</td>\n",
       "      <td>5</td>\n",
       "    </tr>\n",
       "  </tbody>\n",
       "</table>\n",
       "</div>"
      ],
      "text/plain": [
       "  gender  loyalty  days_since_last_contact  transactions  \\\n",
       "0      m    -1.33                        2             4   \n",
       "1      m    -0.28                        3             6   \n",
       "2      w    -0.22                        1             5   \n",
       "3      m    -0.29                        0             7   \n",
       "4      m     1.06                        5             4   \n",
       "\n",
       "                             product_ids categ_one_hot  delivery_pass  \\\n",
       "0  [7881,10834,61603,62040,63288,125830]          cat1           True   \n",
       "1       [10834,61603,62040,63288,125830]          cat1           True   \n",
       "2                         [63288,125830]          cat1          False   \n",
       "3                           [7881,10834]          cat2           True   \n",
       "4        [7881,10834,62040,63288,125830]          cat3           True   \n",
       "\n",
       "  product_ids_sets                            list_product_ids  \\\n",
       "0                A  [7881, 10834, 61603, 62040, 63288, 125830]   \n",
       "1                B        [10834, 61603, 62040, 63288, 125830]   \n",
       "2                C                             [63288, 125830]   \n",
       "3                D                               [7881, 10834]   \n",
       "4                E         [7881, 10834, 62040, 63288, 125830]   \n",
       "\n",
       "   count_product_ids  \n",
       "0                  6  \n",
       "1                  5  \n",
       "2                  2  \n",
       "3                  2  \n",
       "4                  5  "
      ]
     },
     "execution_count": 52,
     "metadata": {},
     "output_type": "execute_result"
    }
   ],
   "source": [
    "data_sample['count_product_ids'] = data_sample.list_product_ids.apply(lambda x: len(x))\n",
    "data_sample.head()"
   ]
  },
  {
   "cell_type": "code",
   "execution_count": 58,
   "metadata": {
    "scrolled": true
   },
   "outputs": [
    {
     "data": {
      "text/plain": [
       "(100, 3)"
      ]
     },
     "execution_count": 58,
     "metadata": {},
     "output_type": "execute_result"
    }
   ],
   "source": [
    "products_data = data_sample.iloc[:, 7:10]\n",
    "products_data.shape"
   ]
  },
  {
   "cell_type": "code",
   "execution_count": 87,
   "metadata": {},
   "outputs": [
    {
     "data": {
      "text/html": [
       "<div>\n",
       "<style scoped>\n",
       "    .dataframe tbody tr th:only-of-type {\n",
       "        vertical-align: middle;\n",
       "    }\n",
       "\n",
       "    .dataframe tbody tr th {\n",
       "        vertical-align: top;\n",
       "    }\n",
       "\n",
       "    .dataframe thead th {\n",
       "        text-align: right;\n",
       "    }\n",
       "</style>\n",
       "<table border=\"1\" class=\"dataframe\">\n",
       "  <thead>\n",
       "    <tr style=\"text-align: right;\">\n",
       "      <th></th>\n",
       "      <th>0</th>\n",
       "      <th>1</th>\n",
       "      <th>2</th>\n",
       "      <th>3</th>\n",
       "      <th>4</th>\n",
       "      <th>5</th>\n",
       "    </tr>\n",
       "  </thead>\n",
       "  <tbody>\n",
       "    <tr>\n",
       "      <th>0</th>\n",
       "      <td>7881</td>\n",
       "      <td>10834</td>\n",
       "      <td>61603.0</td>\n",
       "      <td>62040.0</td>\n",
       "      <td>63288.0</td>\n",
       "      <td>125830.0</td>\n",
       "    </tr>\n",
       "    <tr>\n",
       "      <th>1</th>\n",
       "      <td>10834</td>\n",
       "      <td>61603</td>\n",
       "      <td>62040.0</td>\n",
       "      <td>63288.0</td>\n",
       "      <td>125830.0</td>\n",
       "      <td>NaN</td>\n",
       "    </tr>\n",
       "    <tr>\n",
       "      <th>2</th>\n",
       "      <td>63288</td>\n",
       "      <td>125830</td>\n",
       "      <td>NaN</td>\n",
       "      <td>NaN</td>\n",
       "      <td>NaN</td>\n",
       "      <td>NaN</td>\n",
       "    </tr>\n",
       "    <tr>\n",
       "      <th>3</th>\n",
       "      <td>7881</td>\n",
       "      <td>10834</td>\n",
       "      <td>NaN</td>\n",
       "      <td>NaN</td>\n",
       "      <td>NaN</td>\n",
       "      <td>NaN</td>\n",
       "    </tr>\n",
       "    <tr>\n",
       "      <th>4</th>\n",
       "      <td>7881</td>\n",
       "      <td>10834</td>\n",
       "      <td>62040.0</td>\n",
       "      <td>63288.0</td>\n",
       "      <td>125830.0</td>\n",
       "      <td>NaN</td>\n",
       "    </tr>\n",
       "  </tbody>\n",
       "</table>\n",
       "</div>"
      ],
      "text/plain": [
       "       0       1        2        3         4         5\n",
       "0   7881   10834  61603.0  62040.0   63288.0  125830.0\n",
       "1  10834   61603  62040.0  63288.0  125830.0       NaN\n",
       "2  63288  125830      NaN      NaN       NaN       NaN\n",
       "3   7881   10834      NaN      NaN       NaN       NaN\n",
       "4   7881   10834  62040.0  63288.0  125830.0       NaN"
      ]
     },
     "execution_count": 87,
     "metadata": {},
     "output_type": "execute_result"
    }
   ],
   "source": [
    "list_fruits=pd.DataFrame(products_data.list_product_ids.tolist(), index= data_sample.index)\n",
    "list_fruits.head()"
   ]
  },
  {
   "cell_type": "code",
   "execution_count": 114,
   "metadata": {},
   "outputs": [
    {
     "data": {
      "text/html": [
       "<div>\n",
       "<style scoped>\n",
       "    .dataframe tbody tr th:only-of-type {\n",
       "        vertical-align: middle;\n",
       "    }\n",
       "\n",
       "    .dataframe tbody tr th {\n",
       "        vertical-align: top;\n",
       "    }\n",
       "\n",
       "    .dataframe thead th {\n",
       "        text-align: right;\n",
       "    }\n",
       "</style>\n",
       "<table border=\"1\" class=\"dataframe\">\n",
       "  <thead>\n",
       "    <tr style=\"text-align: right;\">\n",
       "      <th></th>\n",
       "      <th>id</th>\n",
       "    </tr>\n",
       "  </thead>\n",
       "  <tbody>\n",
       "    <tr>\n",
       "      <th>0</th>\n",
       "      <td>7881.0</td>\n",
       "    </tr>\n",
       "    <tr>\n",
       "      <th>1</th>\n",
       "      <td>10834.0</td>\n",
       "    </tr>\n",
       "    <tr>\n",
       "      <th>3</th>\n",
       "      <td>61603.0</td>\n",
       "    </tr>\n",
       "    <tr>\n",
       "      <th>5</th>\n",
       "      <td>62040.0</td>\n",
       "    </tr>\n",
       "    <tr>\n",
       "      <th>2</th>\n",
       "      <td>63288.0</td>\n",
       "    </tr>\n",
       "    <tr>\n",
       "      <th>4</th>\n",
       "      <td>125830.0</td>\n",
       "    </tr>\n",
       "  </tbody>\n",
       "</table>\n",
       "</div>"
      ],
      "text/plain": [
       "         id\n",
       "0    7881.0\n",
       "1   10834.0\n",
       "3   61603.0\n",
       "5   62040.0\n",
       "2   63288.0\n",
       "4  125830.0"
      ]
     },
     "execution_count": 114,
     "metadata": {},
     "output_type": "execute_result"
    }
   ],
   "source": [
    "list_fruits_unique = pd.DataFrame(pd.unique(list_fruits.values.ravel('K'))).rename(columns = {0 : 'id'}).dropna()\n",
    "list_fruits_unique.sort_values('id')"
   ]
  },
  {
   "cell_type": "code",
   "execution_count": 115,
   "metadata": {},
   "outputs": [
    {
     "data": {
      "text/html": [
       "<div>\n",
       "<style scoped>\n",
       "    .dataframe tbody tr th:only-of-type {\n",
       "        vertical-align: middle;\n",
       "    }\n",
       "\n",
       "    .dataframe tbody tr th {\n",
       "        vertical-align: top;\n",
       "    }\n",
       "\n",
       "    .dataframe thead th {\n",
       "        text-align: right;\n",
       "    }\n",
       "</style>\n",
       "<table border=\"1\" class=\"dataframe\">\n",
       "  <thead>\n",
       "    <tr style=\"text-align: right;\">\n",
       "      <th></th>\n",
       "      <th>id</th>\n",
       "      <th>name</th>\n",
       "      <th>category_level_1</th>\n",
       "      <th>region</th>\n",
       "      <th>stock_level</th>\n",
       "      <th>is_seasonal</th>\n",
       "      <th>productdata_language</th>\n",
       "    </tr>\n",
       "  </thead>\n",
       "  <tbody>\n",
       "    <tr>\n",
       "      <th>0</th>\n",
       "      <td>7881.0</td>\n",
       "      <td>mango</td>\n",
       "      <td>fruits</td>\n",
       "      <td>1</td>\n",
       "      <td>0</td>\n",
       "      <td>True</td>\n",
       "      <td>DE</td>\n",
       "    </tr>\n",
       "    <tr>\n",
       "      <th>1</th>\n",
       "      <td>10834.0</td>\n",
       "      <td>ovomaltine schokolade</td>\n",
       "      <td>sweets</td>\n",
       "      <td>2</td>\n",
       "      <td>3</td>\n",
       "      <td>False</td>\n",
       "      <td>DE</td>\n",
       "    </tr>\n",
       "    <tr>\n",
       "      <th>3</th>\n",
       "      <td>61603.0</td>\n",
       "      <td>nutella</td>\n",
       "      <td>sweets</td>\n",
       "      <td>2</td>\n",
       "      <td>3</td>\n",
       "      <td>False</td>\n",
       "      <td>DE</td>\n",
       "    </tr>\n",
       "    <tr>\n",
       "      <th>5</th>\n",
       "      <td>62040.0</td>\n",
       "      <td>chips</td>\n",
       "      <td>salty</td>\n",
       "      <td>2</td>\n",
       "      <td>3</td>\n",
       "      <td>False</td>\n",
       "      <td>DE</td>\n",
       "    </tr>\n",
       "    <tr>\n",
       "      <th>2</th>\n",
       "      <td>63288.0</td>\n",
       "      <td>birnen</td>\n",
       "      <td>fruits</td>\n",
       "      <td>1</td>\n",
       "      <td>0</td>\n",
       "      <td>True</td>\n",
       "      <td>DE</td>\n",
       "    </tr>\n",
       "    <tr>\n",
       "      <th>4</th>\n",
       "      <td>125830.0</td>\n",
       "      <td>karotten</td>\n",
       "      <td>vegetables</td>\n",
       "      <td>1</td>\n",
       "      <td>1</td>\n",
       "      <td>False</td>\n",
       "      <td>DE</td>\n",
       "    </tr>\n",
       "  </tbody>\n",
       "</table>\n",
       "</div>"
      ],
      "text/plain": [
       "         id                   name category_level_1  region  stock_level  \\\n",
       "0    7881.0                  mango           fruits       1            0   \n",
       "1   10834.0  ovomaltine schokolade           sweets       2            3   \n",
       "3   61603.0                nutella           sweets       2            3   \n",
       "5   62040.0                  chips            salty       2            3   \n",
       "2   63288.0                 birnen           fruits       1            0   \n",
       "4  125830.0               karotten       vegetables       1            1   \n",
       "\n",
       "   is_seasonal productdata_language  \n",
       "0         True                   DE  \n",
       "1        False                   DE  \n",
       "3        False                   DE  \n",
       "5        False                   DE  \n",
       "2         True                   DE  \n",
       "4        False                   DE  "
      ]
     },
     "execution_count": 115,
     "metadata": {},
     "output_type": "execute_result"
    }
   ],
   "source": [
    "list_fruits_unique.merge(products, on = 'id', how='left').sort_values('id')"
   ]
  },
  {
   "cell_type": "code",
   "execution_count": 117,
   "metadata": {
    "scrolled": true
   },
   "outputs": [
    {
     "data": {
      "text/html": [
       "<div>\n",
       "<style scoped>\n",
       "    .dataframe tbody tr th:only-of-type {\n",
       "        vertical-align: middle;\n",
       "    }\n",
       "\n",
       "    .dataframe tbody tr th {\n",
       "        vertical-align: top;\n",
       "    }\n",
       "\n",
       "    .dataframe thead th {\n",
       "        text-align: right;\n",
       "    }\n",
       "</style>\n",
       "<table border=\"1\" class=\"dataframe\">\n",
       "  <thead>\n",
       "    <tr style=\"text-align: right;\">\n",
       "      <th></th>\n",
       "      <th>gender</th>\n",
       "      <th>loyalty</th>\n",
       "      <th>days_since_last_contact</th>\n",
       "      <th>transactions</th>\n",
       "      <th>product_ids</th>\n",
       "      <th>categ_one_hot</th>\n",
       "      <th>delivery_pass</th>\n",
       "      <th>product_ids_sets</th>\n",
       "      <th>list_product_ids</th>\n",
       "      <th>count_product_ids</th>\n",
       "    </tr>\n",
       "  </thead>\n",
       "  <tbody>\n",
       "    <tr>\n",
       "      <th>0</th>\n",
       "      <td>m</td>\n",
       "      <td>-1.33</td>\n",
       "      <td>2</td>\n",
       "      <td>4</td>\n",
       "      <td>[7881,10834,61603,62040,63288,125830]</td>\n",
       "      <td>cat1</td>\n",
       "      <td>True</td>\n",
       "      <td>A</td>\n",
       "      <td>[7881, 10834, 61603, 62040, 63288, 125830]</td>\n",
       "      <td>6</td>\n",
       "    </tr>\n",
       "    <tr>\n",
       "      <th>1</th>\n",
       "      <td>m</td>\n",
       "      <td>-0.28</td>\n",
       "      <td>3</td>\n",
       "      <td>6</td>\n",
       "      <td>[10834,61603,62040,63288,125830]</td>\n",
       "      <td>cat1</td>\n",
       "      <td>True</td>\n",
       "      <td>B</td>\n",
       "      <td>[10834, 61603, 62040, 63288, 125830]</td>\n",
       "      <td>5</td>\n",
       "    </tr>\n",
       "    <tr>\n",
       "      <th>2</th>\n",
       "      <td>w</td>\n",
       "      <td>-0.22</td>\n",
       "      <td>1</td>\n",
       "      <td>5</td>\n",
       "      <td>[63288,125830]</td>\n",
       "      <td>cat1</td>\n",
       "      <td>False</td>\n",
       "      <td>C</td>\n",
       "      <td>[63288, 125830]</td>\n",
       "      <td>2</td>\n",
       "    </tr>\n",
       "    <tr>\n",
       "      <th>3</th>\n",
       "      <td>m</td>\n",
       "      <td>-0.29</td>\n",
       "      <td>0</td>\n",
       "      <td>7</td>\n",
       "      <td>[7881,10834]</td>\n",
       "      <td>cat2</td>\n",
       "      <td>True</td>\n",
       "      <td>D</td>\n",
       "      <td>[7881, 10834]</td>\n",
       "      <td>2</td>\n",
       "    </tr>\n",
       "    <tr>\n",
       "      <th>4</th>\n",
       "      <td>m</td>\n",
       "      <td>1.06</td>\n",
       "      <td>5</td>\n",
       "      <td>4</td>\n",
       "      <td>[7881,10834,62040,63288,125830]</td>\n",
       "      <td>cat3</td>\n",
       "      <td>True</td>\n",
       "      <td>E</td>\n",
       "      <td>[7881, 10834, 62040, 63288, 125830]</td>\n",
       "      <td>5</td>\n",
       "    </tr>\n",
       "  </tbody>\n",
       "</table>\n",
       "</div>"
      ],
      "text/plain": [
       "  gender  loyalty  days_since_last_contact  transactions  \\\n",
       "0      m    -1.33                        2             4   \n",
       "1      m    -0.28                        3             6   \n",
       "2      w    -0.22                        1             5   \n",
       "3      m    -0.29                        0             7   \n",
       "4      m     1.06                        5             4   \n",
       "\n",
       "                             product_ids categ_one_hot  delivery_pass  \\\n",
       "0  [7881,10834,61603,62040,63288,125830]          cat1           True   \n",
       "1       [10834,61603,62040,63288,125830]          cat1           True   \n",
       "2                         [63288,125830]          cat1          False   \n",
       "3                           [7881,10834]          cat2           True   \n",
       "4        [7881,10834,62040,63288,125830]          cat3           True   \n",
       "\n",
       "  product_ids_sets                            list_product_ids  \\\n",
       "0                A  [7881, 10834, 61603, 62040, 63288, 125830]   \n",
       "1                B        [10834, 61603, 62040, 63288, 125830]   \n",
       "2                C                             [63288, 125830]   \n",
       "3                D                               [7881, 10834]   \n",
       "4                E         [7881, 10834, 62040, 63288, 125830]   \n",
       "\n",
       "   count_product_ids  \n",
       "0                  6  \n",
       "1                  5  \n",
       "2                  2  \n",
       "3                  2  \n",
       "4                  5  "
      ]
     },
     "execution_count": 117,
     "metadata": {},
     "output_type": "execute_result"
    }
   ],
   "source": [
    "data_sample.head()"
   ]
  },
  {
   "cell_type": "code",
   "execution_count": 118,
   "metadata": {},
   "outputs": [
    {
     "name": "stdout",
     "output_type": "stream",
     "text": [
      "list 0 is <class 'list'>\n",
      "list 1 is <class 'list'>\n",
      "list 2 is <class 'list'>\n",
      "list 3 is <class 'list'>\n",
      "list 4 is <class 'list'>\n",
      "list 5 is <class 'list'>\n",
      "list 6 is <class 'list'>\n",
      "list 7 is <class 'list'>\n",
      "list 8 is <class 'list'>\n",
      "list 9 is <class 'list'>\n",
      "list 10 is <class 'list'>\n",
      "list 11 is <class 'list'>\n",
      "list 12 is <class 'list'>\n",
      "list 13 is <class 'list'>\n",
      "list 14 is <class 'list'>\n",
      "list 15 is <class 'list'>\n",
      "list 16 is <class 'list'>\n",
      "list 17 is <class 'list'>\n",
      "list 18 is <class 'list'>\n",
      "list 19 is <class 'list'>\n",
      "list 20 is <class 'list'>\n",
      "list 21 is <class 'list'>\n",
      "list 22 is <class 'list'>\n",
      "list 23 is <class 'list'>\n",
      "list 24 is <class 'list'>\n",
      "list 25 is <class 'list'>\n",
      "list 26 is <class 'list'>\n",
      "list 27 is <class 'list'>\n",
      "list 28 is <class 'list'>\n",
      "list 29 is <class 'list'>\n",
      "list 30 is <class 'list'>\n",
      "list 31 is <class 'list'>\n",
      "list 32 is <class 'list'>\n",
      "list 33 is <class 'list'>\n",
      "list 34 is <class 'list'>\n",
      "list 35 is <class 'list'>\n",
      "list 36 is <class 'list'>\n",
      "list 37 is <class 'list'>\n",
      "list 38 is <class 'list'>\n",
      "list 39 is <class 'list'>\n",
      "list 40 is <class 'list'>\n",
      "list 41 is <class 'list'>\n",
      "list 42 is <class 'list'>\n",
      "list 43 is <class 'list'>\n",
      "list 44 is <class 'list'>\n",
      "list 45 is <class 'list'>\n",
      "list 46 is <class 'list'>\n",
      "list 47 is <class 'list'>\n",
      "list 48 is <class 'list'>\n",
      "list 49 is <class 'list'>\n",
      "list 50 is <class 'list'>\n",
      "list 51 is <class 'list'>\n",
      "list 52 is <class 'list'>\n",
      "list 53 is <class 'list'>\n",
      "list 54 is <class 'list'>\n",
      "list 55 is <class 'list'>\n",
      "list 56 is <class 'list'>\n",
      "list 57 is <class 'list'>\n",
      "list 58 is <class 'list'>\n",
      "list 59 is <class 'list'>\n",
      "list 60 is <class 'list'>\n",
      "list 61 is <class 'list'>\n",
      "list 62 is <class 'list'>\n",
      "list 63 is <class 'list'>\n",
      "list 64 is <class 'list'>\n",
      "list 65 is <class 'list'>\n",
      "list 66 is <class 'list'>\n",
      "list 67 is <class 'list'>\n",
      "list 68 is <class 'list'>\n",
      "list 69 is <class 'list'>\n",
      "list 70 is <class 'list'>\n",
      "list 71 is <class 'list'>\n",
      "list 72 is <class 'list'>\n",
      "list 73 is <class 'list'>\n",
      "list 74 is <class 'list'>\n",
      "list 75 is <class 'list'>\n",
      "list 76 is <class 'list'>\n",
      "list 77 is <class 'list'>\n",
      "list 78 is <class 'list'>\n",
      "list 79 is <class 'list'>\n",
      "list 80 is <class 'list'>\n",
      "list 81 is <class 'list'>\n",
      "list 82 is <class 'list'>\n",
      "list 83 is <class 'list'>\n",
      "list 84 is <class 'list'>\n",
      "list 85 is <class 'list'>\n",
      "list 86 is <class 'list'>\n",
      "list 87 is <class 'list'>\n",
      "list 88 is <class 'list'>\n",
      "list 89 is <class 'list'>\n",
      "list 90 is <class 'list'>\n",
      "list 91 is <class 'list'>\n",
      "list 92 is <class 'list'>\n",
      "list 93 is <class 'list'>\n",
      "list 94 is <class 'list'>\n",
      "list 95 is <class 'list'>\n",
      "list 96 is <class 'list'>\n",
      "list 97 is <class 'list'>\n",
      "list 98 is <class 'list'>\n",
      "list 99 is <class 'list'>\n"
     ]
    }
   ],
   "source": [
    "for i, l in enumerate(data_sample[\"list_product_ids\"]):\n",
    "    print(\"list\",i,\"is\",type(l))"
   ]
  },
  {
   "cell_type": "code",
   "execution_count": 120,
   "metadata": {},
   "outputs": [],
   "source": [
    "def to_1D(series):\n",
    " return pd.Series([x for _list in series for x in _list])"
   ]
  },
  {
   "cell_type": "code",
   "execution_count": 121,
   "metadata": {},
   "outputs": [
    {
     "data": {
      "text/plain": [
       "10834     82\n",
       "125830    67\n",
       "63288     67\n",
       "7881      64\n",
       "61603     53\n",
       "62040     49\n",
       "dtype: int64"
      ]
     },
     "execution_count": 121,
     "metadata": {},
     "output_type": "execute_result"
    }
   ],
   "source": [
    "to_1D(data_sample[\"list_product_ids\"]).value_counts()"
   ]
  },
  {
   "cell_type": "code",
   "execution_count": 124,
   "metadata": {},
   "outputs": [
    {
     "ename": "AttributeError",
     "evalue": "'Series' object has no attribute 'explode'",
     "output_type": "error",
     "traceback": [
      "\u001b[1;31m---------------------------------------------------------------------------\u001b[0m",
      "\u001b[1;31mAttributeError\u001b[0m                            Traceback (most recent call last)",
      "\u001b[1;32m<ipython-input-124-cfc046c41833>\u001b[0m in \u001b[0;36m<module>\u001b[1;34m\u001b[0m\n\u001b[0;32m      1\u001b[0m \u001b[0mmap_dict\u001b[0m \u001b[1;33m=\u001b[0m \u001b[0mdict\u001b[0m\u001b[1;33m(\u001b[0m\u001b[0mzip\u001b[0m\u001b[1;33m(\u001b[0m\u001b[0mproducts\u001b[0m\u001b[1;33m.\u001b[0m\u001b[0mid\u001b[0m\u001b[1;33m,\u001b[0m\u001b[0mproducts\u001b[0m\u001b[1;33m.\u001b[0m\u001b[0mname\u001b[0m\u001b[1;33m)\u001b[0m\u001b[1;33m)\u001b[0m\u001b[1;33m\u001b[0m\u001b[1;33m\u001b[0m\u001b[0m\n\u001b[1;32m----> 2\u001b[1;33m \u001b[0mdata_sample\u001b[0m\u001b[1;33m[\u001b[0m\u001b[1;34m'Names_lists'\u001b[0m\u001b[1;33m]\u001b[0m \u001b[1;33m=\u001b[0m \u001b[0mdata_sample\u001b[0m\u001b[1;33m[\u001b[0m\u001b[1;34m'list_product_ids'\u001b[0m\u001b[1;33m]\u001b[0m\u001b[1;33m.\u001b[0m\u001b[0mexplode\u001b[0m\u001b[1;33m(\u001b[0m\u001b[1;33m)\u001b[0m\u001b[1;33m.\u001b[0m\u001b[0mmap\u001b[0m\u001b[1;33m(\u001b[0m\u001b[0mmap_dict\u001b[0m\u001b[1;33m)\u001b[0m\u001b[1;33m.\u001b[0m\u001b[0mgroupby\u001b[0m\u001b[1;33m(\u001b[0m\u001b[0mlevel\u001b[0m\u001b[1;33m=\u001b[0m\u001b[1;36m0\u001b[0m\u001b[1;33m)\u001b[0m\u001b[1;33m.\u001b[0m\u001b[0magg\u001b[0m\u001b[1;33m(\u001b[0m\u001b[0mlist\u001b[0m\u001b[1;33m)\u001b[0m\u001b[1;33m\u001b[0m\u001b[1;33m\u001b[0m\u001b[0m\n\u001b[0m",
      "\u001b[1;32mD:\\Anaconda\\lib\\site-packages\\pandas\\core\\generic.py\u001b[0m in \u001b[0;36m__getattr__\u001b[1;34m(self, name)\u001b[0m\n\u001b[0;32m   4374\u001b[0m             \u001b[1;32mif\u001b[0m \u001b[0mself\u001b[0m\u001b[1;33m.\u001b[0m\u001b[0m_info_axis\u001b[0m\u001b[1;33m.\u001b[0m\u001b[0m_can_hold_identifiers_and_holds_name\u001b[0m\u001b[1;33m(\u001b[0m\u001b[0mname\u001b[0m\u001b[1;33m)\u001b[0m\u001b[1;33m:\u001b[0m\u001b[1;33m\u001b[0m\u001b[1;33m\u001b[0m\u001b[0m\n\u001b[0;32m   4375\u001b[0m                 \u001b[1;32mreturn\u001b[0m \u001b[0mself\u001b[0m\u001b[1;33m[\u001b[0m\u001b[0mname\u001b[0m\u001b[1;33m]\u001b[0m\u001b[1;33m\u001b[0m\u001b[1;33m\u001b[0m\u001b[0m\n\u001b[1;32m-> 4376\u001b[1;33m             \u001b[1;32mreturn\u001b[0m \u001b[0mobject\u001b[0m\u001b[1;33m.\u001b[0m\u001b[0m__getattribute__\u001b[0m\u001b[1;33m(\u001b[0m\u001b[0mself\u001b[0m\u001b[1;33m,\u001b[0m \u001b[0mname\u001b[0m\u001b[1;33m)\u001b[0m\u001b[1;33m\u001b[0m\u001b[1;33m\u001b[0m\u001b[0m\n\u001b[0m\u001b[0;32m   4377\u001b[0m \u001b[1;33m\u001b[0m\u001b[0m\n\u001b[0;32m   4378\u001b[0m     \u001b[1;32mdef\u001b[0m \u001b[0m__setattr__\u001b[0m\u001b[1;33m(\u001b[0m\u001b[0mself\u001b[0m\u001b[1;33m,\u001b[0m \u001b[0mname\u001b[0m\u001b[1;33m,\u001b[0m \u001b[0mvalue\u001b[0m\u001b[1;33m)\u001b[0m\u001b[1;33m:\u001b[0m\u001b[1;33m\u001b[0m\u001b[1;33m\u001b[0m\u001b[0m\n",
      "\u001b[1;31mAttributeError\u001b[0m: 'Series' object has no attribute 'explode'"
     ]
    }
   ],
   "source": [
    "map_dict = dict(zip(products.id,products.name))\n",
    "data_sample['Names_lists'] = data_sample['list_product_ids'].explode().map(map_dict).groupby(level=0).agg(list)"
   ]
  },
  {
   "cell_type": "code",
   "execution_count": 122,
   "metadata": {},
   "outputs": [
    {
     "data": {
      "text/html": [
       "<div>\n",
       "<style scoped>\n",
       "    .dataframe tbody tr th:only-of-type {\n",
       "        vertical-align: middle;\n",
       "    }\n",
       "\n",
       "    .dataframe tbody tr th {\n",
       "        vertical-align: top;\n",
       "    }\n",
       "\n",
       "    .dataframe thead th {\n",
       "        text-align: right;\n",
       "    }\n",
       "</style>\n",
       "<table border=\"1\" class=\"dataframe\">\n",
       "  <thead>\n",
       "    <tr style=\"text-align: right;\">\n",
       "      <th></th>\n",
       "      <th>id</th>\n",
       "      <th>name</th>\n",
       "      <th>category_level_1</th>\n",
       "      <th>region</th>\n",
       "      <th>stock_level</th>\n",
       "      <th>is_seasonal</th>\n",
       "      <th>productdata_language</th>\n",
       "    </tr>\n",
       "  </thead>\n",
       "  <tbody>\n",
       "    <tr>\n",
       "      <th>0</th>\n",
       "      <td>7881</td>\n",
       "      <td>mango</td>\n",
       "      <td>fruits</td>\n",
       "      <td>1</td>\n",
       "      <td>0</td>\n",
       "      <td>True</td>\n",
       "      <td>DE</td>\n",
       "    </tr>\n",
       "    <tr>\n",
       "      <th>1</th>\n",
       "      <td>10834</td>\n",
       "      <td>ovomaltine schokolade</td>\n",
       "      <td>sweets</td>\n",
       "      <td>2</td>\n",
       "      <td>3</td>\n",
       "      <td>False</td>\n",
       "      <td>DE</td>\n",
       "    </tr>\n",
       "    <tr>\n",
       "      <th>2</th>\n",
       "      <td>61603</td>\n",
       "      <td>nutella</td>\n",
       "      <td>sweets</td>\n",
       "      <td>2</td>\n",
       "      <td>3</td>\n",
       "      <td>False</td>\n",
       "      <td>DE</td>\n",
       "    </tr>\n",
       "    <tr>\n",
       "      <th>3</th>\n",
       "      <td>63288</td>\n",
       "      <td>birnen</td>\n",
       "      <td>fruits</td>\n",
       "      <td>1</td>\n",
       "      <td>0</td>\n",
       "      <td>True</td>\n",
       "      <td>DE</td>\n",
       "    </tr>\n",
       "    <tr>\n",
       "      <th>4</th>\n",
       "      <td>125830</td>\n",
       "      <td>karotten</td>\n",
       "      <td>vegetables</td>\n",
       "      <td>1</td>\n",
       "      <td>1</td>\n",
       "      <td>False</td>\n",
       "      <td>DE</td>\n",
       "    </tr>\n",
       "  </tbody>\n",
       "</table>\n",
       "</div>"
      ],
      "text/plain": [
       "       id                   name category_level_1  region  stock_level  \\\n",
       "0    7881                  mango           fruits       1            0   \n",
       "1   10834  ovomaltine schokolade           sweets       2            3   \n",
       "2   61603                nutella           sweets       2            3   \n",
       "3   63288                 birnen           fruits       1            0   \n",
       "4  125830               karotten       vegetables       1            1   \n",
       "\n",
       "   is_seasonal productdata_language  \n",
       "0         True                   DE  \n",
       "1        False                   DE  \n",
       "2        False                   DE  \n",
       "3         True                   DE  \n",
       "4        False                   DE  "
      ]
     },
     "execution_count": 122,
     "metadata": {},
     "output_type": "execute_result"
    }
   ],
   "source": [
    "products.head()"
   ]
  },
  {
   "cell_type": "code",
   "execution_count": 126,
   "metadata": {},
   "outputs": [
    {
     "data": {
      "text/plain": [
       "'0.23.4'"
      ]
     },
     "execution_count": 126,
     "metadata": {},
     "output_type": "execute_result"
    }
   ],
   "source": [
    "pd. __version__"
   ]
  },
  {
   "cell_type": "code",
   "execution_count": null,
   "metadata": {},
   "outputs": [],
   "source": []
  },
  {
   "cell_type": "code",
   "execution_count": null,
   "metadata": {},
   "outputs": [],
   "source": []
  },
  {
   "cell_type": "markdown",
   "metadata": {},
   "source": [
    "**Bivariate Analysis**"
   ]
  },
  {
   "cell_type": "code",
   "execution_count": 40,
   "metadata": {},
   "outputs": [
    {
     "ename": "ValueError",
     "evalue": "cannot insert product_ids_sets, already exists",
     "output_type": "error",
     "traceback": [
      "\u001b[1;31m---------------------------------------------------------------------------\u001b[0m",
      "\u001b[1;31mValueError\u001b[0m                                Traceback (most recent call last)",
      "\u001b[1;32m<ipython-input-40-334e8d6f2d91>\u001b[0m in \u001b[0;36m<module>\u001b[1;34m\u001b[0m\n\u001b[1;32m----> 1\u001b[1;33m \u001b[0mdata_sample\u001b[0m\u001b[1;33m.\u001b[0m\u001b[0mgroupby\u001b[0m\u001b[1;33m(\u001b[0m\u001b[1;33m[\u001b[0m\u001b[1;34m'gender'\u001b[0m\u001b[1;33m,\u001b[0m \u001b[1;34m'product_ids_sets'\u001b[0m\u001b[1;33m]\u001b[0m\u001b[1;33m,\u001b[0m \u001b[0mas_index\u001b[0m \u001b[1;33m=\u001b[0m \u001b[1;32mFalse\u001b[0m\u001b[1;33m)\u001b[0m\u001b[1;33m.\u001b[0m\u001b[0magg\u001b[0m\u001b[1;33m(\u001b[0m\u001b[1;33m{\u001b[0m\u001b[1;34m'product_ids_sets'\u001b[0m \u001b[1;33m:\u001b[0m \u001b[1;34m'count'\u001b[0m\u001b[1;33m}\u001b[0m\u001b[1;33m)\u001b[0m\u001b[1;33m\u001b[0m\u001b[1;33m\u001b[0m\u001b[0m\n\u001b[0m",
      "\u001b[1;32mD:\\Anaconda\\lib\\site-packages\\pandas\\core\\groupby\\groupby.py\u001b[0m in \u001b[0;36maggregate\u001b[1;34m(self, arg, *args, **kwargs)\u001b[0m\n\u001b[0;32m   4654\u001b[0m         axis=''))\n\u001b[0;32m   4655\u001b[0m     \u001b[1;32mdef\u001b[0m \u001b[0maggregate\u001b[0m\u001b[1;33m(\u001b[0m\u001b[0mself\u001b[0m\u001b[1;33m,\u001b[0m \u001b[0marg\u001b[0m\u001b[1;33m,\u001b[0m \u001b[1;33m*\u001b[0m\u001b[0margs\u001b[0m\u001b[1;33m,\u001b[0m \u001b[1;33m**\u001b[0m\u001b[0mkwargs\u001b[0m\u001b[1;33m)\u001b[0m\u001b[1;33m:\u001b[0m\u001b[1;33m\u001b[0m\u001b[1;33m\u001b[0m\u001b[0m\n\u001b[1;32m-> 4656\u001b[1;33m         \u001b[1;32mreturn\u001b[0m \u001b[0msuper\u001b[0m\u001b[1;33m(\u001b[0m\u001b[0mDataFrameGroupBy\u001b[0m\u001b[1;33m,\u001b[0m \u001b[0mself\u001b[0m\u001b[1;33m)\u001b[0m\u001b[1;33m.\u001b[0m\u001b[0maggregate\u001b[0m\u001b[1;33m(\u001b[0m\u001b[0marg\u001b[0m\u001b[1;33m,\u001b[0m \u001b[1;33m*\u001b[0m\u001b[0margs\u001b[0m\u001b[1;33m,\u001b[0m \u001b[1;33m**\u001b[0m\u001b[0mkwargs\u001b[0m\u001b[1;33m)\u001b[0m\u001b[1;33m\u001b[0m\u001b[1;33m\u001b[0m\u001b[0m\n\u001b[0m\u001b[0;32m   4657\u001b[0m \u001b[1;33m\u001b[0m\u001b[0m\n\u001b[0;32m   4658\u001b[0m     \u001b[0magg\u001b[0m \u001b[1;33m=\u001b[0m \u001b[0maggregate\u001b[0m\u001b[1;33m\u001b[0m\u001b[1;33m\u001b[0m\u001b[0m\n",
      "\u001b[1;32mD:\\Anaconda\\lib\\site-packages\\pandas\\core\\groupby\\groupby.py\u001b[0m in \u001b[0;36maggregate\u001b[1;34m(self, arg, *args, **kwargs)\u001b[0m\n\u001b[0;32m   4108\u001b[0m \u001b[1;33m\u001b[0m\u001b[0m\n\u001b[0;32m   4109\u001b[0m         \u001b[1;32mif\u001b[0m \u001b[1;32mnot\u001b[0m \u001b[0mself\u001b[0m\u001b[1;33m.\u001b[0m\u001b[0mas_index\u001b[0m\u001b[1;33m:\u001b[0m\u001b[1;33m\u001b[0m\u001b[1;33m\u001b[0m\u001b[0m\n\u001b[1;32m-> 4110\u001b[1;33m             \u001b[0mself\u001b[0m\u001b[1;33m.\u001b[0m\u001b[0m_insert_inaxis_grouper_inplace\u001b[0m\u001b[1;33m(\u001b[0m\u001b[0mresult\u001b[0m\u001b[1;33m)\u001b[0m\u001b[1;33m\u001b[0m\u001b[1;33m\u001b[0m\u001b[0m\n\u001b[0m\u001b[0;32m   4111\u001b[0m             \u001b[0mresult\u001b[0m\u001b[1;33m.\u001b[0m\u001b[0mindex\u001b[0m \u001b[1;33m=\u001b[0m \u001b[0mnp\u001b[0m\u001b[1;33m.\u001b[0m\u001b[0marange\u001b[0m\u001b[1;33m(\u001b[0m\u001b[0mlen\u001b[0m\u001b[1;33m(\u001b[0m\u001b[0mresult\u001b[0m\u001b[1;33m)\u001b[0m\u001b[1;33m)\u001b[0m\u001b[1;33m\u001b[0m\u001b[1;33m\u001b[0m\u001b[0m\n\u001b[0;32m   4112\u001b[0m \u001b[1;33m\u001b[0m\u001b[0m\n",
      "\u001b[1;32mD:\\Anaconda\\lib\\site-packages\\pandas\\core\\groupby\\groupby.py\u001b[0m in \u001b[0;36m_insert_inaxis_grouper_inplace\u001b[1;34m(self, result)\u001b[0m\n\u001b[0;32m   4713\u001b[0m         \u001b[1;32mfor\u001b[0m \u001b[0mname\u001b[0m\u001b[1;33m,\u001b[0m \u001b[0mlev\u001b[0m\u001b[1;33m,\u001b[0m \u001b[0min_axis\u001b[0m \u001b[1;32min\u001b[0m \u001b[0mizip\u001b[0m\u001b[1;33m:\u001b[0m\u001b[1;33m\u001b[0m\u001b[1;33m\u001b[0m\u001b[0m\n\u001b[0;32m   4714\u001b[0m             \u001b[1;32mif\u001b[0m \u001b[0min_axis\u001b[0m\u001b[1;33m:\u001b[0m\u001b[1;33m\u001b[0m\u001b[1;33m\u001b[0m\u001b[0m\n\u001b[1;32m-> 4715\u001b[1;33m                 \u001b[0mresult\u001b[0m\u001b[1;33m.\u001b[0m\u001b[0minsert\u001b[0m\u001b[1;33m(\u001b[0m\u001b[1;36m0\u001b[0m\u001b[1;33m,\u001b[0m \u001b[0mname\u001b[0m\u001b[1;33m,\u001b[0m \u001b[0mlev\u001b[0m\u001b[1;33m)\u001b[0m\u001b[1;33m\u001b[0m\u001b[1;33m\u001b[0m\u001b[0m\n\u001b[0m\u001b[0;32m   4716\u001b[0m \u001b[1;33m\u001b[0m\u001b[0m\n\u001b[0;32m   4717\u001b[0m     \u001b[1;32mdef\u001b[0m \u001b[0m_wrap_aggregated_output\u001b[0m\u001b[1;33m(\u001b[0m\u001b[0mself\u001b[0m\u001b[1;33m,\u001b[0m \u001b[0moutput\u001b[0m\u001b[1;33m,\u001b[0m \u001b[0mnames\u001b[0m\u001b[1;33m=\u001b[0m\u001b[1;32mNone\u001b[0m\u001b[1;33m)\u001b[0m\u001b[1;33m:\u001b[0m\u001b[1;33m\u001b[0m\u001b[1;33m\u001b[0m\u001b[0m\n",
      "\u001b[1;32mD:\\Anaconda\\lib\\site-packages\\pandas\\core\\frame.py\u001b[0m in \u001b[0;36minsert\u001b[1;34m(self, loc, column, value, allow_duplicates)\u001b[0m\n\u001b[0;32m   3220\u001b[0m         \u001b[0mvalue\u001b[0m \u001b[1;33m=\u001b[0m \u001b[0mself\u001b[0m\u001b[1;33m.\u001b[0m\u001b[0m_sanitize_column\u001b[0m\u001b[1;33m(\u001b[0m\u001b[0mcolumn\u001b[0m\u001b[1;33m,\u001b[0m \u001b[0mvalue\u001b[0m\u001b[1;33m,\u001b[0m \u001b[0mbroadcast\u001b[0m\u001b[1;33m=\u001b[0m\u001b[1;32mFalse\u001b[0m\u001b[1;33m)\u001b[0m\u001b[1;33m\u001b[0m\u001b[1;33m\u001b[0m\u001b[0m\n\u001b[0;32m   3221\u001b[0m         self._data.insert(loc, column, value,\n\u001b[1;32m-> 3222\u001b[1;33m                           allow_duplicates=allow_duplicates)\n\u001b[0m\u001b[0;32m   3223\u001b[0m \u001b[1;33m\u001b[0m\u001b[0m\n\u001b[0;32m   3224\u001b[0m     \u001b[1;32mdef\u001b[0m \u001b[0massign\u001b[0m\u001b[1;33m(\u001b[0m\u001b[0mself\u001b[0m\u001b[1;33m,\u001b[0m \u001b[1;33m**\u001b[0m\u001b[0mkwargs\u001b[0m\u001b[1;33m)\u001b[0m\u001b[1;33m:\u001b[0m\u001b[1;33m\u001b[0m\u001b[1;33m\u001b[0m\u001b[0m\n",
      "\u001b[1;32mD:\\Anaconda\\lib\\site-packages\\pandas\\core\\internals.py\u001b[0m in \u001b[0;36minsert\u001b[1;34m(self, loc, item, value, allow_duplicates)\u001b[0m\n\u001b[0;32m   4336\u001b[0m         \u001b[1;32mif\u001b[0m \u001b[1;32mnot\u001b[0m \u001b[0mallow_duplicates\u001b[0m \u001b[1;32mand\u001b[0m \u001b[0mitem\u001b[0m \u001b[1;32min\u001b[0m \u001b[0mself\u001b[0m\u001b[1;33m.\u001b[0m\u001b[0mitems\u001b[0m\u001b[1;33m:\u001b[0m\u001b[1;33m\u001b[0m\u001b[1;33m\u001b[0m\u001b[0m\n\u001b[0;32m   4337\u001b[0m             \u001b[1;31m# Should this be a different kind of error??\u001b[0m\u001b[1;33m\u001b[0m\u001b[1;33m\u001b[0m\u001b[1;33m\u001b[0m\u001b[0m\n\u001b[1;32m-> 4338\u001b[1;33m             \u001b[1;32mraise\u001b[0m \u001b[0mValueError\u001b[0m\u001b[1;33m(\u001b[0m\u001b[1;34m'cannot insert {}, already exists'\u001b[0m\u001b[1;33m.\u001b[0m\u001b[0mformat\u001b[0m\u001b[1;33m(\u001b[0m\u001b[0mitem\u001b[0m\u001b[1;33m)\u001b[0m\u001b[1;33m)\u001b[0m\u001b[1;33m\u001b[0m\u001b[1;33m\u001b[0m\u001b[0m\n\u001b[0m\u001b[0;32m   4339\u001b[0m \u001b[1;33m\u001b[0m\u001b[0m\n\u001b[0;32m   4340\u001b[0m         \u001b[1;32mif\u001b[0m \u001b[1;32mnot\u001b[0m \u001b[0misinstance\u001b[0m\u001b[1;33m(\u001b[0m\u001b[0mloc\u001b[0m\u001b[1;33m,\u001b[0m \u001b[0mint\u001b[0m\u001b[1;33m)\u001b[0m\u001b[1;33m:\u001b[0m\u001b[1;33m\u001b[0m\u001b[1;33m\u001b[0m\u001b[0m\n",
      "\u001b[1;31mValueError\u001b[0m: cannot insert product_ids_sets, already exists"
     ]
    }
   ],
   "source": []
  },
  {
   "cell_type": "code",
   "execution_count": 385,
   "metadata": {},
   "outputs": [
    {
     "data": {
      "image/png": "[encoded data removed]",
      "text/plain": [
       "<Figure size 864x576 with 1 Axes>"
      ]
     },
     "metadata": {
      "needs_background": "light"
     },
     "output_type": "display_data"
    }
   ],
   "source": [
    "plt.figure(figsize=(12, 8))\n",
    "ax = sns.countplot(x=\"days_since_last_contact\", data=data_sample)"
   ]
  },
  {
   "cell_type": "code",
   "execution_count": 241,
   "metadata": {},
   "outputs": [
    {
     "data": {
      "text/plain": [
       "array([<matplotlib.axes._subplots.AxesSubplot object at 0x00000162FA120AC8>],\n",
       "      dtype=object)"
      ]
     },
     "execution_count": 241,
     "metadata": {},
     "output_type": "execute_result"
    },
    {
     "data": {
      "image/png": "[encoded data removed]",
      "text/plain": [
       "<Figure size 360x216 with 1 Axes>"
      ]
     },
     "metadata": {},
     "output_type": "display_data"
    }
   ],
   "source": [
    "# Visualizing the object data as pie charts to see their destribution\n",
    "\n",
    "#define Seaborn color palette to use\n",
    "\n",
    "data_sample['gender'].value_counts().plot(kind='pie', autopct='%.1f', figsize=(5,3))\n",
    "\n",
    "\n",
    "data_sample['gender'].value_counts().plot(kind='pie', subplots=True, autopct='%.1f', figsize=(5,3))\n"
   ]
  },
  {
   "cell_type": "code",
   "execution_count": null,
   "metadata": {},
   "outputs": [],
   "source": []
  },
  {
   "cell_type": "code",
   "execution_count": null,
   "metadata": {},
   "outputs": [],
   "source": []
  },
  {
   "cell_type": "code",
   "execution_count": null,
   "metadata": {},
   "outputs": [],
   "source": []
  },
  {
   "cell_type": "code",
   "execution_count": null,
   "metadata": {},
   "outputs": [],
   "source": []
  },
  {
   "cell_type": "code",
   "execution_count": null,
   "metadata": {},
   "outputs": [],
   "source": []
  },
  {
   "cell_type": "code",
   "execution_count": null,
   "metadata": {},
   "outputs": [],
   "source": []
  },
  {
   "cell_type": "code",
   "execution_count": 243,
   "metadata": {},
   "outputs": [
    {
     "data": {
      "image/png": "[encoded data removed]",
      "text/plain": [
       "<Figure size 360x360 with 1 Axes>"
      ]
     },
     "metadata": {},
     "output_type": "display_data"
    },
    {
     "data": {
      "image/png": "[encoded data removed]",
      "text/plain": [
       "<Figure size 432x288 with 2 Axes>"
      ]
     },
     "metadata": {},
     "output_type": "display_data"
    }
   ],
   "source": [
    "df = pd.DataFrame({'mass': [2.87, 5.97, 6.00],\n",
    "                   'radius': [6051.8, 6378.1, 71492]},\n",
    "                  index=['Venus', 'Earth', 'Jupiter'])\n",
    "plot = df.plot.pie(y='mass', figsize=(5, 5))\n",
    "\n",
    "plot = df.plot.pie(subplots=True, figsize=(6, 4))"
   ]
  },
  {
   "cell_type": "code",
   "execution_count": 124,
   "metadata": {},
   "outputs": [
    {
     "data": {
      "text/html": [
       "<div>\n",
       "<style scoped>\n",
       "    .dataframe tbody tr th:only-of-type {\n",
       "        vertical-align: middle;\n",
       "    }\n",
       "\n",
       "    .dataframe tbody tr th {\n",
       "        vertical-align: top;\n",
       "    }\n",
       "\n",
       "    .dataframe thead th {\n",
       "        text-align: right;\n",
       "    }\n",
       "</style>\n",
       "<table border=\"1\" class=\"dataframe\">\n",
       "  <thead>\n",
       "    <tr style=\"text-align: right;\">\n",
       "      <th></th>\n",
       "      <th>transactions</th>\n",
       "      <th>loyalty</th>\n",
       "      <th>days_since_last_contact</th>\n",
       "      <th>0ne.hot.1</th>\n",
       "      <th>0ne.hot.2</th>\n",
       "      <th>0ne.hot.3</th>\n",
       "      <th>0ne.hot.4</th>\n",
       "    </tr>\n",
       "  </thead>\n",
       "  <tbody>\n",
       "    <tr>\n",
       "      <th>count</th>\n",
       "      <td>100.000000</td>\n",
       "      <td>100.000000</td>\n",
       "      <td>100.000000</td>\n",
       "      <td>100.000000</td>\n",
       "      <td>100.000000</td>\n",
       "      <td>100.000000</td>\n",
       "      <td>100.000000</td>\n",
       "    </tr>\n",
       "    <tr>\n",
       "      <th>mean</th>\n",
       "      <td>6.550000</td>\n",
       "      <td>-0.000090</td>\n",
       "      <td>6.280000</td>\n",
       "      <td>0.300000</td>\n",
       "      <td>0.220000</td>\n",
       "      <td>0.160000</td>\n",
       "      <td>0.320000</td>\n",
       "    </tr>\n",
       "    <tr>\n",
       "      <th>std</th>\n",
       "      <td>2.709411</td>\n",
       "      <td>1.002703</td>\n",
       "      <td>3.861438</td>\n",
       "      <td>0.460566</td>\n",
       "      <td>0.416333</td>\n",
       "      <td>0.368453</td>\n",
       "      <td>0.468826</td>\n",
       "    </tr>\n",
       "    <tr>\n",
       "      <th>min</th>\n",
       "      <td>1.000000</td>\n",
       "      <td>-1.710000</td>\n",
       "      <td>0.000000</td>\n",
       "      <td>0.000000</td>\n",
       "      <td>0.000000</td>\n",
       "      <td>0.000000</td>\n",
       "      <td>0.000000</td>\n",
       "    </tr>\n",
       "    <tr>\n",
       "      <th>25%</th>\n",
       "      <td>5.000000</td>\n",
       "      <td>-0.742500</td>\n",
       "      <td>3.000000</td>\n",
       "      <td>0.000000</td>\n",
       "      <td>0.000000</td>\n",
       "      <td>0.000000</td>\n",
       "      <td>0.000000</td>\n",
       "    </tr>\n",
       "    <tr>\n",
       "      <th>50%</th>\n",
       "      <td>7.000000</td>\n",
       "      <td>-0.100500</td>\n",
       "      <td>5.000000</td>\n",
       "      <td>0.000000</td>\n",
       "      <td>0.000000</td>\n",
       "      <td>0.000000</td>\n",
       "      <td>0.000000</td>\n",
       "    </tr>\n",
       "    <tr>\n",
       "      <th>75%</th>\n",
       "      <td>8.250000</td>\n",
       "      <td>1.032500</td>\n",
       "      <td>9.000000</td>\n",
       "      <td>1.000000</td>\n",
       "      <td>0.000000</td>\n",
       "      <td>0.000000</td>\n",
       "      <td>1.000000</td>\n",
       "    </tr>\n",
       "    <tr>\n",
       "      <th>max</th>\n",
       "      <td>15.000000</td>\n",
       "      <td>1.400000</td>\n",
       "      <td>14.000000</td>\n",
       "      <td>1.000000</td>\n",
       "      <td>1.000000</td>\n",
       "      <td>1.000000</td>\n",
       "      <td>1.000000</td>\n",
       "    </tr>\n",
       "  </tbody>\n",
       "</table>\n",
       "</div>"
      ],
      "text/plain": [
       "       transactions     loyalty  days_since_last_contact   0ne.hot.1  \\\n",
       "count    100.000000  100.000000               100.000000  100.000000   \n",
       "mean       6.550000   -0.000090                 6.280000    0.300000   \n",
       "std        2.709411    1.002703                 3.861438    0.460566   \n",
       "min        1.000000   -1.710000                 0.000000    0.000000   \n",
       "25%        5.000000   -0.742500                 3.000000    0.000000   \n",
       "50%        7.000000   -0.100500                 5.000000    0.000000   \n",
       "75%        8.250000    1.032500                 9.000000    1.000000   \n",
       "max       15.000000    1.400000                14.000000    1.000000   \n",
       "\n",
       "        0ne.hot.2   0ne.hot.3   0ne.hot.4  \n",
       "count  100.000000  100.000000  100.000000  \n",
       "mean     0.220000    0.160000    0.320000  \n",
       "std      0.416333    0.368453    0.468826  \n",
       "min      0.000000    0.000000    0.000000  \n",
       "25%      0.000000    0.000000    0.000000  \n",
       "50%      0.000000    0.000000    0.000000  \n",
       "75%      0.000000    0.000000    1.000000  \n",
       "max      1.000000    1.000000    1.000000  "
      ]
     },
     "execution_count": 124,
     "metadata": {},
     "output_type": "execute_result"
    }
   ],
   "source": [
    "# Checking general descriptive statistics of our dataframe\n",
    "\n",
    "data_sample.describe()"
   ]
  },
  {
   "cell_type": "code",
   "execution_count": 135,
   "metadata": {},
   "outputs": [
    {
     "data": {
      "text/plain": [
       "w    48\n",
       "m    48\n",
       "d     1\n",
       "Name: gender, dtype: int64"
      ]
     },
     "execution_count": 135,
     "metadata": {},
     "output_type": "execute_result"
    }
   ],
   "source": [
    "# Let's check what is the percentages of the values in each column\n",
    "\n",
    "data_sample.gender.value_counts().sort_values(ascending = False)"
   ]
  },
  {
   "cell_type": "code",
   "execution_count": 139,
   "metadata": {},
   "outputs": [
    {
     "data": {
      "text/html": [
       "<div>\n",
       "<style scoped>\n",
       "    .dataframe tbody tr th:only-of-type {\n",
       "        vertical-align: middle;\n",
       "    }\n",
       "\n",
       "    .dataframe tbody tr th {\n",
       "        vertical-align: top;\n",
       "    }\n",
       "\n",
       "    .dataframe thead th {\n",
       "        text-align: right;\n",
       "    }\n",
       "</style>\n",
       "<table border=\"1\" class=\"dataframe\">\n",
       "  <thead>\n",
       "    <tr style=\"text-align: right;\">\n",
       "      <th></th>\n",
       "      <th>gender</th>\n",
       "      <th>delivery_pass</th>\n",
       "    </tr>\n",
       "  </thead>\n",
       "  <tbody>\n",
       "    <tr>\n",
       "      <th>d</th>\n",
       "      <td>1.0</td>\n",
       "      <td>NaN</td>\n",
       "    </tr>\n",
       "    <tr>\n",
       "      <th>m</th>\n",
       "      <td>48.0</td>\n",
       "      <td>NaN</td>\n",
       "    </tr>\n",
       "    <tr>\n",
       "      <th>w</th>\n",
       "      <td>48.0</td>\n",
       "      <td>NaN</td>\n",
       "    </tr>\n",
       "    <tr>\n",
       "      <th>True</th>\n",
       "      <td>NaN</td>\n",
       "      <td>52.0</td>\n",
       "    </tr>\n",
       "    <tr>\n",
       "      <th>False</th>\n",
       "      <td>NaN</td>\n",
       "      <td>48.0</td>\n",
       "    </tr>\n",
       "  </tbody>\n",
       "</table>\n",
       "</div>"
      ],
      "text/plain": [
       "       gender  delivery_pass\n",
       "d         1.0            NaN\n",
       "m        48.0            NaN\n",
       "w        48.0            NaN\n",
       "True      NaN           52.0\n",
       "False     NaN           48.0"
      ]
     },
     "execution_count": 139,
     "metadata": {},
     "output_type": "execute_result"
    }
   ],
   "source": [
    "data_sample[['gender', 'delivery_pass']].apply(pd.Series.value_counts)"
   ]
  },
  {
   "cell_type": "markdown",
   "metadata": {},
   "source": [
    "**Now we can go through throught the names of the columns, make an assumptions of what they mean, ask some questions about them.**\n",
    "\n",
    "- transactions - amount of transactions (purchases)\n",
    "    - we have only 13 variations of the transcations\n",
    "    \n",
    "    \n",
    "- loyalty - customer loyalty\n",
    "    - we have **negative and positive loyalty**\n",
    "    - <span style=\"color:blue\">Q1. What does the negative and positive loyalty mean?</span>.\n",
    "    \n",
    "- days_since_last_contact - days since the customer was contacted\n",
    "    - we have 14 days, **data about some days are missing**\n",
    "\n",
    "- gender 3\n",
    "- person_id 100\n",
    "- product_ids 6\n",
    "- 0ne.hot.1 2\n",
    "- 0ne.hot.2 2\n",
    "- 0ne.hot.3 2\n",
    "- 0ne.hot.4 2\n",
    "- promotion_set_id 100\n",
    "- platform_cookie_source 1\n",
    "- delivery_pass 2\n",
    "- is_newsletter 1\n"
   ]
  },
  {
   "cell_type": "code",
   "execution_count": null,
   "metadata": {},
   "outputs": [],
   "source": []
  },
  {
   "cell_type": "code",
   "execution_count": null,
   "metadata": {},
   "outputs": [],
   "source": []
  },
  {
   "cell_type": "code",
   "execution_count": 9,
   "metadata": {},
   "outputs": [],
   "source": [
    "def replace_space_and_capital(name):\n",
    "    new_name = name.replace(' ', '_').lower()\n",
    "    return new_name\n",
    "\n",
    "data_sample = data_sample.rename(columns = replace_space_and_capital)"
   ]
  },
  {
   "cell_type": "code",
   "execution_count": 10,
   "metadata": {
    "scrolled": true
   },
   "outputs": [
    {
     "data": {
      "text/plain": [
       "0    [7881,10834,61603,62040,63288,125830]\n",
       "1         [10834,61603,62040,63288,125830]\n",
       "2                           [63288,125830]\n",
       "3                             [7881,10834]\n",
       "4          [7881,10834,62040,63288,125830]\n",
       "Name: product_ids, dtype: object"
      ]
     },
     "execution_count": 10,
     "metadata": {},
     "output_type": "execute_result"
    }
   ],
   "source": [
    "data_sample.product_ids.head()"
   ]
  },
  {
   "cell_type": "code",
   "execution_count": 11,
   "metadata": {
    "scrolled": true
   },
   "outputs": [
    {
     "data": {
      "text/html": [
       "<div>\n",
       "<style scoped>\n",
       "    .dataframe tbody tr th:only-of-type {\n",
       "        vertical-align: middle;\n",
       "    }\n",
       "\n",
       "    .dataframe tbody tr th {\n",
       "        vertical-align: top;\n",
       "    }\n",
       "\n",
       "    .dataframe thead th {\n",
       "        text-align: right;\n",
       "    }\n",
       "</style>\n",
       "<table border=\"1\" class=\"dataframe\">\n",
       "  <thead>\n",
       "    <tr style=\"text-align: right;\">\n",
       "      <th></th>\n",
       "      <th>transactions</th>\n",
       "      <th>loyalty</th>\n",
       "      <th>days_since_last_contact</th>\n",
       "      <th>gender</th>\n",
       "      <th>person_id</th>\n",
       "      <th>product_ids</th>\n",
       "      <th>0ne.hot.1</th>\n",
       "      <th>0ne.hot.2</th>\n",
       "      <th>0ne.hot.3</th>\n",
       "      <th>0ne.hot.4</th>\n",
       "      <th>promotion_set_id</th>\n",
       "      <th>platform_cookie_source</th>\n",
       "      <th>delivery_pass</th>\n",
       "      <th>is_newsletter</th>\n",
       "    </tr>\n",
       "  </thead>\n",
       "  <tbody>\n",
       "    <tr>\n",
       "      <th>0</th>\n",
       "      <td>4</td>\n",
       "      <td>-1.33</td>\n",
       "      <td>2</td>\n",
       "      <td>m</td>\n",
       "      <td>170636bb-3601-4a18-b572-52650c0d2d0e</td>\n",
       "      <td>[7881,10834,61603,62040,63288,125830]</td>\n",
       "      <td>1</td>\n",
       "      <td>0</td>\n",
       "      <td>0</td>\n",
       "      <td>0</td>\n",
       "      <td>042e2ace-0a6b-4983-811a-aa8c1aa3166a</td>\n",
       "      <td>web</td>\n",
       "      <td>True</td>\n",
       "      <td>True</td>\n",
       "    </tr>\n",
       "    <tr>\n",
       "      <th>1</th>\n",
       "      <td>6</td>\n",
       "      <td>-0.28</td>\n",
       "      <td>3</td>\n",
       "      <td>m</td>\n",
       "      <td>2a4c9697-b937-4429-9fd3-5529929a1ab9</td>\n",
       "      <td>[10834,61603,62040,63288,125830]</td>\n",
       "      <td>1</td>\n",
       "      <td>0</td>\n",
       "      <td>0</td>\n",
       "      <td>0</td>\n",
       "      <td>745da0a4-b45f-4e40-b63f-fb5034927dd1</td>\n",
       "      <td>web</td>\n",
       "      <td>True</td>\n",
       "      <td>True</td>\n",
       "    </tr>\n",
       "    <tr>\n",
       "      <th>2</th>\n",
       "      <td>5</td>\n",
       "      <td>-0.22</td>\n",
       "      <td>1</td>\n",
       "      <td>w</td>\n",
       "      <td>4d12441d-3748-4b05-81bf-fd24f9f9d6f4</td>\n",
       "      <td>[63288,125830]</td>\n",
       "      <td>1</td>\n",
       "      <td>0</td>\n",
       "      <td>0</td>\n",
       "      <td>0</td>\n",
       "      <td>cabe25fc-1fbb-43cf-b95c-f8a451630a61</td>\n",
       "      <td>web</td>\n",
       "      <td>False</td>\n",
       "      <td>True</td>\n",
       "    </tr>\n",
       "    <tr>\n",
       "      <th>3</th>\n",
       "      <td>7</td>\n",
       "      <td>-0.29</td>\n",
       "      <td>0</td>\n",
       "      <td>m</td>\n",
       "      <td>00f173be-96b1-4407-809c-6882e5bbb1fd</td>\n",
       "      <td>[7881,10834]</td>\n",
       "      <td>0</td>\n",
       "      <td>1</td>\n",
       "      <td>0</td>\n",
       "      <td>0</td>\n",
       "      <td>5ffbd84f-f05e-4010-ac08-f29819c18d3f</td>\n",
       "      <td>web</td>\n",
       "      <td>True</td>\n",
       "      <td>True</td>\n",
       "    </tr>\n",
       "    <tr>\n",
       "      <th>4</th>\n",
       "      <td>4</td>\n",
       "      <td>1.06</td>\n",
       "      <td>5</td>\n",
       "      <td>m</td>\n",
       "      <td>f5aa1643-398f-4027-ab75-7b72ebe92d90</td>\n",
       "      <td>[7881,10834,62040,63288,125830]</td>\n",
       "      <td>0</td>\n",
       "      <td>0</td>\n",
       "      <td>1</td>\n",
       "      <td>0</td>\n",
       "      <td>9fa195e5-8526-400d-9503-cf35f7abcd4c</td>\n",
       "      <td>web</td>\n",
       "      <td>True</td>\n",
       "      <td>True</td>\n",
       "    </tr>\n",
       "  </tbody>\n",
       "</table>\n",
       "</div>"
      ],
      "text/plain": [
       "   transactions  loyalty  days_since_last_contact gender  \\\n",
       "0             4    -1.33                        2      m   \n",
       "1             6    -0.28                        3      m   \n",
       "2             5    -0.22                        1      w   \n",
       "3             7    -0.29                        0      m   \n",
       "4             4     1.06                        5      m   \n",
       "\n",
       "                              person_id  \\\n",
       "0  170636bb-3601-4a18-b572-52650c0d2d0e   \n",
       "1  2a4c9697-b937-4429-9fd3-5529929a1ab9   \n",
       "2  4d12441d-3748-4b05-81bf-fd24f9f9d6f4   \n",
       "3  00f173be-96b1-4407-809c-6882e5bbb1fd   \n",
       "4  f5aa1643-398f-4027-ab75-7b72ebe92d90   \n",
       "\n",
       "                             product_ids  0ne.hot.1  0ne.hot.2  0ne.hot.3  \\\n",
       "0  [7881,10834,61603,62040,63288,125830]          1          0          0   \n",
       "1       [10834,61603,62040,63288,125830]          1          0          0   \n",
       "2                         [63288,125830]          1          0          0   \n",
       "3                           [7881,10834]          0          1          0   \n",
       "4        [7881,10834,62040,63288,125830]          0          0          1   \n",
       "\n",
       "   0ne.hot.4                      promotion_set_id platform_cookie_source  \\\n",
       "0          0  042e2ace-0a6b-4983-811a-aa8c1aa3166a                    web   \n",
       "1          0  745da0a4-b45f-4e40-b63f-fb5034927dd1                    web   \n",
       "2          0  cabe25fc-1fbb-43cf-b95c-f8a451630a61                    web   \n",
       "3          0  5ffbd84f-f05e-4010-ac08-f29819c18d3f                    web   \n",
       "4          0  9fa195e5-8526-400d-9503-cf35f7abcd4c                    web   \n",
       "\n",
       "   delivery_pass  is_newsletter  \n",
       "0           True           True  \n",
       "1           True           True  \n",
       "2          False           True  \n",
       "3           True           True  \n",
       "4           True           True  "
      ]
     },
     "execution_count": 11,
     "metadata": {},
     "output_type": "execute_result"
    }
   ],
   "source": [
    "data_sample.head()"
   ]
  },
  {
   "cell_type": "code",
   "execution_count": 12,
   "metadata": {},
   "outputs": [
    {
     "data": {
      "text/html": [
       "<div>\n",
       "<style scoped>\n",
       "    .dataframe tbody tr th:only-of-type {\n",
       "        vertical-align: middle;\n",
       "    }\n",
       "\n",
       "    .dataframe tbody tr th {\n",
       "        vertical-align: top;\n",
       "    }\n",
       "\n",
       "    .dataframe thead th {\n",
       "        text-align: right;\n",
       "    }\n",
       "</style>\n",
       "<table border=\"1\" class=\"dataframe\">\n",
       "  <thead>\n",
       "    <tr style=\"text-align: right;\">\n",
       "      <th></th>\n",
       "      <th>product_ids</th>\n",
       "      <th>person_id</th>\n",
       "    </tr>\n",
       "  </thead>\n",
       "  <tbody>\n",
       "    <tr>\n",
       "      <th>0</th>\n",
       "      <td>[7881,10834,61603,62040,63288,125830]</td>\n",
       "      <td>170636bb-3601-4a18-b572-52650c0d2d0e</td>\n",
       "    </tr>\n",
       "    <tr>\n",
       "      <th>1</th>\n",
       "      <td>[10834,61603,62040,63288,125830]</td>\n",
       "      <td>2a4c9697-b937-4429-9fd3-5529929a1ab9</td>\n",
       "    </tr>\n",
       "    <tr>\n",
       "      <th>2</th>\n",
       "      <td>[63288,125830]</td>\n",
       "      <td>4d12441d-3748-4b05-81bf-fd24f9f9d6f4</td>\n",
       "    </tr>\n",
       "    <tr>\n",
       "      <th>3</th>\n",
       "      <td>[7881,10834]</td>\n",
       "      <td>00f173be-96b1-4407-809c-6882e5bbb1fd</td>\n",
       "    </tr>\n",
       "    <tr>\n",
       "      <th>4</th>\n",
       "      <td>[7881,10834,62040,63288,125830]</td>\n",
       "      <td>f5aa1643-398f-4027-ab75-7b72ebe92d90</td>\n",
       "    </tr>\n",
       "    <tr>\n",
       "      <th>5</th>\n",
       "      <td>[7881,10834,61603]</td>\n",
       "      <td>2d9f4985-6ec5-434a-867c-1763a311cdb0</td>\n",
       "    </tr>\n",
       "    <tr>\n",
       "      <th>6</th>\n",
       "      <td>[10834,61603,62040,63288,125830]</td>\n",
       "      <td>6fbdb4cf-dde5-43ce-a6ea-b57956661221</td>\n",
       "    </tr>\n",
       "    <tr>\n",
       "      <th>7</th>\n",
       "      <td>[10834,61603,62040,63288,125830]</td>\n",
       "      <td>8d9925cc-fc2e-4634-abbd-6a5847983d16</td>\n",
       "    </tr>\n",
       "    <tr>\n",
       "      <th>8</th>\n",
       "      <td>[63288,125830]</td>\n",
       "      <td>2e6df752-71bd-4249-8484-57e73bc7cec8</td>\n",
       "    </tr>\n",
       "    <tr>\n",
       "      <th>9</th>\n",
       "      <td>[7881,10834]</td>\n",
       "      <td>f246396d-85fc-4c54-a124-a85fa90aaa07</td>\n",
       "    </tr>\n",
       "  </tbody>\n",
       "</table>\n",
       "</div>"
      ],
      "text/plain": [
       "                             product_ids                             person_id\n",
       "0  [7881,10834,61603,62040,63288,125830]  170636bb-3601-4a18-b572-52650c0d2d0e\n",
       "1       [10834,61603,62040,63288,125830]  2a4c9697-b937-4429-9fd3-5529929a1ab9\n",
       "2                         [63288,125830]  4d12441d-3748-4b05-81bf-fd24f9f9d6f4\n",
       "3                           [7881,10834]  00f173be-96b1-4407-809c-6882e5bbb1fd\n",
       "4        [7881,10834,62040,63288,125830]  f5aa1643-398f-4027-ab75-7b72ebe92d90\n",
       "5                     [7881,10834,61603]  2d9f4985-6ec5-434a-867c-1763a311cdb0\n",
       "6       [10834,61603,62040,63288,125830]  6fbdb4cf-dde5-43ce-a6ea-b57956661221\n",
       "7       [10834,61603,62040,63288,125830]  8d9925cc-fc2e-4634-abbd-6a5847983d16\n",
       "8                         [63288,125830]  2e6df752-71bd-4249-8484-57e73bc7cec8\n",
       "9                           [7881,10834]  f246396d-85fc-4c54-a124-a85fa90aaa07"
      ]
     },
     "execution_count": 12,
     "metadata": {},
     "output_type": "execute_result"
    }
   ],
   "source": [
    "user_df = data_sample[['product_ids', 'person_id']]\n",
    "user_df.head(10)"
   ]
  },
  {
   "cell_type": "code",
   "execution_count": 13,
   "metadata": {
    "scrolled": false
   },
   "outputs": [
    {
     "data": {
      "text/html": [
       "<div>\n",
       "<style scoped>\n",
       "    .dataframe tbody tr th:only-of-type {\n",
       "        vertical-align: middle;\n",
       "    }\n",
       "\n",
       "    .dataframe tbody tr th {\n",
       "        vertical-align: top;\n",
       "    }\n",
       "\n",
       "    .dataframe thead th {\n",
       "        text-align: right;\n",
       "    }\n",
       "</style>\n",
       "<table border=\"1\" class=\"dataframe\">\n",
       "  <thead>\n",
       "    <tr style=\"text-align: right;\">\n",
       "      <th></th>\n",
       "      <th>product_ids</th>\n",
       "      <th>count</th>\n",
       "      <th>transactions</th>\n",
       "      <th>days_since_last_contact</th>\n",
       "    </tr>\n",
       "  </thead>\n",
       "  <tbody>\n",
       "    <tr>\n",
       "      <th>0</th>\n",
       "      <td>[10834,61603,62040,63288,125830]</td>\n",
       "      <td>18</td>\n",
       "      <td>142</td>\n",
       "      <td>5.222222</td>\n",
       "    </tr>\n",
       "    <tr>\n",
       "      <th>1</th>\n",
       "      <td>[63288,125830]</td>\n",
       "      <td>18</td>\n",
       "      <td>109</td>\n",
       "      <td>7.722222</td>\n",
       "    </tr>\n",
       "    <tr>\n",
       "      <th>2</th>\n",
       "      <td>[7881,10834,61603,62040,63288,125830]</td>\n",
       "      <td>18</td>\n",
       "      <td>134</td>\n",
       "      <td>6.166667</td>\n",
       "    </tr>\n",
       "    <tr>\n",
       "      <th>3</th>\n",
       "      <td>[7881,10834,61603]</td>\n",
       "      <td>17</td>\n",
       "      <td>96</td>\n",
       "      <td>5.882353</td>\n",
       "    </tr>\n",
       "    <tr>\n",
       "      <th>5</th>\n",
       "      <td>[7881,10834]</td>\n",
       "      <td>16</td>\n",
       "      <td>102</td>\n",
       "      <td>5.562500</td>\n",
       "    </tr>\n",
       "    <tr>\n",
       "      <th>4</th>\n",
       "      <td>[7881,10834,62040,63288,125830]</td>\n",
       "      <td>13</td>\n",
       "      <td>72</td>\n",
       "      <td>7.307692</td>\n",
       "    </tr>\n",
       "  </tbody>\n",
       "</table>\n",
       "</div>"
      ],
      "text/plain": [
       "                             product_ids  count  transactions  \\\n",
       "0       [10834,61603,62040,63288,125830]     18           142   \n",
       "1                         [63288,125830]     18           109   \n",
       "2  [7881,10834,61603,62040,63288,125830]     18           134   \n",
       "3                     [7881,10834,61603]     17            96   \n",
       "5                           [7881,10834]     16           102   \n",
       "4        [7881,10834,62040,63288,125830]     13            72   \n",
       "\n",
       "   days_since_last_contact  \n",
       "0                 5.222222  \n",
       "1                 7.722222  \n",
       "2                 6.166667  \n",
       "3                 5.882353  \n",
       "5                 5.562500  \n",
       "4                 7.307692  "
      ]
     },
     "execution_count": 13,
     "metadata": {},
     "output_type": "execute_result"
    }
   ],
   "source": [
    "#products_sets = \n",
    "data_sample.groupby('product_ids', as_index = False).agg({'person_id' : 'count', 'transactions' : 'sum', 'days_since_last_contact' : 'mean'}).sort_values('person_id', ascending = False) \\\n",
    "    .rename(columns ={'person_id' : 'count'})"
   ]
  },
  {
   "cell_type": "code",
   "execution_count": 14,
   "metadata": {},
   "outputs": [
    {
     "data": {
      "text/plain": [
       "str"
      ]
     },
     "execution_count": 14,
     "metadata": {},
     "output_type": "execute_result"
    }
   ],
   "source": [
    "type(data_sample.product_ids[0])"
   ]
  },
  {
   "cell_type": "code",
   "execution_count": 15,
   "metadata": {},
   "outputs": [
    {
     "data": {
      "text/plain": [
       "6"
      ]
     },
     "execution_count": 15,
     "metadata": {},
     "output_type": "execute_result"
    }
   ],
   "source": [
    "from ast import literal_eval\n",
    "len(literal_eval(data_sample.product_ids[0]))"
   ]
  },
  {
   "cell_type": "code",
   "execution_count": 92,
   "metadata": {},
   "outputs": [
    {
     "data": {
      "text/html": [
       "<div>\n",
       "<style scoped>\n",
       "    .dataframe tbody tr th:only-of-type {\n",
       "        vertical-align: middle;\n",
       "    }\n",
       "\n",
       "    .dataframe tbody tr th {\n",
       "        vertical-align: top;\n",
       "    }\n",
       "\n",
       "    .dataframe thead th {\n",
       "        text-align: right;\n",
       "    }\n",
       "</style>\n",
       "<table border=\"1\" class=\"dataframe\">\n",
       "  <thead>\n",
       "    <tr style=\"text-align: right;\">\n",
       "      <th></th>\n",
       "      <th>days_since_last_contact</th>\n",
       "      <th>person_id</th>\n",
       "    </tr>\n",
       "  </thead>\n",
       "  <tbody>\n",
       "    <tr>\n",
       "      <th>0</th>\n",
       "      <td>0</td>\n",
       "      <td>3</td>\n",
       "    </tr>\n",
       "    <tr>\n",
       "      <th>1</th>\n",
       "      <td>1</td>\n",
       "      <td>14</td>\n",
       "    </tr>\n",
       "    <tr>\n",
       "      <th>2</th>\n",
       "      <td>2</td>\n",
       "      <td>6</td>\n",
       "    </tr>\n",
       "    <tr>\n",
       "      <th>3</th>\n",
       "      <td>3</td>\n",
       "      <td>3</td>\n",
       "    </tr>\n",
       "    <tr>\n",
       "      <th>4</th>\n",
       "      <td>4</td>\n",
       "      <td>7</td>\n",
       "    </tr>\n",
       "    <tr>\n",
       "      <th>5</th>\n",
       "      <td>5</td>\n",
       "      <td>19</td>\n",
       "    </tr>\n",
       "    <tr>\n",
       "      <th>6</th>\n",
       "      <td>8</td>\n",
       "      <td>16</td>\n",
       "    </tr>\n",
       "    <tr>\n",
       "      <th>7</th>\n",
       "      <td>9</td>\n",
       "      <td>13</td>\n",
       "    </tr>\n",
       "    <tr>\n",
       "      <th>8</th>\n",
       "      <td>10</td>\n",
       "      <td>3</td>\n",
       "    </tr>\n",
       "    <tr>\n",
       "      <th>9</th>\n",
       "      <td>11</td>\n",
       "      <td>3</td>\n",
       "    </tr>\n",
       "    <tr>\n",
       "      <th>10</th>\n",
       "      <td>12</td>\n",
       "      <td>10</td>\n",
       "    </tr>\n",
       "    <tr>\n",
       "      <th>11</th>\n",
       "      <td>14</td>\n",
       "      <td>3</td>\n",
       "    </tr>\n",
       "  </tbody>\n",
       "</table>\n",
       "</div>"
      ],
      "text/plain": [
       "    days_since_last_contact  person_id\n",
       "0                         0          3\n",
       "1                         1         14\n",
       "2                         2          6\n",
       "3                         3          3\n",
       "4                         4          7\n",
       "5                         5         19\n",
       "6                         8         16\n",
       "7                         9         13\n",
       "8                        10          3\n",
       "9                        11          3\n",
       "10                       12         10\n",
       "11                       14          3"
      ]
     },
     "execution_count": 92,
     "metadata": {},
     "output_type": "execute_result"
    }
   ],
   "source": [
    "buying_days = data_sample.groupby('days_since_last_contact', as_index = False).agg({'person_id' : 'count'})\n",
    "#.sort_values('person_id', ascending = False) \\\n",
    "#    .rename(columns ={'person_id' : 'count_days'}).sort_values('days_since_last_contact')\n",
    "buying_days"
   ]
  },
  {
   "cell_type": "code",
   "execution_count": 33,
   "metadata": {},
   "outputs": [
    {
     "data": {
      "image/png": "[encoded data removed]",
      "text/plain": [
       "<Figure size 864x576 with 1 Axes>"
      ]
     },
     "metadata": {
      "needs_background": "light"
     },
     "output_type": "display_data"
    }
   ],
   "source": [
    "plt.figure(figsize=(12, 8))\n",
    "ax = sns.countplot(x=\"days_since_last_contact\", data=data_sample)"
   ]
  },
  {
   "cell_type": "code",
   "execution_count": 35,
   "metadata": {},
   "outputs": [
    {
     "data": {
      "image/png": "[encoded data removed]",
      "text/plain": [
       "<Figure size 864x576 with 1 Axes>"
      ]
     },
     "metadata": {
      "needs_background": "light"
     },
     "output_type": "display_data"
    }
   ],
   "source": [
    "plt.figure(figsize=(12, 8))\n",
    "ax = sns.countplot(x=\"transactions\", data=data_sample)"
   ]
  },
  {
   "cell_type": "code",
   "execution_count": 44,
   "metadata": {},
   "outputs": [
    {
     "data": {
      "text/html": [
       "<div>\n",
       "<style scoped>\n",
       "    .dataframe tbody tr th:only-of-type {\n",
       "        vertical-align: middle;\n",
       "    }\n",
       "\n",
       "    .dataframe tbody tr th {\n",
       "        vertical-align: top;\n",
       "    }\n",
       "\n",
       "    .dataframe thead th {\n",
       "        text-align: right;\n",
       "    }\n",
       "</style>\n",
       "<table border=\"1\" class=\"dataframe\">\n",
       "  <thead>\n",
       "    <tr style=\"text-align: right;\">\n",
       "      <th></th>\n",
       "      <th>days_since_last_contact</th>\n",
       "      <th>transactions_sum</th>\n",
       "    </tr>\n",
       "  </thead>\n",
       "  <tbody>\n",
       "    <tr>\n",
       "      <th>0</th>\n",
       "      <td>0</td>\n",
       "      <td>21</td>\n",
       "    </tr>\n",
       "    <tr>\n",
       "      <th>1</th>\n",
       "      <td>1</td>\n",
       "      <td>74</td>\n",
       "    </tr>\n",
       "    <tr>\n",
       "      <th>2</th>\n",
       "      <td>2</td>\n",
       "      <td>43</td>\n",
       "    </tr>\n",
       "    <tr>\n",
       "      <th>3</th>\n",
       "      <td>3</td>\n",
       "      <td>18</td>\n",
       "    </tr>\n",
       "    <tr>\n",
       "      <th>4</th>\n",
       "      <td>4</td>\n",
       "      <td>27</td>\n",
       "    </tr>\n",
       "  </tbody>\n",
       "</table>\n",
       "</div>"
      ],
      "text/plain": [
       "   days_since_last_contact  transactions_sum\n",
       "0                        0                21\n",
       "1                        1                74\n",
       "2                        2                43\n",
       "3                        3                18\n",
       "4                        4                27"
      ]
     },
     "execution_count": 44,
     "metadata": {},
     "output_type": "execute_result"
    }
   ],
   "source": [
    "#products_sets = \n",
    "trans_sum_per_day = data_sample.groupby('days_since_last_contact', as_index = False).agg({'transactions' : 'sum'}).sort_values('transactions', ascending = False) \\\n",
    "    .rename(columns ={'transactions' : 'transactions_sum'}).sort_values('days_since_last_contact')\n",
    "trans_sum_per_day.head()"
   ]
  },
  {
   "cell_type": "markdown",
   "metadata": {},
   "source": [
    "**Is there any trend between the days since last contacted and amount of transactions**"
   ]
  },
  {
   "cell_type": "code",
   "execution_count": 45,
   "metadata": {},
   "outputs": [
    {
     "data": {
      "text/plain": [
       "<matplotlib.axes._subplots.AxesSubplot at 0x162f9e76860>"
      ]
     },
     "execution_count": 45,
     "metadata": {},
     "output_type": "execute_result"
    },
    {
     "data": {
      "image/png": "[encoded data removed]",
      "text/plain": [
       "<Figure size 432x288 with 1 Axes>"
      ]
     },
     "metadata": {
      "needs_background": "light"
     },
     "output_type": "display_data"
    }
   ],
   "source": [
    "sns.scatterplot(data=data_sample, x=\"days_since_last_contact\", y=\"transactions\")\n",
    "#here we see that the dates 6 and 7 are absent"
   ]
  },
  {
   "cell_type": "code",
   "execution_count": 46,
   "metadata": {},
   "outputs": [
    {
     "data": {
      "text/plain": [
       "<matplotlib.axes._subplots.AxesSubplot at 0x162f83bec50>"
      ]
     },
     "execution_count": 46,
     "metadata": {},
     "output_type": "execute_result"
    },
    {
     "data": {
      "image/png": "[encoded data removed]",
      "text/plain": [
       "<Figure size 432x288 with 1 Axes>"
      ]
     },
     "metadata": {
      "needs_background": "light"
     },
     "output_type": "display_data"
    }
   ],
   "source": [
    "sns.scatterplot(data=trans_sum_per_day, x=\"days_since_last_contact\", y=\"transactions_sum\")"
   ]
  },
  {
   "cell_type": "code",
   "execution_count": null,
   "metadata": {},
   "outputs": [],
   "source": []
  },
  {
   "cell_type": "code",
   "execution_count": null,
   "metadata": {},
   "outputs": [],
   "source": []
  },
  {
   "cell_type": "code",
   "execution_count": null,
   "metadata": {},
   "outputs": [],
   "source": []
  },
  {
   "cell_type": "code",
   "execution_count": 41,
   "metadata": {},
   "outputs": [
    {
     "data": {
      "text/plain": [
       "<matplotlib.axes._subplots.AxesSubplot at 0x162fa62ba90>"
      ]
     },
     "execution_count": 41,
     "metadata": {},
     "output_type": "execute_result"
    },
    {
     "data": {
      "image/png": "[encoded data removed]",
      "text/plain": [
       "<Figure size 432x288 with 1 Axes>"
      ]
     },
     "metadata": {
      "needs_background": "light"
     },
     "output_type": "display_data"
    }
   ],
   "source": [
    "sns.scatterplot(data=data_sample, x=\"days_since_last_contact\", y=\"loyalty\")"
   ]
  },
  {
   "cell_type": "code",
   "execution_count": 42,
   "metadata": {},
   "outputs": [
    {
     "data": {
      "text/plain": [
       "<matplotlib.axes._subplots.AxesSubplot at 0x162fa006cf8>"
      ]
     },
     "execution_count": 42,
     "metadata": {},
     "output_type": "execute_result"
    },
    {
     "data": {
      "image/png": "[encoded data removed]",
      "text/plain": [
       "<Figure size 432x288 with 1 Axes>"
      ]
     },
     "metadata": {
      "needs_background": "light"
     },
     "output_type": "display_data"
    }
   ],
   "source": [
    "sns.scatterplot(data=data_sample, x=\"transactions\", y=\"loyalty\")"
   ]
  },
  {
   "cell_type": "code",
   "execution_count": null,
   "metadata": {},
   "outputs": [],
   "source": []
  },
  {
   "cell_type": "code",
   "execution_count": null,
   "metadata": {},
   "outputs": [],
   "source": []
  },
  {
   "cell_type": "code",
   "execution_count": null,
   "metadata": {},
   "outputs": [],
   "source": []
  },
  {
   "cell_type": "code",
   "execution_count": null,
   "metadata": {},
   "outputs": [],
   "source": []
  },
  {
   "cell_type": "code",
   "execution_count": 24,
   "metadata": {},
   "outputs": [
    {
     "data": {
      "text/html": [
       "<div>\n",
       "<style scoped>\n",
       "    .dataframe tbody tr th:only-of-type {\n",
       "        vertical-align: middle;\n",
       "    }\n",
       "\n",
       "    .dataframe tbody tr th {\n",
       "        vertical-align: top;\n",
       "    }\n",
       "\n",
       "    .dataframe thead th {\n",
       "        text-align: right;\n",
       "    }\n",
       "</style>\n",
       "<table border=\"1\" class=\"dataframe\">\n",
       "  <thead>\n",
       "    <tr style=\"text-align: right;\">\n",
       "      <th></th>\n",
       "      <th>days_since_last_contact</th>\n",
       "      <th>count_days</th>\n",
       "      <th>transactions</th>\n",
       "      <th>count_product_ids</th>\n",
       "    </tr>\n",
       "  </thead>\n",
       "  <tbody>\n",
       "    <tr>\n",
       "      <th>0</th>\n",
       "      <td>0</td>\n",
       "      <td>3</td>\n",
       "      <td>21</td>\n",
       "      <td>9</td>\n",
       "    </tr>\n",
       "    <tr>\n",
       "      <th>1</th>\n",
       "      <td>1</td>\n",
       "      <td>14</td>\n",
       "      <td>74</td>\n",
       "      <td>48</td>\n",
       "    </tr>\n",
       "    <tr>\n",
       "      <th>2</th>\n",
       "      <td>2</td>\n",
       "      <td>6</td>\n",
       "      <td>43</td>\n",
       "      <td>29</td>\n",
       "    </tr>\n",
       "    <tr>\n",
       "      <th>3</th>\n",
       "      <td>3</td>\n",
       "      <td>3</td>\n",
       "      <td>18</td>\n",
       "      <td>14</td>\n",
       "    </tr>\n",
       "    <tr>\n",
       "      <th>4</th>\n",
       "      <td>4</td>\n",
       "      <td>7</td>\n",
       "      <td>27</td>\n",
       "      <td>29</td>\n",
       "    </tr>\n",
       "    <tr>\n",
       "      <th>5</th>\n",
       "      <td>5</td>\n",
       "      <td>19</td>\n",
       "      <td>148</td>\n",
       "      <td>78</td>\n",
       "    </tr>\n",
       "    <tr>\n",
       "      <th>6</th>\n",
       "      <td>8</td>\n",
       "      <td>16</td>\n",
       "      <td>102</td>\n",
       "      <td>60</td>\n",
       "    </tr>\n",
       "    <tr>\n",
       "      <th>7</th>\n",
       "      <td>9</td>\n",
       "      <td>13</td>\n",
       "      <td>91</td>\n",
       "      <td>49</td>\n",
       "    </tr>\n",
       "    <tr>\n",
       "      <th>8</th>\n",
       "      <td>10</td>\n",
       "      <td>3</td>\n",
       "      <td>21</td>\n",
       "      <td>13</td>\n",
       "    </tr>\n",
       "    <tr>\n",
       "      <th>9</th>\n",
       "      <td>11</td>\n",
       "      <td>3</td>\n",
       "      <td>22</td>\n",
       "      <td>6</td>\n",
       "    </tr>\n",
       "    <tr>\n",
       "      <th>10</th>\n",
       "      <td>12</td>\n",
       "      <td>10</td>\n",
       "      <td>61</td>\n",
       "      <td>31</td>\n",
       "    </tr>\n",
       "    <tr>\n",
       "      <th>11</th>\n",
       "      <td>14</td>\n",
       "      <td>3</td>\n",
       "      <td>27</td>\n",
       "      <td>16</td>\n",
       "    </tr>\n",
       "  </tbody>\n",
       "</table>\n",
       "</div>"
      ],
      "text/plain": [
       "    days_since_last_contact  count_days  transactions  count_product_ids\n",
       "0                         0           3            21                  9\n",
       "1                         1          14            74                 48\n",
       "2                         2           6            43                 29\n",
       "3                         3           3            18                 14\n",
       "4                         4           7            27                 29\n",
       "5                         5          19           148                 78\n",
       "6                         8          16           102                 60\n",
       "7                         9          13            91                 49\n",
       "8                        10           3            21                 13\n",
       "9                        11           3            22                  6\n",
       "10                       12          10            61                 31\n",
       "11                       14           3            27                 16"
      ]
     },
     "execution_count": 24,
     "metadata": {},
     "output_type": "execute_result"
    }
   ],
   "source": [
    "data_sample.groupby('days_since_last_contact', as_index = False).agg({'person_id' : 'count', 'transactions' : 'sum', 'count_product_ids' : 'sum'}).sort_values('person_id', ascending = False) \\\n",
    "    .rename(columns ={'person_id' : 'count_days'}).sort_values('days_since_last_contact')"
   ]
  },
  {
   "cell_type": "code",
   "execution_count": null,
   "metadata": {},
   "outputs": [],
   "source": []
  },
  {
   "cell_type": "code",
   "execution_count": null,
   "metadata": {},
   "outputs": [],
   "source": []
  },
  {
   "cell_type": "markdown",
   "metadata": {},
   "source": [
    "**Importing products data**"
   ]
  },
  {
   "cell_type": "code",
   "execution_count": 20,
   "metadata": {},
   "outputs": [
    {
     "data": {
      "text/html": [
       "<div>\n",
       "<style scoped>\n",
       "    .dataframe tbody tr th:only-of-type {\n",
       "        vertical-align: middle;\n",
       "    }\n",
       "\n",
       "    .dataframe tbody tr th {\n",
       "        vertical-align: top;\n",
       "    }\n",
       "\n",
       "    .dataframe thead th {\n",
       "        text-align: right;\n",
       "    }\n",
       "</style>\n",
       "<table border=\"1\" class=\"dataframe\">\n",
       "  <thead>\n",
       "    <tr style=\"text-align: right;\">\n",
       "      <th></th>\n",
       "      <th>id</th>\n",
       "      <th>name</th>\n",
       "      <th>category_level_1</th>\n",
       "      <th>region</th>\n",
       "      <th>stock_level</th>\n",
       "      <th>is_seasonal</th>\n",
       "      <th>productdata_language</th>\n",
       "    </tr>\n",
       "  </thead>\n",
       "  <tbody>\n",
       "    <tr>\n",
       "      <th>0</th>\n",
       "      <td>7881</td>\n",
       "      <td>mango</td>\n",
       "      <td>fruits</td>\n",
       "      <td>1</td>\n",
       "      <td>0</td>\n",
       "      <td>True</td>\n",
       "      <td>DE</td>\n",
       "    </tr>\n",
       "    <tr>\n",
       "      <th>1</th>\n",
       "      <td>10834</td>\n",
       "      <td>ovomaltine schokolade</td>\n",
       "      <td>sweets</td>\n",
       "      <td>2</td>\n",
       "      <td>3</td>\n",
       "      <td>False</td>\n",
       "      <td>DE</td>\n",
       "    </tr>\n",
       "    <tr>\n",
       "      <th>2</th>\n",
       "      <td>61603</td>\n",
       "      <td>nutella</td>\n",
       "      <td>sweets</td>\n",
       "      <td>2</td>\n",
       "      <td>3</td>\n",
       "      <td>False</td>\n",
       "      <td>DE</td>\n",
       "    </tr>\n",
       "    <tr>\n",
       "      <th>3</th>\n",
       "      <td>63288</td>\n",
       "      <td>birnen</td>\n",
       "      <td>fruits</td>\n",
       "      <td>1</td>\n",
       "      <td>0</td>\n",
       "      <td>True</td>\n",
       "      <td>DE</td>\n",
       "    </tr>\n",
       "    <tr>\n",
       "      <th>4</th>\n",
       "      <td>125830</td>\n",
       "      <td>karotten</td>\n",
       "      <td>vegetables</td>\n",
       "      <td>1</td>\n",
       "      <td>1</td>\n",
       "      <td>False</td>\n",
       "      <td>DE</td>\n",
       "    </tr>\n",
       "  </tbody>\n",
       "</table>\n",
       "</div>"
      ],
      "text/plain": [
       "       id                   name category_level_1  region  stock_level  \\\n",
       "0    7881                  mango           fruits       1            0   \n",
       "1   10834  ovomaltine schokolade           sweets       2            3   \n",
       "2   61603                nutella           sweets       2            3   \n",
       "3   63288                 birnen           fruits       1            0   \n",
       "4  125830               karotten       vegetables       1            1   \n",
       "\n",
       "   is_seasonal productdata_language  \n",
       "0         True                   DE  \n",
       "1        False                   DE  \n",
       "2        False                   DE  \n",
       "3         True                   DE  \n",
       "4        False                   DE  "
      ]
     },
     "execution_count": 20,
     "metadata": {},
     "output_type": "execute_result"
    }
   ],
   "source": [
    "sheet_name2 = 'products'\n",
    "\n",
    "url2 = f\"https://docs.google.com/spreadsheets/d/{sheet_id}/gviz/tq?tqx=out:csv&sheet={sheet_name2}\"\n",
    "\n",
    "products=pd.read_csv(url2)\n",
    "products.head()"
   ]
  },
  {
   "cell_type": "markdown",
   "metadata": {},
   "source": [
    "**Merging products and data_sample tables**"
   ]
  },
  {
   "cell_type": "code",
   "execution_count": 90,
   "metadata": {},
   "outputs": [],
   "source": [
    "l = list_fruits[0]\n",
    "fruits[]\n",
    "df['contains'] = df['text'].apply(lambda x: ','.join([i for i in l if i in x]))"
   ]
  },
  {
   "cell_type": "code",
   "execution_count": 71,
   "metadata": {},
   "outputs": [
    {
     "data": {
      "text/html": [
       "<div>\n",
       "<style scoped>\n",
       "    .dataframe tbody tr th:only-of-type {\n",
       "        vertical-align: middle;\n",
       "    }\n",
       "\n",
       "    .dataframe tbody tr th {\n",
       "        vertical-align: top;\n",
       "    }\n",
       "\n",
       "    .dataframe thead th {\n",
       "        text-align: right;\n",
       "    }\n",
       "</style>\n",
       "<table border=\"1\" class=\"dataframe\">\n",
       "  <thead>\n",
       "    <tr style=\"text-align: right;\">\n",
       "      <th></th>\n",
       "      <th>0</th>\n",
       "      <th>1</th>\n",
       "      <th>2</th>\n",
       "      <th>3</th>\n",
       "      <th>4</th>\n",
       "      <th>5</th>\n",
       "    </tr>\n",
       "  </thead>\n",
       "  <tbody>\n",
       "    <tr>\n",
       "      <th>0</th>\n",
       "      <td>7881</td>\n",
       "      <td>10834</td>\n",
       "      <td>61603.0</td>\n",
       "      <td>62040.0</td>\n",
       "      <td>63288.0</td>\n",
       "      <td>125830.0</td>\n",
       "    </tr>\n",
       "  </tbody>\n",
       "</table>\n",
       "</div>"
      ],
      "text/plain": [
       "      0      1        2        3        4         5\n",
       "0  7881  10834  61603.0  62040.0  63288.0  125830.0"
      ]
     },
     "execution_count": 71,
     "metadata": {},
     "output_type": "execute_result"
    }
   ],
   "source": [
    "list_fruits.iloc[:1]"
   ]
  },
  {
   "cell_type": "code",
   "execution_count": null,
   "metadata": {},
   "outputs": [],
   "source": []
  },
  {
   "cell_type": "code",
   "execution_count": null,
   "metadata": {},
   "outputs": [],
   "source": []
  },
  {
   "cell_type": "code",
   "execution_count": 57,
   "metadata": {},
   "outputs": [
    {
     "data": {
      "text/plain": [
       "0    [7881, 10834, 61603, 62040, 63288, 125830]\n",
       "1          [10834, 61603, 62040, 63288, 125830]\n",
       "2                               [63288, 125830]\n",
       "3                                 [7881, 10834]\n",
       "4           [7881, 10834, 62040, 63288, 125830]\n",
       "Name: list_product_ids, dtype: object"
      ]
     },
     "execution_count": 57,
     "metadata": {},
     "output_type": "execute_result"
    }
   ],
   "source": [
    "data_sample.list_product_ids.head()"
   ]
  },
  {
   "cell_type": "code",
   "execution_count": null,
   "metadata": {},
   "outputs": [],
   "source": [
    "new_table = []\n",
    "pd.DataFrame(np.sort((data_sample.list_product_ids.tolist(), index= data_sample.index), axis = 1), columns = data_sample.columns)"
   ]
  },
  {
   "cell_type": "code",
   "execution_count": 99,
   "metadata": {
    "scrolled": false
   },
   "outputs": [
    {
     "data": {
      "text/html": [
       "<div>\n",
       "<style scoped>\n",
       "    .dataframe tbody tr th:only-of-type {\n",
       "        vertical-align: middle;\n",
       "    }\n",
       "\n",
       "    .dataframe tbody tr th {\n",
       "        vertical-align: top;\n",
       "    }\n",
       "\n",
       "    .dataframe thead th {\n",
       "        text-align: right;\n",
       "    }\n",
       "</style>\n",
       "<table border=\"1\" class=\"dataframe\">\n",
       "  <thead>\n",
       "    <tr style=\"text-align: right;\">\n",
       "      <th></th>\n",
       "      <th>transactions</th>\n",
       "      <th>loyalty</th>\n",
       "      <th>days_since_last_contact</th>\n",
       "      <th>gender</th>\n",
       "      <th>person_id</th>\n",
       "      <th>product_ids</th>\n",
       "      <th>0ne.hot.1</th>\n",
       "      <th>0ne.hot.2</th>\n",
       "      <th>0ne.hot.3</th>\n",
       "      <th>0ne.hot.4</th>\n",
       "      <th>...</th>\n",
       "      <th>Unnamed: 16</th>\n",
       "      <th>Unnamed: 17</th>\n",
       "      <th>Unnamed: 18</th>\n",
       "      <th>Unnamed: 19</th>\n",
       "      <th>Unnamed: 20</th>\n",
       "      <th>Unnamed: 21</th>\n",
       "      <th>Unnamed: 22</th>\n",
       "      <th>Unnamed: 23</th>\n",
       "      <th>Unnamed: 24</th>\n",
       "      <th>Unnamed: 25</th>\n",
       "    </tr>\n",
       "  </thead>\n",
       "  <tbody>\n",
       "    <tr>\n",
       "      <th>0</th>\n",
       "      <td>4</td>\n",
       "      <td>-1.33</td>\n",
       "      <td>2</td>\n",
       "      <td>m</td>\n",
       "      <td>170636bb-3601-4a18-b572-52650c0d2d0e</td>\n",
       "      <td>[7881,10834,61603,62040,63288,125830]</td>\n",
       "      <td>1</td>\n",
       "      <td>0</td>\n",
       "      <td>0</td>\n",
       "      <td>0</td>\n",
       "      <td>...</td>\n",
       "      <td>NaN</td>\n",
       "      <td>NaN</td>\n",
       "      <td>NaN</td>\n",
       "      <td>NaN</td>\n",
       "      <td>NaN</td>\n",
       "      <td>NaN</td>\n",
       "      <td>NaN</td>\n",
       "      <td>NaN</td>\n",
       "      <td>NaN</td>\n",
       "      <td>NaN</td>\n",
       "    </tr>\n",
       "    <tr>\n",
       "      <th>1</th>\n",
       "      <td>6</td>\n",
       "      <td>-0.28</td>\n",
       "      <td>3</td>\n",
       "      <td>m</td>\n",
       "      <td>2a4c9697-b937-4429-9fd3-5529929a1ab9</td>\n",
       "      <td>[10834,61603,62040,63288,125830]</td>\n",
       "      <td>1</td>\n",
       "      <td>0</td>\n",
       "      <td>0</td>\n",
       "      <td>0</td>\n",
       "      <td>...</td>\n",
       "      <td>NaN</td>\n",
       "      <td>NaN</td>\n",
       "      <td>NaN</td>\n",
       "      <td>NaN</td>\n",
       "      <td>NaN</td>\n",
       "      <td>NaN</td>\n",
       "      <td>NaN</td>\n",
       "      <td>NaN</td>\n",
       "      <td>NaN</td>\n",
       "      <td>NaN</td>\n",
       "    </tr>\n",
       "    <tr>\n",
       "      <th>2</th>\n",
       "      <td>5</td>\n",
       "      <td>-0.22</td>\n",
       "      <td>1</td>\n",
       "      <td>w</td>\n",
       "      <td>4d12441d-3748-4b05-81bf-fd24f9f9d6f4</td>\n",
       "      <td>[63288,125830]</td>\n",
       "      <td>1</td>\n",
       "      <td>0</td>\n",
       "      <td>0</td>\n",
       "      <td>0</td>\n",
       "      <td>...</td>\n",
       "      <td>NaN</td>\n",
       "      <td>NaN</td>\n",
       "      <td>NaN</td>\n",
       "      <td>NaN</td>\n",
       "      <td>NaN</td>\n",
       "      <td>NaN</td>\n",
       "      <td>NaN</td>\n",
       "      <td>NaN</td>\n",
       "      <td>NaN</td>\n",
       "      <td>NaN</td>\n",
       "    </tr>\n",
       "    <tr>\n",
       "      <th>3</th>\n",
       "      <td>7</td>\n",
       "      <td>-0.29</td>\n",
       "      <td>0</td>\n",
       "      <td>m</td>\n",
       "      <td>00f173be-96b1-4407-809c-6882e5bbb1fd</td>\n",
       "      <td>[7881,10834]</td>\n",
       "      <td>0</td>\n",
       "      <td>1</td>\n",
       "      <td>0</td>\n",
       "      <td>0</td>\n",
       "      <td>...</td>\n",
       "      <td>NaN</td>\n",
       "      <td>NaN</td>\n",
       "      <td>NaN</td>\n",
       "      <td>NaN</td>\n",
       "      <td>NaN</td>\n",
       "      <td>NaN</td>\n",
       "      <td>NaN</td>\n",
       "      <td>NaN</td>\n",
       "      <td>NaN</td>\n",
       "      <td>NaN</td>\n",
       "    </tr>\n",
       "    <tr>\n",
       "      <th>4</th>\n",
       "      <td>4</td>\n",
       "      <td>1.06</td>\n",
       "      <td>5</td>\n",
       "      <td>m</td>\n",
       "      <td>f5aa1643-398f-4027-ab75-7b72ebe92d90</td>\n",
       "      <td>[7881,10834,62040,63288,125830]</td>\n",
       "      <td>0</td>\n",
       "      <td>0</td>\n",
       "      <td>1</td>\n",
       "      <td>0</td>\n",
       "      <td>...</td>\n",
       "      <td>NaN</td>\n",
       "      <td>NaN</td>\n",
       "      <td>NaN</td>\n",
       "      <td>NaN</td>\n",
       "      <td>NaN</td>\n",
       "      <td>NaN</td>\n",
       "      <td>NaN</td>\n",
       "      <td>NaN</td>\n",
       "      <td>NaN</td>\n",
       "      <td>NaN</td>\n",
       "    </tr>\n",
       "  </tbody>\n",
       "</table>\n",
       "<p>5 rows × 26 columns</p>\n",
       "</div>"
      ],
      "text/plain": [
       "   transactions  loyalty  days_since_last_contact gender  \\\n",
       "0             4    -1.33                        2      m   \n",
       "1             6    -0.28                        3      m   \n",
       "2             5    -0.22                        1      w   \n",
       "3             7    -0.29                        0      m   \n",
       "4             4     1.06                        5      m   \n",
       "\n",
       "                              person_id  \\\n",
       "0  170636bb-3601-4a18-b572-52650c0d2d0e   \n",
       "1  2a4c9697-b937-4429-9fd3-5529929a1ab9   \n",
       "2  4d12441d-3748-4b05-81bf-fd24f9f9d6f4   \n",
       "3  00f173be-96b1-4407-809c-6882e5bbb1fd   \n",
       "4  f5aa1643-398f-4027-ab75-7b72ebe92d90   \n",
       "\n",
       "                             product_ids  0ne.hot.1  0ne.hot.2  0ne.hot.3  \\\n",
       "0  [7881,10834,61603,62040,63288,125830]          1          0          0   \n",
       "1       [10834,61603,62040,63288,125830]          1          0          0   \n",
       "2                         [63288,125830]          1          0          0   \n",
       "3                           [7881,10834]          0          1          0   \n",
       "4        [7881,10834,62040,63288,125830]          0          0          1   \n",
       "\n",
       "   0ne.hot.4     ...      Unnamed: 16 Unnamed: 17  Unnamed: 18  Unnamed: 19  \\\n",
       "0          0     ...              NaN         NaN          NaN          NaN   \n",
       "1          0     ...              NaN         NaN          NaN          NaN   \n",
       "2          0     ...              NaN         NaN          NaN          NaN   \n",
       "3          0     ...              NaN         NaN          NaN          NaN   \n",
       "4          0     ...              NaN         NaN          NaN          NaN   \n",
       "\n",
       "   Unnamed: 20  Unnamed: 21  Unnamed: 22  Unnamed: 23  Unnamed: 24  \\\n",
       "0          NaN          NaN          NaN          NaN          NaN   \n",
       "1          NaN          NaN          NaN          NaN          NaN   \n",
       "2          NaN          NaN          NaN          NaN          NaN   \n",
       "3          NaN          NaN          NaN          NaN          NaN   \n",
       "4          NaN          NaN          NaN          NaN          NaN   \n",
       "\n",
       "   Unnamed: 25  \n",
       "0          NaN  \n",
       "1          NaN  \n",
       "2          NaN  \n",
       "3          NaN  \n",
       "4          NaN  \n",
       "\n",
       "[5 rows x 26 columns]"
      ]
     },
     "execution_count": 99,
     "metadata": {},
     "output_type": "execute_result"
    }
   ],
   "source": [
    "# Reading data as a pandas data frame.\n",
    "# We have three tables: data_sample, products, person.\n",
    "\n",
    "sheet_id = '1CrIcItzuVRaYz3g2V6adq7D1flsGM6zbVp9YS4mJz3s' \n",
    "\n",
    "sheet_name1 = 'data_sample'\n",
    "sheet_name2 = 'products'\n",
    "sheet_name3 = 'person'\n",
    "\n",
    "url1 = f\"https://docs.google.com/spreadsheets/d/{sheet_id}/gviz/tq?tqx=out:csv&sheet={sheet_name1}\"\n",
    "\n",
    "data_sample=pd.read_csv(url1)\n",
    "data_sample.head()"
   ]
  }
 ],
 "metadata": {
  "kernelspec": {
   "display_name": "Python 3",
   "language": "python",
   "name": "python3"
  },
  "language_info": {
   "codemirror_mode": {
    "name": "ipython",
    "version": 3
   },
   "file_extension": ".py",
   "mimetype": "text/x-python",
   "name": "python",
   "nbconvert_exporter": "python",
   "pygments_lexer": "ipython3",
   "version": "3.7.1"
  }
 },
 "nbformat": 4,
 "nbformat_minor": 2
}
