{
 "cells": [
  {
   "cell_type": "markdown",
   "metadata": {},
   "source": [
    "# Migros technical interview\n",
    "\n",
    "## Main tasks:\n",
    "\n",
    "1. Analyze the data, show us what you would do to understand it and what to do to make it more usable or meaningful. \n",
    "Explain us how you interpret the results. You are free to use any (open source) industry standard tools you like.\n",
    "\n",
    "2. How would you derive insights? \n",
    "What would be important if you would implement a monitoring for this?\n",
    "What would make your dashboard most useful?\n",
    "\n",
    "3. Describe and if time work on a model you would choose to provide a website personalization/segmentation solution and tell us why. \n",
    "Define your own goal for your approach.\n",
    "\n",
    "## Approach:\n",
    "\n",
    "1. Analyze the data, show us what you would do to understand it and what to do to make it more usable or meaningful. \n",
    "\n",
    " - Exploratory data analysis\n",
    "     - Data Collection\n",
    "     - Data Cleaning\n",
    "     - Univariate Analysis\n",
    "     - Bivariate Analysis\n",
    "\n",
    "-----------------------------------------------------------"
   ]
  },
  {
   "cell_type": "markdown",
   "metadata": {},
   "source": [
    "## Exploratory data analysis\n",
    "\n",
    "### Data Collection"
   ]
  },
  {
   "cell_type": "markdown",
   "metadata": {},
   "source": [
    "First we import all necessary modules."
   ]
  },
  {
   "cell_type": "code",
   "execution_count": 525,
   "metadata": {},
   "outputs": [],
   "source": [
    "import pandas as pd\n",
    "import numpy as np\n",
    "import seaborn as sns\n",
    "import matplotlib.pyplot as plt\n",
    "\n",
    "%matplotlib inline"
   ]
  },
  {
   "cell_type": "markdown",
   "metadata": {},
   "source": [
    "We read data as a pandas data frame. \n",
    "In our data we have 3 tables: data_sample, products, person."
   ]
  },
  {
   "cell_type": "code",
   "execution_count": 526,
   "metadata": {},
   "outputs": [],
   "source": [
    "sheet_id = '1CrIcItzuVRaYz3g2V6adq7D1flsGM6zbVp9YS4mJz3s' \n",
    "\n",
    "sheet_name1 = 'data_sample'\n",
    "sheet_name2 = 'products'\n",
    "sheet_name3 = 'person'\n",
    "\n",
    "#url1 = f\"https://docs.google.com/spreadsheets/d/{sheet_id}/gviz/tq?tqx=out:csv&sheet={sheet_name1}\"\n",
    "\n",
    "data_sample=pd.read_csv(f\"https://docs.google.com/spreadsheets/d/{sheet_id}/gviz/tq?tqx=out:csv&sheet={'data_sample'}\")\n",
    "products=pd.read_csv(f\"https://docs.google.com/spreadsheets/d/{sheet_id}/gviz/tq?tqx=out:csv&sheet={'products'}\")\n",
    "person=pd.read_csv(f\"https://docs.google.com/spreadsheets/d/{sheet_id}/gviz/tq?tqx=out:csv&sheet={'person'}\")"
   ]
  },
  {
   "cell_type": "markdown",
   "metadata": {},
   "source": [
    "Let's have a look at the first table: \n",
    "\n",
    "## data_sample"
   ]
  },
  {
   "cell_type": "code",
   "execution_count": 527,
   "metadata": {},
   "outputs": [
    {
     "data": {
      "text/html": [
       "<div>\n",
       "<style scoped>\n",
       "    .dataframe tbody tr th:only-of-type {\n",
       "        vertical-align: middle;\n",
       "    }\n",
       "\n",
       "    .dataframe tbody tr th {\n",
       "        vertical-align: top;\n",
       "    }\n",
       "\n",
       "    .dataframe thead th {\n",
       "        text-align: right;\n",
       "    }\n",
       "</style>\n",
       "<table border=\"1\" class=\"dataframe\">\n",
       "  <thead>\n",
       "    <tr style=\"text-align: right;\">\n",
       "      <th></th>\n",
       "      <th>transactions</th>\n",
       "      <th>loyalty</th>\n",
       "      <th>days_since_last_contact</th>\n",
       "      <th>gender</th>\n",
       "      <th>person_id</th>\n",
       "      <th>product_ids</th>\n",
       "      <th>0ne.hot.1</th>\n",
       "      <th>0ne.hot.2</th>\n",
       "      <th>0ne.hot.3</th>\n",
       "      <th>0ne.hot.4</th>\n",
       "      <th>...</th>\n",
       "      <th>Unnamed: 16</th>\n",
       "      <th>Unnamed: 17</th>\n",
       "      <th>Unnamed: 18</th>\n",
       "      <th>Unnamed: 19</th>\n",
       "      <th>Unnamed: 20</th>\n",
       "      <th>Unnamed: 21</th>\n",
       "      <th>Unnamed: 22</th>\n",
       "      <th>Unnamed: 23</th>\n",
       "      <th>Unnamed: 24</th>\n",
       "      <th>Unnamed: 25</th>\n",
       "    </tr>\n",
       "  </thead>\n",
       "  <tbody>\n",
       "    <tr>\n",
       "      <th>0</th>\n",
       "      <td>4</td>\n",
       "      <td>-1.33</td>\n",
       "      <td>2</td>\n",
       "      <td>m</td>\n",
       "      <td>170636bb-3601-4a18-b572-52650c0d2d0e</td>\n",
       "      <td>[7881,10834,61603,62040,63288,125830]</td>\n",
       "      <td>1</td>\n",
       "      <td>0</td>\n",
       "      <td>0</td>\n",
       "      <td>0</td>\n",
       "      <td>...</td>\n",
       "      <td>NaN</td>\n",
       "      <td>NaN</td>\n",
       "      <td>NaN</td>\n",
       "      <td>NaN</td>\n",
       "      <td>NaN</td>\n",
       "      <td>NaN</td>\n",
       "      <td>NaN</td>\n",
       "      <td>NaN</td>\n",
       "      <td>NaN</td>\n",
       "      <td>NaN</td>\n",
       "    </tr>\n",
       "    <tr>\n",
       "      <th>1</th>\n",
       "      <td>6</td>\n",
       "      <td>-0.28</td>\n",
       "      <td>3</td>\n",
       "      <td>m</td>\n",
       "      <td>2a4c9697-b937-4429-9fd3-5529929a1ab9</td>\n",
       "      <td>[10834,61603,62040,63288,125830]</td>\n",
       "      <td>1</td>\n",
       "      <td>0</td>\n",
       "      <td>0</td>\n",
       "      <td>0</td>\n",
       "      <td>...</td>\n",
       "      <td>NaN</td>\n",
       "      <td>NaN</td>\n",
       "      <td>NaN</td>\n",
       "      <td>NaN</td>\n",
       "      <td>NaN</td>\n",
       "      <td>NaN</td>\n",
       "      <td>NaN</td>\n",
       "      <td>NaN</td>\n",
       "      <td>NaN</td>\n",
       "      <td>NaN</td>\n",
       "    </tr>\n",
       "    <tr>\n",
       "      <th>2</th>\n",
       "      <td>5</td>\n",
       "      <td>-0.22</td>\n",
       "      <td>1</td>\n",
       "      <td>w</td>\n",
       "      <td>4d12441d-3748-4b05-81bf-fd24f9f9d6f4</td>\n",
       "      <td>[63288,125830]</td>\n",
       "      <td>1</td>\n",
       "      <td>0</td>\n",
       "      <td>0</td>\n",
       "      <td>0</td>\n",
       "      <td>...</td>\n",
       "      <td>NaN</td>\n",
       "      <td>NaN</td>\n",
       "      <td>NaN</td>\n",
       "      <td>NaN</td>\n",
       "      <td>NaN</td>\n",
       "      <td>NaN</td>\n",
       "      <td>NaN</td>\n",
       "      <td>NaN</td>\n",
       "      <td>NaN</td>\n",
       "      <td>NaN</td>\n",
       "    </tr>\n",
       "    <tr>\n",
       "      <th>3</th>\n",
       "      <td>7</td>\n",
       "      <td>-0.29</td>\n",
       "      <td>0</td>\n",
       "      <td>m</td>\n",
       "      <td>00f173be-96b1-4407-809c-6882e5bbb1fd</td>\n",
       "      <td>[7881,10834]</td>\n",
       "      <td>0</td>\n",
       "      <td>1</td>\n",
       "      <td>0</td>\n",
       "      <td>0</td>\n",
       "      <td>...</td>\n",
       "      <td>NaN</td>\n",
       "      <td>NaN</td>\n",
       "      <td>NaN</td>\n",
       "      <td>NaN</td>\n",
       "      <td>NaN</td>\n",
       "      <td>NaN</td>\n",
       "      <td>NaN</td>\n",
       "      <td>NaN</td>\n",
       "      <td>NaN</td>\n",
       "      <td>NaN</td>\n",
       "    </tr>\n",
       "    <tr>\n",
       "      <th>4</th>\n",
       "      <td>4</td>\n",
       "      <td>1.06</td>\n",
       "      <td>5</td>\n",
       "      <td>m</td>\n",
       "      <td>f5aa1643-398f-4027-ab75-7b72ebe92d90</td>\n",
       "      <td>[7881,10834,62040,63288,125830]</td>\n",
       "      <td>0</td>\n",
       "      <td>0</td>\n",
       "      <td>1</td>\n",
       "      <td>0</td>\n",
       "      <td>...</td>\n",
       "      <td>NaN</td>\n",
       "      <td>NaN</td>\n",
       "      <td>NaN</td>\n",
       "      <td>NaN</td>\n",
       "      <td>NaN</td>\n",
       "      <td>NaN</td>\n",
       "      <td>NaN</td>\n",
       "      <td>NaN</td>\n",
       "      <td>NaN</td>\n",
       "      <td>NaN</td>\n",
       "    </tr>\n",
       "    <tr>\n",
       "      <th>...</th>\n",
       "      <td>...</td>\n",
       "      <td>...</td>\n",
       "      <td>...</td>\n",
       "      <td>...</td>\n",
       "      <td>...</td>\n",
       "      <td>...</td>\n",
       "      <td>...</td>\n",
       "      <td>...</td>\n",
       "      <td>...</td>\n",
       "      <td>...</td>\n",
       "      <td>...</td>\n",
       "      <td>...</td>\n",
       "      <td>...</td>\n",
       "      <td>...</td>\n",
       "      <td>...</td>\n",
       "      <td>...</td>\n",
       "      <td>...</td>\n",
       "      <td>...</td>\n",
       "      <td>...</td>\n",
       "      <td>...</td>\n",
       "      <td>...</td>\n",
       "    </tr>\n",
       "    <tr>\n",
       "      <th>95</th>\n",
       "      <td>5</td>\n",
       "      <td>-0.22</td>\n",
       "      <td>1</td>\n",
       "      <td>w</td>\n",
       "      <td>f00c336b-e02c-44e5-8bfa-59b71374fa54</td>\n",
       "      <td>[63288,125830]</td>\n",
       "      <td>0</td>\n",
       "      <td>1</td>\n",
       "      <td>0</td>\n",
       "      <td>0</td>\n",
       "      <td>...</td>\n",
       "      <td>NaN</td>\n",
       "      <td>NaN</td>\n",
       "      <td>NaN</td>\n",
       "      <td>NaN</td>\n",
       "      <td>NaN</td>\n",
       "      <td>NaN</td>\n",
       "      <td>NaN</td>\n",
       "      <td>NaN</td>\n",
       "      <td>NaN</td>\n",
       "      <td>NaN</td>\n",
       "    </tr>\n",
       "    <tr>\n",
       "      <th>96</th>\n",
       "      <td>5</td>\n",
       "      <td>-0.29</td>\n",
       "      <td>5</td>\n",
       "      <td>m</td>\n",
       "      <td>49402263-e3b7-4305-a09e-f5508ab4aa92</td>\n",
       "      <td>[63288,125830]</td>\n",
       "      <td>0</td>\n",
       "      <td>0</td>\n",
       "      <td>0</td>\n",
       "      <td>1</td>\n",
       "      <td>...</td>\n",
       "      <td>NaN</td>\n",
       "      <td>NaN</td>\n",
       "      <td>NaN</td>\n",
       "      <td>NaN</td>\n",
       "      <td>NaN</td>\n",
       "      <td>NaN</td>\n",
       "      <td>NaN</td>\n",
       "      <td>NaN</td>\n",
       "      <td>NaN</td>\n",
       "      <td>NaN</td>\n",
       "    </tr>\n",
       "    <tr>\n",
       "      <th>97</th>\n",
       "      <td>8</td>\n",
       "      <td>1.09</td>\n",
       "      <td>9</td>\n",
       "      <td>w</td>\n",
       "      <td>ea684db5-6354-4e26-80a5-555115109460</td>\n",
       "      <td>[7881,10834]</td>\n",
       "      <td>0</td>\n",
       "      <td>0</td>\n",
       "      <td>0</td>\n",
       "      <td>1</td>\n",
       "      <td>...</td>\n",
       "      <td>NaN</td>\n",
       "      <td>NaN</td>\n",
       "      <td>NaN</td>\n",
       "      <td>NaN</td>\n",
       "      <td>NaN</td>\n",
       "      <td>NaN</td>\n",
       "      <td>NaN</td>\n",
       "      <td>NaN</td>\n",
       "      <td>NaN</td>\n",
       "      <td>NaN</td>\n",
       "    </tr>\n",
       "    <tr>\n",
       "      <th>98</th>\n",
       "      <td>1</td>\n",
       "      <td>-1.69</td>\n",
       "      <td>12</td>\n",
       "      <td>w</td>\n",
       "      <td>d942bf24-3078-49be-9d82-9103bb630a65</td>\n",
       "      <td>[7881,10834,62040,63288,125830]</td>\n",
       "      <td>1</td>\n",
       "      <td>0</td>\n",
       "      <td>0</td>\n",
       "      <td>0</td>\n",
       "      <td>...</td>\n",
       "      <td>NaN</td>\n",
       "      <td>NaN</td>\n",
       "      <td>NaN</td>\n",
       "      <td>NaN</td>\n",
       "      <td>NaN</td>\n",
       "      <td>NaN</td>\n",
       "      <td>NaN</td>\n",
       "      <td>NaN</td>\n",
       "      <td>NaN</td>\n",
       "      <td>NaN</td>\n",
       "    </tr>\n",
       "    <tr>\n",
       "      <th>99</th>\n",
       "      <td>3</td>\n",
       "      <td>-1.71</td>\n",
       "      <td>1</td>\n",
       "      <td>m</td>\n",
       "      <td>b018d443-e80e-4734-acd4-62fae318b433</td>\n",
       "      <td>[7881,10834,61603]</td>\n",
       "      <td>1</td>\n",
       "      <td>0</td>\n",
       "      <td>0</td>\n",
       "      <td>0</td>\n",
       "      <td>...</td>\n",
       "      <td>NaN</td>\n",
       "      <td>NaN</td>\n",
       "      <td>NaN</td>\n",
       "      <td>NaN</td>\n",
       "      <td>NaN</td>\n",
       "      <td>NaN</td>\n",
       "      <td>NaN</td>\n",
       "      <td>NaN</td>\n",
       "      <td>NaN</td>\n",
       "      <td>NaN</td>\n",
       "    </tr>\n",
       "  </tbody>\n",
       "</table>\n",
       "<p>100 rows × 26 columns</p>\n",
       "</div>"
      ],
      "text/plain": [
       "    transactions  loyalty  days_since_last_contact gender  \\\n",
       "0              4    -1.33                        2      m   \n",
       "1              6    -0.28                        3      m   \n",
       "2              5    -0.22                        1      w   \n",
       "3              7    -0.29                        0      m   \n",
       "4              4     1.06                        5      m   \n",
       "..           ...      ...                      ...    ...   \n",
       "95             5    -0.22                        1      w   \n",
       "96             5    -0.29                        5      m   \n",
       "97             8     1.09                        9      w   \n",
       "98             1    -1.69                       12      w   \n",
       "99             3    -1.71                        1      m   \n",
       "\n",
       "                               person_id  \\\n",
       "0   170636bb-3601-4a18-b572-52650c0d2d0e   \n",
       "1   2a4c9697-b937-4429-9fd3-5529929a1ab9   \n",
       "2   4d12441d-3748-4b05-81bf-fd24f9f9d6f4   \n",
       "3   00f173be-96b1-4407-809c-6882e5bbb1fd   \n",
       "4   f5aa1643-398f-4027-ab75-7b72ebe92d90   \n",
       "..                                   ...   \n",
       "95  f00c336b-e02c-44e5-8bfa-59b71374fa54   \n",
       "96  49402263-e3b7-4305-a09e-f5508ab4aa92   \n",
       "97  ea684db5-6354-4e26-80a5-555115109460   \n",
       "98  d942bf24-3078-49be-9d82-9103bb630a65   \n",
       "99  b018d443-e80e-4734-acd4-62fae318b433   \n",
       "\n",
       "                              product_ids  0ne.hot.1  0ne.hot.2  0ne.hot.3  \\\n",
       "0   [7881,10834,61603,62040,63288,125830]          1          0          0   \n",
       "1        [10834,61603,62040,63288,125830]          1          0          0   \n",
       "2                          [63288,125830]          1          0          0   \n",
       "3                            [7881,10834]          0          1          0   \n",
       "4         [7881,10834,62040,63288,125830]          0          0          1   \n",
       "..                                    ...        ...        ...        ...   \n",
       "95                         [63288,125830]          0          1          0   \n",
       "96                         [63288,125830]          0          0          0   \n",
       "97                           [7881,10834]          0          0          0   \n",
       "98        [7881,10834,62040,63288,125830]          1          0          0   \n",
       "99                     [7881,10834,61603]          1          0          0   \n",
       "\n",
       "    0ne.hot.4  ... Unnamed: 16 Unnamed: 17  Unnamed: 18  Unnamed: 19  \\\n",
       "0           0  ...         NaN         NaN          NaN          NaN   \n",
       "1           0  ...         NaN         NaN          NaN          NaN   \n",
       "2           0  ...         NaN         NaN          NaN          NaN   \n",
       "3           0  ...         NaN         NaN          NaN          NaN   \n",
       "4           0  ...         NaN         NaN          NaN          NaN   \n",
       "..        ...  ...         ...         ...          ...          ...   \n",
       "95          0  ...         NaN         NaN          NaN          NaN   \n",
       "96          1  ...         NaN         NaN          NaN          NaN   \n",
       "97          1  ...         NaN         NaN          NaN          NaN   \n",
       "98          0  ...         NaN         NaN          NaN          NaN   \n",
       "99          0  ...         NaN         NaN          NaN          NaN   \n",
       "\n",
       "    Unnamed: 20  Unnamed: 21  Unnamed: 22  Unnamed: 23  Unnamed: 24  \\\n",
       "0           NaN          NaN          NaN          NaN          NaN   \n",
       "1           NaN          NaN          NaN          NaN          NaN   \n",
       "2           NaN          NaN          NaN          NaN          NaN   \n",
       "3           NaN          NaN          NaN          NaN          NaN   \n",
       "4           NaN          NaN          NaN          NaN          NaN   \n",
       "..          ...          ...          ...          ...          ...   \n",
       "95          NaN          NaN          NaN          NaN          NaN   \n",
       "96          NaN          NaN          NaN          NaN          NaN   \n",
       "97          NaN          NaN          NaN          NaN          NaN   \n",
       "98          NaN          NaN          NaN          NaN          NaN   \n",
       "99          NaN          NaN          NaN          NaN          NaN   \n",
       "\n",
       "    Unnamed: 25  \n",
       "0           NaN  \n",
       "1           NaN  \n",
       "2           NaN  \n",
       "3           NaN  \n",
       "4           NaN  \n",
       "..          ...  \n",
       "95          NaN  \n",
       "96          NaN  \n",
       "97          NaN  \n",
       "98          NaN  \n",
       "99          NaN  \n",
       "\n",
       "[100 rows x 26 columns]"
      ]
     },
     "execution_count": 527,
     "metadata": {},
     "output_type": "execute_result"
    }
   ],
   "source": [
    "data_sample"
   ]
  },
  {
   "cell_type": "markdown",
   "metadata": {},
   "source": [
    "Let's check the size of the dataframe"
   ]
  },
  {
   "cell_type": "code",
   "execution_count": 528,
   "metadata": {
    "scrolled": false
   },
   "outputs": [
    {
     "data": {
      "text/plain": [
       "(100, 26)"
      ]
     },
     "execution_count": 528,
     "metadata": {},
     "output_type": "execute_result"
    }
   ],
   "source": [
    "data_sample.shape"
   ]
  },
  {
   "cell_type": "code",
   "execution_count": 529,
   "metadata": {},
   "outputs": [
    {
     "name": "stdout",
     "output_type": "stream",
     "text": [
      "<class 'pandas.core.frame.DataFrame'>\n",
      "RangeIndex: 100 entries, 0 to 99\n",
      "Data columns (total 26 columns):\n",
      " #   Column                   Non-Null Count  Dtype  \n",
      "---  ------                   --------------  -----  \n",
      " 0   transactions             100 non-null    int64  \n",
      " 1   loyalty                  100 non-null    float64\n",
      " 2   days_since_last_contact  100 non-null    int64  \n",
      " 3   gender                   97 non-null     object \n",
      " 4   person_id                100 non-null    object \n",
      " 5   product_ids              100 non-null    object \n",
      " 6   0ne.hot.1                100 non-null    int64  \n",
      " 7   0ne.hot.2                100 non-null    int64  \n",
      " 8   0ne.hot.3                100 non-null    int64  \n",
      " 9   0ne.hot.4                100 non-null    int64  \n",
      " 10  promotion_set_id         100 non-null    object \n",
      " 11  platform_cookie_source   100 non-null    object \n",
      " 12  delivery_pass            100 non-null    bool   \n",
      " 13  is_newsletter            100 non-null    bool   \n",
      " 14  Unnamed: 14              0 non-null      float64\n",
      " 15  Unnamed: 15              0 non-null      float64\n",
      " 16  Unnamed: 16              0 non-null      float64\n",
      " 17  Unnamed: 17              0 non-null      float64\n",
      " 18  Unnamed: 18              0 non-null      float64\n",
      " 19  Unnamed: 19              0 non-null      float64\n",
      " 20  Unnamed: 20              0 non-null      float64\n",
      " 21  Unnamed: 21              0 non-null      float64\n",
      " 22  Unnamed: 22              0 non-null      float64\n",
      " 23  Unnamed: 23              0 non-null      float64\n",
      " 24  Unnamed: 24              0 non-null      float64\n",
      " 25  Unnamed: 25              0 non-null      float64\n",
      "dtypes: bool(2), float64(13), int64(6), object(5)\n",
      "memory usage: 19.1+ KB\n"
     ]
    }
   ],
   "source": [
    "data_sample.info()"
   ]
  },
  {
   "cell_type": "markdown",
   "metadata": {},
   "source": [
    "We see that there are some columns that were imported but have no values. Let's remove them:"
   ]
  },
  {
   "cell_type": "code",
   "execution_count": 530,
   "metadata": {},
   "outputs": [
    {
     "data": {
      "text/plain": [
       "Index(['transactions', 'loyalty', 'days_since_last_contact', 'gender',\n",
       "       'person_id', 'product_ids', '0ne.hot.1', '0ne.hot.2', '0ne.hot.3',\n",
       "       '0ne.hot.4', 'promotion_set_id', 'platform_cookie_source',\n",
       "       'delivery_pass', 'is_newsletter', 'Unnamed: 14', 'Unnamed: 15',\n",
       "       'Unnamed: 16', 'Unnamed: 17', 'Unnamed: 18', 'Unnamed: 19',\n",
       "       'Unnamed: 20', 'Unnamed: 21', 'Unnamed: 22', 'Unnamed: 23',\n",
       "       'Unnamed: 24', 'Unnamed: 25'],\n",
       "      dtype='object')"
      ]
     },
     "execution_count": 530,
     "metadata": {},
     "output_type": "execute_result"
    }
   ],
   "source": [
    "data_sample.columns"
   ]
  },
  {
   "cell_type": "code",
   "execution_count": 531,
   "metadata": {},
   "outputs": [
    {
     "data": {
      "text/plain": [
       "Index(['transactions', 'loyalty', 'days_since_last_contact', 'gender',\n",
       "       'person_id', 'product_ids', '0ne.hot.1', '0ne.hot.2', '0ne.hot.3',\n",
       "       '0ne.hot.4', 'promotion_set_id', 'platform_cookie_source',\n",
       "       'delivery_pass', 'is_newsletter'],\n",
       "      dtype='object')"
      ]
     },
     "execution_count": 531,
     "metadata": {},
     "output_type": "execute_result"
    }
   ],
   "source": [
    "data_sample = data_sample.drop(columns=['Unnamed: 14', 'Unnamed: 15',\n",
    "       'Unnamed: 16', 'Unnamed: 17', 'Unnamed: 18', 'Unnamed: 19',\n",
    "       'Unnamed: 20', 'Unnamed: 21', 'Unnamed: 22', 'Unnamed: 23',\n",
    "       'Unnamed: 24', 'Unnamed: 25'])\n",
    "data_sample.columns"
   ]
  },
  {
   "cell_type": "markdown",
   "metadata": {},
   "source": [
    "Let's check the size of our dataframe again."
   ]
  },
  {
   "cell_type": "code",
   "execution_count": 532,
   "metadata": {},
   "outputs": [
    {
     "data": {
      "text/plain": [
       "(100, 14)"
      ]
     },
     "execution_count": 532,
     "metadata": {},
     "output_type": "execute_result"
    }
   ],
   "source": [
    "data_sample.shape"
   ]
  },
  {
   "cell_type": "markdown",
   "metadata": {},
   "source": [
    "Now our data has 14 columns. Let's have a closer look at the type of the data we will work with"
   ]
  },
  {
   "cell_type": "code",
   "execution_count": 533,
   "metadata": {},
   "outputs": [
    {
     "name": "stdout",
     "output_type": "stream",
     "text": [
      "<class 'pandas.core.frame.DataFrame'>\n",
      "RangeIndex: 100 entries, 0 to 99\n",
      "Data columns (total 14 columns):\n",
      " #   Column                   Non-Null Count  Dtype  \n",
      "---  ------                   --------------  -----  \n",
      " 0   transactions             100 non-null    int64  \n",
      " 1   loyalty                  100 non-null    float64\n",
      " 2   days_since_last_contact  100 non-null    int64  \n",
      " 3   gender                   97 non-null     object \n",
      " 4   person_id                100 non-null    object \n",
      " 5   product_ids              100 non-null    object \n",
      " 6   0ne.hot.1                100 non-null    int64  \n",
      " 7   0ne.hot.2                100 non-null    int64  \n",
      " 8   0ne.hot.3                100 non-null    int64  \n",
      " 9   0ne.hot.4                100 non-null    int64  \n",
      " 10  promotion_set_id         100 non-null    object \n",
      " 11  platform_cookie_source   100 non-null    object \n",
      " 12  delivery_pass            100 non-null    bool   \n",
      " 13  is_newsletter            100 non-null    bool   \n",
      "dtypes: bool(2), float64(1), int64(6), object(5)\n",
      "memory usage: 9.7+ KB\n"
     ]
    }
   ],
   "source": [
    "data_sample.info()"
   ]
  },
  {
   "cell_type": "markdown",
   "metadata": {},
   "source": [
    "Looks like in gender there are some missing values. Let's quickly check that with another function"
   ]
  },
  {
   "cell_type": "code",
   "execution_count": 534,
   "metadata": {},
   "outputs": [
    {
     "data": {
      "text/plain": [
       "transactions               0\n",
       "loyalty                    0\n",
       "days_since_last_contact    0\n",
       "gender                     3\n",
       "person_id                  0\n",
       "product_ids                0\n",
       "0ne.hot.1                  0\n",
       "0ne.hot.2                  0\n",
       "0ne.hot.3                  0\n",
       "0ne.hot.4                  0\n",
       "promotion_set_id           0\n",
       "platform_cookie_source     0\n",
       "delivery_pass              0\n",
       "is_newsletter              0\n",
       "dtype: int64"
      ]
     },
     "execution_count": 534,
     "metadata": {},
     "output_type": "execute_result"
    }
   ],
   "source": [
    "data_sample.isnull().sum()"
   ]
  },
  {
   "cell_type": "markdown",
   "metadata": {},
   "source": [
    "Gender has 3 missing values. Normally we should do something with these data (remove it, or substitute with similar data, or predict). But at the moment we will leave them because we still don't know how important is gender in our analysis."
   ]
  },
  {
   "cell_type": "markdown",
   "metadata": {},
   "source": [
    "Unfortunately, we don't have the legend for our data. So let's have a look at them again and try to understand what can they mean.\n",
    "\n",
    "To do that, I would like to see how many unique values each of the columns has:"
   ]
  },
  {
   "cell_type": "code",
   "execution_count": 535,
   "metadata": {
    "scrolled": true
   },
   "outputs": [
    {
     "name": "stdout",
     "output_type": "stream",
     "text": [
      "transactions 13\n",
      "loyalty 63\n",
      "days_since_last_contact 12\n",
      "gender 3\n",
      "person_id 100\n",
      "product_ids 6\n",
      "0ne.hot.1 2\n",
      "0ne.hot.2 2\n",
      "0ne.hot.3 2\n",
      "0ne.hot.4 2\n",
      "promotion_set_id 100\n",
      "platform_cookie_source 1\n",
      "delivery_pass 2\n",
      "is_newsletter 1\n"
     ]
    }
   ],
   "source": [
    "for col in data_sample:\n",
    "    print(col, data_sample[col].nunique())"
   ]
  },
  {
   "cell_type": "code",
   "execution_count": 536,
   "metadata": {},
   "outputs": [
    {
     "data": {
      "text/plain": [
       "array(['m', 'w', 'd', nan], dtype=object)"
      ]
     },
     "execution_count": 536,
     "metadata": {},
     "output_type": "execute_result"
    }
   ],
   "source": [
    "# Gender has 3 values. Let's quickly check to be sure that it is m,w,d. \n",
    "data_sample[\"gender\"].unique()"
   ]
  },
  {
   "cell_type": "markdown",
   "metadata": {},
   "source": [
    "And let's check the descrriptional statistics of the data (whenever possible)"
   ]
  },
  {
   "cell_type": "code",
   "execution_count": 537,
   "metadata": {},
   "outputs": [
    {
     "data": {
      "text/html": [
       "<div>\n",
       "<style scoped>\n",
       "    .dataframe tbody tr th:only-of-type {\n",
       "        vertical-align: middle;\n",
       "    }\n",
       "\n",
       "    .dataframe tbody tr th {\n",
       "        vertical-align: top;\n",
       "    }\n",
       "\n",
       "    .dataframe thead th {\n",
       "        text-align: right;\n",
       "    }\n",
       "</style>\n",
       "<table border=\"1\" class=\"dataframe\">\n",
       "  <thead>\n",
       "    <tr style=\"text-align: right;\">\n",
       "      <th></th>\n",
       "      <th>transactions</th>\n",
       "      <th>loyalty</th>\n",
       "      <th>days_since_last_contact</th>\n",
       "      <th>0ne.hot.1</th>\n",
       "      <th>0ne.hot.2</th>\n",
       "      <th>0ne.hot.3</th>\n",
       "      <th>0ne.hot.4</th>\n",
       "    </tr>\n",
       "  </thead>\n",
       "  <tbody>\n",
       "    <tr>\n",
       "      <th>count</th>\n",
       "      <td>100.000000</td>\n",
       "      <td>100.000000</td>\n",
       "      <td>100.000000</td>\n",
       "      <td>100.000000</td>\n",
       "      <td>100.000000</td>\n",
       "      <td>100.000000</td>\n",
       "      <td>100.000000</td>\n",
       "    </tr>\n",
       "    <tr>\n",
       "      <th>mean</th>\n",
       "      <td>6.550000</td>\n",
       "      <td>-0.000090</td>\n",
       "      <td>6.280000</td>\n",
       "      <td>0.300000</td>\n",
       "      <td>0.220000</td>\n",
       "      <td>0.160000</td>\n",
       "      <td>0.320000</td>\n",
       "    </tr>\n",
       "    <tr>\n",
       "      <th>std</th>\n",
       "      <td>2.709411</td>\n",
       "      <td>1.002703</td>\n",
       "      <td>3.861438</td>\n",
       "      <td>0.460566</td>\n",
       "      <td>0.416333</td>\n",
       "      <td>0.368453</td>\n",
       "      <td>0.468826</td>\n",
       "    </tr>\n",
       "    <tr>\n",
       "      <th>min</th>\n",
       "      <td>1.000000</td>\n",
       "      <td>-1.710000</td>\n",
       "      <td>0.000000</td>\n",
       "      <td>0.000000</td>\n",
       "      <td>0.000000</td>\n",
       "      <td>0.000000</td>\n",
       "      <td>0.000000</td>\n",
       "    </tr>\n",
       "    <tr>\n",
       "      <th>25%</th>\n",
       "      <td>5.000000</td>\n",
       "      <td>-0.742500</td>\n",
       "      <td>3.000000</td>\n",
       "      <td>0.000000</td>\n",
       "      <td>0.000000</td>\n",
       "      <td>0.000000</td>\n",
       "      <td>0.000000</td>\n",
       "    </tr>\n",
       "    <tr>\n",
       "      <th>50%</th>\n",
       "      <td>7.000000</td>\n",
       "      <td>-0.100500</td>\n",
       "      <td>5.000000</td>\n",
       "      <td>0.000000</td>\n",
       "      <td>0.000000</td>\n",
       "      <td>0.000000</td>\n",
       "      <td>0.000000</td>\n",
       "    </tr>\n",
       "    <tr>\n",
       "      <th>75%</th>\n",
       "      <td>8.250000</td>\n",
       "      <td>1.032500</td>\n",
       "      <td>9.000000</td>\n",
       "      <td>1.000000</td>\n",
       "      <td>0.000000</td>\n",
       "      <td>0.000000</td>\n",
       "      <td>1.000000</td>\n",
       "    </tr>\n",
       "    <tr>\n",
       "      <th>max</th>\n",
       "      <td>15.000000</td>\n",
       "      <td>1.400000</td>\n",
       "      <td>14.000000</td>\n",
       "      <td>1.000000</td>\n",
       "      <td>1.000000</td>\n",
       "      <td>1.000000</td>\n",
       "      <td>1.000000</td>\n",
       "    </tr>\n",
       "  </tbody>\n",
       "</table>\n",
       "</div>"
      ],
      "text/plain": [
       "       transactions     loyalty  days_since_last_contact   0ne.hot.1  \\\n",
       "count    100.000000  100.000000               100.000000  100.000000   \n",
       "mean       6.550000   -0.000090                 6.280000    0.300000   \n",
       "std        2.709411    1.002703                 3.861438    0.460566   \n",
       "min        1.000000   -1.710000                 0.000000    0.000000   \n",
       "25%        5.000000   -0.742500                 3.000000    0.000000   \n",
       "50%        7.000000   -0.100500                 5.000000    0.000000   \n",
       "75%        8.250000    1.032500                 9.000000    1.000000   \n",
       "max       15.000000    1.400000                14.000000    1.000000   \n",
       "\n",
       "        0ne.hot.2   0ne.hot.3   0ne.hot.4  \n",
       "count  100.000000  100.000000  100.000000  \n",
       "mean     0.220000    0.160000    0.320000  \n",
       "std      0.416333    0.368453    0.468826  \n",
       "min      0.000000    0.000000    0.000000  \n",
       "25%      0.000000    0.000000    0.000000  \n",
       "50%      0.000000    0.000000    0.000000  \n",
       "75%      0.000000    0.000000    1.000000  \n",
       "max      1.000000    1.000000    1.000000  "
      ]
     },
     "execution_count": 537,
     "metadata": {},
     "output_type": "execute_result"
    }
   ],
   "source": [
    "data_sample.describe()"
   ]
  },
  {
   "cell_type": "markdown",
   "metadata": {},
   "source": [
    "Ok, at this moment we can see that we have the data from 100 unique users, probably about their purchase history withing 2 weeks.\n",
    "\n",
    "Let's have a look at the data again and try to understand the columns that we have:"
   ]
  },
  {
   "cell_type": "markdown",
   "metadata": {},
   "source": [
    "**Approximate description of the data_sample**\n",
    "\n",
    "- **transactions** - amount of transactions (purchases)\n",
    "    - we have only 13 variations of the transcations\n",
    "    \n",
    "    \n",
    "- **loyalty** - customer loyalty\n",
    "    - we have negative and positive loyalty (Q1)\n",
    "    \n",
    "    \n",
    "- **days_since_last_contact** - days since the customer was contacted\n",
    "    - we have 14 days\n",
    "\n",
    "\n",
    "- **gender** - gender\n",
    "    - masculin, feminin and diverse\n",
    "\n",
    "\n",
    "- **person_id** - customer id\n",
    "    - we have 100 unique users\n",
    "\n",
    "\n",
    "- **product_ids** - types of product sets\n",
    "    - we have 6 types\n",
    "\n",
    "\n",
    "- **0ne.hot.1, 2, 3, 4** - one hot encoding values\n",
    "    - One hot encoding is one method of converting data to prepare it for an algorithm and get a better prediction. At this stage of the analysis it will be convinient for us to 'reverse' these data back to categorical.\n",
    "\n",
    "\n",
    "- **promotion_set_id** - promotion set id\n",
    "    - we have 100 unique propotion ids\n",
    "    \n",
    "    \n",
    "- **platform_cookie_source** - platform cookie source\n",
    "    - we have just 1 - web\n",
    "    \n",
    "    \n",
    "- **delivery_pass** - was delivered to their place? Q2.\n",
    "    - we have boolean data here: true and false\n",
    "    \n",
    "    \n",
    "- **is_newsletter** - is the customer subsribed to the newsletter?\n",
    "    - we have boolean data here, but in our case it is only a true value. \n",
    "\n",
    "<span style=\"color:blue\">\n",
    "Q1. What does the negative and positive loyalty mean?\n",
    "    \n",
    "Q2. Are those correct assumptions?</span>\n",
    "\n",
    "---------------------------------------------------"
   ]
  },
  {
   "cell_type": "markdown",
   "metadata": {},
   "source": [
    "Let's have a look at the second table:\n",
    "\n",
    "## Products"
   ]
  },
  {
   "cell_type": "code",
   "execution_count": 538,
   "metadata": {},
   "outputs": [
    {
     "data": {
      "text/html": [
       "<div>\n",
       "<style scoped>\n",
       "    .dataframe tbody tr th:only-of-type {\n",
       "        vertical-align: middle;\n",
       "    }\n",
       "\n",
       "    .dataframe tbody tr th {\n",
       "        vertical-align: top;\n",
       "    }\n",
       "\n",
       "    .dataframe thead th {\n",
       "        text-align: right;\n",
       "    }\n",
       "</style>\n",
       "<table border=\"1\" class=\"dataframe\">\n",
       "  <thead>\n",
       "    <tr style=\"text-align: right;\">\n",
       "      <th></th>\n",
       "      <th>id</th>\n",
       "      <th>name</th>\n",
       "      <th>category_level_1</th>\n",
       "      <th>region</th>\n",
       "      <th>stock_level</th>\n",
       "      <th>is_seasonal</th>\n",
       "      <th>productdata_language</th>\n",
       "    </tr>\n",
       "  </thead>\n",
       "  <tbody>\n",
       "    <tr>\n",
       "      <th>0</th>\n",
       "      <td>7881</td>\n",
       "      <td>mango</td>\n",
       "      <td>fruits</td>\n",
       "      <td>1</td>\n",
       "      <td>0</td>\n",
       "      <td>True</td>\n",
       "      <td>DE</td>\n",
       "    </tr>\n",
       "    <tr>\n",
       "      <th>1</th>\n",
       "      <td>10834</td>\n",
       "      <td>ovomaltine schokolade</td>\n",
       "      <td>sweets</td>\n",
       "      <td>2</td>\n",
       "      <td>3</td>\n",
       "      <td>False</td>\n",
       "      <td>DE</td>\n",
       "    </tr>\n",
       "    <tr>\n",
       "      <th>2</th>\n",
       "      <td>61603</td>\n",
       "      <td>nutella</td>\n",
       "      <td>sweets</td>\n",
       "      <td>2</td>\n",
       "      <td>3</td>\n",
       "      <td>False</td>\n",
       "      <td>DE</td>\n",
       "    </tr>\n",
       "    <tr>\n",
       "      <th>3</th>\n",
       "      <td>63288</td>\n",
       "      <td>birnen</td>\n",
       "      <td>fruits</td>\n",
       "      <td>1</td>\n",
       "      <td>0</td>\n",
       "      <td>True</td>\n",
       "      <td>DE</td>\n",
       "    </tr>\n",
       "    <tr>\n",
       "      <th>4</th>\n",
       "      <td>125830</td>\n",
       "      <td>karotten</td>\n",
       "      <td>vegetables</td>\n",
       "      <td>1</td>\n",
       "      <td>1</td>\n",
       "      <td>False</td>\n",
       "      <td>DE</td>\n",
       "    </tr>\n",
       "    <tr>\n",
       "      <th>5</th>\n",
       "      <td>62040</td>\n",
       "      <td>chips</td>\n",
       "      <td>salty</td>\n",
       "      <td>2</td>\n",
       "      <td>3</td>\n",
       "      <td>False</td>\n",
       "      <td>DE</td>\n",
       "    </tr>\n",
       "    <tr>\n",
       "      <th>6</th>\n",
       "      <td>125716</td>\n",
       "      <td>grapefruit</td>\n",
       "      <td>fruits</td>\n",
       "      <td>1</td>\n",
       "      <td>3</td>\n",
       "      <td>True</td>\n",
       "      <td>DE</td>\n",
       "    </tr>\n",
       "    <tr>\n",
       "      <th>7</th>\n",
       "      <td>5373751</td>\n",
       "      <td>apfel</td>\n",
       "      <td>fruits</td>\n",
       "      <td>1</td>\n",
       "      <td>10</td>\n",
       "      <td>True</td>\n",
       "      <td>DE</td>\n",
       "    </tr>\n",
       "  </tbody>\n",
       "</table>\n",
       "</div>"
      ],
      "text/plain": [
       "        id                   name category_level_1  region  stock_level  \\\n",
       "0     7881                  mango           fruits       1            0   \n",
       "1    10834  ovomaltine schokolade           sweets       2            3   \n",
       "2    61603                nutella           sweets       2            3   \n",
       "3    63288                 birnen           fruits       1            0   \n",
       "4   125830               karotten       vegetables       1            1   \n",
       "5    62040                  chips            salty       2            3   \n",
       "6   125716             grapefruit           fruits       1            3   \n",
       "7  5373751                  apfel           fruits       1           10   \n",
       "\n",
       "   is_seasonal productdata_language  \n",
       "0         True                   DE  \n",
       "1        False                   DE  \n",
       "2        False                   DE  \n",
       "3         True                   DE  \n",
       "4        False                   DE  \n",
       "5        False                   DE  \n",
       "6         True                   DE  \n",
       "7         True                   DE  "
      ]
     },
     "execution_count": 538,
     "metadata": {},
     "output_type": "execute_result"
    }
   ],
   "source": [
    "products"
   ]
  },
  {
   "cell_type": "markdown",
   "metadata": {},
   "source": [
    "This table looks like a dictionary to the data_sample. We see that the id looks similar to the ones in the products set from the data_sample table. So we could assume the folliwing legend for this disctionary."
   ]
  },
  {
   "cell_type": "markdown",
   "metadata": {},
   "source": [
    "**Approximate description of the products**\n",
    "\n",
    "- **id** - product id\n",
    "    \n",
    "    \n",
    "- **name** - name of the product\n",
    "    \n",
    "    \n",
    "- **category_level_1** - category of the products\n",
    "\n",
    "\n",
    "- **region** - from which region did the data come from (or where is it being sold)\n",
    "    - boolean data\n",
    "\n",
    "\n",
    "- **stock_level** - level of the product's stock.\n",
    "    - we assume that 0 is low, and 10 is high\n",
    "\n",
    "\n",
    "- **product_ids** - types of product sets\n",
    "    - we have 6 types\n",
    "\n",
    "\n",
    "- **productdata_language** - language of the name\n",
    "    - boolean data\n",
    "\n",
    "<span style=\"color:blue\">\n",
    "Q1. What does the negative and positive loyalty mean?\n",
    "    \n",
    "Q2. Are those correct assumptions?</span>\n",
    "\n",
    "---------------------------------------------------"
   ]
  },
  {
   "cell_type": "markdown",
   "metadata": {},
   "source": [
    "Let's have a look at the third table:\n",
    "\n",
    "## person"
   ]
  },
  {
   "cell_type": "code",
   "execution_count": 539,
   "metadata": {},
   "outputs": [
    {
     "data": {
      "text/html": [
       "<div>\n",
       "<style scoped>\n",
       "    .dataframe tbody tr th:only-of-type {\n",
       "        vertical-align: middle;\n",
       "    }\n",
       "\n",
       "    .dataframe tbody tr th {\n",
       "        vertical-align: top;\n",
       "    }\n",
       "\n",
       "    .dataframe thead th {\n",
       "        text-align: right;\n",
       "    }\n",
       "</style>\n",
       "<table border=\"1\" class=\"dataframe\">\n",
       "  <thead>\n",
       "    <tr style=\"text-align: right;\">\n",
       "      <th></th>\n",
       "      <th>id</th>\n",
       "      <th>gender</th>\n",
       "      <th>first_order</th>\n",
       "      <th>last_order</th>\n",
       "      <th>predicted_clv</th>\n",
       "      <th>zip_code</th>\n",
       "      <th>cookie_1</th>\n",
       "      <th>cookie_2</th>\n",
       "      <th>cookie_3</th>\n",
       "      <th>e_mail</th>\n",
       "    </tr>\n",
       "  </thead>\n",
       "  <tbody>\n",
       "    <tr>\n",
       "      <th>0</th>\n",
       "      <td>170636bb-3601-4a18-b572-52650c0d2d0e</td>\n",
       "      <td>m</td>\n",
       "      <td>undefined</td>\n",
       "      <td>undefined</td>\n",
       "      <td>undefined</td>\n",
       "      <td>undefined</td>\n",
       "      <td>iv0d8h8IRkCFxAqNXKHaLA==</td>\n",
       "      <td>NaN</td>\n",
       "      <td>Yy6vow/IWUiDD/FCIl5wUw==</td>\n",
       "      <td>n6awBQIoFkym20K9K8c4iQ==</td>\n",
       "    </tr>\n",
       "    <tr>\n",
       "      <th>1</th>\n",
       "      <td>2a4c9697-b937-4429-9fd3-5529929a1ab9</td>\n",
       "      <td>m</td>\n",
       "      <td>undefined</td>\n",
       "      <td>undefined</td>\n",
       "      <td>undefined</td>\n",
       "      <td>undefined</td>\n",
       "      <td>uMm7PkqrAE2OOvNdL2uGjA==</td>\n",
       "      <td>NaN</td>\n",
       "      <td>LLaX27gdOUivdQ/weZlXnQ==</td>\n",
       "      <td>4eOEQwLL20yrcle5yy4Ddw==</td>\n",
       "    </tr>\n",
       "    <tr>\n",
       "      <th>2</th>\n",
       "      <td>4d12441d-3748-4b05-81bf-fd24f9f9d6f4</td>\n",
       "      <td>w</td>\n",
       "      <td>undefined</td>\n",
       "      <td>undefined</td>\n",
       "      <td>undefined</td>\n",
       "      <td>undefined</td>\n",
       "      <td>pNlIOPVQ1ker0r+kr7VPrw==</td>\n",
       "      <td>NaN</td>\n",
       "      <td>do8QyBLWP0K2NLcfwRRKqQ==</td>\n",
       "      <td>tC7tstN03U6OlakzGe5yTw==</td>\n",
       "    </tr>\n",
       "    <tr>\n",
       "      <th>3</th>\n",
       "      <td>00f173be-96b1-4407-809c-6882e5bbb1fd</td>\n",
       "      <td>m</td>\n",
       "      <td>undefined</td>\n",
       "      <td>undefined</td>\n",
       "      <td>undefined</td>\n",
       "      <td>undefined</td>\n",
       "      <td>CTAaruMbz0OLQU0HqWf0ng==</td>\n",
       "      <td>NaN</td>\n",
       "      <td>cuY93SKH2UajLAeAcBPUhQ==</td>\n",
       "      <td>0jl7wbx3TUeiwcZ4oaZxyA==</td>\n",
       "    </tr>\n",
       "    <tr>\n",
       "      <th>4</th>\n",
       "      <td>f5aa1643-398f-4027-ab75-7b72ebe92d90</td>\n",
       "      <td>m</td>\n",
       "      <td>undefined</td>\n",
       "      <td>undefined</td>\n",
       "      <td>undefined</td>\n",
       "      <td>undefined</td>\n",
       "      <td>lotrcqCqYEKPIlg+0mwKdA==</td>\n",
       "      <td>NaN</td>\n",
       "      <td>EsmihNPEbUeGra8paxL37w==</td>\n",
       "      <td>li0V10eqFkaBDCgv5yRUHw==</td>\n",
       "    </tr>\n",
       "    <tr>\n",
       "      <th>...</th>\n",
       "      <td>...</td>\n",
       "      <td>...</td>\n",
       "      <td>...</td>\n",
       "      <td>...</td>\n",
       "      <td>...</td>\n",
       "      <td>...</td>\n",
       "      <td>...</td>\n",
       "      <td>...</td>\n",
       "      <td>...</td>\n",
       "      <td>...</td>\n",
       "    </tr>\n",
       "    <tr>\n",
       "      <th>95</th>\n",
       "      <td>f00c336b-e02c-44e5-8bfa-59b71374fa54</td>\n",
       "      <td>w</td>\n",
       "      <td>undefined</td>\n",
       "      <td>undefined</td>\n",
       "      <td>undefined</td>\n",
       "      <td>undefined</td>\n",
       "      <td>SHNiPctkLkGrG9FL1LFW1w==</td>\n",
       "      <td>NaN</td>\n",
       "      <td>9TmUoBb5wE2JeJSuGSWTRg==</td>\n",
       "      <td>qOW66lBUAEqkwbDQFfowSA==</td>\n",
       "    </tr>\n",
       "    <tr>\n",
       "      <th>96</th>\n",
       "      <td>49402263-e3b7-4305-a09e-f5508ab4aa92</td>\n",
       "      <td>m</td>\n",
       "      <td>undefined</td>\n",
       "      <td>undefined</td>\n",
       "      <td>undefined</td>\n",
       "      <td>undefined</td>\n",
       "      <td>EnwvEwF6P0Swlf88rZdIrQ==</td>\n",
       "      <td>NaN</td>\n",
       "      <td>Z3Xhcho6r0KGOK9Yrj9dfw==</td>\n",
       "      <td>pA+WU035vkm7S3fluyjvOg==</td>\n",
       "    </tr>\n",
       "    <tr>\n",
       "      <th>97</th>\n",
       "      <td>ea684db5-6354-4e26-80a5-555115109460</td>\n",
       "      <td>w</td>\n",
       "      <td>undefined</td>\n",
       "      <td>undefined</td>\n",
       "      <td>undefined</td>\n",
       "      <td>undefined</td>\n",
       "      <td>vT/jqQfrAEakW7PR0ZKiWA==</td>\n",
       "      <td>NaN</td>\n",
       "      <td>v1n4m9vx9kGJEimHaAlHEQ==</td>\n",
       "      <td>CGa4gS5wNE2+J8JaEaHYTg==</td>\n",
       "    </tr>\n",
       "    <tr>\n",
       "      <th>98</th>\n",
       "      <td>d942bf24-3078-49be-9d82-9103bb630a65</td>\n",
       "      <td>w</td>\n",
       "      <td>undefined</td>\n",
       "      <td>undefined</td>\n",
       "      <td>undefined</td>\n",
       "      <td>undefined</td>\n",
       "      <td>uwr7GEyr4kWLhWPurhzJ8Q==</td>\n",
       "      <td>NaN</td>\n",
       "      <td>Ks4UlYZCjUOowsY8sY90fQ==</td>\n",
       "      <td>2zlZieUBTkugmkJlkBDA3Q==</td>\n",
       "    </tr>\n",
       "    <tr>\n",
       "      <th>99</th>\n",
       "      <td>b018d443-e80e-4734-acd4-62fae318b433</td>\n",
       "      <td>m</td>\n",
       "      <td>undefined</td>\n",
       "      <td>undefined</td>\n",
       "      <td>undefined</td>\n",
       "      <td>undefined</td>\n",
       "      <td>0sK/qeektUK2NE9JyaiGkA==</td>\n",
       "      <td>NaN</td>\n",
       "      <td>G7SifsECiECQBeCmkvSepw==</td>\n",
       "      <td>/amNSY/34kqgqp6YRsPERg==</td>\n",
       "    </tr>\n",
       "  </tbody>\n",
       "</table>\n",
       "<p>100 rows × 10 columns</p>\n",
       "</div>"
      ],
      "text/plain": [
       "                                      id gender first_order last_order  \\\n",
       "0   170636bb-3601-4a18-b572-52650c0d2d0e      m   undefined  undefined   \n",
       "1   2a4c9697-b937-4429-9fd3-5529929a1ab9      m   undefined  undefined   \n",
       "2   4d12441d-3748-4b05-81bf-fd24f9f9d6f4      w   undefined  undefined   \n",
       "3   00f173be-96b1-4407-809c-6882e5bbb1fd      m   undefined  undefined   \n",
       "4   f5aa1643-398f-4027-ab75-7b72ebe92d90      m   undefined  undefined   \n",
       "..                                   ...    ...         ...        ...   \n",
       "95  f00c336b-e02c-44e5-8bfa-59b71374fa54      w   undefined  undefined   \n",
       "96  49402263-e3b7-4305-a09e-f5508ab4aa92      m   undefined  undefined   \n",
       "97  ea684db5-6354-4e26-80a5-555115109460      w   undefined  undefined   \n",
       "98  d942bf24-3078-49be-9d82-9103bb630a65      w   undefined  undefined   \n",
       "99  b018d443-e80e-4734-acd4-62fae318b433      m   undefined  undefined   \n",
       "\n",
       "   predicted_clv   zip_code                  cookie_1  cookie_2  \\\n",
       "0      undefined  undefined  iv0d8h8IRkCFxAqNXKHaLA==       NaN   \n",
       "1      undefined  undefined  uMm7PkqrAE2OOvNdL2uGjA==       NaN   \n",
       "2      undefined  undefined  pNlIOPVQ1ker0r+kr7VPrw==       NaN   \n",
       "3      undefined  undefined  CTAaruMbz0OLQU0HqWf0ng==       NaN   \n",
       "4      undefined  undefined  lotrcqCqYEKPIlg+0mwKdA==       NaN   \n",
       "..           ...        ...                       ...       ...   \n",
       "95     undefined  undefined  SHNiPctkLkGrG9FL1LFW1w==       NaN   \n",
       "96     undefined  undefined  EnwvEwF6P0Swlf88rZdIrQ==       NaN   \n",
       "97     undefined  undefined  vT/jqQfrAEakW7PR0ZKiWA==       NaN   \n",
       "98     undefined  undefined  uwr7GEyr4kWLhWPurhzJ8Q==       NaN   \n",
       "99     undefined  undefined  0sK/qeektUK2NE9JyaiGkA==       NaN   \n",
       "\n",
       "                    cookie_3                    e_mail  \n",
       "0   Yy6vow/IWUiDD/FCIl5wUw==  n6awBQIoFkym20K9K8c4iQ==  \n",
       "1   LLaX27gdOUivdQ/weZlXnQ==  4eOEQwLL20yrcle5yy4Ddw==  \n",
       "2   do8QyBLWP0K2NLcfwRRKqQ==  tC7tstN03U6OlakzGe5yTw==  \n",
       "3   cuY93SKH2UajLAeAcBPUhQ==  0jl7wbx3TUeiwcZ4oaZxyA==  \n",
       "4   EsmihNPEbUeGra8paxL37w==  li0V10eqFkaBDCgv5yRUHw==  \n",
       "..                       ...                       ...  \n",
       "95  9TmUoBb5wE2JeJSuGSWTRg==  qOW66lBUAEqkwbDQFfowSA==  \n",
       "96  Z3Xhcho6r0KGOK9Yrj9dfw==  pA+WU035vkm7S3fluyjvOg==  \n",
       "97  v1n4m9vx9kGJEimHaAlHEQ==  CGa4gS5wNE2+J8JaEaHYTg==  \n",
       "98  Ks4UlYZCjUOowsY8sY90fQ==  2zlZieUBTkugmkJlkBDA3Q==  \n",
       "99  G7SifsECiECQBeCmkvSepw==  /amNSY/34kqgqp6YRsPERg==  \n",
       "\n",
       "[100 rows x 10 columns]"
      ]
     },
     "execution_count": 539,
     "metadata": {},
     "output_type": "execute_result"
    }
   ],
   "source": [
    "person"
   ]
  },
  {
   "cell_type": "markdown",
   "metadata": {},
   "source": [
    "Let's check the info and check the unique values"
   ]
  },
  {
   "cell_type": "code",
   "execution_count": 540,
   "metadata": {},
   "outputs": [
    {
     "name": "stdout",
     "output_type": "stream",
     "text": [
      "<class 'pandas.core.frame.DataFrame'>\n",
      "RangeIndex: 100 entries, 0 to 99\n",
      "Data columns (total 10 columns):\n",
      " #   Column         Non-Null Count  Dtype  \n",
      "---  ------         --------------  -----  \n",
      " 0   id             100 non-null    object \n",
      " 1   gender         100 non-null    object \n",
      " 2   first_order    100 non-null    object \n",
      " 3   last_order     100 non-null    object \n",
      " 4   predicted_clv  100 non-null    object \n",
      " 5   zip_code       100 non-null    object \n",
      " 6   cookie_1       100 non-null    object \n",
      " 7   cookie_2       0 non-null      float64\n",
      " 8   cookie_3       100 non-null    object \n",
      " 9   e_mail         100 non-null    object \n",
      "dtypes: float64(1), object(9)\n",
      "memory usage: 7.9+ KB\n"
     ]
    }
   ],
   "source": [
    "person.info()"
   ]
  },
  {
   "cell_type": "code",
   "execution_count": 541,
   "metadata": {},
   "outputs": [
    {
     "name": "stdout",
     "output_type": "stream",
     "text": [
      "id 100\n",
      "gender 2\n",
      "first_order 1\n",
      "last_order 1\n",
      "predicted_clv 1\n",
      "zip_code 1\n",
      "cookie_1 100\n",
      "cookie_2 0\n",
      "cookie_3 100\n",
      "e_mail 100\n"
     ]
    }
   ],
   "source": [
    "for col in person:\n",
    "    print(col, person[col].nunique())"
   ]
  },
  {
   "cell_type": "markdown",
   "metadata": {},
   "source": [
    "In this table we see that most of the variables are either unique (id and cookies) or have only 1 variable (e.i. zip_code, first order) and undefined.\n",
    "\n",
    "However there is a binary gender. This could be useful data for us. Now we can check if we could merge the table data (so that we could find the missing values of gender in another table)"
   ]
  },
  {
   "cell_type": "code",
   "execution_count": 542,
   "metadata": {},
   "outputs": [
    {
     "data": {
      "text/plain": [
       "(100, 24)"
      ]
     },
     "execution_count": 542,
     "metadata": {},
     "output_type": "execute_result"
    }
   ],
   "source": [
    "merged_sample_person = data_sample.merge(person, how='inner', left_on='person_id', right_on='id')\n",
    "merged_sample_person.shape"
   ]
  },
  {
   "cell_type": "markdown",
   "metadata": {},
   "source": [
    "Comment here"
   ]
  },
  {
   "cell_type": "code",
   "execution_count": 543,
   "metadata": {},
   "outputs": [
    {
     "data": {
      "text/plain": [
       "False"
      ]
     },
     "execution_count": 543,
     "metadata": {},
     "output_type": "execute_result"
    }
   ],
   "source": [
    "merged_sample_person['gender_x'].equals(merged_sample_person['gender_y'])"
   ]
  },
  {
   "cell_type": "code",
   "execution_count": 544,
   "metadata": {},
   "outputs": [
    {
     "data": {
      "text/html": [
       "<div>\n",
       "<style scoped>\n",
       "    .dataframe tbody tr th:only-of-type {\n",
       "        vertical-align: middle;\n",
       "    }\n",
       "\n",
       "    .dataframe tbody tr th {\n",
       "        vertical-align: top;\n",
       "    }\n",
       "\n",
       "    .dataframe thead th {\n",
       "        text-align: right;\n",
       "    }\n",
       "</style>\n",
       "<table border=\"1\" class=\"dataframe\">\n",
       "  <thead>\n",
       "    <tr style=\"text-align: right;\">\n",
       "      <th></th>\n",
       "      <th>gender_x</th>\n",
       "      <th>gender_y</th>\n",
       "    </tr>\n",
       "  </thead>\n",
       "  <tbody>\n",
       "    <tr>\n",
       "      <th>58</th>\n",
       "      <td>d</td>\n",
       "      <td>w</td>\n",
       "    </tr>\n",
       "    <tr>\n",
       "      <th>86</th>\n",
       "      <td>NaN</td>\n",
       "      <td>m</td>\n",
       "    </tr>\n",
       "    <tr>\n",
       "      <th>92</th>\n",
       "      <td>NaN</td>\n",
       "      <td>m</td>\n",
       "    </tr>\n",
       "    <tr>\n",
       "      <th>94</th>\n",
       "      <td>NaN</td>\n",
       "      <td>m</td>\n",
       "    </tr>\n",
       "  </tbody>\n",
       "</table>\n",
       "</div>"
      ],
      "text/plain": [
       "   gender_x gender_y\n",
       "58        d        w\n",
       "86      NaN        m\n",
       "92      NaN        m\n",
       "94      NaN        m"
      ]
     },
     "execution_count": 544,
     "metadata": {},
     "output_type": "execute_result"
    }
   ],
   "source": [
    "merged_sample_person[['gender_x', 'gender_y']].loc[~(merged_sample_person['gender_x'] == merged_sample_person['gender_y'])]"
   ]
  },
  {
   "cell_type": "markdown",
   "metadata": {},
   "source": [
    "Let's replate the gender column in data_sample dataframe by the gender column from the person dataframe."
   ]
  },
  {
   "cell_type": "code",
   "execution_count": 545,
   "metadata": {},
   "outputs": [
    {
     "name": "stdout",
     "output_type": "stream",
     "text": [
      "<class 'pandas.core.frame.DataFrame'>\n",
      "RangeIndex: 100 entries, 0 to 99\n",
      "Data columns (total 14 columns):\n",
      " #   Column                   Non-Null Count  Dtype  \n",
      "---  ------                   --------------  -----  \n",
      " 0   transactions             100 non-null    int64  \n",
      " 1   loyalty                  100 non-null    float64\n",
      " 2   days_since_last_contact  100 non-null    int64  \n",
      " 3   gender                   100 non-null    object \n",
      " 4   person_id                100 non-null    object \n",
      " 5   product_ids              100 non-null    object \n",
      " 6   0ne.hot.1                100 non-null    int64  \n",
      " 7   0ne.hot.2                100 non-null    int64  \n",
      " 8   0ne.hot.3                100 non-null    int64  \n",
      " 9   0ne.hot.4                100 non-null    int64  \n",
      " 10  promotion_set_id         100 non-null    object \n",
      " 11  platform_cookie_source   100 non-null    object \n",
      " 12  delivery_pass            100 non-null    bool   \n",
      " 13  is_newsletter            100 non-null    bool   \n",
      "dtypes: bool(2), float64(1), int64(6), object(5)\n",
      "memory usage: 9.7+ KB\n"
     ]
    }
   ],
   "source": [
    "data_sample['gender'] = person['gender']\n",
    "data_sample.info()"
   ]
  },
  {
   "cell_type": "markdown",
   "metadata": {},
   "source": [
    "At this point we will not use \"person\" table anymore, because the other values are either undefined or unique."
   ]
  },
  {
   "cell_type": "markdown",
   "metadata": {},
   "source": [
    "## Data cleaning. Part 2. Data_sample\n",
    "At this step we could do some modifications in the data and create a table that it will be easier to work with. We can:\n",
    "\n",
    "    1.'Reverse' one-hot encoding values to \"categories\"\n",
    "    2. Drop the columns that have 1 variable\n",
    "    3. Drop the columns that have 100 variables"
   ]
  },
  {
   "cell_type": "code",
   "execution_count": 546,
   "metadata": {},
   "outputs": [],
   "source": [
    "# Here we see that there are one-hot encoding values. We can reverse them to check thier distribution.\n",
    "# We will create a series A, B, C and D as another column and call them \"categories\"\n",
    "\n",
    "categ_one_hot = data_sample[['0ne.hot.1', '0ne.hot.2', '0ne.hot.3', '0ne.hot.4']]\n",
    "categ_one_hot = categ_one_hot.idxmax(1)\n"
   ]
  },
  {
   "cell_type": "code",
   "execution_count": 547,
   "metadata": {
    "scrolled": false
   },
   "outputs": [
    {
     "data": {
      "text/html": [
       "<div>\n",
       "<style scoped>\n",
       "    .dataframe tbody tr th:only-of-type {\n",
       "        vertical-align: middle;\n",
       "    }\n",
       "\n",
       "    .dataframe tbody tr th {\n",
       "        vertical-align: top;\n",
       "    }\n",
       "\n",
       "    .dataframe thead th {\n",
       "        text-align: right;\n",
       "    }\n",
       "</style>\n",
       "<table border=\"1\" class=\"dataframe\">\n",
       "  <thead>\n",
       "    <tr style=\"text-align: right;\">\n",
       "      <th></th>\n",
       "      <th>transactions</th>\n",
       "      <th>loyalty</th>\n",
       "      <th>days_since_last_contact</th>\n",
       "      <th>gender</th>\n",
       "      <th>product_ids</th>\n",
       "      <th>delivery_pass</th>\n",
       "      <th>categ_one_hot</th>\n",
       "    </tr>\n",
       "  </thead>\n",
       "  <tbody>\n",
       "    <tr>\n",
       "      <th>0</th>\n",
       "      <td>4</td>\n",
       "      <td>-1.33</td>\n",
       "      <td>2</td>\n",
       "      <td>m</td>\n",
       "      <td>[7881,10834,61603,62040,63288,125830]</td>\n",
       "      <td>True</td>\n",
       "      <td>cat1</td>\n",
       "    </tr>\n",
       "    <tr>\n",
       "      <th>1</th>\n",
       "      <td>6</td>\n",
       "      <td>-0.28</td>\n",
       "      <td>3</td>\n",
       "      <td>m</td>\n",
       "      <td>[10834,61603,62040,63288,125830]</td>\n",
       "      <td>True</td>\n",
       "      <td>cat1</td>\n",
       "    </tr>\n",
       "    <tr>\n",
       "      <th>2</th>\n",
       "      <td>5</td>\n",
       "      <td>-0.22</td>\n",
       "      <td>1</td>\n",
       "      <td>w</td>\n",
       "      <td>[63288,125830]</td>\n",
       "      <td>False</td>\n",
       "      <td>cat1</td>\n",
       "    </tr>\n",
       "    <tr>\n",
       "      <th>3</th>\n",
       "      <td>7</td>\n",
       "      <td>-0.29</td>\n",
       "      <td>0</td>\n",
       "      <td>m</td>\n",
       "      <td>[7881,10834]</td>\n",
       "      <td>True</td>\n",
       "      <td>cat2</td>\n",
       "    </tr>\n",
       "    <tr>\n",
       "      <th>4</th>\n",
       "      <td>4</td>\n",
       "      <td>1.06</td>\n",
       "      <td>5</td>\n",
       "      <td>m</td>\n",
       "      <td>[7881,10834,62040,63288,125830]</td>\n",
       "      <td>True</td>\n",
       "      <td>cat3</td>\n",
       "    </tr>\n",
       "  </tbody>\n",
       "</table>\n",
       "</div>"
      ],
      "text/plain": [
       "   transactions  loyalty  days_since_last_contact gender  \\\n",
       "0             4    -1.33                        2      m   \n",
       "1             6    -0.28                        3      m   \n",
       "2             5    -0.22                        1      w   \n",
       "3             7    -0.29                        0      m   \n",
       "4             4     1.06                        5      m   \n",
       "\n",
       "                             product_ids  delivery_pass categ_one_hot  \n",
       "0  [7881,10834,61603,62040,63288,125830]           True          cat1  \n",
       "1       [10834,61603,62040,63288,125830]           True          cat1  \n",
       "2                         [63288,125830]          False          cat1  \n",
       "3                           [7881,10834]           True          cat2  \n",
       "4        [7881,10834,62040,63288,125830]           True          cat3  "
      ]
     },
     "execution_count": 547,
     "metadata": {},
     "output_type": "execute_result"
    }
   ],
   "source": [
    "\n",
    "# Dropping the one-hot encoding data and changing them for the 'reverse' one\n",
    "# so that we are able to group and analyse them.\n",
    "\n",
    "# Also dropping the values that have just 1 categorical value in these data like 'platform_cookie_source' and 'is_newsletter' and \n",
    "# values that have all different values like 'promotion_set_id', 'person_id'\n",
    "\n",
    "data_sample=data_sample.drop(['0ne.hot.1', '0ne.hot.2', '0ne.hot.3', '0ne.hot.4'], axis = 1)\n",
    "data_sample=data_sample.drop(['platform_cookie_source', 'is_newsletter', 'promotion_set_id', 'person_id'], axis = 1)\n",
    "\n",
    "# Appending the column showing the one-hot encoding data\n",
    "data_sample['categ_one_hot'] = categ_one_hot\n",
    "\n",
    "one_hot_coding = {'0ne.hot.1': \"cat1\", \"0ne.hot.2\": \"cat2\" , \"0ne.hot.3\": \"cat3\", \"0ne.hot.4\": \"cat4\" }\n",
    "\n",
    "data_sample[\"categ_one_hot\"].replace(one_hot_coding, inplace=True)\n",
    "\n",
    "\n",
    "data_sample.head()"
   ]
  },
  {
   "cell_type": "code",
   "execution_count": 549,
   "metadata": {
    "scrolled": true
   },
   "outputs": [
    {
     "data": {
      "text/plain": [
       "array(['[7881,10834,61603,62040,63288,125830]',\n",
       "       '[10834,61603,62040,63288,125830]', '[63288,125830]',\n",
       "       '[7881,10834]', '[7881,10834,62040,63288,125830]',\n",
       "       '[7881,10834,61603]'], dtype=object)"
      ]
     },
     "execution_count": 549,
     "metadata": {},
     "output_type": "execute_result"
    }
   ],
   "source": [
    "data_sample.product_ids.unique()"
   ]
  },
  {
   "cell_type": "code",
   "execution_count": 550,
   "metadata": {},
   "outputs": [
    {
     "data": {
      "text/plain": [
       "7"
      ]
     },
     "execution_count": 550,
     "metadata": {},
     "output_type": "execute_result"
    }
   ],
   "source": [
    "data_sample.columns\n",
    "data_sample.count().count()"
   ]
  },
  {
   "cell_type": "code",
   "execution_count": 551,
   "metadata": {},
   "outputs": [
    {
     "data": {
      "text/plain": [
       "7"
      ]
     },
     "execution_count": 551,
     "metadata": {},
     "output_type": "execute_result"
    }
   ],
   "source": [
    "column_names = [\"gender\", \"loyalty\", \\\n",
    "                \"days_since_last_contact\", \"transactions\", \"product_ids\", \\\n",
    "                \"categ_one_hot\", \"delivery_pass\"]\n",
    "len(column_names)"
   ]
  },
  {
   "cell_type": "code",
   "execution_count": 552,
   "metadata": {},
   "outputs": [
    {
     "data": {
      "text/html": [
       "<div>\n",
       "<style scoped>\n",
       "    .dataframe tbody tr th:only-of-type {\n",
       "        vertical-align: middle;\n",
       "    }\n",
       "\n",
       "    .dataframe tbody tr th {\n",
       "        vertical-align: top;\n",
       "    }\n",
       "\n",
       "    .dataframe thead th {\n",
       "        text-align: right;\n",
       "    }\n",
       "</style>\n",
       "<table border=\"1\" class=\"dataframe\">\n",
       "  <thead>\n",
       "    <tr style=\"text-align: right;\">\n",
       "      <th></th>\n",
       "      <th>gender</th>\n",
       "      <th>loyalty</th>\n",
       "      <th>days_since_last_contact</th>\n",
       "      <th>transactions</th>\n",
       "      <th>product_ids</th>\n",
       "      <th>categ_one_hot</th>\n",
       "      <th>delivery_pass</th>\n",
       "    </tr>\n",
       "  </thead>\n",
       "  <tbody>\n",
       "    <tr>\n",
       "      <th>0</th>\n",
       "      <td>m</td>\n",
       "      <td>-1.33</td>\n",
       "      <td>2</td>\n",
       "      <td>4</td>\n",
       "      <td>[7881,10834,61603,62040,63288,125830]</td>\n",
       "      <td>cat1</td>\n",
       "      <td>True</td>\n",
       "    </tr>\n",
       "    <tr>\n",
       "      <th>1</th>\n",
       "      <td>m</td>\n",
       "      <td>-0.28</td>\n",
       "      <td>3</td>\n",
       "      <td>6</td>\n",
       "      <td>[10834,61603,62040,63288,125830]</td>\n",
       "      <td>cat1</td>\n",
       "      <td>True</td>\n",
       "    </tr>\n",
       "    <tr>\n",
       "      <th>2</th>\n",
       "      <td>w</td>\n",
       "      <td>-0.22</td>\n",
       "      <td>1</td>\n",
       "      <td>5</td>\n",
       "      <td>[63288,125830]</td>\n",
       "      <td>cat1</td>\n",
       "      <td>False</td>\n",
       "    </tr>\n",
       "    <tr>\n",
       "      <th>3</th>\n",
       "      <td>m</td>\n",
       "      <td>-0.29</td>\n",
       "      <td>0</td>\n",
       "      <td>7</td>\n",
       "      <td>[7881,10834]</td>\n",
       "      <td>cat2</td>\n",
       "      <td>True</td>\n",
       "    </tr>\n",
       "    <tr>\n",
       "      <th>4</th>\n",
       "      <td>m</td>\n",
       "      <td>1.06</td>\n",
       "      <td>5</td>\n",
       "      <td>4</td>\n",
       "      <td>[7881,10834,62040,63288,125830]</td>\n",
       "      <td>cat3</td>\n",
       "      <td>True</td>\n",
       "    </tr>\n",
       "  </tbody>\n",
       "</table>\n",
       "</div>"
      ],
      "text/plain": [
       "  gender  loyalty  days_since_last_contact  transactions  \\\n",
       "0      m    -1.33                        2             4   \n",
       "1      m    -0.28                        3             6   \n",
       "2      w    -0.22                        1             5   \n",
       "3      m    -0.29                        0             7   \n",
       "4      m     1.06                        5             4   \n",
       "\n",
       "                             product_ids categ_one_hot  delivery_pass  \n",
       "0  [7881,10834,61603,62040,63288,125830]          cat1           True  \n",
       "1       [10834,61603,62040,63288,125830]          cat1           True  \n",
       "2                         [63288,125830]          cat1          False  \n",
       "3                           [7881,10834]          cat2           True  \n",
       "4        [7881,10834,62040,63288,125830]          cat3           True  "
      ]
     },
     "execution_count": 552,
     "metadata": {},
     "output_type": "execute_result"
    }
   ],
   "source": [
    "data_sample = data_sample.reindex(columns=column_names)\n",
    "data_sample.head()"
   ]
  },
  {
   "cell_type": "code",
   "execution_count": 553,
   "metadata": {},
   "outputs": [
    {
     "data": {
      "text/html": [
       "<div>\n",
       "<style scoped>\n",
       "    .dataframe tbody tr th:only-of-type {\n",
       "        vertical-align: middle;\n",
       "    }\n",
       "\n",
       "    .dataframe tbody tr th {\n",
       "        vertical-align: top;\n",
       "    }\n",
       "\n",
       "    .dataframe thead th {\n",
       "        text-align: right;\n",
       "    }\n",
       "</style>\n",
       "<table border=\"1\" class=\"dataframe\">\n",
       "  <thead>\n",
       "    <tr style=\"text-align: right;\">\n",
       "      <th></th>\n",
       "      <th>gender</th>\n",
       "      <th>loyalty</th>\n",
       "      <th>days_since_last_contact</th>\n",
       "      <th>transactions</th>\n",
       "      <th>product_ids</th>\n",
       "      <th>categ_one_hot</th>\n",
       "      <th>delivery_pass</th>\n",
       "      <th>product_ids_sets</th>\n",
       "    </tr>\n",
       "  </thead>\n",
       "  <tbody>\n",
       "    <tr>\n",
       "      <th>0</th>\n",
       "      <td>m</td>\n",
       "      <td>-1.33</td>\n",
       "      <td>2</td>\n",
       "      <td>4</td>\n",
       "      <td>[7881,10834,61603,62040,63288,125830]</td>\n",
       "      <td>cat1</td>\n",
       "      <td>True</td>\n",
       "      <td>A</td>\n",
       "    </tr>\n",
       "    <tr>\n",
       "      <th>1</th>\n",
       "      <td>m</td>\n",
       "      <td>-0.28</td>\n",
       "      <td>3</td>\n",
       "      <td>6</td>\n",
       "      <td>[10834,61603,62040,63288,125830]</td>\n",
       "      <td>cat1</td>\n",
       "      <td>True</td>\n",
       "      <td>B</td>\n",
       "    </tr>\n",
       "    <tr>\n",
       "      <th>2</th>\n",
       "      <td>w</td>\n",
       "      <td>-0.22</td>\n",
       "      <td>1</td>\n",
       "      <td>5</td>\n",
       "      <td>[63288,125830]</td>\n",
       "      <td>cat1</td>\n",
       "      <td>False</td>\n",
       "      <td>C</td>\n",
       "    </tr>\n",
       "    <tr>\n",
       "      <th>3</th>\n",
       "      <td>m</td>\n",
       "      <td>-0.29</td>\n",
       "      <td>0</td>\n",
       "      <td>7</td>\n",
       "      <td>[7881,10834]</td>\n",
       "      <td>cat2</td>\n",
       "      <td>True</td>\n",
       "      <td>D</td>\n",
       "    </tr>\n",
       "    <tr>\n",
       "      <th>4</th>\n",
       "      <td>m</td>\n",
       "      <td>1.06</td>\n",
       "      <td>5</td>\n",
       "      <td>4</td>\n",
       "      <td>[7881,10834,62040,63288,125830]</td>\n",
       "      <td>cat3</td>\n",
       "      <td>True</td>\n",
       "      <td>E</td>\n",
       "    </tr>\n",
       "  </tbody>\n",
       "</table>\n",
       "</div>"
      ],
      "text/plain": [
       "  gender  loyalty  days_since_last_contact  transactions  \\\n",
       "0      m    -1.33                        2             4   \n",
       "1      m    -0.28                        3             6   \n",
       "2      w    -0.22                        1             5   \n",
       "3      m    -0.29                        0             7   \n",
       "4      m     1.06                        5             4   \n",
       "\n",
       "                             product_ids categ_one_hot  delivery_pass  \\\n",
       "0  [7881,10834,61603,62040,63288,125830]          cat1           True   \n",
       "1       [10834,61603,62040,63288,125830]          cat1           True   \n",
       "2                         [63288,125830]          cat1          False   \n",
       "3                           [7881,10834]          cat2           True   \n",
       "4        [7881,10834,62040,63288,125830]          cat3           True   \n",
       "\n",
       "  product_ids_sets  \n",
       "0                A  \n",
       "1                B  \n",
       "2                C  \n",
       "3                D  \n",
       "4                E  "
      ]
     },
     "execution_count": 553,
     "metadata": {},
     "output_type": "execute_result"
    }
   ],
   "source": [
    "data_sample[\"product_ids_sets\"] = data_sample[\"product_ids\"]\n",
    "\n",
    "product_id_coding = {'[7881,10834,61603,62040,63288,125830]': \"A\", \"[10834,61603,62040,63288,125830]\": \"B\" \\\n",
    "                                                                     , \"[63288,125830]\": \"C\", \"[7881,10834]\": \"D\" \\\n",
    "                                                                     , \"[7881,10834,62040,63288,125830]\": \"E\", \"[7881,10834,61603]\": \"F\"}\n",
    "\n",
    "data_sample[\"product_ids_sets\"].replace(product_id_coding, inplace=True)\n",
    "data_sample.head()"
   ]
  },
  {
   "cell_type": "code",
   "execution_count": 554,
   "metadata": {},
   "outputs": [
    {
     "data": {
      "text/plain": [
       "array(['A', 'B', 'C', 'D', 'E', 'F'], dtype=object)"
      ]
     },
     "execution_count": 554,
     "metadata": {},
     "output_type": "execute_result"
    }
   ],
   "source": [
    "data_sample[\"product_ids_sets\"].unique()"
   ]
  },
  {
   "cell_type": "code",
   "execution_count": 555,
   "metadata": {
    "scrolled": true
   },
   "outputs": [
    {
     "data": {
      "text/plain": [
       "Index(['gender', 'product_ids', 'categ_one_hot', 'product_ids_sets'], dtype='object')"
      ]
     },
     "execution_count": 555,
     "metadata": {},
     "output_type": "execute_result"
    }
   ],
   "source": [
    "# Check which columns in our table are \"objects\". \n",
    "data_sample.select_dtypes(include=[object]).columns"
   ]
  },
  {
   "cell_type": "code",
   "execution_count": 556,
   "metadata": {},
   "outputs": [
    {
     "data": {
      "text/plain": [
       "delivery_pass                 bool\n",
       "days_since_last_contact      int64\n",
       "transactions                 int64\n",
       "loyalty                    float64\n",
       "gender                      object\n",
       "product_ids                 object\n",
       "categ_one_hot               object\n",
       "product_ids_sets            object\n",
       "dtype: object"
      ]
     },
     "execution_count": 556,
     "metadata": {},
     "output_type": "execute_result"
    }
   ],
   "source": [
    "data_sample.dtypes.sort_values()"
   ]
  },
  {
   "cell_type": "code",
   "execution_count": 557,
   "metadata": {},
   "outputs": [
    {
     "data": {
      "text/plain": [
       "object     4\n",
       "int64      2\n",
       "float64    1\n",
       "bool       1\n",
       "dtype: int64"
      ]
     },
     "execution_count": 557,
     "metadata": {},
     "output_type": "execute_result"
    }
   ],
   "source": [
    "data_sample.dtypes.value_counts()"
   ]
  },
  {
   "cell_type": "markdown",
   "metadata": {},
   "source": [
    "### Univariate Analysis"
   ]
  },
  {
   "cell_type": "code",
   "execution_count": 558,
   "metadata": {},
   "outputs": [
    {
     "data": {
      "image/png": "[encoded data removed]",
      "text/plain": [
       "<Figure size 432x288 with 4 Axes>"
      ]
     },
     "metadata": {
      "needs_background": "light"
     },
     "output_type": "display_data"
    }
   ],
   "source": [
    "#import warnings\n",
    "#warnings.simplefilter(action=\"ignore\", category=FutureWarning)\n",
    "\n",
    "fig, ax =plt.subplots(1,4)\n",
    "#fig.tight_layout()\n",
    "ax0 = sns.countplot(x = data_sample['gender'], ax=ax[0])\n",
    "ax1 = sns.countplot(x = data_sample['product_ids_sets'], ax=ax[1])\n",
    "ax2 = sns.countplot(x = data_sample['categ_one_hot'], ax=ax[2])\n",
    "ax3 = sns.countplot(x = data_sample['delivery_pass'], ax=ax[3])\n",
    "ax1.set_xticklabels(ax1.get_xticklabels(), horizontalalignment='right')\n",
    "ax2.set_xticklabels(ax2.get_xticklabels(), horizontalalignment='right')\n",
    "#ax = sns.countplot(x=\"gender\", data=data_sample)\n",
    "plt.subplots_adjust(left=0.05,\n",
    "                    bottom=0.05, \n",
    "                    right=2.5, \n",
    "                    top=0.9, \n",
    "                    wspace=0.4, \n",
    "                    hspace=0.4)"
   ]
  },
  {
   "cell_type": "code",
   "execution_count": 559,
   "metadata": {
    "scrolled": true
   },
   "outputs": [
    {
     "data": {
      "image/png": "[encoded data removed]",
      "text/plain": [
       "<Figure size 432x288 with 3 Axes>"
      ]
     },
     "metadata": {
      "needs_background": "light"
     },
     "output_type": "display_data"
    }
   ],
   "source": [
    "fig, ax =plt.subplots(1,3)\n",
    "#fig.tight_layout()\n",
    "ax0 = sns.distplot(data_sample['loyalty'], ax=ax[0], kde = False)\n",
    "ax1 = sns.countplot(data_sample['days_since_last_contact'], ax=ax[1])\n",
    "ax2 = sns.countplot(data_sample['transactions'], ax=ax[2])\n",
    "ax1.set_xticklabels(ax1.get_xticklabels(), horizontalalignment='right')\n",
    "ax2.set_xticklabels(ax2.get_xticklabels(), horizontalalignment='right')\n",
    "#ax = sns.countplot(x=\"gender\", data=data_sample)\n",
    "plt.subplots_adjust(left=0.05,\n",
    "                    bottom=0.05, \n",
    "                    right=2.5, \n",
    "                    top=0.9, \n",
    "                    wspace=0.4, \n",
    "                    hspace=0.4)"
   ]
  },
  {
   "cell_type": "markdown",
   "metadata": {},
   "source": [
    "At this point we can start formulating some questions that could be interesting to check.\n",
    "\n",
    "I would start checking what affects the loyalty and amount of transaction, because these are the parameters that will improve the sales. \n",
    "\n",
    "The loyal customer will buy more -- > More transactions. \n",
    "Here is it interesting to check whether these values are correlated. \n",
    "So that we don't have to study both of them, but can just study one. We can also check the correlation of all the variables (maybe there will be something that we haven't noticed yet)"
   ]
  },
  {
   "cell_type": "code",
   "execution_count": 562,
   "metadata": {
    "scrolled": false
   },
   "outputs": [
    {
     "data": {
      "text/plain": [
       "<seaborn.axisgrid.PairGrid at 0x14af8b2b070>"
      ]
     },
     "execution_count": 562,
     "metadata": {},
     "output_type": "execute_result"
    },
    {
     "data": {
      "image/png": "[encoded data removed]",
      "text/plain": [
       "<Figure size 720x720 with 16 Axes>"
      ]
     },
     "metadata": {
      "needs_background": "light"
     },
     "output_type": "display_data"
    }
   ],
   "source": [
    "pair_grid_plot = sns.PairGrid(data_sample)\n",
    "pair_grid_plot.map(plt.scatter)"
   ]
  },
  {
   "cell_type": "code",
   "execution_count": null,
   "metadata": {},
   "outputs": [],
   "source": []
  },
  {
   "cell_type": "code",
   "execution_count": null,
   "metadata": {},
   "outputs": [],
   "source": []
  },
  {
   "cell_type": "code",
   "execution_count": null,
   "metadata": {},
   "outputs": [],
   "source": []
  },
  {
   "cell_type": "code",
   "execution_count": null,
   "metadata": {},
   "outputs": [],
   "source": []
  },
  {
   "cell_type": "code",
   "execution_count": null,
   "metadata": {},
   "outputs": [],
   "source": []
  },
  {
   "cell_type": "code",
   "execution_count": 560,
   "metadata": {},
   "outputs": [
    {
     "data": {
      "text/html": [
       "<div>\n",
       "<style scoped>\n",
       "    .dataframe tbody tr th:only-of-type {\n",
       "        vertical-align: middle;\n",
       "    }\n",
       "\n",
       "    .dataframe tbody tr th {\n",
       "        vertical-align: top;\n",
       "    }\n",
       "\n",
       "    .dataframe thead th {\n",
       "        text-align: right;\n",
       "    }\n",
       "</style>\n",
       "<table border=\"1\" class=\"dataframe\">\n",
       "  <thead>\n",
       "    <tr style=\"text-align: right;\">\n",
       "      <th></th>\n",
       "      <th>loyalty</th>\n",
       "      <th>days_since_last_contact</th>\n",
       "      <th>transactions</th>\n",
       "      <th>delivery_pass</th>\n",
       "    </tr>\n",
       "  </thead>\n",
       "  <tbody>\n",
       "    <tr>\n",
       "      <th>loyalty</th>\n",
       "      <td>1.000000</td>\n",
       "      <td>0.552121</td>\n",
       "      <td>0.370119</td>\n",
       "      <td>0.001538</td>\n",
       "    </tr>\n",
       "    <tr>\n",
       "      <th>days_since_last_contact</th>\n",
       "      <td>0.552121</td>\n",
       "      <td>1.000000</td>\n",
       "      <td>0.140573</td>\n",
       "      <td>-0.164417</td>\n",
       "    </tr>\n",
       "    <tr>\n",
       "      <th>transactions</th>\n",
       "      <td>0.370119</td>\n",
       "      <td>0.140573</td>\n",
       "      <td>1.000000</td>\n",
       "      <td>-0.063853</td>\n",
       "    </tr>\n",
       "    <tr>\n",
       "      <th>delivery_pass</th>\n",
       "      <td>0.001538</td>\n",
       "      <td>-0.164417</td>\n",
       "      <td>-0.063853</td>\n",
       "      <td>1.000000</td>\n",
       "    </tr>\n",
       "  </tbody>\n",
       "</table>\n",
       "</div>"
      ],
      "text/plain": [
       "                          loyalty  days_since_last_contact  transactions  \\\n",
       "loyalty                  1.000000                 0.552121      0.370119   \n",
       "days_since_last_contact  0.552121                 1.000000      0.140573   \n",
       "transactions             0.370119                 0.140573      1.000000   \n",
       "delivery_pass            0.001538                -0.164417     -0.063853   \n",
       "\n",
       "                         delivery_pass  \n",
       "loyalty                       0.001538  \n",
       "days_since_last_contact      -0.164417  \n",
       "transactions                 -0.063853  \n",
       "delivery_pass                 1.000000  "
      ]
     },
     "execution_count": 560,
     "metadata": {},
     "output_type": "execute_result"
    }
   ],
   "source": [
    "data_sample.corr()"
   ]
  },
  {
   "cell_type": "code",
   "execution_count": 563,
   "metadata": {},
   "outputs": [
    {
     "data": {
      "text/html": [
       "<div>\n",
       "<style scoped>\n",
       "    .dataframe tbody tr th:only-of-type {\n",
       "        vertical-align: middle;\n",
       "    }\n",
       "\n",
       "    .dataframe tbody tr th {\n",
       "        vertical-align: top;\n",
       "    }\n",
       "\n",
       "    .dataframe thead th {\n",
       "        text-align: right;\n",
       "    }\n",
       "</style>\n",
       "<table border=\"1\" class=\"dataframe\">\n",
       "  <thead>\n",
       "    <tr style=\"text-align: right;\">\n",
       "      <th></th>\n",
       "      <th>loyalty</th>\n",
       "      <th>days_since_last_contact</th>\n",
       "      <th>transactions</th>\n",
       "    </tr>\n",
       "  </thead>\n",
       "  <tbody>\n",
       "    <tr>\n",
       "      <th>count</th>\n",
       "      <td>100.000000</td>\n",
       "      <td>100.000000</td>\n",
       "      <td>100.000000</td>\n",
       "    </tr>\n",
       "    <tr>\n",
       "      <th>mean</th>\n",
       "      <td>-0.000090</td>\n",
       "      <td>6.280000</td>\n",
       "      <td>6.550000</td>\n",
       "    </tr>\n",
       "    <tr>\n",
       "      <th>std</th>\n",
       "      <td>1.002703</td>\n",
       "      <td>3.861438</td>\n",
       "      <td>2.709411</td>\n",
       "    </tr>\n",
       "    <tr>\n",
       "      <th>min</th>\n",
       "      <td>-1.710000</td>\n",
       "      <td>0.000000</td>\n",
       "      <td>1.000000</td>\n",
       "    </tr>\n",
       "    <tr>\n",
       "      <th>25%</th>\n",
       "      <td>-0.742500</td>\n",
       "      <td>3.000000</td>\n",
       "      <td>5.000000</td>\n",
       "    </tr>\n",
       "    <tr>\n",
       "      <th>50%</th>\n",
       "      <td>-0.100500</td>\n",
       "      <td>5.000000</td>\n",
       "      <td>7.000000</td>\n",
       "    </tr>\n",
       "    <tr>\n",
       "      <th>75%</th>\n",
       "      <td>1.032500</td>\n",
       "      <td>9.000000</td>\n",
       "      <td>8.250000</td>\n",
       "    </tr>\n",
       "    <tr>\n",
       "      <th>max</th>\n",
       "      <td>1.400000</td>\n",
       "      <td>14.000000</td>\n",
       "      <td>15.000000</td>\n",
       "    </tr>\n",
       "  </tbody>\n",
       "</table>\n",
       "</div>"
      ],
      "text/plain": [
       "          loyalty  days_since_last_contact  transactions\n",
       "count  100.000000               100.000000    100.000000\n",
       "mean    -0.000090                 6.280000      6.550000\n",
       "std      1.002703                 3.861438      2.709411\n",
       "min     -1.710000                 0.000000      1.000000\n",
       "25%     -0.742500                 3.000000      5.000000\n",
       "50%     -0.100500                 5.000000      7.000000\n",
       "75%      1.032500                 9.000000      8.250000\n",
       "max      1.400000                14.000000     15.000000"
      ]
     },
     "execution_count": 563,
     "metadata": {},
     "output_type": "execute_result"
    }
   ],
   "source": [
    "# Checking general descriptive statistics of our dataframe\n",
    "\n",
    "data_sample.describe()"
   ]
  },
  {
   "cell_type": "code",
   "execution_count": 564,
   "metadata": {},
   "outputs": [
    {
     "data": {
      "image/png": "[encoded data removed]",
      "text/plain": [
       "<Figure size 648x432 with 2 Axes>"
      ]
     },
     "metadata": {
      "needs_background": "light"
     },
     "output_type": "display_data"
    }
   ],
   "source": [
    "corr = data_sample.corr()\n",
    "\n",
    "f,ax = plt.subplots(figsize=(9,6))\n",
    "sns.heatmap(corr, annot = True, linewidths=1.5 , fmt = '.2f',ax=ax)\n",
    "plt.show()"
   ]
  },
  {
   "cell_type": "markdown",
   "metadata": {},
   "source": [
    "**Here we see the highest correlation between the loyality and days_since_last_contacted**. \n",
    "Let's quickly check if this co"
   ]
  },
  {
   "cell_type": "code",
   "execution_count": 379,
   "metadata": {},
   "outputs": [
    {
     "name": "stdout",
     "output_type": "stream",
     "text": [
      "Коэффициент корреляции Пирсона:0.5521205721277607\n"
     ]
    }
   ],
   "source": [
    "import scipy.stats as sts\n",
    "coef = sts.pearsonr(data_sample.loyalty, data_sample.days_since_last_contact)[0]\n",
    "print(f'Pearson coefficient:{coef}')"
   ]
  },
  {
   "cell_type": "code",
   "execution_count": null,
   "metadata": {},
   "outputs": [],
   "source": []
  },
  {
   "cell_type": "code",
   "execution_count": 374,
   "metadata": {},
   "outputs": [
    {
     "data": {
      "text/plain": [
       "array([2.12623215, 6.28019136])"
      ]
     },
     "execution_count": 374,
     "metadata": {},
     "output_type": "execute_result"
    }
   ],
   "source": [
    "reg = np.polyfit(data_sample.loyalty, data_sample.days_since_last_contact, deg = 1)\n",
    "reg"
   ]
  },
  {
   "cell_type": "code",
   "execution_count": 377,
   "metadata": {},
   "outputs": [
    {
     "data": {
      "text/plain": [
       "[<matplotlib.lines.Line2D at 0x14af1b43ee0>]"
      ]
     },
     "execution_count": 377,
     "metadata": {},
     "output_type": "execute_result"
    },
    {
     "data": {
      "image/png": "[encoded data removed]",
      "text/plain": [
       "<Figure size 432x288 with 1 Axes>"
      ]
     },
     "metadata": {
      "needs_background": "light"
     },
     "output_type": "display_data"
    }
   ],
   "source": [
    "trend = np.polyval(reg, data_sample.loyalty)\n",
    "plt.scatter(data_sample.loyalty, data_sample.days_since_last_contact)\n",
    "plt.plot(data_sample.loyalty,trend, 'r')"
   ]
  },
  {
   "cell_type": "code",
   "execution_count": 385,
   "metadata": {},
   "outputs": [
    {
     "data": {
      "image/png": "[encoded data removed]",
      "text/plain": [
       "<Figure size 432x288 with 1 Axes>"
      ]
     },
     "metadata": {
      "needs_background": "light"
     },
     "output_type": "display_data"
    },
    {
     "name": "stdout",
     "output_type": "stream",
     "text": [
      "b1------> 2.1262321463337934\n",
      "b0------> 6.28019136089317\n",
      "cov-----> 211.63652000000002\n",
      "Rxy-----> 0.5521205721277604\n",
      "Sdx-----> 9.976770128152696\n",
      "SDy-----> 38.420827684993995\n",
      "X_mean--> -8.999999999999898e-05\n",
      "y_mean--> 6.28\n"
     ]
    }
   ],
   "source": [
    "X = data_sample['loyalty']\n",
    "y = data_sample['days_since_last_contact']\n",
    "\n",
    "X_mean = X.mean()\n",
    "y_mean = y.mean()\n",
    "\n",
    "SDx = np.sqrt(sum([(i-X_mean)**2 for i in X]))\n",
    "SDy = np.sqrt(sum([(i-y_mean)**2 for i in y]))\n",
    "\n",
    "cov = sum([(i-X_mean)*(j-y_mean) for i, j in zip(X, y)])\n",
    "\n",
    "Rxy = cov/(SDx*SDy)\n",
    "\n",
    "b1 = (SDy/SDx) * Rxy\n",
    "b0 = y_mean - X_mean*b1\n",
    "\n",
    "def predictor(x):\n",
    "    y = b0 + b1*x\n",
    "    return y\n",
    "    \n",
    "ploter = [predictor(i) for i in X]\n",
    "plt.plot(ploter, y , 'ro')\n",
    "plt.show()\n",
    "print('b1------>', b1)\n",
    "print('b0------>', b0)\n",
    "print('cov----->', cov)\n",
    "print('Rxy----->', Rxy)\n",
    "print('Sdx----->', SDx)\n",
    "print('SDy----->', SDy)\n",
    "print('X_mean-->', X_mean)\n",
    "print('y_mean-->', y_mean)"
   ]
  },
  {
   "cell_type": "code",
   "execution_count": 402,
   "metadata": {},
   "outputs": [
    {
     "data": {
      "image/png": "[encoded data removed]",
      "text/plain": [
       "<Figure size 432x288 with 1 Axes>"
      ]
     },
     "metadata": {
      "needs_background": "light"
     },
     "output_type": "display_data"
    },
    {
     "data": {
      "text/plain": [
       "LinregressResult(slope=2.126232146333793, intercept=6.28019136089317, rvalue=0.5521205721277603, pvalue=2.6062911670172237e-09, stderr=0.32434484341660286, intercept_stderr=0.32359139581856794)"
      ]
     },
     "execution_count": 402,
     "metadata": {},
     "output_type": "execute_result"
    }
   ],
   "source": [
    "import scipy.stats as stats\n",
    "\n",
    "x = data_sample['loyalty']\n",
    "y = data_sample['days_since_last_contact']\n",
    "\n",
    "gradient, intercept, r_value, p_value, std_err = stats.linregress(x,y)\n",
    "mn=np.min(x)\n",
    "mx=np.max(x)\n",
    "x1=np.linspace(mn,mx,500)\n",
    "y1=gradient*x1+intercept\n",
    "plt.plot(x,y,'o', label='original data')\n",
    "plt.plot(x1,y1,'-r', label='fitted line')\n",
    "plt.legend()\n",
    "plt.show()\n",
    "stats.linregress (x, y)"
   ]
  },
  {
   "cell_type": "code",
   "execution_count": null,
   "metadata": {},
   "outputs": [],
   "source": []
  },
  {
   "cell_type": "code",
   "execution_count": 390,
   "metadata": {},
   "outputs": [
    {
     "data": {
      "text/html": [
       "<div>\n",
       "<style scoped>\n",
       "    .dataframe tbody tr th:only-of-type {\n",
       "        vertical-align: middle;\n",
       "    }\n",
       "\n",
       "    .dataframe tbody tr th {\n",
       "        vertical-align: top;\n",
       "    }\n",
       "\n",
       "    .dataframe thead th {\n",
       "        text-align: right;\n",
       "    }\n",
       "</style>\n",
       "<table border=\"1\" class=\"dataframe\">\n",
       "  <thead>\n",
       "    <tr style=\"text-align: right;\">\n",
       "      <th></th>\n",
       "      <th>loyalty</th>\n",
       "      <th>days_since_last_contact</th>\n",
       "    </tr>\n",
       "  </thead>\n",
       "  <tbody>\n",
       "    <tr>\n",
       "      <th>count</th>\n",
       "      <td>100.0</td>\n",
       "      <td>100.0</td>\n",
       "    </tr>\n",
       "    <tr>\n",
       "      <th>mean</th>\n",
       "      <td>-0.0</td>\n",
       "      <td>6.0</td>\n",
       "    </tr>\n",
       "    <tr>\n",
       "      <th>std</th>\n",
       "      <td>1.0</td>\n",
       "      <td>4.0</td>\n",
       "    </tr>\n",
       "    <tr>\n",
       "      <th>min</th>\n",
       "      <td>-2.0</td>\n",
       "      <td>0.0</td>\n",
       "    </tr>\n",
       "    <tr>\n",
       "      <th>25%</th>\n",
       "      <td>-1.0</td>\n",
       "      <td>3.0</td>\n",
       "    </tr>\n",
       "    <tr>\n",
       "      <th>50%</th>\n",
       "      <td>-0.0</td>\n",
       "      <td>5.0</td>\n",
       "    </tr>\n",
       "    <tr>\n",
       "      <th>75%</th>\n",
       "      <td>1.0</td>\n",
       "      <td>9.0</td>\n",
       "    </tr>\n",
       "    <tr>\n",
       "      <th>max</th>\n",
       "      <td>1.0</td>\n",
       "      <td>14.0</td>\n",
       "    </tr>\n",
       "  </tbody>\n",
       "</table>\n",
       "</div>"
      ],
      "text/plain": [
       "       loyalty  days_since_last_contact\n",
       "count    100.0                    100.0\n",
       "mean      -0.0                      6.0\n",
       "std        1.0                      4.0\n",
       "min       -2.0                      0.0\n",
       "25%       -1.0                      3.0\n",
       "50%       -0.0                      5.0\n",
       "75%        1.0                      9.0\n",
       "max        1.0                     14.0"
      ]
     },
     "execution_count": 390,
     "metadata": {},
     "output_type": "execute_result"
    }
   ],
   "source": [
    "data_sample[['loyalty', 'days_since_last_contact']].describe().round()"
   ]
  },
  {
   "cell_type": "code",
   "execution_count": null,
   "metadata": {},
   "outputs": [],
   "source": []
  },
  {
   "cell_type": "code",
   "execution_count": null,
   "metadata": {},
   "outputs": [],
   "source": []
  },
  {
   "cell_type": "code",
   "execution_count": null,
   "metadata": {},
   "outputs": [],
   "source": []
  },
  {
   "cell_type": "markdown",
   "metadata": {},
   "source": [
    "Here we want to check if gender affects the delivery_pass. Here could be 2 hypothesis."
   ]
  },
  {
   "cell_type": "code",
   "execution_count": 331,
   "metadata": {},
   "outputs": [
    {
     "data": {
      "text/plain": [
       "<seaborn.axisgrid.FacetGrid at 0x14ae3b982b0>"
      ]
     },
     "execution_count": 331,
     "metadata": {},
     "output_type": "execute_result"
    },
    {
     "data": {
      "image/png": "[encoded data removed]",
      "text/plain": [
       "<Figure size 720x360 with 2 Axes>"
      ]
     },
     "metadata": {
      "needs_background": "light"
     },
     "output_type": "display_data"
    }
   ],
   "source": [
    "sns.catplot(x = 'gender', col = 'delivery_pass', kind = 'count', data = data_sample)"
   ]
  },
  {
   "cell_type": "markdown",
   "metadata": {},
   "source": [
    "Here we want to check if gender affects the product_ids_sets:"
   ]
  },
  {
   "cell_type": "code",
   "execution_count": 335,
   "metadata": {
    "scrolled": true
   },
   "outputs": [
    {
     "data": {
      "text/plain": [
       "<seaborn.axisgrid.FacetGrid at 0x14ae1d89550>"
      ]
     },
     "execution_count": 335,
     "metadata": {},
     "output_type": "execute_result"
    },
    {
     "data": {
      "image/png": "[encoded data removed]",
      "text/plain": [
       "<Figure size 2160x360 with 6 Axes>"
      ]
     },
     "metadata": {
      "needs_background": "light"
     },
     "output_type": "display_data"
    }
   ],
   "source": [
    "sns.catplot(x = 'gender', col = 'product_ids_sets', kind = 'count', data = data_sample)"
   ]
  },
  {
   "cell_type": "markdown",
   "metadata": {},
   "source": [
    "There are some products sets which man or women buy more. \n",
    "\n",
    "We could also check whether these differences are statistically significant.\n",
    "\n",
    "**How can I do it via A/B tests if I have several categories?**"
   ]
  },
  {
   "cell_type": "code",
   "execution_count": 404,
   "metadata": {},
   "outputs": [
    {
     "data": {
      "text/plain": [
       "<seaborn.axisgrid.FacetGrid at 0x14af419d910>"
      ]
     },
     "execution_count": 404,
     "metadata": {},
     "output_type": "execute_result"
    },
    {
     "data": {
      "image/png": "[encoded data removed]",
      "text/plain": [
       "<Figure size 1440x360 with 4 Axes>"
      ]
     },
     "metadata": {
      "needs_background": "light"
     },
     "output_type": "display_data"
    }
   ],
   "source": [
    "sns.catplot(x = 'gender', col = 'categ_one_hot', kind = 'count', data = data_sample)"
   ]
  },
  {
   "cell_type": "markdown",
   "metadata": {},
   "source": [
    "**Here we also see that there are some differences between women and men in choosing different categories.**"
   ]
  },
  {
   "cell_type": "markdown",
   "metadata": {},
   "source": [
    "**Is there a difference in loyalty between women and men?**"
   ]
  },
  {
   "cell_type": "code",
   "execution_count": 424,
   "metadata": {},
   "outputs": [
    {
     "data": {
      "image/png": "[encoded data removed]",
      "text/plain": [
       "<Figure size 1080x360 with 3 Axes>"
      ]
     },
     "metadata": {
      "needs_background": "light"
     },
     "output_type": "display_data"
    }
   ],
   "source": [
    "#g = sns.displot(data_sample, x=\"loyalty\", col=\"gender\");\n",
    "\n",
    "g = sns.displot(data_sample, x=\"loyalty\", col=\"gender\",  \n",
    "    facet_kws=dict(sharey=False, sharex=False))\n",
    "\n",
    "def specs(x, **kwargs):\n",
    "    plt.axvline(x.mean(), c='k', ls='-', lw=2.5)\n",
    "    plt.axvline(x.median(), c='orange', ls='--', lw=2.5)\n",
    "\n",
    "g.map(specs,'loyalty' );"
   ]
  },
  {
   "cell_type": "markdown",
   "metadata": {},
   "source": [
    "It is difficult to say at the moment if there is a difference. So we can maybe come to this later."
   ]
  },
  {
   "cell_type": "code",
   "execution_count": null,
   "metadata": {},
   "outputs": [],
   "source": []
  },
  {
   "cell_type": "code",
   "execution_count": null,
   "metadata": {},
   "outputs": [],
   "source": [
    "Is there a difference between loyalty between women and men"
   ]
  },
  {
   "cell_type": "markdown",
   "metadata": {},
   "source": [
    "Who made more transactions: men or women?"
   ]
  },
  {
   "cell_type": "code",
   "execution_count": 357,
   "metadata": {},
   "outputs": [
    {
     "data": {
      "text/html": [
       "<div>\n",
       "<style scoped>\n",
       "    .dataframe tbody tr th:only-of-type {\n",
       "        vertical-align: middle;\n",
       "    }\n",
       "\n",
       "    .dataframe tbody tr th {\n",
       "        vertical-align: top;\n",
       "    }\n",
       "\n",
       "    .dataframe thead th {\n",
       "        text-align: right;\n",
       "    }\n",
       "</style>\n",
       "<table border=\"1\" class=\"dataframe\">\n",
       "  <thead>\n",
       "    <tr style=\"text-align: right;\">\n",
       "      <th></th>\n",
       "      <th>gender</th>\n",
       "      <th>transactions</th>\n",
       "    </tr>\n",
       "  </thead>\n",
       "  <tbody>\n",
       "    <tr>\n",
       "      <th>2</th>\n",
       "      <td>w</td>\n",
       "      <td>327</td>\n",
       "    </tr>\n",
       "    <tr>\n",
       "      <th>1</th>\n",
       "      <td>m</td>\n",
       "      <td>299</td>\n",
       "    </tr>\n",
       "    <tr>\n",
       "      <th>0</th>\n",
       "      <td>d</td>\n",
       "      <td>6</td>\n",
       "    </tr>\n",
       "  </tbody>\n",
       "</table>\n",
       "</div>"
      ],
      "text/plain": [
       "  gender  transactions\n",
       "2      w           327\n",
       "1      m           299\n",
       "0      d             6"
      ]
     },
     "execution_count": 357,
     "metadata": {},
     "output_type": "execute_result"
    }
   ],
   "source": [
    "data_sample.groupby('gender', as_index = False).agg({'transactions':'sum'}).sort_values('transactions', ascending = False)"
   ]
  },
  {
   "cell_type": "markdown",
   "metadata": {},
   "source": [
    "Who is more loyal: men or women?"
   ]
  },
  {
   "cell_type": "code",
   "execution_count": 362,
   "metadata": {},
   "outputs": [
    {
     "data": {
      "text/html": [
       "<div>\n",
       "<style scoped>\n",
       "    .dataframe tbody tr th:only-of-type {\n",
       "        vertical-align: middle;\n",
       "    }\n",
       "\n",
       "    .dataframe tbody tr th {\n",
       "        vertical-align: top;\n",
       "    }\n",
       "\n",
       "    .dataframe thead th {\n",
       "        text-align: right;\n",
       "    }\n",
       "</style>\n",
       "<table border=\"1\" class=\"dataframe\">\n",
       "  <thead>\n",
       "    <tr style=\"text-align: right;\">\n",
       "      <th></th>\n",
       "      <th>gender</th>\n",
       "      <th>transactions</th>\n",
       "      <th>loyalty</th>\n",
       "    </tr>\n",
       "  </thead>\n",
       "  <tbody>\n",
       "    <tr>\n",
       "      <th>2</th>\n",
       "      <td>w</td>\n",
       "      <td>327</td>\n",
       "      <td>-0.035</td>\n",
       "    </tr>\n",
       "    <tr>\n",
       "      <th>1</th>\n",
       "      <td>m</td>\n",
       "      <td>299</td>\n",
       "      <td>-0.254</td>\n",
       "    </tr>\n",
       "    <tr>\n",
       "      <th>0</th>\n",
       "      <td>d</td>\n",
       "      <td>6</td>\n",
       "      <td>0.040</td>\n",
       "    </tr>\n",
       "  </tbody>\n",
       "</table>\n",
       "</div>"
      ],
      "text/plain": [
       "  gender  transactions  loyalty\n",
       "2      w           327   -0.035\n",
       "1      m           299   -0.254\n",
       "0      d             6    0.040"
      ]
     },
     "execution_count": 362,
     "metadata": {},
     "output_type": "execute_result"
    }
   ],
   "source": [
    "data_sample.groupby('gender', as_index = False).agg({'transactions':'sum', 'loyalty':'median'}).sort_values('transactions', ascending = False)"
   ]
  },
  {
   "cell_type": "code",
   "execution_count": 365,
   "metadata": {},
   "outputs": [
    {
     "data": {
      "text/html": [
       "<style type=\"text/css\">\n",
       "#T_3a890_row0_col0, #T_3a890_row0_col1, #T_3a890_row0_col2, #T_3a890_row0_col3, #T_3a890_row0_col4, #T_3a890_row0_col5, #T_3a890_row0_col6 {\n",
       "  background-color: #ffff00;\n",
       "  color: #000000;\n",
       "}\n",
       "#T_3a890_row1_col0 {\n",
       "  background-color: #ff8700;\n",
       "  color: #f1f1f1;\n",
       "}\n",
       "#T_3a890_row1_col1, #T_3a890_row2_col3, #T_3a890_row2_col5 {\n",
       "  background-color: #ff9f00;\n",
       "  color: #000000;\n",
       "}\n",
       "#T_3a890_row1_col2 {\n",
       "  background-color: #ff8e00;\n",
       "  color: #f1f1f1;\n",
       "}\n",
       "#T_3a890_row1_col3, #T_3a890_row1_col5 {\n",
       "  background-color: #ff5f00;\n",
       "  color: #f1f1f1;\n",
       "}\n",
       "#T_3a890_row1_col4 {\n",
       "  background-color: #ff9d00;\n",
       "  color: #000000;\n",
       "}\n",
       "#T_3a890_row1_col6, #T_3a890_row2_col6 {\n",
       "  background-color: #ff8200;\n",
       "  color: #f1f1f1;\n",
       "}\n",
       "#T_3a890_row2_col0 {\n",
       "  background-color: #ff7800;\n",
       "  color: #f1f1f1;\n",
       "}\n",
       "#T_3a890_row2_col1 {\n",
       "  background-color: #ff7f00;\n",
       "  color: #f1f1f1;\n",
       "}\n",
       "#T_3a890_row2_col2 {\n",
       "  background-color: #ff7100;\n",
       "  color: #f1f1f1;\n",
       "}\n",
       "#T_3a890_row2_col4 {\n",
       "  background-color: #ff6200;\n",
       "  color: #f1f1f1;\n",
       "}\n",
       "#T_3a890_row3_col0, #T_3a890_row3_col1, #T_3a890_row3_col2, #T_3a890_row3_col3, #T_3a890_row3_col4, #T_3a890_row3_col5, #T_3a890_row3_col6 {\n",
       "  background-color: #ff0000;\n",
       "  color: #f1f1f1;\n",
       "}\n",
       "</style>\n",
       "<table id=\"T_3a890\">\n",
       "  <thead>\n",
       "    <tr>\n",
       "      <th class=\"index_name level0\" >product_ids_sets</th>\n",
       "      <th id=\"T_3a890_level0_col0\" class=\"col_heading level0 col0\" >A</th>\n",
       "      <th id=\"T_3a890_level0_col1\" class=\"col_heading level0 col1\" >B</th>\n",
       "      <th id=\"T_3a890_level0_col2\" class=\"col_heading level0 col2\" >C</th>\n",
       "      <th id=\"T_3a890_level0_col3\" class=\"col_heading level0 col3\" >D</th>\n",
       "      <th id=\"T_3a890_level0_col4\" class=\"col_heading level0 col4\" >E</th>\n",
       "      <th id=\"T_3a890_level0_col5\" class=\"col_heading level0 col5\" >F</th>\n",
       "      <th id=\"T_3a890_level0_col6\" class=\"col_heading level0 col6\" >All</th>\n",
       "    </tr>\n",
       "    <tr>\n",
       "      <th class=\"index_name level0\" >gender</th>\n",
       "      <th class=\"blank col0\" >&nbsp;</th>\n",
       "      <th class=\"blank col1\" >&nbsp;</th>\n",
       "      <th class=\"blank col2\" >&nbsp;</th>\n",
       "      <th class=\"blank col3\" >&nbsp;</th>\n",
       "      <th class=\"blank col4\" >&nbsp;</th>\n",
       "      <th class=\"blank col5\" >&nbsp;</th>\n",
       "      <th class=\"blank col6\" >&nbsp;</th>\n",
       "    </tr>\n",
       "  </thead>\n",
       "  <tbody>\n",
       "    <tr>\n",
       "      <th id=\"T_3a890_level0_row0\" class=\"row_heading level0 row0\" >d</th>\n",
       "      <td id=\"T_3a890_row0_col0\" class=\"data row0 col0\" >0</td>\n",
       "      <td id=\"T_3a890_row0_col1\" class=\"data row0 col1\" >1</td>\n",
       "      <td id=\"T_3a890_row0_col2\" class=\"data row0 col2\" >0</td>\n",
       "      <td id=\"T_3a890_row0_col3\" class=\"data row0 col3\" >0</td>\n",
       "      <td id=\"T_3a890_row0_col4\" class=\"data row0 col4\" >0</td>\n",
       "      <td id=\"T_3a890_row0_col5\" class=\"data row0 col5\" >0</td>\n",
       "      <td id=\"T_3a890_row0_col6\" class=\"data row0 col6\" >1</td>\n",
       "    </tr>\n",
       "    <tr>\n",
       "      <th id=\"T_3a890_level0_row1\" class=\"row_heading level0 row1\" >m</th>\n",
       "      <td id=\"T_3a890_row1_col0\" class=\"data row1 col0\" >8</td>\n",
       "      <td id=\"T_3a890_row1_col1\" class=\"data row1 col1\" >7</td>\n",
       "      <td id=\"T_3a890_row1_col2\" class=\"data row1 col2\" >8</td>\n",
       "      <td id=\"T_3a890_row1_col3\" class=\"data row1 col3\" >10</td>\n",
       "      <td id=\"T_3a890_row1_col4\" class=\"data row1 col4\" >5</td>\n",
       "      <td id=\"T_3a890_row1_col5\" class=\"data row1 col5\" >10</td>\n",
       "      <td id=\"T_3a890_row1_col6\" class=\"data row1 col6\" >48</td>\n",
       "    </tr>\n",
       "    <tr>\n",
       "      <th id=\"T_3a890_level0_row2\" class=\"row_heading level0 row2\" >w</th>\n",
       "      <td id=\"T_3a890_row2_col0\" class=\"data row2 col0\" >9</td>\n",
       "      <td id=\"T_3a890_row2_col1\" class=\"data row2 col1\" >9</td>\n",
       "      <td id=\"T_3a890_row2_col2\" class=\"data row2 col2\" >10</td>\n",
       "      <td id=\"T_3a890_row2_col3\" class=\"data row2 col3\" >6</td>\n",
       "      <td id=\"T_3a890_row2_col4\" class=\"data row2 col4\" >8</td>\n",
       "      <td id=\"T_3a890_row2_col5\" class=\"data row2 col5\" >6</td>\n",
       "      <td id=\"T_3a890_row2_col6\" class=\"data row2 col6\" >48</td>\n",
       "    </tr>\n",
       "    <tr>\n",
       "      <th id=\"T_3a890_level0_row3\" class=\"row_heading level0 row3\" >All</th>\n",
       "      <td id=\"T_3a890_row3_col0\" class=\"data row3 col0\" >17</td>\n",
       "      <td id=\"T_3a890_row3_col1\" class=\"data row3 col1\" >17</td>\n",
       "      <td id=\"T_3a890_row3_col2\" class=\"data row3 col2\" >18</td>\n",
       "      <td id=\"T_3a890_row3_col3\" class=\"data row3 col3\" >16</td>\n",
       "      <td id=\"T_3a890_row3_col4\" class=\"data row3 col4\" >13</td>\n",
       "      <td id=\"T_3a890_row3_col5\" class=\"data row3 col5\" >16</td>\n",
       "      <td id=\"T_3a890_row3_col6\" class=\"data row3 col6\" >97</td>\n",
       "    </tr>\n",
       "  </tbody>\n",
       "</table>\n"
      ],
      "text/plain": [
       "<pandas.io.formats.style.Styler at 0x14aefee9d90>"
      ]
     },
     "execution_count": 365,
     "metadata": {},
     "output_type": "execute_result"
    }
   ],
   "source": [
    "pd.crosstab(data_sample.gender, data_sample.product_ids_sets, margins=True).style.background_gradient(cmap='autumn_r')"
   ]
  },
  {
   "cell_type": "code",
   "execution_count": 367,
   "metadata": {
    "scrolled": false
   },
   "outputs": [
    {
     "data": {
      "text/plain": [
       "<seaborn.axisgrid.FacetGrid at 0x14aeff07820>"
      ]
     },
     "execution_count": 367,
     "metadata": {},
     "output_type": "execute_result"
    },
    {
     "data": {
      "image/png": "[encoded data removed]",
      "text/plain": [
       "<Figure size 405.625x360 with 1 Axes>"
      ]
     },
     "metadata": {
      "needs_background": "light"
     },
     "output_type": "display_data"
    }
   ],
   "source": [
    "# \n",
    "sns.catplot('categ_one_hot','delivery_pass',hue = 'gender', kind = 'point', data = data_sample)"
   ]
  },
  {
   "cell_type": "code",
   "execution_count": 371,
   "metadata": {},
   "outputs": [
    {
     "data": {
      "text/plain": [
       "<seaborn.axisgrid.FacetGrid at 0x14ad857b7f0>"
      ]
     },
     "execution_count": 371,
     "metadata": {},
     "output_type": "execute_result"
    },
    {
     "data": {
      "image/png": "[encoded data removed]",
      "text/plain": [
       "<Figure size 405.625x360 with 1 Axes>"
      ]
     },
     "metadata": {
      "needs_background": "light"
     },
     "output_type": "display_data"
    }
   ],
   "source": [
    "sns.catplot('product_ids_sets','delivery_pass',hue = 'gender', kind = 'bar', data = data_sample)"
   ]
  },
  {
   "cell_type": "markdown",
   "metadata": {},
   "source": [
    "## Products"
   ]
  },
  {
   "cell_type": "code",
   "execution_count": 244,
   "metadata": {},
   "outputs": [
    {
     "data": {
      "text/plain": [
       "<bound method IndexOpsMixin.nunique of 0       7881\n",
       "1      10834\n",
       "2      61603\n",
       "3      63288\n",
       "4     125830\n",
       "5      62040\n",
       "6     125716\n",
       "7    5373751\n",
       "Name: id, dtype: int64>"
      ]
     },
     "execution_count": 244,
     "metadata": {},
     "output_type": "execute_result"
    }
   ],
   "source": [
    "products.id.nunique"
   ]
  },
  {
   "cell_type": "code",
   "execution_count": 245,
   "metadata": {},
   "outputs": [],
   "source": [
    "from ast import literal_eval\n",
    "data_sample['list_product_ids'] = data_sample['product_ids'].apply(literal_eval)"
   ]
  },
  {
   "cell_type": "code",
   "execution_count": 246,
   "metadata": {
    "scrolled": false
   },
   "outputs": [
    {
     "data": {
      "text/html": [
       "<div>\n",
       "<style scoped>\n",
       "    .dataframe tbody tr th:only-of-type {\n",
       "        vertical-align: middle;\n",
       "    }\n",
       "\n",
       "    .dataframe tbody tr th {\n",
       "        vertical-align: top;\n",
       "    }\n",
       "\n",
       "    .dataframe thead th {\n",
       "        text-align: right;\n",
       "    }\n",
       "</style>\n",
       "<table border=\"1\" class=\"dataframe\">\n",
       "  <thead>\n",
       "    <tr style=\"text-align: right;\">\n",
       "      <th></th>\n",
       "      <th>gender</th>\n",
       "      <th>loyalty</th>\n",
       "      <th>days_since_last_contact</th>\n",
       "      <th>transactions</th>\n",
       "      <th>product_ids</th>\n",
       "      <th>categ_one_hot</th>\n",
       "      <th>delivery_pass</th>\n",
       "      <th>product_ids_sets</th>\n",
       "      <th>list_product_ids</th>\n",
       "    </tr>\n",
       "  </thead>\n",
       "  <tbody>\n",
       "    <tr>\n",
       "      <th>0</th>\n",
       "      <td>m</td>\n",
       "      <td>-1.33</td>\n",
       "      <td>2</td>\n",
       "      <td>4</td>\n",
       "      <td>[7881,10834,61603,62040,63288,125830]</td>\n",
       "      <td>cat1</td>\n",
       "      <td>True</td>\n",
       "      <td>A</td>\n",
       "      <td>[7881, 10834, 61603, 62040, 63288, 125830]</td>\n",
       "    </tr>\n",
       "    <tr>\n",
       "      <th>1</th>\n",
       "      <td>m</td>\n",
       "      <td>-0.28</td>\n",
       "      <td>3</td>\n",
       "      <td>6</td>\n",
       "      <td>[10834,61603,62040,63288,125830]</td>\n",
       "      <td>cat1</td>\n",
       "      <td>True</td>\n",
       "      <td>B</td>\n",
       "      <td>[10834, 61603, 62040, 63288, 125830]</td>\n",
       "    </tr>\n",
       "    <tr>\n",
       "      <th>2</th>\n",
       "      <td>w</td>\n",
       "      <td>-0.22</td>\n",
       "      <td>1</td>\n",
       "      <td>5</td>\n",
       "      <td>[63288,125830]</td>\n",
       "      <td>cat1</td>\n",
       "      <td>False</td>\n",
       "      <td>C</td>\n",
       "      <td>[63288, 125830]</td>\n",
       "    </tr>\n",
       "    <tr>\n",
       "      <th>3</th>\n",
       "      <td>m</td>\n",
       "      <td>-0.29</td>\n",
       "      <td>0</td>\n",
       "      <td>7</td>\n",
       "      <td>[7881,10834]</td>\n",
       "      <td>cat2</td>\n",
       "      <td>True</td>\n",
       "      <td>D</td>\n",
       "      <td>[7881, 10834]</td>\n",
       "    </tr>\n",
       "    <tr>\n",
       "      <th>4</th>\n",
       "      <td>m</td>\n",
       "      <td>1.06</td>\n",
       "      <td>5</td>\n",
       "      <td>4</td>\n",
       "      <td>[7881,10834,62040,63288,125830]</td>\n",
       "      <td>cat3</td>\n",
       "      <td>True</td>\n",
       "      <td>E</td>\n",
       "      <td>[7881, 10834, 62040, 63288, 125830]</td>\n",
       "    </tr>\n",
       "  </tbody>\n",
       "</table>\n",
       "</div>"
      ],
      "text/plain": [
       "  gender  loyalty  days_since_last_contact  transactions  \\\n",
       "0      m    -1.33                        2             4   \n",
       "1      m    -0.28                        3             6   \n",
       "2      w    -0.22                        1             5   \n",
       "3      m    -0.29                        0             7   \n",
       "4      m     1.06                        5             4   \n",
       "\n",
       "                             product_ids categ_one_hot  delivery_pass  \\\n",
       "0  [7881,10834,61603,62040,63288,125830]          cat1           True   \n",
       "1       [10834,61603,62040,63288,125830]          cat1           True   \n",
       "2                         [63288,125830]          cat1          False   \n",
       "3                           [7881,10834]          cat2           True   \n",
       "4        [7881,10834,62040,63288,125830]          cat3           True   \n",
       "\n",
       "  product_ids_sets                            list_product_ids  \n",
       "0                A  [7881, 10834, 61603, 62040, 63288, 125830]  \n",
       "1                B        [10834, 61603, 62040, 63288, 125830]  \n",
       "2                C                             [63288, 125830]  \n",
       "3                D                               [7881, 10834]  \n",
       "4                E         [7881, 10834, 62040, 63288, 125830]  "
      ]
     },
     "execution_count": 246,
     "metadata": {},
     "output_type": "execute_result"
    }
   ],
   "source": [
    "data_sample.head()"
   ]
  },
  {
   "cell_type": "code",
   "execution_count": 247,
   "metadata": {},
   "outputs": [
    {
     "data": {
      "text/html": [
       "<div>\n",
       "<style scoped>\n",
       "    .dataframe tbody tr th:only-of-type {\n",
       "        vertical-align: middle;\n",
       "    }\n",
       "\n",
       "    .dataframe tbody tr th {\n",
       "        vertical-align: top;\n",
       "    }\n",
       "\n",
       "    .dataframe thead th {\n",
       "        text-align: right;\n",
       "    }\n",
       "</style>\n",
       "<table border=\"1\" class=\"dataframe\">\n",
       "  <thead>\n",
       "    <tr style=\"text-align: right;\">\n",
       "      <th></th>\n",
       "      <th>gender</th>\n",
       "      <th>loyalty</th>\n",
       "      <th>days_since_last_contact</th>\n",
       "      <th>transactions</th>\n",
       "      <th>product_ids</th>\n",
       "      <th>categ_one_hot</th>\n",
       "      <th>delivery_pass</th>\n",
       "      <th>product_ids_sets</th>\n",
       "      <th>list_product_ids</th>\n",
       "      <th>count_product_ids</th>\n",
       "    </tr>\n",
       "  </thead>\n",
       "  <tbody>\n",
       "    <tr>\n",
       "      <th>0</th>\n",
       "      <td>m</td>\n",
       "      <td>-1.33</td>\n",
       "      <td>2</td>\n",
       "      <td>4</td>\n",
       "      <td>[7881,10834,61603,62040,63288,125830]</td>\n",
       "      <td>cat1</td>\n",
       "      <td>True</td>\n",
       "      <td>A</td>\n",
       "      <td>[7881, 10834, 61603, 62040, 63288, 125830]</td>\n",
       "      <td>6</td>\n",
       "    </tr>\n",
       "    <tr>\n",
       "      <th>1</th>\n",
       "      <td>m</td>\n",
       "      <td>-0.28</td>\n",
       "      <td>3</td>\n",
       "      <td>6</td>\n",
       "      <td>[10834,61603,62040,63288,125830]</td>\n",
       "      <td>cat1</td>\n",
       "      <td>True</td>\n",
       "      <td>B</td>\n",
       "      <td>[10834, 61603, 62040, 63288, 125830]</td>\n",
       "      <td>5</td>\n",
       "    </tr>\n",
       "    <tr>\n",
       "      <th>2</th>\n",
       "      <td>w</td>\n",
       "      <td>-0.22</td>\n",
       "      <td>1</td>\n",
       "      <td>5</td>\n",
       "      <td>[63288,125830]</td>\n",
       "      <td>cat1</td>\n",
       "      <td>False</td>\n",
       "      <td>C</td>\n",
       "      <td>[63288, 125830]</td>\n",
       "      <td>2</td>\n",
       "    </tr>\n",
       "    <tr>\n",
       "      <th>3</th>\n",
       "      <td>m</td>\n",
       "      <td>-0.29</td>\n",
       "      <td>0</td>\n",
       "      <td>7</td>\n",
       "      <td>[7881,10834]</td>\n",
       "      <td>cat2</td>\n",
       "      <td>True</td>\n",
       "      <td>D</td>\n",
       "      <td>[7881, 10834]</td>\n",
       "      <td>2</td>\n",
       "    </tr>\n",
       "    <tr>\n",
       "      <th>4</th>\n",
       "      <td>m</td>\n",
       "      <td>1.06</td>\n",
       "      <td>5</td>\n",
       "      <td>4</td>\n",
       "      <td>[7881,10834,62040,63288,125830]</td>\n",
       "      <td>cat3</td>\n",
       "      <td>True</td>\n",
       "      <td>E</td>\n",
       "      <td>[7881, 10834, 62040, 63288, 125830]</td>\n",
       "      <td>5</td>\n",
       "    </tr>\n",
       "  </tbody>\n",
       "</table>\n",
       "</div>"
      ],
      "text/plain": [
       "  gender  loyalty  days_since_last_contact  transactions  \\\n",
       "0      m    -1.33                        2             4   \n",
       "1      m    -0.28                        3             6   \n",
       "2      w    -0.22                        1             5   \n",
       "3      m    -0.29                        0             7   \n",
       "4      m     1.06                        5             4   \n",
       "\n",
       "                             product_ids categ_one_hot  delivery_pass  \\\n",
       "0  [7881,10834,61603,62040,63288,125830]          cat1           True   \n",
       "1       [10834,61603,62040,63288,125830]          cat1           True   \n",
       "2                         [63288,125830]          cat1          False   \n",
       "3                           [7881,10834]          cat2           True   \n",
       "4        [7881,10834,62040,63288,125830]          cat3           True   \n",
       "\n",
       "  product_ids_sets                            list_product_ids  \\\n",
       "0                A  [7881, 10834, 61603, 62040, 63288, 125830]   \n",
       "1                B        [10834, 61603, 62040, 63288, 125830]   \n",
       "2                C                             [63288, 125830]   \n",
       "3                D                               [7881, 10834]   \n",
       "4                E         [7881, 10834, 62040, 63288, 125830]   \n",
       "\n",
       "   count_product_ids  \n",
       "0                  6  \n",
       "1                  5  \n",
       "2                  2  \n",
       "3                  2  \n",
       "4                  5  "
      ]
     },
     "execution_count": 247,
     "metadata": {},
     "output_type": "execute_result"
    }
   ],
   "source": [
    "data_sample['count_product_ids'] = data_sample.list_product_ids.apply(lambda x: len(x))\n",
    "data_sample.head()"
   ]
  },
  {
   "cell_type": "code",
   "execution_count": 248,
   "metadata": {
    "scrolled": true
   },
   "outputs": [
    {
     "data": {
      "text/plain": [
       "(100, 3)"
      ]
     },
     "execution_count": 248,
     "metadata": {},
     "output_type": "execute_result"
    }
   ],
   "source": [
    "products_data = data_sample.iloc[:, 7:10]\n",
    "products_data.shape"
   ]
  },
  {
   "cell_type": "code",
   "execution_count": 249,
   "metadata": {},
   "outputs": [
    {
     "data": {
      "text/html": [
       "<div>\n",
       "<style scoped>\n",
       "    .dataframe tbody tr th:only-of-type {\n",
       "        vertical-align: middle;\n",
       "    }\n",
       "\n",
       "    .dataframe tbody tr th {\n",
       "        vertical-align: top;\n",
       "    }\n",
       "\n",
       "    .dataframe thead th {\n",
       "        text-align: right;\n",
       "    }\n",
       "</style>\n",
       "<table border=\"1\" class=\"dataframe\">\n",
       "  <thead>\n",
       "    <tr style=\"text-align: right;\">\n",
       "      <th></th>\n",
       "      <th>0</th>\n",
       "      <th>1</th>\n",
       "      <th>2</th>\n",
       "      <th>3</th>\n",
       "      <th>4</th>\n",
       "      <th>5</th>\n",
       "    </tr>\n",
       "  </thead>\n",
       "  <tbody>\n",
       "    <tr>\n",
       "      <th>0</th>\n",
       "      <td>7881</td>\n",
       "      <td>10834</td>\n",
       "      <td>61603.0</td>\n",
       "      <td>62040.0</td>\n",
       "      <td>63288.0</td>\n",
       "      <td>125830.0</td>\n",
       "    </tr>\n",
       "    <tr>\n",
       "      <th>1</th>\n",
       "      <td>10834</td>\n",
       "      <td>61603</td>\n",
       "      <td>62040.0</td>\n",
       "      <td>63288.0</td>\n",
       "      <td>125830.0</td>\n",
       "      <td>NaN</td>\n",
       "    </tr>\n",
       "    <tr>\n",
       "      <th>2</th>\n",
       "      <td>63288</td>\n",
       "      <td>125830</td>\n",
       "      <td>NaN</td>\n",
       "      <td>NaN</td>\n",
       "      <td>NaN</td>\n",
       "      <td>NaN</td>\n",
       "    </tr>\n",
       "    <tr>\n",
       "      <th>3</th>\n",
       "      <td>7881</td>\n",
       "      <td>10834</td>\n",
       "      <td>NaN</td>\n",
       "      <td>NaN</td>\n",
       "      <td>NaN</td>\n",
       "      <td>NaN</td>\n",
       "    </tr>\n",
       "    <tr>\n",
       "      <th>4</th>\n",
       "      <td>7881</td>\n",
       "      <td>10834</td>\n",
       "      <td>62040.0</td>\n",
       "      <td>63288.0</td>\n",
       "      <td>125830.0</td>\n",
       "      <td>NaN</td>\n",
       "    </tr>\n",
       "  </tbody>\n",
       "</table>\n",
       "</div>"
      ],
      "text/plain": [
       "       0       1        2        3         4         5\n",
       "0   7881   10834  61603.0  62040.0   63288.0  125830.0\n",
       "1  10834   61603  62040.0  63288.0  125830.0       NaN\n",
       "2  63288  125830      NaN      NaN       NaN       NaN\n",
       "3   7881   10834      NaN      NaN       NaN       NaN\n",
       "4   7881   10834  62040.0  63288.0  125830.0       NaN"
      ]
     },
     "execution_count": 249,
     "metadata": {},
     "output_type": "execute_result"
    }
   ],
   "source": [
    "list_fruits=pd.DataFrame(products_data.list_product_ids.tolist(), index= data_sample.index)\n",
    "list_fruits.head()"
   ]
  },
  {
   "cell_type": "code",
   "execution_count": 250,
   "metadata": {},
   "outputs": [
    {
     "data": {
      "text/html": [
       "<div>\n",
       "<style scoped>\n",
       "    .dataframe tbody tr th:only-of-type {\n",
       "        vertical-align: middle;\n",
       "    }\n",
       "\n",
       "    .dataframe tbody tr th {\n",
       "        vertical-align: top;\n",
       "    }\n",
       "\n",
       "    .dataframe thead th {\n",
       "        text-align: right;\n",
       "    }\n",
       "</style>\n",
       "<table border=\"1\" class=\"dataframe\">\n",
       "  <thead>\n",
       "    <tr style=\"text-align: right;\">\n",
       "      <th></th>\n",
       "      <th>id</th>\n",
       "    </tr>\n",
       "  </thead>\n",
       "  <tbody>\n",
       "    <tr>\n",
       "      <th>0</th>\n",
       "      <td>7881.0</td>\n",
       "    </tr>\n",
       "    <tr>\n",
       "      <th>1</th>\n",
       "      <td>10834.0</td>\n",
       "    </tr>\n",
       "    <tr>\n",
       "      <th>3</th>\n",
       "      <td>61603.0</td>\n",
       "    </tr>\n",
       "    <tr>\n",
       "      <th>5</th>\n",
       "      <td>62040.0</td>\n",
       "    </tr>\n",
       "    <tr>\n",
       "      <th>2</th>\n",
       "      <td>63288.0</td>\n",
       "    </tr>\n",
       "    <tr>\n",
       "      <th>4</th>\n",
       "      <td>125830.0</td>\n",
       "    </tr>\n",
       "  </tbody>\n",
       "</table>\n",
       "</div>"
      ],
      "text/plain": [
       "         id\n",
       "0    7881.0\n",
       "1   10834.0\n",
       "3   61603.0\n",
       "5   62040.0\n",
       "2   63288.0\n",
       "4  125830.0"
      ]
     },
     "execution_count": 250,
     "metadata": {},
     "output_type": "execute_result"
    }
   ],
   "source": [
    "list_fruits_unique = pd.DataFrame(pd.unique(list_fruits.values.ravel('K'))).rename(columns = {0 : 'id'}).dropna()\n",
    "list_fruits_unique.sort_values('id')"
   ]
  },
  {
   "cell_type": "code",
   "execution_count": 251,
   "metadata": {},
   "outputs": [
    {
     "data": {
      "text/html": [
       "<div>\n",
       "<style scoped>\n",
       "    .dataframe tbody tr th:only-of-type {\n",
       "        vertical-align: middle;\n",
       "    }\n",
       "\n",
       "    .dataframe tbody tr th {\n",
       "        vertical-align: top;\n",
       "    }\n",
       "\n",
       "    .dataframe thead th {\n",
       "        text-align: right;\n",
       "    }\n",
       "</style>\n",
       "<table border=\"1\" class=\"dataframe\">\n",
       "  <thead>\n",
       "    <tr style=\"text-align: right;\">\n",
       "      <th></th>\n",
       "      <th>id</th>\n",
       "      <th>name</th>\n",
       "      <th>category_level_1</th>\n",
       "      <th>region</th>\n",
       "      <th>stock_level</th>\n",
       "      <th>is_seasonal</th>\n",
       "      <th>productdata_language</th>\n",
       "    </tr>\n",
       "  </thead>\n",
       "  <tbody>\n",
       "    <tr>\n",
       "      <th>0</th>\n",
       "      <td>7881.0</td>\n",
       "      <td>mango</td>\n",
       "      <td>fruits</td>\n",
       "      <td>1</td>\n",
       "      <td>0</td>\n",
       "      <td>True</td>\n",
       "      <td>DE</td>\n",
       "    </tr>\n",
       "    <tr>\n",
       "      <th>1</th>\n",
       "      <td>10834.0</td>\n",
       "      <td>ovomaltine schokolade</td>\n",
       "      <td>sweets</td>\n",
       "      <td>2</td>\n",
       "      <td>3</td>\n",
       "      <td>False</td>\n",
       "      <td>DE</td>\n",
       "    </tr>\n",
       "    <tr>\n",
       "      <th>3</th>\n",
       "      <td>61603.0</td>\n",
       "      <td>nutella</td>\n",
       "      <td>sweets</td>\n",
       "      <td>2</td>\n",
       "      <td>3</td>\n",
       "      <td>False</td>\n",
       "      <td>DE</td>\n",
       "    </tr>\n",
       "    <tr>\n",
       "      <th>5</th>\n",
       "      <td>62040.0</td>\n",
       "      <td>chips</td>\n",
       "      <td>salty</td>\n",
       "      <td>2</td>\n",
       "      <td>3</td>\n",
       "      <td>False</td>\n",
       "      <td>DE</td>\n",
       "    </tr>\n",
       "    <tr>\n",
       "      <th>2</th>\n",
       "      <td>63288.0</td>\n",
       "      <td>birnen</td>\n",
       "      <td>fruits</td>\n",
       "      <td>1</td>\n",
       "      <td>0</td>\n",
       "      <td>True</td>\n",
       "      <td>DE</td>\n",
       "    </tr>\n",
       "    <tr>\n",
       "      <th>4</th>\n",
       "      <td>125830.0</td>\n",
       "      <td>karotten</td>\n",
       "      <td>vegetables</td>\n",
       "      <td>1</td>\n",
       "      <td>1</td>\n",
       "      <td>False</td>\n",
       "      <td>DE</td>\n",
       "    </tr>\n",
       "  </tbody>\n",
       "</table>\n",
       "</div>"
      ],
      "text/plain": [
       "         id                   name category_level_1  region  stock_level  \\\n",
       "0    7881.0                  mango           fruits       1            0   \n",
       "1   10834.0  ovomaltine schokolade           sweets       2            3   \n",
       "3   61603.0                nutella           sweets       2            3   \n",
       "5   62040.0                  chips            salty       2            3   \n",
       "2   63288.0                 birnen           fruits       1            0   \n",
       "4  125830.0               karotten       vegetables       1            1   \n",
       "\n",
       "   is_seasonal productdata_language  \n",
       "0         True                   DE  \n",
       "1        False                   DE  \n",
       "3        False                   DE  \n",
       "5        False                   DE  \n",
       "2         True                   DE  \n",
       "4        False                   DE  "
      ]
     },
     "execution_count": 251,
     "metadata": {},
     "output_type": "execute_result"
    }
   ],
   "source": [
    "list_fruits_unique.merge(products, on = 'id', how='left').sort_values('id')"
   ]
  },
  {
   "cell_type": "code",
   "execution_count": 252,
   "metadata": {
    "scrolled": true
   },
   "outputs": [
    {
     "data": {
      "text/html": [
       "<div>\n",
       "<style scoped>\n",
       "    .dataframe tbody tr th:only-of-type {\n",
       "        vertical-align: middle;\n",
       "    }\n",
       "\n",
       "    .dataframe tbody tr th {\n",
       "        vertical-align: top;\n",
       "    }\n",
       "\n",
       "    .dataframe thead th {\n",
       "        text-align: right;\n",
       "    }\n",
       "</style>\n",
       "<table border=\"1\" class=\"dataframe\">\n",
       "  <thead>\n",
       "    <tr style=\"text-align: right;\">\n",
       "      <th></th>\n",
       "      <th>gender</th>\n",
       "      <th>loyalty</th>\n",
       "      <th>days_since_last_contact</th>\n",
       "      <th>transactions</th>\n",
       "      <th>product_ids</th>\n",
       "      <th>categ_one_hot</th>\n",
       "      <th>delivery_pass</th>\n",
       "      <th>product_ids_sets</th>\n",
       "      <th>list_product_ids</th>\n",
       "      <th>count_product_ids</th>\n",
       "    </tr>\n",
       "  </thead>\n",
       "  <tbody>\n",
       "    <tr>\n",
       "      <th>95</th>\n",
       "      <td>w</td>\n",
       "      <td>-0.22</td>\n",
       "      <td>1</td>\n",
       "      <td>5</td>\n",
       "      <td>[63288,125830]</td>\n",
       "      <td>cat2</td>\n",
       "      <td>False</td>\n",
       "      <td>C</td>\n",
       "      <td>[63288, 125830]</td>\n",
       "      <td>2</td>\n",
       "    </tr>\n",
       "    <tr>\n",
       "      <th>96</th>\n",
       "      <td>m</td>\n",
       "      <td>-0.29</td>\n",
       "      <td>5</td>\n",
       "      <td>5</td>\n",
       "      <td>[63288,125830]</td>\n",
       "      <td>cat4</td>\n",
       "      <td>False</td>\n",
       "      <td>C</td>\n",
       "      <td>[63288, 125830]</td>\n",
       "      <td>2</td>\n",
       "    </tr>\n",
       "    <tr>\n",
       "      <th>97</th>\n",
       "      <td>w</td>\n",
       "      <td>1.09</td>\n",
       "      <td>9</td>\n",
       "      <td>8</td>\n",
       "      <td>[7881,10834]</td>\n",
       "      <td>cat4</td>\n",
       "      <td>True</td>\n",
       "      <td>D</td>\n",
       "      <td>[7881, 10834]</td>\n",
       "      <td>2</td>\n",
       "    </tr>\n",
       "    <tr>\n",
       "      <th>98</th>\n",
       "      <td>w</td>\n",
       "      <td>-1.69</td>\n",
       "      <td>12</td>\n",
       "      <td>1</td>\n",
       "      <td>[7881,10834,62040,63288,125830]</td>\n",
       "      <td>cat1</td>\n",
       "      <td>False</td>\n",
       "      <td>E</td>\n",
       "      <td>[7881, 10834, 62040, 63288, 125830]</td>\n",
       "      <td>5</td>\n",
       "    </tr>\n",
       "    <tr>\n",
       "      <th>99</th>\n",
       "      <td>m</td>\n",
       "      <td>-1.71</td>\n",
       "      <td>1</td>\n",
       "      <td>3</td>\n",
       "      <td>[7881,10834,61603]</td>\n",
       "      <td>cat1</td>\n",
       "      <td>True</td>\n",
       "      <td>F</td>\n",
       "      <td>[7881, 10834, 61603]</td>\n",
       "      <td>3</td>\n",
       "    </tr>\n",
       "  </tbody>\n",
       "</table>\n",
       "</div>"
      ],
      "text/plain": [
       "   gender  loyalty  days_since_last_contact  transactions  \\\n",
       "95      w    -0.22                        1             5   \n",
       "96      m    -0.29                        5             5   \n",
       "97      w     1.09                        9             8   \n",
       "98      w    -1.69                       12             1   \n",
       "99      m    -1.71                        1             3   \n",
       "\n",
       "                        product_ids categ_one_hot  delivery_pass  \\\n",
       "95                   [63288,125830]          cat2          False   \n",
       "96                   [63288,125830]          cat4          False   \n",
       "97                     [7881,10834]          cat4           True   \n",
       "98  [7881,10834,62040,63288,125830]          cat1          False   \n",
       "99               [7881,10834,61603]          cat1           True   \n",
       "\n",
       "   product_ids_sets                     list_product_ids  count_product_ids  \n",
       "95                C                      [63288, 125830]                  2  \n",
       "96                C                      [63288, 125830]                  2  \n",
       "97                D                        [7881, 10834]                  2  \n",
       "98                E  [7881, 10834, 62040, 63288, 125830]                  5  \n",
       "99                F                 [7881, 10834, 61603]                  3  "
      ]
     },
     "execution_count": 252,
     "metadata": {},
     "output_type": "execute_result"
    }
   ],
   "source": [
    "data_sample.tail()"
   ]
  },
  {
   "cell_type": "code",
   "execution_count": 254,
   "metadata": {},
   "outputs": [],
   "source": [
    "#for i, l in enumerate(data_sample[\"list_product_ids\"]):\n",
    " #   print(\"list\",i,\"is\",type(l))"
   ]
  },
  {
   "cell_type": "code",
   "execution_count": 255,
   "metadata": {},
   "outputs": [],
   "source": [
    "def to_1D(series):\n",
    " return pd.Series([x for _list in series for x in _list])"
   ]
  },
  {
   "cell_type": "code",
   "execution_count": 256,
   "metadata": {},
   "outputs": [
    {
     "data": {
      "text/plain": [
       "10834     82\n",
       "63288     67\n",
       "125830    67\n",
       "7881      64\n",
       "61603     53\n",
       "62040     49\n",
       "dtype: int64"
      ]
     },
     "execution_count": 256,
     "metadata": {},
     "output_type": "execute_result"
    }
   ],
   "source": [
    "to_1D(data_sample[\"list_product_ids\"]).value_counts()"
   ]
  },
  {
   "cell_type": "code",
   "execution_count": 257,
   "metadata": {},
   "outputs": [],
   "source": [
    "map_dict = dict(zip(products.id,products.name))\n",
    "data_sample['names_products'] = data_sample['list_product_ids'].explode().map(map_dict).groupby(level=0).agg(list)"
   ]
  },
  {
   "cell_type": "code",
   "execution_count": 258,
   "metadata": {},
   "outputs": [
    {
     "data": {
      "text/html": [
       "<div>\n",
       "<style scoped>\n",
       "    .dataframe tbody tr th:only-of-type {\n",
       "        vertical-align: middle;\n",
       "    }\n",
       "\n",
       "    .dataframe tbody tr th {\n",
       "        vertical-align: top;\n",
       "    }\n",
       "\n",
       "    .dataframe thead th {\n",
       "        text-align: right;\n",
       "    }\n",
       "</style>\n",
       "<table border=\"1\" class=\"dataframe\">\n",
       "  <thead>\n",
       "    <tr style=\"text-align: right;\">\n",
       "      <th></th>\n",
       "      <th>id</th>\n",
       "      <th>name</th>\n",
       "      <th>category_level_1</th>\n",
       "      <th>region</th>\n",
       "      <th>stock_level</th>\n",
       "      <th>is_seasonal</th>\n",
       "      <th>productdata_language</th>\n",
       "    </tr>\n",
       "  </thead>\n",
       "  <tbody>\n",
       "    <tr>\n",
       "      <th>0</th>\n",
       "      <td>7881</td>\n",
       "      <td>mango</td>\n",
       "      <td>fruits</td>\n",
       "      <td>1</td>\n",
       "      <td>0</td>\n",
       "      <td>True</td>\n",
       "      <td>DE</td>\n",
       "    </tr>\n",
       "    <tr>\n",
       "      <th>1</th>\n",
       "      <td>10834</td>\n",
       "      <td>ovomaltine schokolade</td>\n",
       "      <td>sweets</td>\n",
       "      <td>2</td>\n",
       "      <td>3</td>\n",
       "      <td>False</td>\n",
       "      <td>DE</td>\n",
       "    </tr>\n",
       "    <tr>\n",
       "      <th>2</th>\n",
       "      <td>61603</td>\n",
       "      <td>nutella</td>\n",
       "      <td>sweets</td>\n",
       "      <td>2</td>\n",
       "      <td>3</td>\n",
       "      <td>False</td>\n",
       "      <td>DE</td>\n",
       "    </tr>\n",
       "    <tr>\n",
       "      <th>3</th>\n",
       "      <td>63288</td>\n",
       "      <td>birnen</td>\n",
       "      <td>fruits</td>\n",
       "      <td>1</td>\n",
       "      <td>0</td>\n",
       "      <td>True</td>\n",
       "      <td>DE</td>\n",
       "    </tr>\n",
       "    <tr>\n",
       "      <th>4</th>\n",
       "      <td>125830</td>\n",
       "      <td>karotten</td>\n",
       "      <td>vegetables</td>\n",
       "      <td>1</td>\n",
       "      <td>1</td>\n",
       "      <td>False</td>\n",
       "      <td>DE</td>\n",
       "    </tr>\n",
       "  </tbody>\n",
       "</table>\n",
       "</div>"
      ],
      "text/plain": [
       "       id                   name category_level_1  region  stock_level  \\\n",
       "0    7881                  mango           fruits       1            0   \n",
       "1   10834  ovomaltine schokolade           sweets       2            3   \n",
       "2   61603                nutella           sweets       2            3   \n",
       "3   63288                 birnen           fruits       1            0   \n",
       "4  125830               karotten       vegetables       1            1   \n",
       "\n",
       "   is_seasonal productdata_language  \n",
       "0         True                   DE  \n",
       "1        False                   DE  \n",
       "2        False                   DE  \n",
       "3         True                   DE  \n",
       "4        False                   DE  "
      ]
     },
     "execution_count": 258,
     "metadata": {},
     "output_type": "execute_result"
    }
   ],
   "source": [
    "products.head()"
   ]
  },
  {
   "cell_type": "code",
   "execution_count": 259,
   "metadata": {},
   "outputs": [
    {
     "data": {
      "text/plain": [
       "'1.4.2'"
      ]
     },
     "execution_count": 259,
     "metadata": {},
     "output_type": "execute_result"
    }
   ],
   "source": [
    "pd. __version__"
   ]
  },
  {
   "cell_type": "code",
   "execution_count": 260,
   "metadata": {
    "scrolled": false
   },
   "outputs": [
    {
     "data": {
      "text/html": [
       "<div>\n",
       "<style scoped>\n",
       "    .dataframe tbody tr th:only-of-type {\n",
       "        vertical-align: middle;\n",
       "    }\n",
       "\n",
       "    .dataframe tbody tr th {\n",
       "        vertical-align: top;\n",
       "    }\n",
       "\n",
       "    .dataframe thead th {\n",
       "        text-align: right;\n",
       "    }\n",
       "</style>\n",
       "<table border=\"1\" class=\"dataframe\">\n",
       "  <thead>\n",
       "    <tr style=\"text-align: right;\">\n",
       "      <th></th>\n",
       "      <th>gender</th>\n",
       "      <th>loyalty</th>\n",
       "      <th>days_since_last_contact</th>\n",
       "      <th>transactions</th>\n",
       "      <th>product_ids</th>\n",
       "      <th>categ_one_hot</th>\n",
       "      <th>delivery_pass</th>\n",
       "      <th>product_ids_sets</th>\n",
       "      <th>list_product_ids</th>\n",
       "      <th>count_product_ids</th>\n",
       "      <th>names_products</th>\n",
       "    </tr>\n",
       "  </thead>\n",
       "  <tbody>\n",
       "    <tr>\n",
       "      <th>0</th>\n",
       "      <td>m</td>\n",
       "      <td>-1.33</td>\n",
       "      <td>2</td>\n",
       "      <td>4</td>\n",
       "      <td>[7881,10834,61603,62040,63288,125830]</td>\n",
       "      <td>cat1</td>\n",
       "      <td>True</td>\n",
       "      <td>A</td>\n",
       "      <td>[7881, 10834, 61603, 62040, 63288, 125830]</td>\n",
       "      <td>6</td>\n",
       "      <td>[mango, ovomaltine schokolade, nutella, chips,...</td>\n",
       "    </tr>\n",
       "    <tr>\n",
       "      <th>1</th>\n",
       "      <td>m</td>\n",
       "      <td>-0.28</td>\n",
       "      <td>3</td>\n",
       "      <td>6</td>\n",
       "      <td>[10834,61603,62040,63288,125830]</td>\n",
       "      <td>cat1</td>\n",
       "      <td>True</td>\n",
       "      <td>B</td>\n",
       "      <td>[10834, 61603, 62040, 63288, 125830]</td>\n",
       "      <td>5</td>\n",
       "      <td>[ovomaltine schokolade, nutella, chips, birnen...</td>\n",
       "    </tr>\n",
       "    <tr>\n",
       "      <th>2</th>\n",
       "      <td>w</td>\n",
       "      <td>-0.22</td>\n",
       "      <td>1</td>\n",
       "      <td>5</td>\n",
       "      <td>[63288,125830]</td>\n",
       "      <td>cat1</td>\n",
       "      <td>False</td>\n",
       "      <td>C</td>\n",
       "      <td>[63288, 125830]</td>\n",
       "      <td>2</td>\n",
       "      <td>[birnen, karotten]</td>\n",
       "    </tr>\n",
       "    <tr>\n",
       "      <th>3</th>\n",
       "      <td>m</td>\n",
       "      <td>-0.29</td>\n",
       "      <td>0</td>\n",
       "      <td>7</td>\n",
       "      <td>[7881,10834]</td>\n",
       "      <td>cat2</td>\n",
       "      <td>True</td>\n",
       "      <td>D</td>\n",
       "      <td>[7881, 10834]</td>\n",
       "      <td>2</td>\n",
       "      <td>[mango, ovomaltine schokolade]</td>\n",
       "    </tr>\n",
       "    <tr>\n",
       "      <th>4</th>\n",
       "      <td>m</td>\n",
       "      <td>1.06</td>\n",
       "      <td>5</td>\n",
       "      <td>4</td>\n",
       "      <td>[7881,10834,62040,63288,125830]</td>\n",
       "      <td>cat3</td>\n",
       "      <td>True</td>\n",
       "      <td>E</td>\n",
       "      <td>[7881, 10834, 62040, 63288, 125830]</td>\n",
       "      <td>5</td>\n",
       "      <td>[mango, ovomaltine schokolade, chips, birnen, ...</td>\n",
       "    </tr>\n",
       "  </tbody>\n",
       "</table>\n",
       "</div>"
      ],
      "text/plain": [
       "  gender  loyalty  days_since_last_contact  transactions  \\\n",
       "0      m    -1.33                        2             4   \n",
       "1      m    -0.28                        3             6   \n",
       "2      w    -0.22                        1             5   \n",
       "3      m    -0.29                        0             7   \n",
       "4      m     1.06                        5             4   \n",
       "\n",
       "                             product_ids categ_one_hot  delivery_pass  \\\n",
       "0  [7881,10834,61603,62040,63288,125830]          cat1           True   \n",
       "1       [10834,61603,62040,63288,125830]          cat1           True   \n",
       "2                         [63288,125830]          cat1          False   \n",
       "3                           [7881,10834]          cat2           True   \n",
       "4        [7881,10834,62040,63288,125830]          cat3           True   \n",
       "\n",
       "  product_ids_sets                            list_product_ids  \\\n",
       "0                A  [7881, 10834, 61603, 62040, 63288, 125830]   \n",
       "1                B        [10834, 61603, 62040, 63288, 125830]   \n",
       "2                C                             [63288, 125830]   \n",
       "3                D                               [7881, 10834]   \n",
       "4                E         [7881, 10834, 62040, 63288, 125830]   \n",
       "\n",
       "   count_product_ids                                     names_products  \n",
       "0                  6  [mango, ovomaltine schokolade, nutella, chips,...  \n",
       "1                  5  [ovomaltine schokolade, nutella, chips, birnen...  \n",
       "2                  2                                 [birnen, karotten]  \n",
       "3                  2                     [mango, ovomaltine schokolade]  \n",
       "4                  5  [mango, ovomaltine schokolade, chips, birnen, ...  "
      ]
     },
     "execution_count": 260,
     "metadata": {},
     "output_type": "execute_result"
    }
   ],
   "source": [
    "data_sample.head()"
   ]
  },
  {
   "cell_type": "markdown",
   "metadata": {},
   "source": [
    "**What is the most popular product that was bought?**"
   ]
  },
  {
   "cell_type": "code",
   "execution_count": 261,
   "metadata": {},
   "outputs": [
    {
     "data": {
      "text/plain": [
       "ovomaltine schokolade    82\n",
       "birnen                   67\n",
       "karotten                 67\n",
       "mango                    64\n",
       "nutella                  53\n",
       "chips                    49\n",
       "dtype: int64"
      ]
     },
     "execution_count": 261,
     "metadata": {},
     "output_type": "execute_result"
    }
   ],
   "source": [
    "unique_products = to_1D(data_sample[\"names_products\"])\n",
    "unique_products.value_counts().sort_values(ascending = False)"
   ]
  },
  {
   "cell_type": "code",
   "execution_count": 262,
   "metadata": {},
   "outputs": [
    {
     "data": {
      "text/plain": [
       "Text(0.5, 1.0, \"Customer's Favorite Products\")"
      ]
     },
     "execution_count": 262,
     "metadata": {},
     "output_type": "execute_result"
    },
    {
     "data": {
      "image/png": "[encoded data removed]",
      "text/plain": [
       "<Figure size 1008x288 with 1 Axes>"
      ]
     },
     "metadata": {
      "needs_background": "light"
     },
     "output_type": "display_data"
    }
   ],
   "source": [
    "fig, ax = plt.subplots(figsize = (14,4))\n",
    "sns.barplot(x = unique_products.value_counts().index, y = unique_products.value_counts().values, data =data_sample)\n",
    "ax.set_ylabel(\"Frequency\", size = 12)\n",
    "ax.set_title(\"Customer's Favorite Products\", size = 14)"
   ]
  },
  {
   "cell_type": "code",
   "execution_count": 263,
   "metadata": {},
   "outputs": [
    {
     "data": {
      "text/html": [
       "<div>\n",
       "<style scoped>\n",
       "    .dataframe tbody tr th:only-of-type {\n",
       "        vertical-align: middle;\n",
       "    }\n",
       "\n",
       "    .dataframe tbody tr th {\n",
       "        vertical-align: top;\n",
       "    }\n",
       "\n",
       "    .dataframe thead th {\n",
       "        text-align: right;\n",
       "    }\n",
       "</style>\n",
       "<table border=\"1\" class=\"dataframe\">\n",
       "  <thead>\n",
       "    <tr style=\"text-align: right;\">\n",
       "      <th></th>\n",
       "      <th>0</th>\n",
       "      <th>1</th>\n",
       "      <th>2</th>\n",
       "      <th>3</th>\n",
       "      <th>4</th>\n",
       "      <th>5</th>\n",
       "    </tr>\n",
       "  </thead>\n",
       "  <tbody>\n",
       "    <tr>\n",
       "      <th>0</th>\n",
       "      <td>mango</td>\n",
       "      <td>ovomaltine schokolade</td>\n",
       "      <td>nutella</td>\n",
       "      <td>chips</td>\n",
       "      <td>birnen</td>\n",
       "      <td>karotten</td>\n",
       "    </tr>\n",
       "    <tr>\n",
       "      <th>1</th>\n",
       "      <td>ovomaltine schokolade</td>\n",
       "      <td>nutella</td>\n",
       "      <td>chips</td>\n",
       "      <td>birnen</td>\n",
       "      <td>karotten</td>\n",
       "      <td>NaN</td>\n",
       "    </tr>\n",
       "    <tr>\n",
       "      <th>2</th>\n",
       "      <td>birnen</td>\n",
       "      <td>karotten</td>\n",
       "      <td>NaN</td>\n",
       "      <td>NaN</td>\n",
       "      <td>NaN</td>\n",
       "      <td>NaN</td>\n",
       "    </tr>\n",
       "    <tr>\n",
       "      <th>3</th>\n",
       "      <td>mango</td>\n",
       "      <td>ovomaltine schokolade</td>\n",
       "      <td>NaN</td>\n",
       "      <td>NaN</td>\n",
       "      <td>NaN</td>\n",
       "      <td>NaN</td>\n",
       "    </tr>\n",
       "    <tr>\n",
       "      <th>4</th>\n",
       "      <td>mango</td>\n",
       "      <td>ovomaltine schokolade</td>\n",
       "      <td>chips</td>\n",
       "      <td>birnen</td>\n",
       "      <td>karotten</td>\n",
       "      <td>NaN</td>\n",
       "    </tr>\n",
       "  </tbody>\n",
       "</table>\n",
       "</div>"
      ],
      "text/plain": [
       "                       0                      1        2       3         4  \\\n",
       "0                  mango  ovomaltine schokolade  nutella   chips    birnen   \n",
       "1  ovomaltine schokolade                nutella    chips  birnen  karotten   \n",
       "2                 birnen               karotten      NaN     NaN       NaN   \n",
       "3                  mango  ovomaltine schokolade      NaN     NaN       NaN   \n",
       "4                  mango  ovomaltine schokolade    chips  birnen  karotten   \n",
       "\n",
       "          5  \n",
       "0  karotten  \n",
       "1       NaN  \n",
       "2       NaN  \n",
       "3       NaN  \n",
       "4       NaN  "
      ]
     },
     "execution_count": 263,
     "metadata": {},
     "output_type": "execute_result"
    }
   ],
   "source": [
    "products_expanded_v1 = data_sample['names_products'].apply(pd.Series)\n",
    "products_expanded_v1.head()"
   ]
  },
  {
   "cell_type": "code",
   "execution_count": 264,
   "metadata": {},
   "outputs": [],
   "source": [
    "#What is the most popular amount of sets bought?"
   ]
  },
  {
   "cell_type": "code",
   "execution_count": 265,
   "metadata": {},
   "outputs": [
    {
     "data": {
      "text/plain": [
       "ovomaltine schokolade    82\n",
       "birnen                   67\n",
       "karotten                 67\n",
       "mango                    64\n",
       "nutella                  53\n",
       "chips                    49\n",
       "dtype: int64"
      ]
     },
     "execution_count": 265,
     "metadata": {},
     "output_type": "execute_result"
    }
   ],
   "source": [
    "unique_products = to_1D(data_sample['names_products']).value_counts()\n",
    "unique_products"
   ]
  },
  {
   "cell_type": "code",
   "execution_count": 266,
   "metadata": {},
   "outputs": [],
   "source": [
    "def boolean_df(item_lists, unique_items):\n",
    "# Create empty dict\n",
    "    bool_dict = {}\n",
    "    \n",
    "    # Loop through all the tags\n",
    "    for i, item in enumerate(unique_items):\n",
    "        \n",
    "        # Apply boolean mask\n",
    "        bool_dict[item] = item_lists.apply(lambda x: item in x)\n",
    "            \n",
    "    # Return the results as a dataframe\n",
    "    return pd.DataFrame(bool_dict)"
   ]
  },
  {
   "cell_type": "code",
   "execution_count": 267,
   "metadata": {},
   "outputs": [],
   "source": [
    "products_bool = boolean_df(data_sample['names_products'], unique_products.keys())"
   ]
  },
  {
   "cell_type": "code",
   "execution_count": 268,
   "metadata": {
    "scrolled": false
   },
   "outputs": [
    {
     "data": {
      "text/html": [
       "<div>\n",
       "<style scoped>\n",
       "    .dataframe tbody tr th:only-of-type {\n",
       "        vertical-align: middle;\n",
       "    }\n",
       "\n",
       "    .dataframe tbody tr th {\n",
       "        vertical-align: top;\n",
       "    }\n",
       "\n",
       "    .dataframe thead th {\n",
       "        text-align: right;\n",
       "    }\n",
       "</style>\n",
       "<table border=\"1\" class=\"dataframe\">\n",
       "  <thead>\n",
       "    <tr style=\"text-align: right;\">\n",
       "      <th></th>\n",
       "      <th>ovomaltine schokolade</th>\n",
       "      <th>birnen</th>\n",
       "      <th>karotten</th>\n",
       "      <th>mango</th>\n",
       "      <th>nutella</th>\n",
       "      <th>chips</th>\n",
       "    </tr>\n",
       "  </thead>\n",
       "  <tbody>\n",
       "    <tr>\n",
       "      <th>0</th>\n",
       "      <td>True</td>\n",
       "      <td>True</td>\n",
       "      <td>True</td>\n",
       "      <td>True</td>\n",
       "      <td>True</td>\n",
       "      <td>True</td>\n",
       "    </tr>\n",
       "    <tr>\n",
       "      <th>1</th>\n",
       "      <td>True</td>\n",
       "      <td>True</td>\n",
       "      <td>True</td>\n",
       "      <td>False</td>\n",
       "      <td>True</td>\n",
       "      <td>True</td>\n",
       "    </tr>\n",
       "    <tr>\n",
       "      <th>2</th>\n",
       "      <td>False</td>\n",
       "      <td>True</td>\n",
       "      <td>True</td>\n",
       "      <td>False</td>\n",
       "      <td>False</td>\n",
       "      <td>False</td>\n",
       "    </tr>\n",
       "    <tr>\n",
       "      <th>3</th>\n",
       "      <td>True</td>\n",
       "      <td>False</td>\n",
       "      <td>False</td>\n",
       "      <td>True</td>\n",
       "      <td>False</td>\n",
       "      <td>False</td>\n",
       "    </tr>\n",
       "    <tr>\n",
       "      <th>4</th>\n",
       "      <td>True</td>\n",
       "      <td>True</td>\n",
       "      <td>True</td>\n",
       "      <td>True</td>\n",
       "      <td>False</td>\n",
       "      <td>True</td>\n",
       "    </tr>\n",
       "    <tr>\n",
       "      <th>...</th>\n",
       "      <td>...</td>\n",
       "      <td>...</td>\n",
       "      <td>...</td>\n",
       "      <td>...</td>\n",
       "      <td>...</td>\n",
       "      <td>...</td>\n",
       "    </tr>\n",
       "    <tr>\n",
       "      <th>95</th>\n",
       "      <td>False</td>\n",
       "      <td>True</td>\n",
       "      <td>True</td>\n",
       "      <td>False</td>\n",
       "      <td>False</td>\n",
       "      <td>False</td>\n",
       "    </tr>\n",
       "    <tr>\n",
       "      <th>96</th>\n",
       "      <td>False</td>\n",
       "      <td>True</td>\n",
       "      <td>True</td>\n",
       "      <td>False</td>\n",
       "      <td>False</td>\n",
       "      <td>False</td>\n",
       "    </tr>\n",
       "    <tr>\n",
       "      <th>97</th>\n",
       "      <td>True</td>\n",
       "      <td>False</td>\n",
       "      <td>False</td>\n",
       "      <td>True</td>\n",
       "      <td>False</td>\n",
       "      <td>False</td>\n",
       "    </tr>\n",
       "    <tr>\n",
       "      <th>98</th>\n",
       "      <td>True</td>\n",
       "      <td>True</td>\n",
       "      <td>True</td>\n",
       "      <td>True</td>\n",
       "      <td>False</td>\n",
       "      <td>True</td>\n",
       "    </tr>\n",
       "    <tr>\n",
       "      <th>99</th>\n",
       "      <td>True</td>\n",
       "      <td>False</td>\n",
       "      <td>False</td>\n",
       "      <td>True</td>\n",
       "      <td>True</td>\n",
       "      <td>False</td>\n",
       "    </tr>\n",
       "  </tbody>\n",
       "</table>\n",
       "<p>100 rows × 6 columns</p>\n",
       "</div>"
      ],
      "text/plain": [
       "    ovomaltine schokolade  birnen  karotten  mango  nutella  chips\n",
       "0                    True    True      True   True     True   True\n",
       "1                    True    True      True  False     True   True\n",
       "2                   False    True      True  False    False  False\n",
       "3                    True   False     False   True    False  False\n",
       "4                    True    True      True   True    False   True\n",
       "..                    ...     ...       ...    ...      ...    ...\n",
       "95                  False    True      True  False    False  False\n",
       "96                  False    True      True  False    False  False\n",
       "97                   True   False     False   True    False  False\n",
       "98                   True    True      True   True    False   True\n",
       "99                   True   False     False   True     True  False\n",
       "\n",
       "[100 rows x 6 columns]"
      ]
     },
     "execution_count": 268,
     "metadata": {},
     "output_type": "execute_result"
    }
   ],
   "source": [
    "products_bool"
   ]
  },
  {
   "cell_type": "code",
   "execution_count": 269,
   "metadata": {},
   "outputs": [],
   "source": [
    "products_bool = products_bool.corr(method = \"pearson\")  # no need to specify the method, as pearson and spearman will return the same results.\n",
    "#fruits_corr = fruits_bool.corr(method = \"pearson\") One straight forward way is the Pearson correlation coefficient, which can also be used for binary data."
   ]
  },
  {
   "cell_type": "code",
   "execution_count": 270,
   "metadata": {},
   "outputs": [
    {
     "data": {
      "text/html": [
       "<div>\n",
       "<style scoped>\n",
       "    .dataframe tbody tr th:only-of-type {\n",
       "        vertical-align: middle;\n",
       "    }\n",
       "\n",
       "    .dataframe tbody tr th {\n",
       "        vertical-align: top;\n",
       "    }\n",
       "\n",
       "    .dataframe thead th {\n",
       "        text-align: right;\n",
       "    }\n",
       "</style>\n",
       "<table border=\"1\" class=\"dataframe\">\n",
       "  <thead>\n",
       "    <tr style=\"text-align: right;\">\n",
       "      <th></th>\n",
       "      <th>ovomaltine schokolade</th>\n",
       "      <th>birnen</th>\n",
       "      <th>karotten</th>\n",
       "      <th>mango</th>\n",
       "      <th>nutella</th>\n",
       "      <th>chips</th>\n",
       "    </tr>\n",
       "  </thead>\n",
       "  <tbody>\n",
       "    <tr>\n",
       "      <th>ovomaltine schokolade</th>\n",
       "      <td>1.000000</td>\n",
       "      <td>-0.328813</td>\n",
       "      <td>-0.328813</td>\n",
       "      <td>0.624695</td>\n",
       "      <td>0.497529</td>\n",
       "      <td>0.459243</td>\n",
       "    </tr>\n",
       "    <tr>\n",
       "      <th>birnen</th>\n",
       "      <td>-0.328813</td>\n",
       "      <td>1.000000</td>\n",
       "      <td>1.000000</td>\n",
       "      <td>-0.526358</td>\n",
       "      <td>0.020879</td>\n",
       "      <td>0.687911</td>\n",
       "    </tr>\n",
       "    <tr>\n",
       "      <th>karotten</th>\n",
       "      <td>-0.328813</td>\n",
       "      <td>1.000000</td>\n",
       "      <td>1.000000</td>\n",
       "      <td>-0.526358</td>\n",
       "      <td>0.020879</td>\n",
       "      <td>0.687911</td>\n",
       "    </tr>\n",
       "    <tr>\n",
       "      <th>mango</th>\n",
       "      <td>0.624695</td>\n",
       "      <td>-0.526358</td>\n",
       "      <td>-0.526358</td>\n",
       "      <td>1.000000</td>\n",
       "      <td>0.045081</td>\n",
       "      <td>-0.015003</td>\n",
       "    </tr>\n",
       "    <tr>\n",
       "      <th>nutella</th>\n",
       "      <td>0.497529</td>\n",
       "      <td>0.020879</td>\n",
       "      <td>0.020879</td>\n",
       "      <td>0.045081</td>\n",
       "      <td>1.000000</td>\n",
       "      <td>0.402005</td>\n",
       "    </tr>\n",
       "    <tr>\n",
       "      <th>chips</th>\n",
       "      <td>0.459243</td>\n",
       "      <td>0.687911</td>\n",
       "      <td>0.687911</td>\n",
       "      <td>-0.015003</td>\n",
       "      <td>0.402005</td>\n",
       "      <td>1.000000</td>\n",
       "    </tr>\n",
       "  </tbody>\n",
       "</table>\n",
       "</div>"
      ],
      "text/plain": [
       "                       ovomaltine schokolade    birnen  karotten     mango  \\\n",
       "ovomaltine schokolade               1.000000 -0.328813 -0.328813  0.624695   \n",
       "birnen                             -0.328813  1.000000  1.000000 -0.526358   \n",
       "karotten                           -0.328813  1.000000  1.000000 -0.526358   \n",
       "mango                               0.624695 -0.526358 -0.526358  1.000000   \n",
       "nutella                             0.497529  0.020879  0.020879  0.045081   \n",
       "chips                               0.459243  0.687911  0.687911 -0.015003   \n",
       "\n",
       "                        nutella     chips  \n",
       "ovomaltine schokolade  0.497529  0.459243  \n",
       "birnen                 0.020879  0.687911  \n",
       "karotten               0.020879  0.687911  \n",
       "mango                  0.045081 -0.015003  \n",
       "nutella                1.000000  0.402005  \n",
       "chips                  0.402005  1.000000  "
      ]
     },
     "execution_count": 270,
     "metadata": {},
     "output_type": "execute_result"
    }
   ],
   "source": [
    "products_bool"
   ]
  },
  {
   "cell_type": "markdown",
   "metadata": {},
   "source": [
    "This is very useful! We can answer questions like: If customers likes ovomaltine, what kind of product is they propably going to like, too?"
   ]
  },
  {
   "cell_type": "code",
   "execution_count": 345,
   "metadata": {},
   "outputs": [
    {
     "data": {
      "text/plain": [
       "ovomaltine schokolade    1.000000\n",
       "mango                    0.624695\n",
       "nutella                  0.497529\n",
       "chips                    0.459243\n",
       "birnen                  -0.328813\n",
       "karotten                -0.328813\n",
       "Name: ovomaltine schokolade, dtype: float64"
      ]
     },
     "execution_count": 345,
     "metadata": {},
     "output_type": "execute_result"
    }
   ],
   "source": [
    "products_bool[\"ovomaltine schokolade\"].sort_values(ascending = False)"
   ]
  },
  {
   "cell_type": "markdown",
   "metadata": {},
   "source": [
    "We can tell that mango is the fruit that is most commonly liked by customers who like ovomaltine.\n",
    "\n",
    "Another useful thing to do is to count how many times an item co-occurs with the other items. This can easily be done using vectorized matrix multiplication. For that, we'll need to convert the boolean values to integers."
   ]
  },
  {
   "cell_type": "code",
   "execution_count": 346,
   "metadata": {},
   "outputs": [
    {
     "data": {
      "text/html": [
       "<div>\n",
       "<style scoped>\n",
       "    .dataframe tbody tr th:only-of-type {\n",
       "        vertical-align: middle;\n",
       "    }\n",
       "\n",
       "    .dataframe tbody tr th {\n",
       "        vertical-align: top;\n",
       "    }\n",
       "\n",
       "    .dataframe thead th {\n",
       "        text-align: right;\n",
       "    }\n",
       "</style>\n",
       "<table border=\"1\" class=\"dataframe\">\n",
       "  <thead>\n",
       "    <tr style=\"text-align: right;\">\n",
       "      <th></th>\n",
       "      <th>ovomaltine schokolade</th>\n",
       "      <th>birnen</th>\n",
       "      <th>karotten</th>\n",
       "      <th>mango</th>\n",
       "      <th>nutella</th>\n",
       "      <th>chips</th>\n",
       "    </tr>\n",
       "  </thead>\n",
       "  <tbody>\n",
       "    <tr>\n",
       "      <th>ovomaltine schokolade</th>\n",
       "      <td>1.000000</td>\n",
       "      <td>-0.328813</td>\n",
       "      <td>-0.328813</td>\n",
       "      <td>0.624695</td>\n",
       "      <td>0.497529</td>\n",
       "      <td>0.459243</td>\n",
       "    </tr>\n",
       "    <tr>\n",
       "      <th>birnen</th>\n",
       "      <td>-0.328813</td>\n",
       "      <td>1.000000</td>\n",
       "      <td>1.000000</td>\n",
       "      <td>-0.526358</td>\n",
       "      <td>0.020879</td>\n",
       "      <td>0.687911</td>\n",
       "    </tr>\n",
       "    <tr>\n",
       "      <th>karotten</th>\n",
       "      <td>-0.328813</td>\n",
       "      <td>1.000000</td>\n",
       "      <td>1.000000</td>\n",
       "      <td>-0.526358</td>\n",
       "      <td>0.020879</td>\n",
       "      <td>0.687911</td>\n",
       "    </tr>\n",
       "    <tr>\n",
       "      <th>mango</th>\n",
       "      <td>0.624695</td>\n",
       "      <td>-0.526358</td>\n",
       "      <td>-0.526358</td>\n",
       "      <td>1.000000</td>\n",
       "      <td>0.045081</td>\n",
       "      <td>-0.015003</td>\n",
       "    </tr>\n",
       "    <tr>\n",
       "      <th>nutella</th>\n",
       "      <td>0.497529</td>\n",
       "      <td>0.020879</td>\n",
       "      <td>0.020879</td>\n",
       "      <td>0.045081</td>\n",
       "      <td>1.000000</td>\n",
       "      <td>0.402005</td>\n",
       "    </tr>\n",
       "    <tr>\n",
       "      <th>chips</th>\n",
       "      <td>0.459243</td>\n",
       "      <td>0.687911</td>\n",
       "      <td>0.687911</td>\n",
       "      <td>-0.015003</td>\n",
       "      <td>0.402005</td>\n",
       "      <td>1.000000</td>\n",
       "    </tr>\n",
       "  </tbody>\n",
       "</table>\n",
       "</div>"
      ],
      "text/plain": [
       "                       ovomaltine schokolade    birnen  karotten     mango  \\\n",
       "ovomaltine schokolade               1.000000 -0.328813 -0.328813  0.624695   \n",
       "birnen                             -0.328813  1.000000  1.000000 -0.526358   \n",
       "karotten                           -0.328813  1.000000  1.000000 -0.526358   \n",
       "mango                               0.624695 -0.526358 -0.526358  1.000000   \n",
       "nutella                             0.497529  0.020879  0.020879  0.045081   \n",
       "chips                               0.459243  0.687911  0.687911 -0.015003   \n",
       "\n",
       "                        nutella     chips  \n",
       "ovomaltine schokolade  0.497529  0.459243  \n",
       "birnen                 0.020879  0.687911  \n",
       "karotten               0.020879  0.687911  \n",
       "mango                  0.045081 -0.015003  \n",
       "nutella                1.000000  0.402005  \n",
       "chips                  0.402005  1.000000  "
      ]
     },
     "execution_count": 346,
     "metadata": {},
     "output_type": "execute_result"
    }
   ],
   "source": [
    "products_float = products_bool.astype(float)\n",
    "products_float.head(10)"
   ]
  },
  {
   "cell_type": "markdown",
   "metadata": {},
   "source": [
    "Plot the table above and cut the half"
   ]
  },
  {
   "cell_type": "code",
   "execution_count": 347,
   "metadata": {},
   "outputs": [
    {
     "data": {
      "text/plain": [
       "array([[ 2.0649187 , -0.9889454 , -0.9889454 ,  1.61107561,  1.19410678,\n",
       "         0.65673366],\n",
       "       [-0.9889454 ,  2.85882825,  2.85882825, -1.79385985,  0.15185846,\n",
       "         1.92901981],\n",
       "       [-0.9889454 ,  2.85882825,  2.85882825, -1.79385985,  0.15185846,\n",
       "         1.92901981],\n",
       "       [ 1.61107561, -1.79385985, -1.79385985,  1.94660579,  0.37295512,\n",
       "        -0.4491712 ],\n",
       "       [ 1.19410678,  0.15185846,  0.15185846,  0.37295512,  1.41204687,\n",
       "         1.06054538],\n",
       "       [ 0.65673366,  1.92901981,  1.92901981, -0.4491712 ,  1.06054538,\n",
       "         2.31918085]])"
      ]
     },
     "execution_count": 347,
     "metadata": {},
     "output_type": "execute_result"
    }
   ],
   "source": [
    "products_freq_mat = np.dot(products_float.T, products_float)\n",
    "products_freq_mat"
   ]
  },
  {
   "cell_type": "code",
   "execution_count": null,
   "metadata": {},
   "outputs": [],
   "source": []
  },
  {
   "cell_type": "code",
   "execution_count": null,
   "metadata": {},
   "outputs": [],
   "source": []
  },
  {
   "cell_type": "code",
   "execution_count": 348,
   "metadata": {},
   "outputs": [],
   "source": [
    "products_freq = pd.DataFrame(products_freq_mat, columns = unique_products.keys(), index = unique_products.keys())"
   ]
  },
  {
   "cell_type": "code",
   "execution_count": 349,
   "metadata": {},
   "outputs": [
    {
     "data": {
      "text/html": [
       "<div>\n",
       "<style scoped>\n",
       "    .dataframe tbody tr th:only-of-type {\n",
       "        vertical-align: middle;\n",
       "    }\n",
       "\n",
       "    .dataframe tbody tr th {\n",
       "        vertical-align: top;\n",
       "    }\n",
       "\n",
       "    .dataframe thead th {\n",
       "        text-align: right;\n",
       "    }\n",
       "</style>\n",
       "<table border=\"1\" class=\"dataframe\">\n",
       "  <thead>\n",
       "    <tr style=\"text-align: right;\">\n",
       "      <th></th>\n",
       "      <th>ovomaltine schokolade</th>\n",
       "      <th>birnen</th>\n",
       "      <th>karotten</th>\n",
       "      <th>mango</th>\n",
       "      <th>nutella</th>\n",
       "      <th>chips</th>\n",
       "    </tr>\n",
       "  </thead>\n",
       "  <tbody>\n",
       "    <tr>\n",
       "      <th>ovomaltine schokolade</th>\n",
       "      <td>2.064919</td>\n",
       "      <td>-0.988945</td>\n",
       "      <td>-0.988945</td>\n",
       "      <td>1.611076</td>\n",
       "      <td>1.194107</td>\n",
       "      <td>0.656734</td>\n",
       "    </tr>\n",
       "    <tr>\n",
       "      <th>birnen</th>\n",
       "      <td>-0.988945</td>\n",
       "      <td>2.858828</td>\n",
       "      <td>2.858828</td>\n",
       "      <td>-1.793860</td>\n",
       "      <td>0.151858</td>\n",
       "      <td>1.929020</td>\n",
       "    </tr>\n",
       "    <tr>\n",
       "      <th>karotten</th>\n",
       "      <td>-0.988945</td>\n",
       "      <td>2.858828</td>\n",
       "      <td>2.858828</td>\n",
       "      <td>-1.793860</td>\n",
       "      <td>0.151858</td>\n",
       "      <td>1.929020</td>\n",
       "    </tr>\n",
       "    <tr>\n",
       "      <th>mango</th>\n",
       "      <td>1.611076</td>\n",
       "      <td>-1.793860</td>\n",
       "      <td>-1.793860</td>\n",
       "      <td>1.946606</td>\n",
       "      <td>0.372955</td>\n",
       "      <td>-0.449171</td>\n",
       "    </tr>\n",
       "    <tr>\n",
       "      <th>nutella</th>\n",
       "      <td>1.194107</td>\n",
       "      <td>0.151858</td>\n",
       "      <td>0.151858</td>\n",
       "      <td>0.372955</td>\n",
       "      <td>1.412047</td>\n",
       "      <td>1.060545</td>\n",
       "    </tr>\n",
       "    <tr>\n",
       "      <th>chips</th>\n",
       "      <td>0.656734</td>\n",
       "      <td>1.929020</td>\n",
       "      <td>1.929020</td>\n",
       "      <td>-0.449171</td>\n",
       "      <td>1.060545</td>\n",
       "      <td>2.319181</td>\n",
       "    </tr>\n",
       "  </tbody>\n",
       "</table>\n",
       "</div>"
      ],
      "text/plain": [
       "                       ovomaltine schokolade    birnen  karotten     mango  \\\n",
       "ovomaltine schokolade               2.064919 -0.988945 -0.988945  1.611076   \n",
       "birnen                             -0.988945  2.858828  2.858828 -1.793860   \n",
       "karotten                           -0.988945  2.858828  2.858828 -1.793860   \n",
       "mango                               1.611076 -1.793860 -1.793860  1.946606   \n",
       "nutella                             1.194107  0.151858  0.151858  0.372955   \n",
       "chips                               0.656734  1.929020  1.929020 -0.449171   \n",
       "\n",
       "                        nutella     chips  \n",
       "ovomaltine schokolade  1.194107  0.656734  \n",
       "birnen                 0.151858  1.929020  \n",
       "karotten               0.151858  1.929020  \n",
       "mango                  0.372955 -0.449171  \n",
       "nutella                1.412047  1.060545  \n",
       "chips                  1.060545  2.319181  "
      ]
     },
     "execution_count": 349,
     "metadata": {},
     "output_type": "execute_result"
    }
   ],
   "source": [
    "products_freq"
   ]
  },
  {
   "cell_type": "code",
   "execution_count": 350,
   "metadata": {},
   "outputs": [
    {
     "data": {
      "image/png": "[encoded data removed]",
      "text/plain": [
       "<Figure size 648x360 with 2 Axes>"
      ]
     },
     "metadata": {
      "needs_background": "light"
     },
     "output_type": "display_data"
    }
   ],
   "source": [
    "import seaborn as sn\n",
    "fig, ax = plt.subplots(figsize = (9,5))\n",
    "sn.heatmap(products_freq, annot = True, linewidths = 1.5, fmt = '.2f',  ax = ax)\n",
    "plt.xticks(rotation=50)\n",
    "plt.savefig(\"heatmap.png\", dpi = 300)"
   ]
  },
  {
   "cell_type": "code",
   "execution_count": null,
   "metadata": {},
   "outputs": [],
   "source": []
  },
  {
   "cell_type": "code",
   "execution_count": null,
   "metadata": {},
   "outputs": [],
   "source": []
  },
  {
   "cell_type": "markdown",
   "metadata": {},
   "source": [
    "**Bivariate Analysis**"
   ]
  },
  {
   "cell_type": "code",
   "execution_count": null,
   "metadata": {},
   "outputs": [],
   "source": []
  },
  {
   "cell_type": "code",
   "execution_count": 91,
   "metadata": {},
   "outputs": [
    {
     "data": {
      "image/png": "[encoded data removed]",
      "text/plain": [
       "<Figure size 864x576 with 1 Axes>"
      ]
     },
     "metadata": {
      "needs_background": "light"
     },
     "output_type": "display_data"
    }
   ],
   "source": [
    "plt.figure(figsize=(12, 8))\n",
    "ax = sns.countplot(x=\"days_since_last_contact\", data=data_sample)"
   ]
  },
  {
   "cell_type": "code",
   "execution_count": 92,
   "metadata": {},
   "outputs": [
    {
     "data": {
      "text/plain": [
       "array([<AxesSubplot:ylabel='gender'>], dtype=object)"
      ]
     },
     "execution_count": 92,
     "metadata": {},
     "output_type": "execute_result"
    },
    {
     "data": {
      "image/png": "[encoded data removed]",
      "text/plain": [
       "<Figure size 360x216 with 1 Axes>"
      ]
     },
     "metadata": {},
     "output_type": "display_data"
    }
   ],
   "source": [
    "# Visualizing the object data as pie charts to see their destribution\n",
    "\n",
    "#define Seaborn color palette to use\n",
    "\n",
    "data_sample['gender'].value_counts().plot(kind='pie', autopct='%.1f', figsize=(5,3))\n",
    "\n",
    "\n",
    "data_sample['gender'].value_counts().plot(kind='pie', subplots=True, autopct='%.1f', figsize=(5,3))\n"
   ]
  },
  {
   "cell_type": "code",
   "execution_count": null,
   "metadata": {},
   "outputs": [],
   "source": []
  },
  {
   "cell_type": "code",
   "execution_count": null,
   "metadata": {},
   "outputs": [],
   "source": []
  },
  {
   "cell_type": "code",
   "execution_count": null,
   "metadata": {},
   "outputs": [],
   "source": []
  },
  {
   "cell_type": "code",
   "execution_count": null,
   "metadata": {},
   "outputs": [],
   "source": []
  },
  {
   "cell_type": "code",
   "execution_count": null,
   "metadata": {},
   "outputs": [],
   "source": []
  },
  {
   "cell_type": "code",
   "execution_count": null,
   "metadata": {},
   "outputs": [],
   "source": []
  },
  {
   "cell_type": "code",
   "execution_count": 93,
   "metadata": {},
   "outputs": [
    {
     "data": {
      "image/png": "[encoded data removed]",
      "text/plain": [
       "<Figure size 360x360 with 1 Axes>"
      ]
     },
     "metadata": {},
     "output_type": "display_data"
    },
    {
     "data": {
      "image/png": "[encoded data removed]",
      "text/plain": [
       "<Figure size 432x288 with 2 Axes>"
      ]
     },
     "metadata": {},
     "output_type": "display_data"
    }
   ],
   "source": [
    "df = pd.DataFrame({'mass': [2.87, 5.97, 6.00],\n",
    "                   'radius': [6051.8, 6378.1, 71492]},\n",
    "                  index=['Venus', 'Earth', 'Jupiter'])\n",
    "plot = df.plot.pie(y='mass', figsize=(5, 5))\n",
    "\n",
    "plot = df.plot.pie(subplots=True, figsize=(6, 4))"
   ]
  },
  {
   "cell_type": "code",
   "execution_count": 95,
   "metadata": {},
   "outputs": [
    {
     "data": {
      "text/plain": [
       "m    48\n",
       "w    48\n",
       "d     1\n",
       "Name: gender, dtype: int64"
      ]
     },
     "execution_count": 95,
     "metadata": {},
     "output_type": "execute_result"
    }
   ],
   "source": [
    "# Let's check what is the percentages of the values in each column\n",
    "\n",
    "data_sample.gender.value_counts().sort_values(ascending = False)"
   ]
  },
  {
   "cell_type": "code",
   "execution_count": 96,
   "metadata": {},
   "outputs": [
    {
     "data": {
      "text/html": [
       "<div>\n",
       "<style scoped>\n",
       "    .dataframe tbody tr th:only-of-type {\n",
       "        vertical-align: middle;\n",
       "    }\n",
       "\n",
       "    .dataframe tbody tr th {\n",
       "        vertical-align: top;\n",
       "    }\n",
       "\n",
       "    .dataframe thead th {\n",
       "        text-align: right;\n",
       "    }\n",
       "</style>\n",
       "<table border=\"1\" class=\"dataframe\">\n",
       "  <thead>\n",
       "    <tr style=\"text-align: right;\">\n",
       "      <th></th>\n",
       "      <th>gender</th>\n",
       "      <th>delivery_pass</th>\n",
       "    </tr>\n",
       "  </thead>\n",
       "  <tbody>\n",
       "    <tr>\n",
       "      <th>d</th>\n",
       "      <td>1.0</td>\n",
       "      <td>NaN</td>\n",
       "    </tr>\n",
       "    <tr>\n",
       "      <th>m</th>\n",
       "      <td>48.0</td>\n",
       "      <td>NaN</td>\n",
       "    </tr>\n",
       "    <tr>\n",
       "      <th>w</th>\n",
       "      <td>48.0</td>\n",
       "      <td>NaN</td>\n",
       "    </tr>\n",
       "    <tr>\n",
       "      <th>True</th>\n",
       "      <td>NaN</td>\n",
       "      <td>52.0</td>\n",
       "    </tr>\n",
       "    <tr>\n",
       "      <th>False</th>\n",
       "      <td>NaN</td>\n",
       "      <td>48.0</td>\n",
       "    </tr>\n",
       "  </tbody>\n",
       "</table>\n",
       "</div>"
      ],
      "text/plain": [
       "       gender  delivery_pass\n",
       "d         1.0            NaN\n",
       "m        48.0            NaN\n",
       "w        48.0            NaN\n",
       "True      NaN           52.0\n",
       "False     NaN           48.0"
      ]
     },
     "execution_count": 96,
     "metadata": {},
     "output_type": "execute_result"
    }
   ],
   "source": [
    "data_sample[['gender', 'delivery_pass']].apply(pd.Series.value_counts)"
   ]
  },
  {
   "cell_type": "code",
   "execution_count": null,
   "metadata": {},
   "outputs": [],
   "source": []
  },
  {
   "cell_type": "code",
   "execution_count": null,
   "metadata": {},
   "outputs": [],
   "source": []
  },
  {
   "cell_type": "code",
   "execution_count": 97,
   "metadata": {},
   "outputs": [],
   "source": [
    "def replace_space_and_capital(name):\n",
    "    new_name = name.replace(' ', '_').lower()\n",
    "    return new_name\n",
    "\n",
    "data_sample = data_sample.rename(columns = replace_space_and_capital)"
   ]
  },
  {
   "cell_type": "code",
   "execution_count": 98,
   "metadata": {
    "scrolled": true
   },
   "outputs": [
    {
     "data": {
      "text/plain": [
       "0    [7881,10834,61603,62040,63288,125830]\n",
       "1         [10834,61603,62040,63288,125830]\n",
       "2                           [63288,125830]\n",
       "3                             [7881,10834]\n",
       "4          [7881,10834,62040,63288,125830]\n",
       "Name: product_ids, dtype: object"
      ]
     },
     "execution_count": 98,
     "metadata": {},
     "output_type": "execute_result"
    }
   ],
   "source": [
    "data_sample.product_ids.head()"
   ]
  },
  {
   "cell_type": "code",
   "execution_count": 99,
   "metadata": {
    "scrolled": true
   },
   "outputs": [
    {
     "data": {
      "text/html": [
       "<div>\n",
       "<style scoped>\n",
       "    .dataframe tbody tr th:only-of-type {\n",
       "        vertical-align: middle;\n",
       "    }\n",
       "\n",
       "    .dataframe tbody tr th {\n",
       "        vertical-align: top;\n",
       "    }\n",
       "\n",
       "    .dataframe thead th {\n",
       "        text-align: right;\n",
       "    }\n",
       "</style>\n",
       "<table border=\"1\" class=\"dataframe\">\n",
       "  <thead>\n",
       "    <tr style=\"text-align: right;\">\n",
       "      <th></th>\n",
       "      <th>gender</th>\n",
       "      <th>loyalty</th>\n",
       "      <th>days_since_last_contact</th>\n",
       "      <th>transactions</th>\n",
       "      <th>product_ids</th>\n",
       "      <th>categ_one_hot</th>\n",
       "      <th>delivery_pass</th>\n",
       "      <th>product_ids_sets</th>\n",
       "      <th>list_product_ids</th>\n",
       "      <th>count_product_ids</th>\n",
       "      <th>names_lists</th>\n",
       "    </tr>\n",
       "  </thead>\n",
       "  <tbody>\n",
       "    <tr>\n",
       "      <th>0</th>\n",
       "      <td>m</td>\n",
       "      <td>-1.33</td>\n",
       "      <td>2</td>\n",
       "      <td>4</td>\n",
       "      <td>[7881,10834,61603,62040,63288,125830]</td>\n",
       "      <td>cat1</td>\n",
       "      <td>True</td>\n",
       "      <td>A</td>\n",
       "      <td>[7881, 10834, 61603, 62040, 63288, 125830]</td>\n",
       "      <td>6</td>\n",
       "      <td>[mango, ovomaltine schokolade, nutella, chips,...</td>\n",
       "    </tr>\n",
       "    <tr>\n",
       "      <th>1</th>\n",
       "      <td>m</td>\n",
       "      <td>-0.28</td>\n",
       "      <td>3</td>\n",
       "      <td>6</td>\n",
       "      <td>[10834,61603,62040,63288,125830]</td>\n",
       "      <td>cat1</td>\n",
       "      <td>True</td>\n",
       "      <td>B</td>\n",
       "      <td>[10834, 61603, 62040, 63288, 125830]</td>\n",
       "      <td>5</td>\n",
       "      <td>[ovomaltine schokolade, nutella, chips, birnen...</td>\n",
       "    </tr>\n",
       "    <tr>\n",
       "      <th>2</th>\n",
       "      <td>w</td>\n",
       "      <td>-0.22</td>\n",
       "      <td>1</td>\n",
       "      <td>5</td>\n",
       "      <td>[63288,125830]</td>\n",
       "      <td>cat1</td>\n",
       "      <td>False</td>\n",
       "      <td>C</td>\n",
       "      <td>[63288, 125830]</td>\n",
       "      <td>2</td>\n",
       "      <td>[birnen, karotten]</td>\n",
       "    </tr>\n",
       "    <tr>\n",
       "      <th>3</th>\n",
       "      <td>m</td>\n",
       "      <td>-0.29</td>\n",
       "      <td>0</td>\n",
       "      <td>7</td>\n",
       "      <td>[7881,10834]</td>\n",
       "      <td>cat2</td>\n",
       "      <td>True</td>\n",
       "      <td>D</td>\n",
       "      <td>[7881, 10834]</td>\n",
       "      <td>2</td>\n",
       "      <td>[mango, ovomaltine schokolade]</td>\n",
       "    </tr>\n",
       "    <tr>\n",
       "      <th>4</th>\n",
       "      <td>m</td>\n",
       "      <td>1.06</td>\n",
       "      <td>5</td>\n",
       "      <td>4</td>\n",
       "      <td>[7881,10834,62040,63288,125830]</td>\n",
       "      <td>cat3</td>\n",
       "      <td>True</td>\n",
       "      <td>E</td>\n",
       "      <td>[7881, 10834, 62040, 63288, 125830]</td>\n",
       "      <td>5</td>\n",
       "      <td>[mango, ovomaltine schokolade, chips, birnen, ...</td>\n",
       "    </tr>\n",
       "  </tbody>\n",
       "</table>\n",
       "</div>"
      ],
      "text/plain": [
       "  gender  loyalty  days_since_last_contact  transactions  \\\n",
       "0      m    -1.33                        2             4   \n",
       "1      m    -0.28                        3             6   \n",
       "2      w    -0.22                        1             5   \n",
       "3      m    -0.29                        0             7   \n",
       "4      m     1.06                        5             4   \n",
       "\n",
       "                             product_ids categ_one_hot  delivery_pass  \\\n",
       "0  [7881,10834,61603,62040,63288,125830]          cat1           True   \n",
       "1       [10834,61603,62040,63288,125830]          cat1           True   \n",
       "2                         [63288,125830]          cat1          False   \n",
       "3                           [7881,10834]          cat2           True   \n",
       "4        [7881,10834,62040,63288,125830]          cat3           True   \n",
       "\n",
       "  product_ids_sets                            list_product_ids  \\\n",
       "0                A  [7881, 10834, 61603, 62040, 63288, 125830]   \n",
       "1                B        [10834, 61603, 62040, 63288, 125830]   \n",
       "2                C                             [63288, 125830]   \n",
       "3                D                               [7881, 10834]   \n",
       "4                E         [7881, 10834, 62040, 63288, 125830]   \n",
       "\n",
       "   count_product_ids                                        names_lists  \n",
       "0                  6  [mango, ovomaltine schokolade, nutella, chips,...  \n",
       "1                  5  [ovomaltine schokolade, nutella, chips, birnen...  \n",
       "2                  2                                 [birnen, karotten]  \n",
       "3                  2                     [mango, ovomaltine schokolade]  \n",
       "4                  5  [mango, ovomaltine schokolade, chips, birnen, ...  "
      ]
     },
     "execution_count": 99,
     "metadata": {},
     "output_type": "execute_result"
    }
   ],
   "source": [
    "data_sample.head()"
   ]
  },
  {
   "cell_type": "code",
   "execution_count": 100,
   "metadata": {},
   "outputs": [
    {
     "ename": "KeyError",
     "evalue": "\"['person_id'] not in index\"",
     "output_type": "error",
     "traceback": [
      "\u001b[1;31m---------------------------------------------------------------------------\u001b[0m",
      "\u001b[1;31mKeyError\u001b[0m                                  Traceback (most recent call last)",
      "Input \u001b[1;32mIn [100]\u001b[0m, in \u001b[0;36m<cell line: 1>\u001b[1;34m()\u001b[0m\n\u001b[1;32m----> 1\u001b[0m user_df \u001b[38;5;241m=\u001b[39m \u001b[43mdata_sample\u001b[49m\u001b[43m[\u001b[49m\u001b[43m[\u001b[49m\u001b[38;5;124;43m'\u001b[39;49m\u001b[38;5;124;43mproduct_ids\u001b[39;49m\u001b[38;5;124;43m'\u001b[39;49m\u001b[43m,\u001b[49m\u001b[43m \u001b[49m\u001b[38;5;124;43m'\u001b[39;49m\u001b[38;5;124;43mperson_id\u001b[39;49m\u001b[38;5;124;43m'\u001b[39;49m\u001b[43m]\u001b[49m\u001b[43m]\u001b[49m\n\u001b[0;32m      2\u001b[0m user_df\u001b[38;5;241m.\u001b[39mhead(\u001b[38;5;241m10\u001b[39m)\n",
      "File \u001b[1;32m~\\anaconda3\\lib\\site-packages\\pandas\\core\\frame.py:3511\u001b[0m, in \u001b[0;36mDataFrame.__getitem__\u001b[1;34m(self, key)\u001b[0m\n\u001b[0;32m   3509\u001b[0m     \u001b[38;5;28;01mif\u001b[39;00m is_iterator(key):\n\u001b[0;32m   3510\u001b[0m         key \u001b[38;5;241m=\u001b[39m \u001b[38;5;28mlist\u001b[39m(key)\n\u001b[1;32m-> 3511\u001b[0m     indexer \u001b[38;5;241m=\u001b[39m \u001b[38;5;28;43mself\u001b[39;49m\u001b[38;5;241;43m.\u001b[39;49m\u001b[43mcolumns\u001b[49m\u001b[38;5;241;43m.\u001b[39;49m\u001b[43m_get_indexer_strict\u001b[49m\u001b[43m(\u001b[49m\u001b[43mkey\u001b[49m\u001b[43m,\u001b[49m\u001b[43m \u001b[49m\u001b[38;5;124;43m\"\u001b[39;49m\u001b[38;5;124;43mcolumns\u001b[39;49m\u001b[38;5;124;43m\"\u001b[39;49m\u001b[43m)\u001b[49m[\u001b[38;5;241m1\u001b[39m]\n\u001b[0;32m   3513\u001b[0m \u001b[38;5;66;03m# take() does not accept boolean indexers\u001b[39;00m\n\u001b[0;32m   3514\u001b[0m \u001b[38;5;28;01mif\u001b[39;00m \u001b[38;5;28mgetattr\u001b[39m(indexer, \u001b[38;5;124m\"\u001b[39m\u001b[38;5;124mdtype\u001b[39m\u001b[38;5;124m\"\u001b[39m, \u001b[38;5;28;01mNone\u001b[39;00m) \u001b[38;5;241m==\u001b[39m \u001b[38;5;28mbool\u001b[39m:\n",
      "File \u001b[1;32m~\\anaconda3\\lib\\site-packages\\pandas\\core\\indexes\\base.py:5782\u001b[0m, in \u001b[0;36mIndex._get_indexer_strict\u001b[1;34m(self, key, axis_name)\u001b[0m\n\u001b[0;32m   5779\u001b[0m \u001b[38;5;28;01melse\u001b[39;00m:\n\u001b[0;32m   5780\u001b[0m     keyarr, indexer, new_indexer \u001b[38;5;241m=\u001b[39m \u001b[38;5;28mself\u001b[39m\u001b[38;5;241m.\u001b[39m_reindex_non_unique(keyarr)\n\u001b[1;32m-> 5782\u001b[0m \u001b[38;5;28;43mself\u001b[39;49m\u001b[38;5;241;43m.\u001b[39;49m\u001b[43m_raise_if_missing\u001b[49m\u001b[43m(\u001b[49m\u001b[43mkeyarr\u001b[49m\u001b[43m,\u001b[49m\u001b[43m \u001b[49m\u001b[43mindexer\u001b[49m\u001b[43m,\u001b[49m\u001b[43m \u001b[49m\u001b[43maxis_name\u001b[49m\u001b[43m)\u001b[49m\n\u001b[0;32m   5784\u001b[0m keyarr \u001b[38;5;241m=\u001b[39m \u001b[38;5;28mself\u001b[39m\u001b[38;5;241m.\u001b[39mtake(indexer)\n\u001b[0;32m   5785\u001b[0m \u001b[38;5;28;01mif\u001b[39;00m \u001b[38;5;28misinstance\u001b[39m(key, Index):\n\u001b[0;32m   5786\u001b[0m     \u001b[38;5;66;03m# GH 42790 - Preserve name from an Index\u001b[39;00m\n",
      "File \u001b[1;32m~\\anaconda3\\lib\\site-packages\\pandas\\core\\indexes\\base.py:5845\u001b[0m, in \u001b[0;36mIndex._raise_if_missing\u001b[1;34m(self, key, indexer, axis_name)\u001b[0m\n\u001b[0;32m   5842\u001b[0m     \u001b[38;5;28;01mraise\u001b[39;00m \u001b[38;5;167;01mKeyError\u001b[39;00m(\u001b[38;5;124mf\u001b[39m\u001b[38;5;124m\"\u001b[39m\u001b[38;5;124mNone of [\u001b[39m\u001b[38;5;132;01m{\u001b[39;00mkey\u001b[38;5;132;01m}\u001b[39;00m\u001b[38;5;124m] are in the [\u001b[39m\u001b[38;5;132;01m{\u001b[39;00maxis_name\u001b[38;5;132;01m}\u001b[39;00m\u001b[38;5;124m]\u001b[39m\u001b[38;5;124m\"\u001b[39m)\n\u001b[0;32m   5844\u001b[0m not_found \u001b[38;5;241m=\u001b[39m \u001b[38;5;28mlist\u001b[39m(ensure_index(key)[missing_mask\u001b[38;5;241m.\u001b[39mnonzero()[\u001b[38;5;241m0\u001b[39m]]\u001b[38;5;241m.\u001b[39munique())\n\u001b[1;32m-> 5845\u001b[0m \u001b[38;5;28;01mraise\u001b[39;00m \u001b[38;5;167;01mKeyError\u001b[39;00m(\u001b[38;5;124mf\u001b[39m\u001b[38;5;124m\"\u001b[39m\u001b[38;5;132;01m{\u001b[39;00mnot_found\u001b[38;5;132;01m}\u001b[39;00m\u001b[38;5;124m not in index\u001b[39m\u001b[38;5;124m\"\u001b[39m)\n",
      "\u001b[1;31mKeyError\u001b[0m: \"['person_id'] not in index\""
     ]
    }
   ],
   "source": [
    "user_df = data_sample[['product_ids', 'person_id']]\n",
    "user_df.head(10)"
   ]
  },
  {
   "cell_type": "code",
   "execution_count": null,
   "metadata": {
    "scrolled": false
   },
   "outputs": [],
   "source": [
    "#products_sets = \n",
    "data_sample.groupby('product_ids', as_index = False).agg({'person_id' : 'count', 'transactions' : 'sum', 'days_since_last_contact' : 'mean'}).sort_values('person_id', ascending = False) \\\n",
    "    .rename(columns ={'person_id' : 'count'})"
   ]
  },
  {
   "cell_type": "code",
   "execution_count": null,
   "metadata": {},
   "outputs": [],
   "source": [
    "type(data_sample.product_ids[0])"
   ]
  },
  {
   "cell_type": "code",
   "execution_count": null,
   "metadata": {},
   "outputs": [],
   "source": [
    "from ast import literal_eval\n",
    "len(literal_eval(data_sample.product_ids[0]))"
   ]
  },
  {
   "cell_type": "code",
   "execution_count": null,
   "metadata": {},
   "outputs": [],
   "source": [
    "buying_days = data_sample.groupby('days_since_last_contact', as_index = False).agg({'person_id' : 'count'})\n",
    "#.sort_values('person_id', ascending = False) \\\n",
    "#    .rename(columns ={'person_id' : 'count_days'}).sort_values('days_since_last_contact')\n",
    "buying_days"
   ]
  },
  {
   "cell_type": "code",
   "execution_count": null,
   "metadata": {},
   "outputs": [],
   "source": [
    "plt.figure(figsize=(12, 8))\n",
    "ax = sns.countplot(x=\"days_since_last_contact\", data=data_sample)"
   ]
  },
  {
   "cell_type": "code",
   "execution_count": null,
   "metadata": {},
   "outputs": [],
   "source": [
    "plt.figure(figsize=(12, 8))\n",
    "ax = sns.countplot(x=\"transactions\", data=data_sample)"
   ]
  },
  {
   "cell_type": "code",
   "execution_count": null,
   "metadata": {},
   "outputs": [],
   "source": [
    "#products_sets = \n",
    "trans_sum_per_day = data_sample.groupby('days_since_last_contact', as_index = False).agg({'transactions' : 'sum'}).sort_values('transactions', ascending = False) \\\n",
    "    .rename(columns ={'transactions' : 'transactions_sum'}).sort_values('days_since_last_contact')\n",
    "trans_sum_per_day.head()"
   ]
  },
  {
   "cell_type": "markdown",
   "metadata": {},
   "source": [
    "**Is there any trend between the days since last contacted and amount of transactions**"
   ]
  },
  {
   "cell_type": "code",
   "execution_count": null,
   "metadata": {},
   "outputs": [],
   "source": [
    "sns.scatterplot(data=data_sample, x=\"days_since_last_contact\", y=\"transactions\")\n",
    "#here we see that the dates 6 and 7 are absent"
   ]
  },
  {
   "cell_type": "code",
   "execution_count": null,
   "metadata": {},
   "outputs": [],
   "source": [
    "sns.scatterplot(data=trans_sum_per_day, x=\"days_since_last_contact\", y=\"transactions_sum\")"
   ]
  },
  {
   "cell_type": "code",
   "execution_count": null,
   "metadata": {},
   "outputs": [],
   "source": []
  },
  {
   "cell_type": "code",
   "execution_count": null,
   "metadata": {},
   "outputs": [],
   "source": []
  },
  {
   "cell_type": "code",
   "execution_count": null,
   "metadata": {},
   "outputs": [],
   "source": []
  },
  {
   "cell_type": "code",
   "execution_count": null,
   "metadata": {},
   "outputs": [],
   "source": [
    "sns.scatterplot(data=data_sample, x=\"days_since_last_contact\", y=\"loyalty\")"
   ]
  },
  {
   "cell_type": "code",
   "execution_count": null,
   "metadata": {},
   "outputs": [],
   "source": [
    "sns.scatterplot(data=data_sample, x=\"transactions\", y=\"loyalty\")"
   ]
  },
  {
   "cell_type": "code",
   "execution_count": null,
   "metadata": {},
   "outputs": [],
   "source": []
  },
  {
   "cell_type": "code",
   "execution_count": null,
   "metadata": {},
   "outputs": [],
   "source": []
  },
  {
   "cell_type": "code",
   "execution_count": null,
   "metadata": {},
   "outputs": [],
   "source": []
  },
  {
   "cell_type": "code",
   "execution_count": null,
   "metadata": {},
   "outputs": [],
   "source": []
  },
  {
   "cell_type": "code",
   "execution_count": null,
   "metadata": {},
   "outputs": [],
   "source": [
    "data_sample.groupby('days_since_last_contact', as_index = False).agg({'person_id' : 'count', 'transactions' : 'sum', 'count_product_ids' : 'sum'}).sort_values('person_id', ascending = False) \\\n",
    "    .rename(columns ={'person_id' : 'count_days'}).sort_values('days_since_last_contact')"
   ]
  },
  {
   "cell_type": "code",
   "execution_count": null,
   "metadata": {},
   "outputs": [],
   "source": []
  },
  {
   "cell_type": "code",
   "execution_count": null,
   "metadata": {},
   "outputs": [],
   "source": []
  },
  {
   "cell_type": "markdown",
   "metadata": {},
   "source": [
    "**Importing products data**"
   ]
  },
  {
   "cell_type": "code",
   "execution_count": null,
   "metadata": {},
   "outputs": [],
   "source": [
    "sheet_name2 = 'products'\n",
    "\n",
    "url2 = f\"https://docs.google.com/spreadsheets/d/{sheet_id}/gviz/tq?tqx=out:csv&sheet={sheet_name2}\"\n",
    "\n",
    "products=pd.read_csv(url2)\n",
    "products.head()"
   ]
  },
  {
   "cell_type": "markdown",
   "metadata": {},
   "source": [
    "**Merging products and data_sample tables**"
   ]
  },
  {
   "cell_type": "code",
   "execution_count": null,
   "metadata": {},
   "outputs": [],
   "source": [
    "l = list_fruits[0]\n",
    "fruits[]\n",
    "df['contains'] = df['text'].apply(lambda x: ','.join([i for i in l if i in x]))"
   ]
  },
  {
   "cell_type": "code",
   "execution_count": null,
   "metadata": {},
   "outputs": [],
   "source": [
    "list_fruits.iloc[:1]"
   ]
  },
  {
   "cell_type": "code",
   "execution_count": null,
   "metadata": {},
   "outputs": [],
   "source": []
  },
  {
   "cell_type": "code",
   "execution_count": null,
   "metadata": {},
   "outputs": [],
   "source": []
  },
  {
   "cell_type": "code",
   "execution_count": null,
   "metadata": {},
   "outputs": [],
   "source": [
    "data_sample.list_product_ids.head()"
   ]
  },
  {
   "cell_type": "code",
   "execution_count": null,
   "metadata": {},
   "outputs": [],
   "source": [
    "new_table = []\n",
    "pd.DataFrame(np.sort((data_sample.list_product_ids.tolist(), index= data_sample.index), axis = 1), columns = data_sample.columns)"
   ]
  },
  {
   "cell_type": "code",
   "execution_count": null,
   "metadata": {
    "scrolled": false
   },
   "outputs": [],
   "source": [
    "# Reading data as a pandas data frame.\n",
    "# We have three tables: data_sample, products, person.\n",
    "\n",
    "sheet_id = '1CrIcItzuVRaYz3g2V6adq7D1flsGM6zbVp9YS4mJz3s' \n",
    "\n",
    "sheet_name1 = 'data_sample'\n",
    "sheet_name2 = 'products'\n",
    "sheet_name3 = 'person'\n",
    "\n",
    "url1 = f\"https://docs.google.com/spreadsheets/d/{sheet_id}/gviz/tq?tqx=out:csv&sheet={sheet_name1}\"\n",
    "\n",
    "data_sample=pd.read_csv(url1)\n",
    "data_sample.head()"
   ]
  }
 ],
 "metadata": {
  "kernelspec": {
   "display_name": "Python 3 (ipykernel)",
   "language": "python",
   "name": "python3"
  },
  "language_info": {
   "codemirror_mode": {
    "name": "ipython",
    "version": 3
   },
   "file_extension": ".py",
   "mimetype": "text/x-python",
   "name": "python",
   "nbconvert_exporter": "python",
   "pygments_lexer": "ipython3",
   "version": "3.9.12"
  }
 },
 "nbformat": 4,
 "nbformat_minor": 2
}
